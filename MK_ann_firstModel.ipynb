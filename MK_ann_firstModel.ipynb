{
  "nbformat": 4,
  "nbformat_minor": 0,
  "metadata": {
    "colab": {
      "provenance": [],
      "authorship_tag": "ABX9TyPuM5vZtV0azK46sgzHbaH8",
      "include_colab_link": true
    },
    "kernelspec": {
      "name": "python3",
      "display_name": "Python 3"
    },
    "language_info": {
      "name": "python"
    }
  },
  "cells": [
    {
      "cell_type": "markdown",
      "metadata": {
        "id": "view-in-github",
        "colab_type": "text"
      },
      "source": [
        "<a href=\"https://colab.research.google.com/github/amirgarsha/ann_MK/blob/main/MK_ann_firstModel.ipynb\" target=\"_parent\"><img src=\"https://colab.research.google.com/assets/colab-badge.svg\" alt=\"Open In Colab\"/></a>"
      ]
    },
    {
      "cell_type": "markdown",
      "source": [
        "import Libraries & load Data"
      ],
      "metadata": {
        "id": "64rIBkduoFB8"
      }
    },
    {
      "cell_type": "code",
      "execution_count": 1,
      "metadata": {
        "id": "ORmsaNA7lWph"
      },
      "outputs": [],
      "source": [
        "import tensorflow as tf\n",
        "from tensorflow import keras"
      ]
    },
    {
      "cell_type": "code",
      "source": [
        "import matplotlib.pyplot as plt"
      ],
      "metadata": {
        "id": "CYPgeetHln8Q"
      },
      "execution_count": 2,
      "outputs": []
    },
    {
      "cell_type": "code",
      "source": [
        "## load data : fashion_mnist\n",
        "mnist_fashion = keras.datasets.fashion_mnist\n",
        "(x_train, y_train), (x_test, y_test) = mnist_fashion.load_data()"
      ],
      "metadata": {
        "colab": {
          "base_uri": "https://localhost:8080/"
        },
        "id": "YW-69ZDtls0m",
        "outputId": "246a2561-5f18-4a5b-8bdf-3b570df417ad"
      },
      "execution_count": 3,
      "outputs": [
        {
          "output_type": "stream",
          "name": "stdout",
          "text": [
            "Downloading data from https://storage.googleapis.com/tensorflow/tf-keras-datasets/train-labels-idx1-ubyte.gz\n",
            "29515/29515 [==============================] - 0s 0us/step\n",
            "Downloading data from https://storage.googleapis.com/tensorflow/tf-keras-datasets/train-images-idx3-ubyte.gz\n",
            "26421880/26421880 [==============================] - 0s 0us/step\n",
            "Downloading data from https://storage.googleapis.com/tensorflow/tf-keras-datasets/t10k-labels-idx1-ubyte.gz\n",
            "5148/5148 [==============================] - 0s 0us/step\n",
            "Downloading data from https://storage.googleapis.com/tensorflow/tf-keras-datasets/t10k-images-idx3-ubyte.gz\n",
            "4422102/4422102 [==============================] - 0s 0us/step\n"
          ]
        }
      ]
    },
    {
      "cell_type": "markdown",
      "source": [
        "Define Model"
      ],
      "metadata": {
        "id": "Fh_sOWGfoK11"
      }
    },
    {
      "cell_type": "code",
      "source": [
        "## show one sample of data\n",
        "plt.imshow(x_train[10,], cmap=\"gray\")"
      ],
      "metadata": {
        "colab": {
          "base_uri": "https://localhost:8080/",
          "height": 448
        },
        "id": "K3jSLzstmAWa",
        "outputId": "2f195671-ba87-4f5a-bf93-a47addf96a6d"
      },
      "execution_count": 5,
      "outputs": [
        {
          "output_type": "execute_result",
          "data": {
            "text/plain": [
              "<matplotlib.image.AxesImage at 0x7c95de5e86d0>"
            ]
          },
          "metadata": {},
          "execution_count": 5
        },
        {
          "output_type": "display_data",
          "data": {
            "text/plain": [
              "<Figure size 640x480 with 1 Axes>"
            ],
            "image/png": "[encoded data removed]"
          },
          "metadata": {}
        }
      ]
    },
    {
      "cell_type": "code",
      "source": [
        "##define Model\n",
        "model = keras.models.Sequential([\n",
        "    keras.layers.Flatten(input_shape=[28, 28]),\n",
        "    keras.layers.Dense(100, activation=\"relu\"),\n",
        "    keras.layers.Dense(75, activation=\"relu\"),\n",
        "    keras.layers.Dense(10, activation=\"softmax\")\n",
        "])"
      ],
      "metadata": {
        "id": "9zzlRUD5mPLz"
      },
      "execution_count": 7,
      "outputs": []
    },
    {
      "cell_type": "code",
      "source": [
        "model.summary()"
      ],
      "metadata": {
        "colab": {
          "base_uri": "https://localhost:8080/"
        },
        "id": "TMJhzBacnYGe",
        "outputId": "059802a3-c015-4555-9ba9-c13525de93ff"
      },
      "execution_count": 8,
      "outputs": [
        {
          "output_type": "stream",
          "name": "stdout",
          "text": [
            "Model: \"sequential\"\n",
            "_________________________________________________________________\n",
            " Layer (type)                Output Shape              Param #   \n",
            "=================================================================\n",
            " flatten_1 (Flatten)         (None, 784)               0         \n",
            "                                                                 \n",
            " dense_2 (Dense)             (None, 100)               78500     \n",
            "                                                                 \n",
            " dense_3 (Dense)             (None, 75)                7575      \n",
            "                                                                 \n",
            " dense_4 (Dense)             (None, 10)                760       \n",
            "                                                                 \n",
            "=================================================================\n",
            "Total params: 86835 (339.20 KB)\n",
            "Trainable params: 86835 (339.20 KB)\n",
            "Non-trainable params: 0 (0.00 Byte)\n",
            "_________________________________________________________________\n"
          ]
        }
      ]
    },
    {
      "cell_type": "code",
      "source": [
        "weight, bias = model.layers[1].get_weights()"
      ],
      "metadata": {
        "id": "h7YNNrcnnbPU"
      },
      "execution_count": 12,
      "outputs": []
    },
    {
      "cell_type": "code",
      "source": [
        "bias"
      ],
      "metadata": {
        "colab": {
          "base_uri": "https://localhost:8080/"
        },
        "id": "Et38hj9Zn22n",
        "outputId": "6ce239bb-014a-424c-d7f3-cdbff766376e"
      },
      "execution_count": 13,
      "outputs": [
        {
          "output_type": "execute_result",
          "data": {
            "text/plain": [
              "array([0., 0., 0., 0., 0., 0., 0., 0., 0., 0., 0., 0., 0., 0., 0., 0., 0.,\n",
              "       0., 0., 0., 0., 0., 0., 0., 0., 0., 0., 0., 0., 0., 0., 0., 0., 0.,\n",
              "       0., 0., 0., 0., 0., 0., 0., 0., 0., 0., 0., 0., 0., 0., 0., 0., 0.,\n",
              "       0., 0., 0., 0., 0., 0., 0., 0., 0., 0., 0., 0., 0., 0., 0., 0., 0.,\n",
              "       0., 0., 0., 0., 0., 0., 0., 0., 0., 0., 0., 0., 0., 0., 0., 0., 0.,\n",
              "       0., 0., 0., 0., 0., 0., 0., 0., 0., 0., 0., 0., 0., 0., 0.],\n",
              "      dtype=float32)"
            ]
          },
          "metadata": {},
          "execution_count": 13
        }
      ]
    },
    {
      "cell_type": "code",
      "source": [
        "weight"
      ],
      "metadata": {
        "colab": {
          "base_uri": "https://localhost:8080/"
        },
        "id": "-IMNvqEvn8ot",
        "outputId": "6728dcd3-69e7-4145-8391-13e1c2dfa8d3"
      },
      "execution_count": 14,
      "outputs": [
        {
          "output_type": "execute_result",
          "data": {
            "text/plain": [
              "array([[-0.06278843,  0.02756172,  0.05869773, ..., -0.0643128 ,\n",
              "         0.08110511,  0.04520616],\n",
              "       [-0.0354928 ,  0.07037465,  0.02442937, ..., -0.07207634,\n",
              "         0.05352803,  0.00103919],\n",
              "       [-0.06111712,  0.01353953, -0.07338683, ..., -0.0626407 ,\n",
              "        -0.03440993,  0.05798791],\n",
              "       ...,\n",
              "       [-0.02617353,  0.00695679, -0.0433167 , ...,  0.04440254,\n",
              "        -0.07131463,  0.0549057 ],\n",
              "       [ 0.05443323, -0.05681046, -0.07340051, ...,  0.06477822,\n",
              "        -0.05223864, -0.01625137],\n",
              "       [ 0.07259607,  0.00514325, -0.06312247, ..., -0.0651179 ,\n",
              "         0.026168  , -0.0322027 ]], dtype=float32)"
            ]
          },
          "metadata": {},
          "execution_count": 14
        }
      ]
    },
    {
      "cell_type": "markdown",
      "source": [
        "Compile Model"
      ],
      "metadata": {
        "id": "0538HS9nsygk"
      }
    },
    {
      "cell_type": "code",
      "source": [
        "model.compile(loss=\"sparse_categorical_crossentropy\",\n",
        "              optimizer=\"sgd\",\n",
        "              metrics=[\"accuracy\"])"
      ],
      "metadata": {
        "id": "ePFqYMJJtqjq"
      },
      "execution_count": 17,
      "outputs": []
    },
    {
      "cell_type": "code",
      "source": [
        "##fit model\n",
        "model.fit(x_train, y_train, epochs=50, validation_split=0.15)"
      ],
      "metadata": {
        "colab": {
          "base_uri": "https://localhost:8080/"
        },
        "id": "kK7jWt-ZuKvG",
        "outputId": "c51084d6-3559-4f8b-a027-09a30be22060"
      },
      "execution_count": 18,
      "outputs": [
        {
          "output_type": "stream",
          "name": "stdout",
          "text": [
            "Epoch 1/50\n",
            "1594/1594 [==============================] - 6s 3ms/step - loss: 833.2447 - accuracy: 0.0983 - val_loss: 2.3026 - val_accuracy: 0.0944\n",
            "Epoch 2/50\n",
            "1594/1594 [==============================] - 5s 3ms/step - loss: 2.3027 - accuracy: 0.1002 - val_loss: 2.3026 - val_accuracy: 0.1000\n",
            "Epoch 3/50\n",
            "1594/1594 [==============================] - 8s 5ms/step - loss: 2.3027 - accuracy: 0.0992 - val_loss: 2.3026 - val_accuracy: 0.0944\n",
            "Epoch 4/50\n",
            "1594/1594 [==============================] - 6s 4ms/step - loss: 2.3027 - accuracy: 0.1001 - val_loss: 2.3026 - val_accuracy: 0.0944\n",
            "Epoch 5/50\n",
            "1594/1594 [==============================] - 7s 4ms/step - loss: 2.3027 - accuracy: 0.0995 - val_loss: 2.3026 - val_accuracy: 0.0970\n",
            "Epoch 6/50\n",
            "1594/1594 [==============================] - 5s 3ms/step - loss: 2.3027 - accuracy: 0.0998 - val_loss: 2.3027 - val_accuracy: 0.0944\n",
            "Epoch 7/50\n",
            "1594/1594 [==============================] - 9s 5ms/step - loss: 2.3027 - accuracy: 0.1002 - val_loss: 2.3025 - val_accuracy: 0.0944\n",
            "Epoch 8/50\n",
            "1594/1594 [==============================] - 5s 3ms/step - loss: 2.3027 - accuracy: 0.0997 - val_loss: 2.3026 - val_accuracy: 0.0944\n",
            "Epoch 9/50\n",
            "1594/1594 [==============================] - 5s 3ms/step - loss: 2.3027 - accuracy: 0.0987 - val_loss: 2.3025 - val_accuracy: 0.0970\n",
            "Epoch 10/50\n",
            "1594/1594 [==============================] - 7s 4ms/step - loss: 2.3027 - accuracy: 0.0980 - val_loss: 2.3025 - val_accuracy: 0.0944\n",
            "Epoch 11/50\n",
            "1594/1594 [==============================] - 5s 3ms/step - loss: 2.3027 - accuracy: 0.0975 - val_loss: 2.3026 - val_accuracy: 0.0944\n",
            "Epoch 12/50\n",
            "1594/1594 [==============================] - 6s 4ms/step - loss: 2.3027 - accuracy: 0.0968 - val_loss: 2.3025 - val_accuracy: 0.0944\n",
            "Epoch 13/50\n",
            "1594/1594 [==============================] - 6s 4ms/step - loss: 2.3027 - accuracy: 0.0988 - val_loss: 2.3025 - val_accuracy: 0.0944\n",
            "Epoch 14/50\n",
            "1594/1594 [==============================] - 5s 3ms/step - loss: 2.3027 - accuracy: 0.0985 - val_loss: 2.3026 - val_accuracy: 0.0944\n",
            "Epoch 15/50\n",
            "1594/1594 [==============================] - 7s 4ms/step - loss: 2.3027 - accuracy: 0.0987 - val_loss: 2.3026 - val_accuracy: 0.0944\n",
            "Epoch 16/50\n",
            "1594/1594 [==============================] - 5s 3ms/step - loss: 2.3027 - accuracy: 0.0990 - val_loss: 2.3026 - val_accuracy: 0.0944\n",
            "Epoch 17/50\n",
            "1594/1594 [==============================] - 5s 3ms/step - loss: 2.3027 - accuracy: 0.1000 - val_loss: 2.3027 - val_accuracy: 0.0944\n",
            "Epoch 18/50\n",
            "1594/1594 [==============================] - 7s 4ms/step - loss: 2.3027 - accuracy: 0.0994 - val_loss: 2.3026 - val_accuracy: 0.0944\n",
            "Epoch 19/50\n",
            "1594/1594 [==============================] - 5s 3ms/step - loss: 2.3027 - accuracy: 0.0987 - val_loss: 2.3026 - val_accuracy: 0.0944\n",
            "Epoch 20/50\n",
            "1594/1594 [==============================] - 6s 4ms/step - loss: 2.3027 - accuracy: 0.0974 - val_loss: 2.3025 - val_accuracy: 0.0970\n",
            "Epoch 21/50\n",
            "1594/1594 [==============================] - 5s 3ms/step - loss: 2.3027 - accuracy: 0.0984 - val_loss: 2.3026 - val_accuracy: 0.0970\n",
            "Epoch 22/50\n",
            "1594/1594 [==============================] - 5s 3ms/step - loss: 2.3027 - accuracy: 0.0998 - val_loss: 2.3027 - val_accuracy: 0.0974\n",
            "Epoch 23/50\n",
            "1594/1594 [==============================] - 7s 4ms/step - loss: 2.3027 - accuracy: 0.1004 - val_loss: 2.3027 - val_accuracy: 0.0944\n",
            "Epoch 24/50\n",
            "1594/1594 [==============================] - 5s 3ms/step - loss: 2.3027 - accuracy: 0.0982 - val_loss: 2.3027 - val_accuracy: 0.0970\n",
            "Epoch 25/50\n",
            "1594/1594 [==============================] - 6s 4ms/step - loss: 2.3027 - accuracy: 0.0999 - val_loss: 2.3027 - val_accuracy: 0.0944\n",
            "Epoch 26/50\n",
            "1594/1594 [==============================] - 6s 4ms/step - loss: 2.3027 - accuracy: 0.0990 - val_loss: 2.3025 - val_accuracy: 0.0944\n",
            "Epoch 27/50\n",
            "1594/1594 [==============================] - 5s 3ms/step - loss: 2.3027 - accuracy: 0.0989 - val_loss: 2.3026 - val_accuracy: 0.0970\n",
            "Epoch 28/50\n",
            "1594/1594 [==============================] - 7s 4ms/step - loss: 2.3027 - accuracy: 0.0984 - val_loss: 2.3027 - val_accuracy: 0.0944\n",
            "Epoch 29/50\n",
            "1594/1594 [==============================] - 5s 3ms/step - loss: 2.3027 - accuracy: 0.0981 - val_loss: 2.3027 - val_accuracy: 0.0944\n",
            "Epoch 30/50\n",
            "1594/1594 [==============================] - 6s 4ms/step - loss: 2.3027 - accuracy: 0.0995 - val_loss: 2.3027 - val_accuracy: 0.0970\n",
            "Epoch 31/50\n",
            "1594/1594 [==============================] - 6s 4ms/step - loss: 2.3027 - accuracy: 0.0994 - val_loss: 2.3027 - val_accuracy: 0.0970\n",
            "Epoch 32/50\n",
            "1594/1594 [==============================] - 5s 3ms/step - loss: 2.3027 - accuracy: 0.0967 - val_loss: 2.3026 - val_accuracy: 0.0944\n",
            "Epoch 33/50\n",
            "1594/1594 [==============================] - 6s 4ms/step - loss: 2.3027 - accuracy: 0.0985 - val_loss: 2.3027 - val_accuracy: 0.0974\n",
            "Epoch 34/50\n",
            "1594/1594 [==============================] - 5s 3ms/step - loss: 2.3027 - accuracy: 0.0989 - val_loss: 2.3026 - val_accuracy: 0.0970\n",
            "Epoch 35/50\n",
            "1594/1594 [==============================] - 6s 4ms/step - loss: 2.3027 - accuracy: 0.0999 - val_loss: 2.3026 - val_accuracy: 0.0944\n",
            "Epoch 36/50\n",
            "1594/1594 [==============================] - 7s 4ms/step - loss: 2.3027 - accuracy: 0.1009 - val_loss: 2.3025 - val_accuracy: 0.0970\n",
            "Epoch 37/50\n",
            "1594/1594 [==============================] - 5s 3ms/step - loss: 2.3027 - accuracy: 0.0985 - val_loss: 2.3026 - val_accuracy: 0.0970\n",
            "Epoch 38/50\n",
            "1594/1594 [==============================] - 7s 4ms/step - loss: 2.3027 - accuracy: 0.0983 - val_loss: 2.3027 - val_accuracy: 0.0944\n",
            "Epoch 39/50\n",
            "1594/1594 [==============================] - 5s 3ms/step - loss: 2.3027 - accuracy: 0.0983 - val_loss: 2.3026 - val_accuracy: 0.0944\n",
            "Epoch 40/50\n",
            "1594/1594 [==============================] - 6s 4ms/step - loss: 2.3027 - accuracy: 0.0967 - val_loss: 2.3026 - val_accuracy: 0.0970\n",
            "Epoch 41/50\n",
            "1594/1594 [==============================] - 7s 5ms/step - loss: 2.3027 - accuracy: 0.0980 - val_loss: 2.3028 - val_accuracy: 0.0944\n",
            "Epoch 42/50\n",
            "1594/1594 [==============================] - 5s 3ms/step - loss: 2.3027 - accuracy: 0.0984 - val_loss: 2.3028 - val_accuracy: 0.0944\n",
            "Epoch 43/50\n",
            "1594/1594 [==============================] - 6s 4ms/step - loss: 2.3027 - accuracy: 0.0987 - val_loss: 2.3026 - val_accuracy: 0.0944\n",
            "Epoch 44/50\n",
            "1594/1594 [==============================] - 5s 3ms/step - loss: 2.3027 - accuracy: 0.0976 - val_loss: 2.3028 - val_accuracy: 0.0944\n",
            "Epoch 45/50\n",
            "1594/1594 [==============================] - 8s 5ms/step - loss: 2.3027 - accuracy: 0.0993 - val_loss: 2.3026 - val_accuracy: 0.0944\n",
            "Epoch 46/50\n",
            "1594/1594 [==============================] - 6s 4ms/step - loss: 2.3027 - accuracy: 0.0991 - val_loss: 2.3025 - val_accuracy: 0.0970\n",
            "Epoch 47/50\n",
            "1594/1594 [==============================] - 5s 3ms/step - loss: 2.3027 - accuracy: 0.0988 - val_loss: 2.3025 - val_accuracy: 0.0993\n",
            "Epoch 48/50\n",
            "1594/1594 [==============================] - 7s 4ms/step - loss: 2.3027 - accuracy: 0.1010 - val_loss: 2.3026 - val_accuracy: 0.0944\n",
            "Epoch 49/50\n",
            "1594/1594 [==============================] - 6s 3ms/step - loss: 2.3027 - accuracy: 0.0999 - val_loss: 2.3026 - val_accuracy: 0.0974\n",
            "Epoch 50/50\n",
            "1594/1594 [==============================] - 7s 4ms/step - loss: 2.3027 - accuracy: 0.0995 - val_loss: 2.3026 - val_accuracy: 0.0944\n"
          ]
        },
        {
          "output_type": "execute_result",
          "data": {
            "text/plain": [
              "<keras.src.callbacks.History at 0x7c95d8387eb0>"
            ]
          },
          "metadata": {},
          "execution_count": 18
        }
      ]
    }
  ]
}