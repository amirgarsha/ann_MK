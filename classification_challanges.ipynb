{
  "nbformat": 4,
  "nbformat_minor": 0,
  "metadata": {
    "colab": {
      "provenance": [],
      "collapsed_sections": [
        "pM4LCrRLS_Sr",
        "QqetMuYnTzLM"
      ],
      "authorship_tag": "ABX9TyNXdW8Vl/Mt5iSkspyTdwNS",
      "include_colab_link": true
    },
    "kernelspec": {
      "name": "python3",
      "display_name": "Python 3"
    },
    "language_info": {
      "name": "python"
    }
  },
  "cells": [
    {
      "cell_type": "markdown",
      "metadata": {
        "id": "view-in-github",
        "colab_type": "text"
      },
      "source": [
        "<a href=\"https://colab.research.google.com/github/amirgarsha/ann_MK/blob/main/classification_challanges.ipynb\" target=\"_parent\"><img src=\"https://colab.research.google.com/assets/colab-badge.svg\" alt=\"Open In Colab\"/></a>"
      ]
    },
    {
      "cell_type": "markdown",
      "source": [
        "## import libraries"
      ],
      "metadata": {
        "id": "pM4LCrRLS_Sr"
      }
    },
    {
      "cell_type": "code",
      "execution_count": 23,
      "metadata": {
        "id": "L2xkBmp_SMJ1"
      },
      "outputs": [],
      "source": [
        "import tensorflow as tf\n",
        "from tensorflow import keras\n",
        "from sklearn.model_selection import train_test_split\n",
        "from sklearn.preprocessing import StandardScaler\n",
        "import matplotlib.pyplot as plt\n",
        "import numpy as np"
      ]
    },
    {
      "cell_type": "markdown",
      "source": [
        "## Import Dataset"
      ],
      "metadata": {
        "id": "QqetMuYnTzLM"
      }
    },
    {
      "cell_type": "code",
      "source": [
        "fmnist_dataset = keras.datasets.fashion_mnist"
      ],
      "metadata": {
        "id": "v3GmfpWFTxQ6"
      },
      "execution_count": 24,
      "outputs": []
    },
    {
      "cell_type": "code",
      "source": [
        "(X_train, y_train), (X_test, y_test) = fmnist_dataset.load_data()"
      ],
      "metadata": {
        "id": "6ytt9p6PUFB3"
      },
      "execution_count": 25,
      "outputs": []
    },
    {
      "cell_type": "code",
      "source": [
        "print( X_train.shape, y_train.shape, X_test.shape, y_test.shape)"
      ],
      "metadata": {
        "colab": {
          "base_uri": "https://localhost:8080/"
        },
        "id": "AJIHZ7SUUhKb",
        "outputId": "c488e89c-f1ca-4381-c0dd-842e93540ab4"
      },
      "execution_count": 26,
      "outputs": [
        {
          "output_type": "stream",
          "name": "stdout",
          "text": [
            "(60000, 28, 28) (60000,) (10000, 28, 28) (10000,)\n"
          ]
        }
      ]
    },
    {
      "cell_type": "code",
      "source": [
        "X_train, X_test = X_train/255.0, X_test/255.0"
      ],
      "metadata": {
        "id": "Fzkr4mN5d-_J"
      },
      "execution_count": 27,
      "outputs": []
    },
    {
      "cell_type": "markdown",
      "source": [
        "## Define Model with different initialization"
      ],
      "metadata": {
        "id": "EhFBVTLpS5bG"
      }
    },
    {
      "cell_type": "code",
      "source": [
        "## model with He initialization\n",
        "initializer_he = keras.initializers.HeNormal()\n",
        "\n",
        "model_he_init = keras.models.Sequential([\n",
        "    keras.layers.Flatten(input_shape=[28, 28]),\n",
        "    keras.layers.Dense(50, activation=\"relu\", kernel_initializer= initializer_he),\n",
        "    keras.layers.Dense(50, activation=\"relu\"),\n",
        "    keras.layers.Dense(10, activation=\"softmax\")\n",
        "]\n",
        "\n",
        ")"
      ],
      "metadata": {
        "id": "o0ALBkMYS-cN"
      },
      "execution_count": 28,
      "outputs": []
    },
    {
      "cell_type": "code",
      "source": [
        "model_he_init.summary()"
      ],
      "metadata": {
        "colab": {
          "base_uri": "https://localhost:8080/"
        },
        "id": "k4NnsmIXUoUR",
        "outputId": "c340e0c6-329b-4108-98a3-8e0e6e8ce313"
      },
      "execution_count": 29,
      "outputs": [
        {
          "output_type": "stream",
          "name": "stdout",
          "text": [
            "Model: \"sequential_3\"\n",
            "_________________________________________________________________\n",
            " Layer (type)                Output Shape              Param #   \n",
            "=================================================================\n",
            " flatten_4 (Flatten)         (None, 784)               0         \n",
            "                                                                 \n",
            " dense_9 (Dense)             (None, 50)                39250     \n",
            "                                                                 \n",
            " dense_10 (Dense)            (None, 50)                2550      \n",
            "                                                                 \n",
            " dense_11 (Dense)            (None, 10)                510       \n",
            "                                                                 \n",
            "=================================================================\n",
            "Total params: 42310 (165.27 KB)\n",
            "Trainable params: 42310 (165.27 KB)\n",
            "Non-trainable params: 0 (0.00 Byte)\n",
            "_________________________________________________________________\n"
          ]
        }
      ]
    },
    {
      "cell_type": "code",
      "source": [
        "weight, bias = model_he_init.layers[1].get_weights()\n",
        "print(weight)\n",
        "print(bias)"
      ],
      "metadata": {
        "colab": {
          "base_uri": "https://localhost:8080/"
        },
        "id": "y0hbB4jlZZxA",
        "outputId": "4ebfc165-f9fc-4c83-f3c9-c04e864e5473"
      },
      "execution_count": 30,
      "outputs": [
        {
          "output_type": "stream",
          "name": "stdout",
          "text": [
            "[[ 0.02641546 -0.00139862 -0.00200192 ... -0.05685334 -0.07950936\n",
            "   0.01277088]\n",
            " [ 0.05812413  0.01864111 -0.03341821 ... -0.01892053 -0.03236082\n",
            "   0.06069363]\n",
            " [-0.04196425  0.02103832  0.0010538  ...  0.01289375 -0.0350347\n",
            "   0.05472209]\n",
            " ...\n",
            " [-0.01461894  0.07233442  0.05673173 ... -0.0132202  -0.09754409\n",
            "   0.01708194]\n",
            " [ 0.0269899   0.00506098 -0.03621528 ...  0.07540133 -0.09601785\n",
            "   0.07682928]\n",
            " [-0.07557031 -0.02990237 -0.01553066 ... -0.11383343  0.01897852\n",
            "  -0.09524626]]\n",
            "[0. 0. 0. 0. 0. 0. 0. 0. 0. 0. 0. 0. 0. 0. 0. 0. 0. 0. 0. 0. 0. 0. 0. 0.\n",
            " 0. 0. 0. 0. 0. 0. 0. 0. 0. 0. 0. 0. 0. 0. 0. 0. 0. 0. 0. 0. 0. 0. 0. 0.\n",
            " 0. 0.]\n"
          ]
        }
      ]
    },
    {
      "cell_type": "code",
      "source": [
        "model_he_init.compile(loss=\"sparse_categorical_crossentropy\",\n",
        "              optimizer=\"sgd\",\n",
        "              metrics=[\"accuracy\"])"
      ],
      "metadata": {
        "id": "GkluWiyVZ7dw"
      },
      "execution_count": 31,
      "outputs": []
    },
    {
      "cell_type": "code",
      "source": [
        "##fit model\n",
        "history_he_init = model_he_init.fit(X_train, y_train, epochs=50, validation_split=0.15)"
      ],
      "metadata": {
        "colab": {
          "base_uri": "https://localhost:8080/"
        },
        "id": "5LcyssHdaHNt",
        "outputId": "60eb8cf2-f5d0-4ec2-f1ac-e586ec3e1000"
      },
      "execution_count": 32,
      "outputs": [
        {
          "output_type": "stream",
          "name": "stdout",
          "text": [
            "Epoch 1/50\n",
            "1594/1594 [==============================] - 7s 4ms/step - loss: 0.8350 - accuracy: 0.7205 - val_loss: 0.5687 - val_accuracy: 0.8004\n",
            "Epoch 2/50\n",
            "1594/1594 [==============================] - 5s 3ms/step - loss: 0.5203 - accuracy: 0.8183 - val_loss: 0.4967 - val_accuracy: 0.8241\n",
            "Epoch 3/50\n",
            "1594/1594 [==============================] - 4s 3ms/step - loss: 0.4696 - accuracy: 0.8355 - val_loss: 0.4637 - val_accuracy: 0.8326\n",
            "Epoch 4/50\n",
            "1594/1594 [==============================] - 5s 3ms/step - loss: 0.4406 - accuracy: 0.8447 - val_loss: 0.4436 - val_accuracy: 0.8447\n",
            "Epoch 5/50\n",
            "1594/1594 [==============================] - 4s 3ms/step - loss: 0.4203 - accuracy: 0.8527 - val_loss: 0.4390 - val_accuracy: 0.8494\n",
            "Epoch 6/50\n",
            "1594/1594 [==============================] - 4s 2ms/step - loss: 0.4045 - accuracy: 0.8583 - val_loss: 0.4445 - val_accuracy: 0.8409\n",
            "Epoch 7/50\n",
            "1594/1594 [==============================] - 5s 3ms/step - loss: 0.3924 - accuracy: 0.8626 - val_loss: 0.4067 - val_accuracy: 0.8607\n",
            "Epoch 8/50\n",
            "1594/1594 [==============================] - 4s 3ms/step - loss: 0.3811 - accuracy: 0.8655 - val_loss: 0.4010 - val_accuracy: 0.8621\n",
            "Epoch 9/50\n",
            "1594/1594 [==============================] - 4s 3ms/step - loss: 0.3713 - accuracy: 0.8700 - val_loss: 0.4126 - val_accuracy: 0.8571\n",
            "Epoch 10/50\n",
            "1594/1594 [==============================] - 5s 3ms/step - loss: 0.3623 - accuracy: 0.8715 - val_loss: 0.3811 - val_accuracy: 0.8672\n",
            "Epoch 11/50\n",
            "1594/1594 [==============================] - 4s 3ms/step - loss: 0.3561 - accuracy: 0.8735 - val_loss: 0.3894 - val_accuracy: 0.8640\n",
            "Epoch 12/50\n",
            "1594/1594 [==============================] - 4s 2ms/step - loss: 0.3486 - accuracy: 0.8766 - val_loss: 0.3820 - val_accuracy: 0.8654\n",
            "Epoch 13/50\n",
            "1594/1594 [==============================] - 5s 3ms/step - loss: 0.3412 - accuracy: 0.8788 - val_loss: 0.3733 - val_accuracy: 0.8701\n",
            "Epoch 14/50\n",
            "1594/1594 [==============================] - 4s 2ms/step - loss: 0.3361 - accuracy: 0.8803 - val_loss: 0.3803 - val_accuracy: 0.8652\n",
            "Epoch 15/50\n",
            "1594/1594 [==============================] - 4s 3ms/step - loss: 0.3300 - accuracy: 0.8834 - val_loss: 0.3723 - val_accuracy: 0.8686\n",
            "Epoch 16/50\n",
            "1594/1594 [==============================] - 5s 3ms/step - loss: 0.3252 - accuracy: 0.8840 - val_loss: 0.3661 - val_accuracy: 0.8697\n",
            "Epoch 17/50\n",
            "1594/1594 [==============================] - 4s 2ms/step - loss: 0.3202 - accuracy: 0.8868 - val_loss: 0.3695 - val_accuracy: 0.8671\n",
            "Epoch 18/50\n",
            "1594/1594 [==============================] - 4s 3ms/step - loss: 0.3151 - accuracy: 0.8876 - val_loss: 0.3531 - val_accuracy: 0.8729\n",
            "Epoch 19/50\n",
            "1594/1594 [==============================] - 5s 3ms/step - loss: 0.3115 - accuracy: 0.8898 - val_loss: 0.3599 - val_accuracy: 0.8706\n",
            "Epoch 20/50\n",
            "1594/1594 [==============================] - 4s 3ms/step - loss: 0.3076 - accuracy: 0.8895 - val_loss: 0.3605 - val_accuracy: 0.8732\n",
            "Epoch 21/50\n",
            "1594/1594 [==============================] - 5s 3ms/step - loss: 0.3025 - accuracy: 0.8919 - val_loss: 0.3600 - val_accuracy: 0.8727\n",
            "Epoch 22/50\n",
            "1594/1594 [==============================] - 5s 3ms/step - loss: 0.2994 - accuracy: 0.8920 - val_loss: 0.3575 - val_accuracy: 0.8762\n",
            "Epoch 23/50\n",
            "1594/1594 [==============================] - 4s 2ms/step - loss: 0.2951 - accuracy: 0.8944 - val_loss: 0.3506 - val_accuracy: 0.8770\n",
            "Epoch 24/50\n",
            "1594/1594 [==============================] - 4s 3ms/step - loss: 0.2917 - accuracy: 0.8955 - val_loss: 0.3606 - val_accuracy: 0.8746\n",
            "Epoch 25/50\n",
            "1594/1594 [==============================] - 5s 3ms/step - loss: 0.2884 - accuracy: 0.8958 - val_loss: 0.3421 - val_accuracy: 0.8788\n",
            "Epoch 26/50\n",
            "1594/1594 [==============================] - 4s 3ms/step - loss: 0.2845 - accuracy: 0.8978 - val_loss: 0.3406 - val_accuracy: 0.8809\n",
            "Epoch 27/50\n",
            "1594/1594 [==============================] - 4s 3ms/step - loss: 0.2820 - accuracy: 0.8981 - val_loss: 0.3430 - val_accuracy: 0.8769\n",
            "Epoch 28/50\n",
            "1594/1594 [==============================] - 5s 3ms/step - loss: 0.2790 - accuracy: 0.9001 - val_loss: 0.3433 - val_accuracy: 0.8768\n",
            "Epoch 29/50\n",
            "1594/1594 [==============================] - 5s 3ms/step - loss: 0.2766 - accuracy: 0.9003 - val_loss: 0.3437 - val_accuracy: 0.8770\n",
            "Epoch 30/50\n",
            "1594/1594 [==============================] - 4s 3ms/step - loss: 0.2735 - accuracy: 0.9024 - val_loss: 0.3575 - val_accuracy: 0.8731\n",
            "Epoch 31/50\n",
            "1594/1594 [==============================] - 6s 4ms/step - loss: 0.2699 - accuracy: 0.9033 - val_loss: 0.3395 - val_accuracy: 0.8816\n",
            "Epoch 32/50\n",
            "1594/1594 [==============================] - 4s 3ms/step - loss: 0.2667 - accuracy: 0.9042 - val_loss: 0.3364 - val_accuracy: 0.8802\n",
            "Epoch 33/50\n",
            "1594/1594 [==============================] - 4s 2ms/step - loss: 0.2649 - accuracy: 0.9054 - val_loss: 0.3360 - val_accuracy: 0.8831\n",
            "Epoch 34/50\n",
            "1594/1594 [==============================] - 5s 3ms/step - loss: 0.2618 - accuracy: 0.9054 - val_loss: 0.3461 - val_accuracy: 0.8771\n",
            "Epoch 35/50\n",
            "1594/1594 [==============================] - 5s 3ms/step - loss: 0.2603 - accuracy: 0.9069 - val_loss: 0.3343 - val_accuracy: 0.8816\n",
            "Epoch 36/50\n",
            "1594/1594 [==============================] - 5s 3ms/step - loss: 0.2569 - accuracy: 0.9086 - val_loss: 0.3520 - val_accuracy: 0.8772\n",
            "Epoch 37/50\n",
            "1594/1594 [==============================] - 6s 4ms/step - loss: 0.2555 - accuracy: 0.9086 - val_loss: 0.3529 - val_accuracy: 0.8761\n",
            "Epoch 38/50\n",
            "1594/1594 [==============================] - 4s 2ms/step - loss: 0.2523 - accuracy: 0.9094 - val_loss: 0.3314 - val_accuracy: 0.8826\n",
            "Epoch 39/50\n",
            "1594/1594 [==============================] - 4s 3ms/step - loss: 0.2501 - accuracy: 0.9106 - val_loss: 0.3311 - val_accuracy: 0.8824\n",
            "Epoch 40/50\n",
            "1594/1594 [==============================] - 5s 3ms/step - loss: 0.2477 - accuracy: 0.9133 - val_loss: 0.3462 - val_accuracy: 0.8809\n",
            "Epoch 41/50\n",
            "1594/1594 [==============================] - 5s 3ms/step - loss: 0.2462 - accuracy: 0.9119 - val_loss: 0.3341 - val_accuracy: 0.8818\n",
            "Epoch 42/50\n",
            "1594/1594 [==============================] - 4s 3ms/step - loss: 0.2430 - accuracy: 0.9126 - val_loss: 0.3327 - val_accuracy: 0.8816\n",
            "Epoch 43/50\n",
            "1594/1594 [==============================] - 5s 3ms/step - loss: 0.2407 - accuracy: 0.9141 - val_loss: 0.3478 - val_accuracy: 0.8761\n",
            "Epoch 44/50\n",
            "1594/1594 [==============================] - 4s 2ms/step - loss: 0.2395 - accuracy: 0.9143 - val_loss: 0.3373 - val_accuracy: 0.8806\n",
            "Epoch 45/50\n",
            "1594/1594 [==============================] - 5s 3ms/step - loss: 0.2378 - accuracy: 0.9141 - val_loss: 0.3435 - val_accuracy: 0.8796\n",
            "Epoch 46/50\n",
            "1594/1594 [==============================] - 5s 3ms/step - loss: 0.2357 - accuracy: 0.9155 - val_loss: 0.3448 - val_accuracy: 0.8796\n",
            "Epoch 47/50\n",
            "1594/1594 [==============================] - 4s 2ms/step - loss: 0.2342 - accuracy: 0.9158 - val_loss: 0.3315 - val_accuracy: 0.8844\n",
            "Epoch 48/50\n",
            "1594/1594 [==============================] - 4s 2ms/step - loss: 0.2319 - accuracy: 0.9157 - val_loss: 0.3361 - val_accuracy: 0.8806\n",
            "Epoch 49/50\n",
            "1594/1594 [==============================] - 5s 3ms/step - loss: 0.2302 - accuracy: 0.9178 - val_loss: 0.3523 - val_accuracy: 0.8781\n",
            "Epoch 50/50\n",
            "1594/1594 [==============================] - 4s 3ms/step - loss: 0.2283 - accuracy: 0.9187 - val_loss: 0.3370 - val_accuracy: 0.8849\n"
          ]
        }
      ]
    },
    {
      "cell_type": "code",
      "source": [
        "##plot\n",
        "fig, ax = plt.subplots(figsize=(12, 5))\n",
        "ax.plot(history_he_init.history[\"loss\"] , label=\"train loss\")\n",
        "ax.plot(history_he_init.history[\"accuracy\"], label=\"train accuracy\")\n",
        "ax.plot(history_he_init.history[\"val_loss\"], label=\"validation loss\")\n",
        "ax.plot(history_he_init.history[\"val_accuracy\"], label=\"validation accuracy\")"
      ],
      "metadata": {
        "colab": {
          "base_uri": "https://localhost:8080/",
          "height": 463
        },
        "id": "7e66juThagDA",
        "outputId": "a8af5dc3-998f-426e-bfc6-ee61aa0aa978"
      },
      "execution_count": 33,
      "outputs": [
        {
          "output_type": "execute_result",
          "data": {
            "text/plain": [
              "[<matplotlib.lines.Line2D at 0x7c6503eda800>]"
            ]
          },
          "metadata": {},
          "execution_count": 33
        },
        {
          "output_type": "display_data",
          "data": {
            "text/plain": [
              "<Figure size 1200x500 with 1 Axes>"
            ],
            "image/png": "[encoded data removed]"
          },
          "metadata": {}
        }
      ]
    },
    {
      "cell_type": "code",
      "source": [
        "## model with Lecunn initialization\n",
        "initializer_lecun = keras.initializers.LecunNormal()\n",
        "\n",
        "model_lecun_init = keras.models.Sequential([\n",
        "    keras.layers.Flatten(input_shape=[28, 28]),\n",
        "    keras.layers.Dense(50, activation=\"selu\", kernel_initializer= initializer_lecun),\n",
        "    keras.layers.Dense(50, activation=\"selu\"),\n",
        "    keras.layers.Dense(10, activation=\"softmax\")\n",
        "]\n",
        "\n",
        ")"
      ],
      "metadata": {
        "id": "Wf4p9pHDVAoO"
      },
      "execution_count": 34,
      "outputs": []
    },
    {
      "cell_type": "code",
      "source": [
        "model_lecun_init.summary()"
      ],
      "metadata": {
        "colab": {
          "base_uri": "https://localhost:8080/"
        },
        "id": "QzSLkvRLVXk4",
        "outputId": "f9312c24-3021-410d-dc56-3370e347d710"
      },
      "execution_count": 35,
      "outputs": [
        {
          "output_type": "stream",
          "name": "stdout",
          "text": [
            "Model: \"sequential_4\"\n",
            "_________________________________________________________________\n",
            " Layer (type)                Output Shape              Param #   \n",
            "=================================================================\n",
            " flatten_5 (Flatten)         (None, 784)               0         \n",
            "                                                                 \n",
            " dense_12 (Dense)            (None, 50)                39250     \n",
            "                                                                 \n",
            " dense_13 (Dense)            (None, 50)                2550      \n",
            "                                                                 \n",
            " dense_14 (Dense)            (None, 10)                510       \n",
            "                                                                 \n",
            "=================================================================\n",
            "Total params: 42310 (165.27 KB)\n",
            "Trainable params: 42310 (165.27 KB)\n",
            "Non-trainable params: 0 (0.00 Byte)\n",
            "_________________________________________________________________\n"
          ]
        }
      ]
    },
    {
      "cell_type": "code",
      "source": [
        "weight_lecun, bias_lecun = model_lecun_init.layers[1].get_weights()\n",
        "print(weight_lecun)\n",
        "print(bias_lecun)"
      ],
      "metadata": {
        "colab": {
          "base_uri": "https://localhost:8080/"
        },
        "id": "iflYJ03YZmZT",
        "outputId": "64d40b38-9de0-4b9b-c945-4672e126dac0"
      },
      "execution_count": 36,
      "outputs": [
        {
          "output_type": "stream",
          "name": "stdout",
          "text": [
            "[[-0.04055018  0.02760741  0.05090987 ... -0.02957002  0.04022158\n",
            "  -0.0023446 ]\n",
            " [ 0.07958929  0.00672652  0.00525461 ...  0.01463928  0.0157904\n",
            "  -0.05078486]\n",
            " [ 0.06474196 -0.04495558 -0.03652712 ...  0.03131699 -0.0284327\n",
            "  -0.03121224]\n",
            " ...\n",
            " [ 0.0499844   0.03414567  0.02402855 ... -0.0590873   0.03114046\n",
            "   0.02443625]\n",
            " [-0.02550794  0.05040457 -0.00880151 ... -0.01039138  0.02062087\n",
            "  -0.01792355]\n",
            " [ 0.02424022 -0.01708785  0.00881144 ...  0.01537853  0.06745903\n",
            "  -0.00253298]]\n",
            "[0. 0. 0. 0. 0. 0. 0. 0. 0. 0. 0. 0. 0. 0. 0. 0. 0. 0. 0. 0. 0. 0. 0. 0.\n",
            " 0. 0. 0. 0. 0. 0. 0. 0. 0. 0. 0. 0. 0. 0. 0. 0. 0. 0. 0. 0. 0. 0. 0. 0.\n",
            " 0. 0.]\n"
          ]
        }
      ]
    },
    {
      "cell_type": "code",
      "source": [
        "model_lecun_init.compile(loss=\"sparse_categorical_crossentropy\",\n",
        "              optimizer=\"sgd\",\n",
        "              metrics=[\"accuracy\"])"
      ],
      "metadata": {
        "id": "JPKJtWOyZ_1P"
      },
      "execution_count": 37,
      "outputs": []
    },
    {
      "cell_type": "code",
      "source": [
        "##fit model\n",
        "history_lecun = model_lecun_init.fit(X_train, y_train, epochs=50, validation_split=0.15)"
      ],
      "metadata": {
        "colab": {
          "base_uri": "https://localhost:8080/"
        },
        "id": "W_sjQdmSaOQ7",
        "outputId": "0033fdb1-65c8-4d7e-ce6b-d9db8d9a3177"
      },
      "execution_count": 38,
      "outputs": [
        {
          "output_type": "stream",
          "name": "stdout",
          "text": [
            "Epoch 1/50\n",
            "1594/1594 [==============================] - 6s 3ms/step - loss: 0.6419 - accuracy: 0.7815 - val_loss: 0.5196 - val_accuracy: 0.8080\n",
            "Epoch 2/50\n",
            "1594/1594 [==============================] - 4s 3ms/step - loss: 0.4683 - accuracy: 0.8345 - val_loss: 0.4742 - val_accuracy: 0.8241\n",
            "Epoch 3/50\n",
            "1594/1594 [==============================] - 4s 3ms/step - loss: 0.4339 - accuracy: 0.8473 - val_loss: 0.4287 - val_accuracy: 0.8434\n",
            "Epoch 4/50\n",
            "1594/1594 [==============================] - 5s 3ms/step - loss: 0.4122 - accuracy: 0.8536 - val_loss: 0.4293 - val_accuracy: 0.8448\n",
            "Epoch 5/50\n",
            "1594/1594 [==============================] - 4s 2ms/step - loss: 0.3974 - accuracy: 0.8583 - val_loss: 0.4253 - val_accuracy: 0.8451\n",
            "Epoch 6/50\n",
            "1594/1594 [==============================] - 4s 2ms/step - loss: 0.3854 - accuracy: 0.8625 - val_loss: 0.3964 - val_accuracy: 0.8557\n",
            "Epoch 7/50\n",
            "1594/1594 [==============================] - 5s 3ms/step - loss: 0.3755 - accuracy: 0.8671 - val_loss: 0.4006 - val_accuracy: 0.8574\n",
            "Epoch 8/50\n",
            "1594/1594 [==============================] - 5s 3ms/step - loss: 0.3673 - accuracy: 0.8701 - val_loss: 0.3768 - val_accuracy: 0.8637\n",
            "Epoch 9/50\n",
            "1594/1594 [==============================] - 6s 4ms/step - loss: 0.3596 - accuracy: 0.8716 - val_loss: 0.3937 - val_accuracy: 0.8592\n",
            "Epoch 10/50\n",
            "1594/1594 [==============================] - 5s 3ms/step - loss: 0.3533 - accuracy: 0.8734 - val_loss: 0.3797 - val_accuracy: 0.8638\n",
            "Epoch 11/50\n",
            "1594/1594 [==============================] - 4s 2ms/step - loss: 0.3474 - accuracy: 0.8750 - val_loss: 0.3707 - val_accuracy: 0.8657\n",
            "Epoch 12/50\n",
            "1594/1594 [==============================] - 4s 3ms/step - loss: 0.3406 - accuracy: 0.8784 - val_loss: 0.3781 - val_accuracy: 0.8633\n",
            "Epoch 13/50\n",
            "1594/1594 [==============================] - 5s 3ms/step - loss: 0.3366 - accuracy: 0.8795 - val_loss: 0.3730 - val_accuracy: 0.8670\n",
            "Epoch 14/50\n",
            "1594/1594 [==============================] - 5s 3ms/step - loss: 0.3315 - accuracy: 0.8817 - val_loss: 0.3580 - val_accuracy: 0.8692\n",
            "Epoch 15/50\n",
            "1594/1594 [==============================] - 5s 3ms/step - loss: 0.3272 - accuracy: 0.8823 - val_loss: 0.3796 - val_accuracy: 0.8627\n",
            "Epoch 16/50\n",
            "1594/1594 [==============================] - 4s 3ms/step - loss: 0.3231 - accuracy: 0.8839 - val_loss: 0.3733 - val_accuracy: 0.8634\n",
            "Epoch 17/50\n",
            "1594/1594 [==============================] - 4s 2ms/step - loss: 0.3195 - accuracy: 0.8844 - val_loss: 0.3583 - val_accuracy: 0.8756\n",
            "Epoch 18/50\n",
            "1594/1594 [==============================] - 5s 3ms/step - loss: 0.3142 - accuracy: 0.8869 - val_loss: 0.3579 - val_accuracy: 0.8711\n",
            "Epoch 19/50\n",
            "1594/1594 [==============================] - 5s 3ms/step - loss: 0.3114 - accuracy: 0.8863 - val_loss: 0.3531 - val_accuracy: 0.8747\n",
            "Epoch 20/50\n",
            "1594/1594 [==============================] - 5s 3ms/step - loss: 0.3083 - accuracy: 0.8877 - val_loss: 0.3562 - val_accuracy: 0.8714\n",
            "Epoch 21/50\n",
            "1594/1594 [==============================] - 5s 3ms/step - loss: 0.3033 - accuracy: 0.8902 - val_loss: 0.3547 - val_accuracy: 0.8711\n",
            "Epoch 22/50\n",
            "1594/1594 [==============================] - 4s 3ms/step - loss: 0.3003 - accuracy: 0.8917 - val_loss: 0.3546 - val_accuracy: 0.8733\n",
            "Epoch 23/50\n",
            "1594/1594 [==============================] - 4s 2ms/step - loss: 0.2975 - accuracy: 0.8926 - val_loss: 0.3557 - val_accuracy: 0.8719\n",
            "Epoch 24/50\n",
            "1594/1594 [==============================] - 4s 3ms/step - loss: 0.2946 - accuracy: 0.8933 - val_loss: 0.3455 - val_accuracy: 0.8754\n",
            "Epoch 25/50\n",
            "1594/1594 [==============================] - 5s 3ms/step - loss: 0.2913 - accuracy: 0.8951 - val_loss: 0.3482 - val_accuracy: 0.8769\n",
            "Epoch 26/50\n",
            "1594/1594 [==============================] - 4s 3ms/step - loss: 0.2884 - accuracy: 0.8958 - val_loss: 0.3581 - val_accuracy: 0.8697\n",
            "Epoch 27/50\n",
            "1594/1594 [==============================] - 4s 3ms/step - loss: 0.2861 - accuracy: 0.8957 - val_loss: 0.3448 - val_accuracy: 0.8790\n",
            "Epoch 28/50\n",
            "1594/1594 [==============================] - 5s 3ms/step - loss: 0.2827 - accuracy: 0.8977 - val_loss: 0.3377 - val_accuracy: 0.8796\n",
            "Epoch 29/50\n",
            "1594/1594 [==============================] - 4s 2ms/step - loss: 0.2793 - accuracy: 0.8987 - val_loss: 0.3428 - val_accuracy: 0.8761\n",
            "Epoch 30/50\n",
            "1594/1594 [==============================] - 4s 3ms/step - loss: 0.2782 - accuracy: 0.8981 - val_loss: 0.3456 - val_accuracy: 0.8751\n",
            "Epoch 31/50\n",
            "1594/1594 [==============================] - 5s 3ms/step - loss: 0.2746 - accuracy: 0.8989 - val_loss: 0.3396 - val_accuracy: 0.8790\n",
            "Epoch 32/50\n",
            "1594/1594 [==============================] - 4s 2ms/step - loss: 0.2717 - accuracy: 0.9015 - val_loss: 0.3579 - val_accuracy: 0.8708\n",
            "Epoch 33/50\n",
            "1594/1594 [==============================] - 4s 2ms/step - loss: 0.2702 - accuracy: 0.9021 - val_loss: 0.3403 - val_accuracy: 0.8784\n",
            "Epoch 34/50\n",
            "1594/1594 [==============================] - 5s 3ms/step - loss: 0.2671 - accuracy: 0.9027 - val_loss: 0.3354 - val_accuracy: 0.8802\n",
            "Epoch 35/50\n",
            "1594/1594 [==============================] - 4s 3ms/step - loss: 0.2643 - accuracy: 0.9034 - val_loss: 0.3541 - val_accuracy: 0.8766\n",
            "Epoch 36/50\n",
            "1594/1594 [==============================] - 4s 3ms/step - loss: 0.2634 - accuracy: 0.9040 - val_loss: 0.3392 - val_accuracy: 0.8810\n",
            "Epoch 37/50\n",
            "1594/1594 [==============================] - 5s 3ms/step - loss: 0.2603 - accuracy: 0.9050 - val_loss: 0.3373 - val_accuracy: 0.8793\n",
            "Epoch 38/50\n",
            "1594/1594 [==============================] - 4s 3ms/step - loss: 0.2583 - accuracy: 0.9061 - val_loss: 0.3336 - val_accuracy: 0.8834\n",
            "Epoch 39/50\n",
            "1594/1594 [==============================] - 4s 3ms/step - loss: 0.2555 - accuracy: 0.9077 - val_loss: 0.3346 - val_accuracy: 0.8837\n",
            "Epoch 40/50\n",
            "1594/1594 [==============================] - 5s 3ms/step - loss: 0.2542 - accuracy: 0.9075 - val_loss: 0.3374 - val_accuracy: 0.8814\n",
            "Epoch 41/50\n",
            "1594/1594 [==============================] - 4s 2ms/step - loss: 0.2519 - accuracy: 0.9093 - val_loss: 0.3329 - val_accuracy: 0.8828\n",
            "Epoch 42/50\n",
            "1594/1594 [==============================] - 4s 2ms/step - loss: 0.2498 - accuracy: 0.9092 - val_loss: 0.3520 - val_accuracy: 0.8744\n",
            "Epoch 43/50\n",
            "1594/1594 [==============================] - 5s 3ms/step - loss: 0.2481 - accuracy: 0.9104 - val_loss: 0.3457 - val_accuracy: 0.8796\n",
            "Epoch 44/50\n",
            "1594/1594 [==============================] - 4s 3ms/step - loss: 0.2458 - accuracy: 0.9113 - val_loss: 0.3434 - val_accuracy: 0.8793\n",
            "Epoch 45/50\n",
            "1594/1594 [==============================] - 4s 2ms/step - loss: 0.2436 - accuracy: 0.9112 - val_loss: 0.3361 - val_accuracy: 0.8829\n",
            "Epoch 46/50\n",
            "1594/1594 [==============================] - 5s 3ms/step - loss: 0.2419 - accuracy: 0.9117 - val_loss: 0.3464 - val_accuracy: 0.8803\n",
            "Epoch 47/50\n",
            "1594/1594 [==============================] - 4s 3ms/step - loss: 0.2401 - accuracy: 0.9125 - val_loss: 0.3422 - val_accuracy: 0.8814\n",
            "Epoch 48/50\n",
            "1594/1594 [==============================] - 4s 3ms/step - loss: 0.2383 - accuracy: 0.9127 - val_loss: 0.3370 - val_accuracy: 0.8861\n",
            "Epoch 49/50\n",
            "1594/1594 [==============================] - 4s 3ms/step - loss: 0.2366 - accuracy: 0.9135 - val_loss: 0.3380 - val_accuracy: 0.8843\n",
            "Epoch 50/50\n",
            "1594/1594 [==============================] - 5s 3ms/step - loss: 0.2339 - accuracy: 0.9155 - val_loss: 0.3387 - val_accuracy: 0.8831\n"
          ]
        }
      ]
    },
    {
      "cell_type": "code",
      "source": [
        "##plot\n",
        "fig, ax = plt.subplots(figsize=(12, 5))\n",
        "ax.plot(history_lecun.history[\"loss\"] , label=\"train loss\")\n",
        "ax.plot(history_lecun.history[\"accuracy\"], label=\"train accuracy\")\n",
        "ax.plot(history_lecun.history[\"val_loss\"], label=\"validation loss\")\n",
        "ax.plot(history_lecun.history[\"val_accuracy\"], label=\"validation accuracy\")"
      ],
      "metadata": {
        "colab": {
          "base_uri": "https://localhost:8080/",
          "height": 463
        },
        "id": "UiGpgsD-ap_6",
        "outputId": "1d6cfbba-07e3-4774-e975-590463942381"
      },
      "execution_count": 40,
      "outputs": [
        {
          "output_type": "execute_result",
          "data": {
            "text/plain": [
              "[<matplotlib.lines.Line2D at 0x7c6503d00430>]"
            ]
          },
          "metadata": {},
          "execution_count": 40
        },
        {
          "output_type": "display_data",
          "data": {
            "text/plain": [
              "<Figure size 1200x500 with 1 Axes>"
            ],
            "image/png": "[encoded data removed]"
          },
          "metadata": {}
        }
      ]
    }
  ]
}