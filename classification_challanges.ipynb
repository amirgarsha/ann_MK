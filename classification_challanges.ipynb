{
  "nbformat": 4,
  "nbformat_minor": 0,
  "metadata": {
    "colab": {
      "provenance": [],
      "collapsed_sections": [
        "pM4LCrRLS_Sr",
        "QqetMuYnTzLM"
      ],
      "authorship_tag": "ABX9TyNbi3J2rQdwz4NNJu0DrmuZ",
      "include_colab_link": true
    },
    "kernelspec": {
      "name": "python3",
      "display_name": "Python 3"
    },
    "language_info": {
      "name": "python"
    }
  },
  "cells": [
    {
      "cell_type": "markdown",
      "metadata": {
        "id": "view-in-github",
        "colab_type": "text"
      },
      "source": [
        "<a href=\"https://colab.research.google.com/github/amirgarsha/ann_MK/blob/main/classification_challanges.ipynb\" target=\"_parent\"><img src=\"https://colab.research.google.com/assets/colab-badge.svg\" alt=\"Open In Colab\"/></a>"
      ]
    },
    {
      "cell_type": "markdown",
      "source": [
        "## import libraries"
      ],
      "metadata": {
        "id": "pM4LCrRLS_Sr"
      }
    },
    {
      "cell_type": "code",
      "execution_count": null,
      "metadata": {
        "id": "L2xkBmp_SMJ1"
      },
      "outputs": [],
      "source": [
        "import tensorflow as tf\n",
        "from tensorflow import keras\n",
        "from sklearn.model_selection import train_test_split\n",
        "from sklearn.preprocessing import StandardScaler\n",
        "import matplotlib.pyplot as plt\n",
        "import numpy as np"
      ]
    },
    {
      "cell_type": "markdown",
      "source": [
        "## Import Dataset"
      ],
      "metadata": {
        "id": "QqetMuYnTzLM"
      }
    },
    {
      "cell_type": "code",
      "source": [
        "fmnist_dataset = keras.datasets.fashion_mnist"
      ],
      "metadata": {
        "id": "v3GmfpWFTxQ6"
      },
      "execution_count": null,
      "outputs": []
    },
    {
      "cell_type": "code",
      "source": [
        "(X_train, y_train), (X_test, y_test) = fmnist_dataset.load_data()"
      ],
      "metadata": {
        "id": "6ytt9p6PUFB3",
        "colab": {
          "base_uri": "https://localhost:8080/"
        },
        "outputId": "038f2584-f66c-4cc3-d5e8-d120a23aa5d6"
      },
      "execution_count": null,
      "outputs": [
        {
          "output_type": "stream",
          "name": "stdout",
          "text": [
            "Downloading data from https://storage.googleapis.com/tensorflow/tf-keras-datasets/train-labels-idx1-ubyte.gz\n",
            "29515/29515 [==============================] - 0s 0us/step\n",
            "Downloading data from https://storage.googleapis.com/tensorflow/tf-keras-datasets/train-images-idx3-ubyte.gz\n",
            "26421880/26421880 [==============================] - 1s 0us/step\n",
            "Downloading data from https://storage.googleapis.com/tensorflow/tf-keras-datasets/t10k-labels-idx1-ubyte.gz\n",
            "5148/5148 [==============================] - 0s 0us/step\n",
            "Downloading data from https://storage.googleapis.com/tensorflow/tf-keras-datasets/t10k-images-idx3-ubyte.gz\n",
            "4422102/4422102 [==============================] - 0s 0us/step\n"
          ]
        }
      ]
    },
    {
      "cell_type": "code",
      "source": [
        "print( X_train.shape, y_train.shape, X_test.shape, y_test.shape)"
      ],
      "metadata": {
        "colab": {
          "base_uri": "https://localhost:8080/"
        },
        "id": "AJIHZ7SUUhKb",
        "outputId": "9453f01a-3cb2-436a-f811-48d947791e3b"
      },
      "execution_count": null,
      "outputs": [
        {
          "output_type": "stream",
          "name": "stdout",
          "text": [
            "(60000, 28, 28) (60000,) (10000, 28, 28) (10000,)\n"
          ]
        }
      ]
    },
    {
      "cell_type": "code",
      "source": [
        "X_train, X_test = X_train/255.0, X_test/255.0"
      ],
      "metadata": {
        "id": "Fzkr4mN5d-_J"
      },
      "execution_count": null,
      "outputs": []
    },
    {
      "cell_type": "markdown",
      "source": [
        "## Define Model with different initialization"
      ],
      "metadata": {
        "id": "EhFBVTLpS5bG"
      }
    },
    {
      "cell_type": "code",
      "source": [
        "## model with He initialization\n",
        "initializer_he = keras.initializers.HeNormal()\n",
        "\n",
        "model_he_init = keras.models.Sequential([\n",
        "    keras.layers.Flatten(input_shape=[28, 28]),\n",
        "    keras.layers.Dense(50, activation=\"relu\", kernel_initializer= initializer_he),\n",
        "    keras.layers.Dense(50, activation=\"relu\"),\n",
        "    keras.layers.Dense(10, activation=\"softmax\")\n",
        "]\n",
        "\n",
        ")"
      ],
      "metadata": {
        "id": "o0ALBkMYS-cN"
      },
      "execution_count": null,
      "outputs": []
    },
    {
      "cell_type": "code",
      "source": [
        "model_he_init.summary()"
      ],
      "metadata": {
        "colab": {
          "base_uri": "https://localhost:8080/"
        },
        "id": "k4NnsmIXUoUR",
        "outputId": "76315509-d07d-4ebc-ed56-dd680447c51d"
      },
      "execution_count": null,
      "outputs": [
        {
          "output_type": "stream",
          "name": "stdout",
          "text": [
            "Model: \"sequential\"\n",
            "_________________________________________________________________\n",
            " Layer (type)                Output Shape              Param #   \n",
            "=================================================================\n",
            " flatten (Flatten)           (None, 784)               0         \n",
            "                                                                 \n",
            " dense (Dense)               (None, 50)                39250     \n",
            "                                                                 \n",
            " dense_1 (Dense)             (None, 50)                2550      \n",
            "                                                                 \n",
            " dense_2 (Dense)             (None, 10)                510       \n",
            "                                                                 \n",
            "=================================================================\n",
            "Total params: 42310 (165.27 KB)\n",
            "Trainable params: 42310 (165.27 KB)\n",
            "Non-trainable params: 0 (0.00 Byte)\n",
            "_________________________________________________________________\n"
          ]
        }
      ]
    },
    {
      "cell_type": "code",
      "source": [
        "weight, bias = model_he_init.layers[1].get_weights()\n",
        "print(weight)\n",
        "print(bias)"
      ],
      "metadata": {
        "colab": {
          "base_uri": "https://localhost:8080/"
        },
        "id": "y0hbB4jlZZxA",
        "outputId": "64866488-12c0-4855-a4de-cfa8173703e4"
      },
      "execution_count": null,
      "outputs": [
        {
          "output_type": "stream",
          "name": "stdout",
          "text": [
            "[[-0.09116976  0.07230942 -0.08892858 ...  0.06265605 -0.0124545\n",
            "  -0.04278458]\n",
            " [ 0.05581209 -0.02479253  0.07217434 ... -0.04147955  0.00105083\n",
            "   0.11377055]\n",
            " [ 0.01251297  0.00407392  0.03350857 ... -0.03162904  0.05397129\n",
            "  -0.08092089]\n",
            " ...\n",
            " [ 0.02011095  0.02941548  0.10313978 ...  0.05499012  0.08612937\n",
            "   0.00509225]\n",
            " [ 0.02741265 -0.04508071 -0.07573276 ...  0.02487154  0.02445038\n",
            "   0.05060741]\n",
            " [-0.05185689  0.03198352  0.02833591 ...  0.0286429  -0.00760228\n",
            "  -0.04661018]]\n",
            "[0. 0. 0. 0. 0. 0. 0. 0. 0. 0. 0. 0. 0. 0. 0. 0. 0. 0. 0. 0. 0. 0. 0. 0.\n",
            " 0. 0. 0. 0. 0. 0. 0. 0. 0. 0. 0. 0. 0. 0. 0. 0. 0. 0. 0. 0. 0. 0. 0. 0.\n",
            " 0. 0.]\n"
          ]
        }
      ]
    },
    {
      "cell_type": "code",
      "source": [
        "model_he_init.compile(loss=\"sparse_categorical_crossentropy\",\n",
        "              optimizer=\"sgd\",\n",
        "              metrics=[\"accuracy\"])"
      ],
      "metadata": {
        "id": "GkluWiyVZ7dw"
      },
      "execution_count": null,
      "outputs": []
    },
    {
      "cell_type": "code",
      "source": [
        "##fit model\n",
        "history_he_init = model_he_init.fit(X_train, y_train, epochs=50, validation_split=0.15)"
      ],
      "metadata": {
        "colab": {
          "base_uri": "https://localhost:8080/"
        },
        "id": "5LcyssHdaHNt",
        "outputId": "3fa24758-cf3b-40b5-f535-2a3f5cf85742"
      },
      "execution_count": null,
      "outputs": [
        {
          "output_type": "stream",
          "name": "stdout",
          "text": [
            "Epoch 1/50\n",
            "1594/1594 [==============================] - 8s 4ms/step - loss: 0.8639 - accuracy: 0.7150 - val_loss: 0.5888 - val_accuracy: 0.7959\n",
            "Epoch 2/50\n",
            "1594/1594 [==============================] - 7s 5ms/step - loss: 0.5303 - accuracy: 0.8165 - val_loss: 0.5199 - val_accuracy: 0.8186\n",
            "Epoch 3/50\n",
            "1594/1594 [==============================] - 5s 3ms/step - loss: 0.4754 - accuracy: 0.8335 - val_loss: 0.4889 - val_accuracy: 0.8288\n",
            "Epoch 4/50\n",
            "1594/1594 [==============================] - 4s 3ms/step - loss: 0.4454 - accuracy: 0.8440 - val_loss: 0.4761 - val_accuracy: 0.8284\n",
            "Epoch 5/50\n",
            "1594/1594 [==============================] - 6s 3ms/step - loss: 0.4249 - accuracy: 0.8504 - val_loss: 0.4388 - val_accuracy: 0.8426\n",
            "Epoch 6/50\n",
            "1594/1594 [==============================] - 4s 2ms/step - loss: 0.4089 - accuracy: 0.8548 - val_loss: 0.4314 - val_accuracy: 0.8427\n",
            "Epoch 7/50\n",
            "1594/1594 [==============================] - 4s 2ms/step - loss: 0.3957 - accuracy: 0.8588 - val_loss: 0.4074 - val_accuracy: 0.8578\n",
            "Epoch 8/50\n",
            "1594/1594 [==============================] - 5s 3ms/step - loss: 0.3864 - accuracy: 0.8626 - val_loss: 0.3988 - val_accuracy: 0.8586\n",
            "Epoch 9/50\n",
            "1594/1594 [==============================] - 4s 2ms/step - loss: 0.3762 - accuracy: 0.8659 - val_loss: 0.4113 - val_accuracy: 0.8558\n",
            "Epoch 10/50\n",
            "1594/1594 [==============================] - 4s 3ms/step - loss: 0.3676 - accuracy: 0.8692 - val_loss: 0.3869 - val_accuracy: 0.8647\n",
            "Epoch 11/50\n",
            "1594/1594 [==============================] - 5s 3ms/step - loss: 0.3605 - accuracy: 0.8707 - val_loss: 0.3798 - val_accuracy: 0.8663\n",
            "Epoch 12/50\n",
            "1594/1594 [==============================] - 4s 2ms/step - loss: 0.3541 - accuracy: 0.8729 - val_loss: 0.3781 - val_accuracy: 0.8653\n",
            "Epoch 13/50\n",
            "1594/1594 [==============================] - 4s 3ms/step - loss: 0.3478 - accuracy: 0.8742 - val_loss: 0.3857 - val_accuracy: 0.8648\n",
            "Epoch 14/50\n",
            "1594/1594 [==============================] - 5s 3ms/step - loss: 0.3431 - accuracy: 0.8760 - val_loss: 0.3835 - val_accuracy: 0.8641\n",
            "Epoch 15/50\n",
            "1594/1594 [==============================] - 4s 3ms/step - loss: 0.3368 - accuracy: 0.8800 - val_loss: 0.3741 - val_accuracy: 0.8677\n",
            "Epoch 16/50\n",
            "1594/1594 [==============================] - 4s 3ms/step - loss: 0.3312 - accuracy: 0.8807 - val_loss: 0.3737 - val_accuracy: 0.8687\n",
            "Epoch 17/50\n",
            "1594/1594 [==============================] - 6s 4ms/step - loss: 0.3266 - accuracy: 0.8829 - val_loss: 0.3684 - val_accuracy: 0.8693\n",
            "Epoch 18/50\n",
            "1594/1594 [==============================] - 4s 3ms/step - loss: 0.3224 - accuracy: 0.8841 - val_loss: 0.3576 - val_accuracy: 0.8728\n",
            "Epoch 19/50\n",
            "1594/1594 [==============================] - 4s 3ms/step - loss: 0.3184 - accuracy: 0.8857 - val_loss: 0.3564 - val_accuracy: 0.8708\n",
            "Epoch 20/50\n",
            "1594/1594 [==============================] - 5s 3ms/step - loss: 0.3150 - accuracy: 0.8872 - val_loss: 0.3798 - val_accuracy: 0.8602\n",
            "Epoch 21/50\n",
            "1594/1594 [==============================] - 5s 3ms/step - loss: 0.3105 - accuracy: 0.8893 - val_loss: 0.3527 - val_accuracy: 0.8758\n",
            "Epoch 22/50\n",
            "1594/1594 [==============================] - 4s 3ms/step - loss: 0.3057 - accuracy: 0.8910 - val_loss: 0.3557 - val_accuracy: 0.8756\n",
            "Epoch 23/50\n",
            "1594/1594 [==============================] - 6s 4ms/step - loss: 0.3030 - accuracy: 0.8916 - val_loss: 0.3472 - val_accuracy: 0.8779\n",
            "Epoch 24/50\n",
            "1594/1594 [==============================] - 4s 3ms/step - loss: 0.2986 - accuracy: 0.8931 - val_loss: 0.3521 - val_accuracy: 0.8761\n",
            "Epoch 25/50\n",
            "1594/1594 [==============================] - 4s 3ms/step - loss: 0.2949 - accuracy: 0.8950 - val_loss: 0.3674 - val_accuracy: 0.8693\n",
            "Epoch 26/50\n",
            "1594/1594 [==============================] - 5s 3ms/step - loss: 0.2915 - accuracy: 0.8952 - val_loss: 0.3975 - val_accuracy: 0.8630\n",
            "Epoch 27/50\n",
            "1594/1594 [==============================] - 4s 2ms/step - loss: 0.2878 - accuracy: 0.8958 - val_loss: 0.3669 - val_accuracy: 0.8710\n",
            "Epoch 28/50\n",
            "1594/1594 [==============================] - 4s 2ms/step - loss: 0.2854 - accuracy: 0.8979 - val_loss: 0.3491 - val_accuracy: 0.8764\n",
            "Epoch 29/50\n",
            "1594/1594 [==============================] - 5s 3ms/step - loss: 0.2826 - accuracy: 0.8986 - val_loss: 0.3583 - val_accuracy: 0.8749\n",
            "Epoch 30/50\n",
            "1594/1594 [==============================] - 4s 3ms/step - loss: 0.2793 - accuracy: 0.8984 - val_loss: 0.3682 - val_accuracy: 0.8706\n",
            "Epoch 31/50\n",
            "1594/1594 [==============================] - 4s 3ms/step - loss: 0.2768 - accuracy: 0.9007 - val_loss: 0.3426 - val_accuracy: 0.8757\n",
            "Epoch 32/50\n",
            "1594/1594 [==============================] - 6s 3ms/step - loss: 0.2744 - accuracy: 0.9017 - val_loss: 0.3356 - val_accuracy: 0.8810\n",
            "Epoch 33/50\n",
            "1594/1594 [==============================] - 4s 2ms/step - loss: 0.2711 - accuracy: 0.9022 - val_loss: 0.3474 - val_accuracy: 0.8771\n",
            "Epoch 34/50\n",
            "1594/1594 [==============================] - 4s 3ms/step - loss: 0.2684 - accuracy: 0.9043 - val_loss: 0.3682 - val_accuracy: 0.8686\n",
            "Epoch 35/50\n",
            "1594/1594 [==============================] - 5s 3ms/step - loss: 0.2668 - accuracy: 0.9033 - val_loss: 0.3583 - val_accuracy: 0.8742\n",
            "Epoch 36/50\n",
            "1594/1594 [==============================] - 4s 3ms/step - loss: 0.2637 - accuracy: 0.9048 - val_loss: 0.3545 - val_accuracy: 0.8783\n",
            "Epoch 37/50\n",
            "1594/1594 [==============================] - 4s 3ms/step - loss: 0.2609 - accuracy: 0.9068 - val_loss: 0.3360 - val_accuracy: 0.8794\n",
            "Epoch 38/50\n",
            "1594/1594 [==============================] - 5s 3ms/step - loss: 0.2595 - accuracy: 0.9065 - val_loss: 0.3457 - val_accuracy: 0.8782\n",
            "Epoch 39/50\n",
            "1594/1594 [==============================] - 4s 2ms/step - loss: 0.2571 - accuracy: 0.9077 - val_loss: 0.3487 - val_accuracy: 0.8787\n",
            "Epoch 40/50\n",
            "1594/1594 [==============================] - 4s 3ms/step - loss: 0.2545 - accuracy: 0.9088 - val_loss: 0.3589 - val_accuracy: 0.8732\n",
            "Epoch 41/50\n",
            "1594/1594 [==============================] - 5s 3ms/step - loss: 0.2524 - accuracy: 0.9092 - val_loss: 0.3398 - val_accuracy: 0.8817\n",
            "Epoch 42/50\n",
            "1594/1594 [==============================] - 4s 2ms/step - loss: 0.2501 - accuracy: 0.9093 - val_loss: 0.3682 - val_accuracy: 0.8696\n",
            "Epoch 43/50\n",
            "1594/1594 [==============================] - 4s 3ms/step - loss: 0.2475 - accuracy: 0.9108 - val_loss: 0.3390 - val_accuracy: 0.8773\n",
            "Epoch 44/50\n",
            "1594/1594 [==============================] - 5s 3ms/step - loss: 0.2453 - accuracy: 0.9111 - val_loss: 0.3332 - val_accuracy: 0.8817\n",
            "Epoch 45/50\n",
            "1594/1594 [==============================] - 4s 3ms/step - loss: 0.2438 - accuracy: 0.9123 - val_loss: 0.3358 - val_accuracy: 0.8806\n",
            "Epoch 46/50\n",
            "1594/1594 [==============================] - 6s 3ms/step - loss: 0.2415 - accuracy: 0.9139 - val_loss: 0.3460 - val_accuracy: 0.8747\n",
            "Epoch 47/50\n",
            "1594/1594 [==============================] - 6s 4ms/step - loss: 0.2398 - accuracy: 0.9128 - val_loss: 0.3435 - val_accuracy: 0.8790\n",
            "Epoch 48/50\n",
            "1594/1594 [==============================] - 6s 3ms/step - loss: 0.2385 - accuracy: 0.9142 - val_loss: 0.3299 - val_accuracy: 0.8837\n",
            "Epoch 49/50\n",
            "1594/1594 [==============================] - 5s 3ms/step - loss: 0.2358 - accuracy: 0.9144 - val_loss: 0.3394 - val_accuracy: 0.8821\n",
            "Epoch 50/50\n",
            "1594/1594 [==============================] - 5s 3ms/step - loss: 0.2338 - accuracy: 0.9156 - val_loss: 0.3321 - val_accuracy: 0.8837\n"
          ]
        }
      ]
    },
    {
      "cell_type": "code",
      "source": [
        "##plot\n",
        "fig, ax = plt.subplots(figsize=(12, 5))\n",
        "ax.plot(history_he_init.history[\"loss\"] , label=\"train loss\")\n",
        "ax.plot(history_he_init.history[\"accuracy\"], label=\"train accuracy\")\n",
        "ax.plot(history_he_init.history[\"val_loss\"], label=\"validation loss\")\n",
        "ax.plot(history_he_init.history[\"val_accuracy\"], label=\"validation accuracy\")"
      ],
      "metadata": {
        "colab": {
          "base_uri": "https://localhost:8080/",
          "height": 463
        },
        "id": "7e66juThagDA",
        "outputId": "4845a6e3-44a9-40c3-e5c0-c8742ceeab0f"
      },
      "execution_count": null,
      "outputs": [
        {
          "output_type": "execute_result",
          "data": {
            "text/plain": [
              "[<matplotlib.lines.Line2D at 0x7d5698251630>]"
            ]
          },
          "metadata": {},
          "execution_count": 11
        },
        {
          "output_type": "display_data",
          "data": {
            "text/plain": [
              "<Figure size 1200x500 with 1 Axes>"
            ],
            "image/png": "[encoded data removed]"
          },
          "metadata": {}
        }
      ]
    },
    {
      "cell_type": "code",
      "source": [
        "## model with Lecunn initialization\n",
        "initializer_lecun = keras.initializers.LecunNormal()\n",
        "\n",
        "model_lecun_init = keras.models.Sequential([\n",
        "    keras.layers.Flatten(input_shape=[28, 28]),\n",
        "    keras.layers.Dense(50, activation=\"selu\", kernel_initializer= initializer_lecun),\n",
        "    keras.layers.Dense(50, activation=\"selu\"),\n",
        "    keras.layers.Dense(10, activation=\"softmax\")\n",
        "]\n",
        "\n",
        ")"
      ],
      "metadata": {
        "id": "Wf4p9pHDVAoO"
      },
      "execution_count": null,
      "outputs": []
    },
    {
      "cell_type": "code",
      "source": [
        "model_lecun_init.summary()"
      ],
      "metadata": {
        "colab": {
          "base_uri": "https://localhost:8080/"
        },
        "id": "QzSLkvRLVXk4",
        "outputId": "eb324077-942f-45bd-e25b-36e28113326c"
      },
      "execution_count": null,
      "outputs": [
        {
          "output_type": "stream",
          "name": "stdout",
          "text": [
            "Model: \"sequential_1\"\n",
            "_________________________________________________________________\n",
            " Layer (type)                Output Shape              Param #   \n",
            "=================================================================\n",
            " flatten_1 (Flatten)         (None, 784)               0         \n",
            "                                                                 \n",
            " dense_3 (Dense)             (None, 50)                39250     \n",
            "                                                                 \n",
            " dense_4 (Dense)             (None, 50)                2550      \n",
            "                                                                 \n",
            " dense_5 (Dense)             (None, 10)                510       \n",
            "                                                                 \n",
            "=================================================================\n",
            "Total params: 42310 (165.27 KB)\n",
            "Trainable params: 42310 (165.27 KB)\n",
            "Non-trainable params: 0 (0.00 Byte)\n",
            "_________________________________________________________________\n"
          ]
        }
      ]
    },
    {
      "cell_type": "code",
      "source": [
        "weight_lecun, bias_lecun = model_lecun_init.layers[1].get_weights()\n",
        "print(weight_lecun)\n",
        "print(bias_lecun)"
      ],
      "metadata": {
        "colab": {
          "base_uri": "https://localhost:8080/"
        },
        "id": "iflYJ03YZmZT",
        "outputId": "60b7d948-4dad-43e8-a5b9-05bb4851f32c"
      },
      "execution_count": null,
      "outputs": [
        {
          "output_type": "stream",
          "name": "stdout",
          "text": [
            "[[-0.01469436 -0.05814553  0.05762867 ... -0.00473742 -0.03104156\n",
            "   0.01305955]\n",
            " [-0.04182997 -0.01276122  0.05632778 ...  0.01832412  0.00801955\n",
            "   0.05259367]\n",
            " [ 0.05450604  0.00933961  0.02182312 ...  0.03831344 -0.00565718\n",
            "   0.00995764]\n",
            " ...\n",
            " [-0.04045603 -0.03006285  0.03255638 ... -0.04031254 -0.0452831\n",
            "   0.02451732]\n",
            " [-0.02307511  0.04108686  0.01046684 ...  0.04282362 -0.03966328\n",
            "   0.02354187]\n",
            " [-0.02430068 -0.02888475 -0.01618332 ...  0.03223343  0.00782717\n",
            "   0.07823705]]\n",
            "[0. 0. 0. 0. 0. 0. 0. 0. 0. 0. 0. 0. 0. 0. 0. 0. 0. 0. 0. 0. 0. 0. 0. 0.\n",
            " 0. 0. 0. 0. 0. 0. 0. 0. 0. 0. 0. 0. 0. 0. 0. 0. 0. 0. 0. 0. 0. 0. 0. 0.\n",
            " 0. 0.]\n"
          ]
        }
      ]
    },
    {
      "cell_type": "code",
      "source": [
        "model_lecun_init.compile(loss=\"sparse_categorical_crossentropy\",\n",
        "              optimizer=\"sgd\",\n",
        "              metrics=[\"accuracy\"])"
      ],
      "metadata": {
        "id": "JPKJtWOyZ_1P"
      },
      "execution_count": null,
      "outputs": []
    },
    {
      "cell_type": "code",
      "source": [
        "##fit model\n",
        "history_lecun = model_lecun_init.fit(X_train, y_train, epochs=50, validation_split=0.15)"
      ],
      "metadata": {
        "colab": {
          "base_uri": "https://localhost:8080/"
        },
        "id": "W_sjQdmSaOQ7",
        "outputId": "24cbee0a-5041-4b02-e5a3-b04135bd8dff"
      },
      "execution_count": null,
      "outputs": [
        {
          "output_type": "stream",
          "name": "stdout",
          "text": [
            "Epoch 1/50\n",
            "1594/1594 [==============================] - 5s 3ms/step - loss: 0.6299 - accuracy: 0.7899 - val_loss: 0.4921 - val_accuracy: 0.8234\n",
            "Epoch 2/50\n",
            "1594/1594 [==============================] - 5s 3ms/step - loss: 0.4626 - accuracy: 0.8371 - val_loss: 0.4723 - val_accuracy: 0.8269\n",
            "Epoch 3/50\n",
            "1594/1594 [==============================] - 4s 3ms/step - loss: 0.4310 - accuracy: 0.8474 - val_loss: 0.4240 - val_accuracy: 0.8473\n",
            "Epoch 4/50\n",
            "1594/1594 [==============================] - 8s 5ms/step - loss: 0.4115 - accuracy: 0.8539 - val_loss: 0.4111 - val_accuracy: 0.8546\n",
            "Epoch 5/50\n",
            "1594/1594 [==============================] - 4s 3ms/step - loss: 0.3997 - accuracy: 0.8585 - val_loss: 0.4005 - val_accuracy: 0.8559\n",
            "Epoch 6/50\n",
            "1594/1594 [==============================] - 5s 3ms/step - loss: 0.3868 - accuracy: 0.8634 - val_loss: 0.3897 - val_accuracy: 0.8597\n",
            "Epoch 7/50\n",
            "1594/1594 [==============================] - 7s 4ms/step - loss: 0.3782 - accuracy: 0.8649 - val_loss: 0.3957 - val_accuracy: 0.8610\n",
            "Epoch 8/50\n",
            "1594/1594 [==============================] - 5s 3ms/step - loss: 0.3701 - accuracy: 0.8689 - val_loss: 0.3995 - val_accuracy: 0.8617\n",
            "Epoch 9/50\n",
            "1594/1594 [==============================] - 6s 4ms/step - loss: 0.3614 - accuracy: 0.8717 - val_loss: 0.4405 - val_accuracy: 0.8406\n",
            "Epoch 10/50\n",
            "1594/1594 [==============================] - 4s 3ms/step - loss: 0.3562 - accuracy: 0.8734 - val_loss: 0.3874 - val_accuracy: 0.8563\n",
            "Epoch 11/50\n",
            "1594/1594 [==============================] - 5s 3ms/step - loss: 0.3504 - accuracy: 0.8763 - val_loss: 0.3774 - val_accuracy: 0.8633\n",
            "Epoch 12/50\n",
            "1594/1594 [==============================] - 6s 4ms/step - loss: 0.3443 - accuracy: 0.8775 - val_loss: 0.3607 - val_accuracy: 0.8701\n",
            "Epoch 13/50\n",
            "1594/1594 [==============================] - 5s 3ms/step - loss: 0.3381 - accuracy: 0.8794 - val_loss: 0.3683 - val_accuracy: 0.8699\n",
            "Epoch 14/50\n",
            "1594/1594 [==============================] - 5s 3ms/step - loss: 0.3344 - accuracy: 0.8814 - val_loss: 0.3903 - val_accuracy: 0.8548\n",
            "Epoch 15/50\n",
            "1594/1594 [==============================] - 5s 3ms/step - loss: 0.3289 - accuracy: 0.8821 - val_loss: 0.3580 - val_accuracy: 0.8717\n",
            "Epoch 16/50\n",
            "1594/1594 [==============================] - 5s 3ms/step - loss: 0.3252 - accuracy: 0.8835 - val_loss: 0.3576 - val_accuracy: 0.8709\n",
            "Epoch 17/50\n",
            "1594/1594 [==============================] - 5s 3ms/step - loss: 0.3205 - accuracy: 0.8855 - val_loss: 0.3821 - val_accuracy: 0.8614\n",
            "Epoch 18/50\n",
            "1594/1594 [==============================] - 5s 3ms/step - loss: 0.3162 - accuracy: 0.8866 - val_loss: 0.3579 - val_accuracy: 0.8729\n",
            "Epoch 19/50\n",
            "1594/1594 [==============================] - 5s 3ms/step - loss: 0.3129 - accuracy: 0.8878 - val_loss: 0.3649 - val_accuracy: 0.8652\n",
            "Epoch 20/50\n",
            "1594/1594 [==============================] - 5s 3ms/step - loss: 0.3085 - accuracy: 0.8888 - val_loss: 0.3575 - val_accuracy: 0.8721\n",
            "Epoch 21/50\n",
            "1594/1594 [==============================] - 4s 3ms/step - loss: 0.3055 - accuracy: 0.8910 - val_loss: 0.3444 - val_accuracy: 0.8759\n",
            "Epoch 22/50\n",
            "1594/1594 [==============================] - 5s 3ms/step - loss: 0.3019 - accuracy: 0.8918 - val_loss: 0.3495 - val_accuracy: 0.8736\n",
            "Epoch 23/50\n",
            "1594/1594 [==============================] - 6s 4ms/step - loss: 0.2975 - accuracy: 0.8929 - val_loss: 0.3566 - val_accuracy: 0.8688\n",
            "Epoch 24/50\n",
            "1594/1594 [==============================] - 5s 3ms/step - loss: 0.2951 - accuracy: 0.8942 - val_loss: 0.3592 - val_accuracy: 0.8723\n",
            "Epoch 25/50\n",
            "1594/1594 [==============================] - 6s 4ms/step - loss: 0.2917 - accuracy: 0.8948 - val_loss: 0.3416 - val_accuracy: 0.8763\n",
            "Epoch 26/50\n",
            "1594/1594 [==============================] - 5s 3ms/step - loss: 0.2894 - accuracy: 0.8954 - val_loss: 0.3629 - val_accuracy: 0.8717\n",
            "Epoch 27/50\n",
            "1594/1594 [==============================] - 4s 3ms/step - loss: 0.2865 - accuracy: 0.8957 - val_loss: 0.3457 - val_accuracy: 0.8763\n",
            "Epoch 28/50\n",
            "1594/1594 [==============================] - 5s 3ms/step - loss: 0.2831 - accuracy: 0.8986 - val_loss: 0.3519 - val_accuracy: 0.8726\n",
            "Epoch 29/50\n",
            "1594/1594 [==============================] - 5s 3ms/step - loss: 0.2811 - accuracy: 0.8975 - val_loss: 0.3439 - val_accuracy: 0.8780\n",
            "Epoch 30/50\n",
            "1594/1594 [==============================] - 4s 3ms/step - loss: 0.2781 - accuracy: 0.8994 - val_loss: 0.3422 - val_accuracy: 0.8791\n",
            "Epoch 31/50\n",
            "1594/1594 [==============================] - 4s 3ms/step - loss: 0.2736 - accuracy: 0.9005 - val_loss: 0.3452 - val_accuracy: 0.8740\n",
            "Epoch 32/50\n",
            "1594/1594 [==============================] - 5s 3ms/step - loss: 0.2719 - accuracy: 0.9018 - val_loss: 0.3395 - val_accuracy: 0.8791\n",
            "Epoch 33/50\n",
            "1594/1594 [==============================] - 4s 2ms/step - loss: 0.2699 - accuracy: 0.9021 - val_loss: 0.3443 - val_accuracy: 0.8803\n",
            "Epoch 34/50\n",
            "1594/1594 [==============================] - 4s 2ms/step - loss: 0.2670 - accuracy: 0.9037 - val_loss: 0.3353 - val_accuracy: 0.8819\n",
            "Epoch 35/50\n",
            "1594/1594 [==============================] - 5s 3ms/step - loss: 0.2646 - accuracy: 0.9035 - val_loss: 0.3454 - val_accuracy: 0.8756\n",
            "Epoch 36/50\n",
            "1594/1594 [==============================] - 4s 3ms/step - loss: 0.2620 - accuracy: 0.9055 - val_loss: 0.3405 - val_accuracy: 0.8792\n",
            "Epoch 37/50\n",
            "1594/1594 [==============================] - 4s 3ms/step - loss: 0.2595 - accuracy: 0.9056 - val_loss: 0.3404 - val_accuracy: 0.8792\n",
            "Epoch 38/50\n",
            "1594/1594 [==============================] - 6s 4ms/step - loss: 0.2573 - accuracy: 0.9071 - val_loss: 0.3397 - val_accuracy: 0.8809\n",
            "Epoch 39/50\n",
            "1594/1594 [==============================] - 4s 3ms/step - loss: 0.2549 - accuracy: 0.9073 - val_loss: 0.3450 - val_accuracy: 0.8802\n",
            "Epoch 40/50\n",
            "1594/1594 [==============================] - 4s 2ms/step - loss: 0.2526 - accuracy: 0.9075 - val_loss: 0.3398 - val_accuracy: 0.8794\n",
            "Epoch 41/50\n",
            "1594/1594 [==============================] - 6s 4ms/step - loss: 0.2511 - accuracy: 0.9085 - val_loss: 0.3481 - val_accuracy: 0.8794\n",
            "Epoch 42/50\n",
            "1594/1594 [==============================] - 4s 3ms/step - loss: 0.2491 - accuracy: 0.9097 - val_loss: 0.3313 - val_accuracy: 0.8827\n",
            "Epoch 43/50\n",
            "1594/1594 [==============================] - 4s 3ms/step - loss: 0.2466 - accuracy: 0.9105 - val_loss: 0.3429 - val_accuracy: 0.8801\n",
            "Epoch 44/50\n",
            "1594/1594 [==============================] - 5s 3ms/step - loss: 0.2460 - accuracy: 0.9099 - val_loss: 0.3423 - val_accuracy: 0.8802\n",
            "Epoch 45/50\n",
            "1594/1594 [==============================] - 4s 3ms/step - loss: 0.2426 - accuracy: 0.9117 - val_loss: 0.3337 - val_accuracy: 0.8838\n",
            "Epoch 46/50\n",
            "1594/1594 [==============================] - 4s 3ms/step - loss: 0.2409 - accuracy: 0.9125 - val_loss: 0.3467 - val_accuracy: 0.8811\n",
            "Epoch 47/50\n",
            "1594/1594 [==============================] - 7s 4ms/step - loss: 0.2385 - accuracy: 0.9144 - val_loss: 0.3380 - val_accuracy: 0.8848\n",
            "Epoch 48/50\n",
            "1594/1594 [==============================] - 5s 3ms/step - loss: 0.2373 - accuracy: 0.9140 - val_loss: 0.3363 - val_accuracy: 0.8854\n",
            "Epoch 49/50\n",
            "1594/1594 [==============================] - 6s 4ms/step - loss: 0.2354 - accuracy: 0.9148 - val_loss: 0.3418 - val_accuracy: 0.8813\n",
            "Epoch 50/50\n",
            "1594/1594 [==============================] - 4s 3ms/step - loss: 0.2337 - accuracy: 0.9157 - val_loss: 0.3410 - val_accuracy: 0.8818\n"
          ]
        }
      ]
    },
    {
      "cell_type": "code",
      "source": [
        "##plot\n",
        "fig, ax = plt.subplots(figsize=(12, 5))\n",
        "ax.plot(history_lecun.history[\"loss\"] , label=\"train loss\")\n",
        "ax.plot(history_lecun.history[\"accuracy\"], label=\"train accuracy\")\n",
        "ax.plot(history_lecun.history[\"val_loss\"], label=\"validation loss\")\n",
        "ax.plot(history_lecun.history[\"val_accuracy\"], label=\"validation accuracy\")"
      ],
      "metadata": {
        "colab": {
          "base_uri": "https://localhost:8080/",
          "height": 463
        },
        "id": "UiGpgsD-ap_6",
        "outputId": "3f1d2da4-8bde-48e0-933b-fd1d9f29dec0"
      },
      "execution_count": null,
      "outputs": [
        {
          "output_type": "execute_result",
          "data": {
            "text/plain": [
              "[<matplotlib.lines.Line2D at 0x7d56b6cbc640>]"
            ]
          },
          "metadata": {},
          "execution_count": 17
        },
        {
          "output_type": "display_data",
          "data": {
            "text/plain": [
              "<Figure size 1200x500 with 1 Axes>"
            ],
            "image/png": "[encoded data removed]"
          },
          "metadata": {}
        }
      ]
    },
    {
      "cell_type": "markdown",
      "source": [
        "## Model with Batch Normalization"
      ],
      "metadata": {
        "id": "SOx3cMF28H5T"
      }
    },
    {
      "cell_type": "code",
      "source": [
        "## model with Batch Normalization\n",
        "initializer_he = keras.initializers.HeNormal()\n",
        "\n",
        "model_BNorm = keras.models.Sequential([\n",
        "    keras.layers.Flatten(input_shape=[28, 28]),\n",
        "    keras.layers.Dense(50, activation=\"relu\", kernel_initializer= initializer_he),\n",
        "    keras.layers.BatchNormalization(),\n",
        "    keras.layers.Dense(50, activation=\"relu\"),\n",
        "    keras.layers.BatchNormalization(),\n",
        "    keras.layers.Dense(10, activation=\"softmax\"),\n",
        "    keras.layers.BatchNormalization()\n",
        "]\n",
        "\n",
        ")"
      ],
      "metadata": {
        "id": "NArrmtu68Mw1"
      },
      "execution_count": null,
      "outputs": []
    },
    {
      "cell_type": "code",
      "source": [
        "model_BNorm.summary()"
      ],
      "metadata": {
        "colab": {
          "base_uri": "https://localhost:8080/"
        },
        "id": "bhUn_Vag-gze",
        "outputId": "6a50e8d5-335d-46ed-c141-c7dde9d8d941"
      },
      "execution_count": null,
      "outputs": [
        {
          "output_type": "stream",
          "name": "stdout",
          "text": [
            "Model: \"sequential_2\"\n",
            "_________________________________________________________________\n",
            " Layer (type)                Output Shape              Param #   \n",
            "=================================================================\n",
            " flatten_2 (Flatten)         (None, 784)               0         \n",
            "                                                                 \n",
            " dense_6 (Dense)             (None, 50)                39250     \n",
            "                                                                 \n",
            " batch_normalization (Batch  (None, 50)                200       \n",
            " Normalization)                                                  \n",
            "                                                                 \n",
            " dense_7 (Dense)             (None, 50)                2550      \n",
            "                                                                 \n",
            " batch_normalization_1 (Bat  (None, 50)                200       \n",
            " chNormalization)                                                \n",
            "                                                                 \n",
            " dense_8 (Dense)             (None, 10)                510       \n",
            "                                                                 \n",
            " batch_normalization_2 (Bat  (None, 10)                40        \n",
            " chNormalization)                                                \n",
            "                                                                 \n",
            "=================================================================\n",
            "Total params: 42750 (166.99 KB)\n",
            "Trainable params: 42530 (166.13 KB)\n",
            "Non-trainable params: 220 (880.00 Byte)\n",
            "_________________________________________________________________\n"
          ]
        }
      ]
    },
    {
      "cell_type": "code",
      "source": [
        "model_BNorm.compile(loss=\"sparse_categorical_crossentropy\",\n",
        "              optimizer=\"sgd\",\n",
        "              metrics=[\"accuracy\"])"
      ],
      "metadata": {
        "id": "jFsi2sfs-vnp"
      },
      "execution_count": null,
      "outputs": []
    },
    {
      "cell_type": "code",
      "source": [
        "##fit model\n",
        "history_BNorm = model_BNorm.fit(X_train, y_train, epochs=50, validation_split=0.15)"
      ],
      "metadata": {
        "colab": {
          "base_uri": "https://localhost:8080/"
        },
        "id": "Ho_ealWK-2GE",
        "outputId": "69b373cd-c538-47f1-f514-fae287877d92"
      },
      "execution_count": null,
      "outputs": [
        {
          "output_type": "stream",
          "name": "stdout",
          "text": [
            "Epoch 1/50\n",
            "1594/1594 [==============================] - 7s 4ms/step - loss: 2.2917 - accuracy: 0.4527 - val_loss: 2.2044 - val_accuracy: 0.0711\n",
            "Epoch 2/50\n",
            "1594/1594 [==============================] - 6s 4ms/step - loss: 2.2498 - accuracy: 0.0953 - val_loss: 2.2093 - val_accuracy: 0.1097\n",
            "Epoch 3/50\n",
            "1594/1594 [==============================] - 5s 3ms/step - loss: 2.2357 - accuracy: 0.1009 - val_loss: 2.2215 - val_accuracy: 0.1068\n",
            "Epoch 4/50\n",
            "1594/1594 [==============================] - 6s 4ms/step - loss: 2.2250 - accuracy: 0.0984 - val_loss: 2.2585 - val_accuracy: 0.1066\n",
            "Epoch 5/50\n",
            "1594/1594 [==============================] - 5s 3ms/step - loss: 2.2215 - accuracy: 0.0986 - val_loss: 2.2025 - val_accuracy: 0.1066\n",
            "Epoch 6/50\n",
            "1594/1594 [==============================] - 5s 3ms/step - loss: 2.2010 - accuracy: 0.0986 - val_loss: 2.1901 - val_accuracy: 0.1068\n",
            "Epoch 7/50\n",
            "1594/1594 [==============================] - 6s 4ms/step - loss: 2.1635 - accuracy: 0.1054 - val_loss: 2.3455 - val_accuracy: 0.1120\n",
            "Epoch 8/50\n",
            "1594/1594 [==============================] - 5s 3ms/step - loss: 2.1213 - accuracy: 0.1389 - val_loss: 2.1034 - val_accuracy: 0.1694\n",
            "Epoch 9/50\n",
            "1594/1594 [==============================] - 7s 4ms/step - loss: 2.1862 - accuracy: 0.1197 - val_loss: 2.2511 - val_accuracy: 0.1076\n",
            "Epoch 10/50\n",
            "1594/1594 [==============================] - 5s 3ms/step - loss: 2.1194 - accuracy: 0.0988 - val_loss: 1.9311 - val_accuracy: 0.1070\n",
            "Epoch 11/50\n",
            "1594/1594 [==============================] - 6s 4ms/step - loss: 1.9698 - accuracy: 0.0988 - val_loss: 1.9987 - val_accuracy: 0.1068\n",
            "Epoch 12/50\n",
            "1594/1594 [==============================] - 7s 4ms/step - loss: 1.9650 - accuracy: 0.0988 - val_loss: 1.9589 - val_accuracy: 0.1068\n",
            "Epoch 13/50\n",
            "1594/1594 [==============================] - 5s 3ms/step - loss: 2.0109 - accuracy: 0.0988 - val_loss: 2.0380 - val_accuracy: 0.1068\n",
            "Epoch 14/50\n",
            "1594/1594 [==============================] - 6s 4ms/step - loss: 1.9822 - accuracy: 0.0988 - val_loss: 1.9712 - val_accuracy: 0.1068\n",
            "Epoch 15/50\n",
            "1594/1594 [==============================] - 5s 3ms/step - loss: 2.1090 - accuracy: 0.0988 - val_loss: 2.2957 - val_accuracy: 0.1068\n",
            "Epoch 16/50\n",
            "1594/1594 [==============================] - 7s 4ms/step - loss: 2.2902 - accuracy: 0.0988 - val_loss: 2.2851 - val_accuracy: 0.1068\n",
            "Epoch 17/50\n",
            "1594/1594 [==============================] - 7s 4ms/step - loss: 2.2816 - accuracy: 0.0988 - val_loss: 2.2753 - val_accuracy: 0.1069\n",
            "Epoch 18/50\n",
            "1594/1594 [==============================] - 6s 4ms/step - loss: 2.2709 - accuracy: 0.0988 - val_loss: 2.2631 - val_accuracy: 0.1069\n",
            "Epoch 19/50\n",
            "1594/1594 [==============================] - 5s 3ms/step - loss: 2.2611 - accuracy: 0.0988 - val_loss: 2.2646 - val_accuracy: 0.1069\n",
            "Epoch 20/50\n",
            "1594/1594 [==============================] - 5s 3ms/step - loss: 2.2316 - accuracy: 0.0988 - val_loss: 2.2873 - val_accuracy: 0.1069\n",
            "Epoch 21/50\n",
            "1594/1594 [==============================] - 6s 4ms/step - loss: 2.2579 - accuracy: 0.0988 - val_loss: 2.3073 - val_accuracy: 0.1069\n",
            "Epoch 22/50\n",
            "1594/1594 [==============================] - 5s 3ms/step - loss: 2.2587 - accuracy: 0.0988 - val_loss: 2.3163 - val_accuracy: 0.1069\n",
            "Epoch 23/50\n",
            "1594/1594 [==============================] - 6s 4ms/step - loss: 2.2517 - accuracy: 0.0988 - val_loss: 2.2589 - val_accuracy: 0.1069\n",
            "Epoch 24/50\n",
            "1594/1594 [==============================] - 5s 3ms/step - loss: 2.2548 - accuracy: 0.0988 - val_loss: 2.2689 - val_accuracy: 0.1069\n",
            "Epoch 25/50\n",
            "1594/1594 [==============================] - 5s 3ms/step - loss: 2.2533 - accuracy: 0.0988 - val_loss: 2.2874 - val_accuracy: 0.1069\n",
            "Epoch 26/50\n",
            "1594/1594 [==============================] - 6s 4ms/step - loss: 2.2523 - accuracy: 0.0988 - val_loss: 2.2642 - val_accuracy: 0.1069\n",
            "Epoch 27/50\n",
            "1594/1594 [==============================] - 5s 3ms/step - loss: 2.2493 - accuracy: 0.0988 - val_loss: 2.2837 - val_accuracy: 0.1069\n",
            "Epoch 28/50\n",
            "1594/1594 [==============================] - 9s 6ms/step - loss: 2.2508 - accuracy: 0.0988 - val_loss: 2.2509 - val_accuracy: 0.1069\n",
            "Epoch 29/50\n",
            "1594/1594 [==============================] - 6s 4ms/step - loss: 2.2532 - accuracy: 0.0988 - val_loss: 2.2504 - val_accuracy: 0.1069\n",
            "Epoch 30/50\n",
            "1594/1594 [==============================] - 6s 4ms/step - loss: 2.2514 - accuracy: 0.0988 - val_loss: 2.2458 - val_accuracy: 0.1069\n",
            "Epoch 31/50\n",
            "1594/1594 [==============================] - 5s 3ms/step - loss: 2.2997 - accuracy: 0.0988 - val_loss: 2.3025 - val_accuracy: 0.1069\n",
            "Epoch 32/50\n",
            "1594/1594 [==============================] - 6s 4ms/step - loss: 2.3027 - accuracy: 0.0988 - val_loss: 2.3026 - val_accuracy: 0.1069\n",
            "Epoch 33/50\n",
            "1594/1594 [==============================] - 6s 4ms/step - loss: 2.3026 - accuracy: 0.0988 - val_loss: 2.3025 - val_accuracy: 0.1069\n",
            "Epoch 34/50\n",
            "1594/1594 [==============================] - 5s 3ms/step - loss: 2.3026 - accuracy: 0.0988 - val_loss: 2.3025 - val_accuracy: 0.1069\n",
            "Epoch 35/50\n",
            "1594/1594 [==============================] - 6s 4ms/step - loss: 2.3026 - accuracy: 0.0988 - val_loss: 2.3043 - val_accuracy: 0.1069\n",
            "Epoch 36/50\n",
            "1594/1594 [==============================] - 5s 3ms/step - loss: 2.3026 - accuracy: 0.0988 - val_loss: 2.3027 - val_accuracy: 0.1069\n",
            "Epoch 37/50\n",
            "1594/1594 [==============================] - 6s 4ms/step - loss: 2.3026 - accuracy: 0.0988 - val_loss: 2.3096 - val_accuracy: 0.1069\n",
            "Epoch 38/50\n",
            "1594/1594 [==============================] - 5s 3ms/step - loss: 2.3026 - accuracy: 0.0988 - val_loss: 2.3029 - val_accuracy: 0.1069\n",
            "Epoch 39/50\n",
            "1594/1594 [==============================] - 5s 3ms/step - loss: 2.3026 - accuracy: 0.0988 - val_loss: 2.3027 - val_accuracy: 0.1069\n",
            "Epoch 40/50\n",
            "1594/1594 [==============================] - 7s 4ms/step - loss: 2.3025 - accuracy: 0.0988 - val_loss: 2.3079 - val_accuracy: 0.1069\n",
            "Epoch 41/50\n",
            "1594/1594 [==============================] - 5s 3ms/step - loss: 2.3025 - accuracy: 0.0988 - val_loss: 2.3030 - val_accuracy: 0.1069\n",
            "Epoch 42/50\n",
            "1594/1594 [==============================] - 6s 4ms/step - loss: 2.3025 - accuracy: 0.0988 - val_loss: 2.3134 - val_accuracy: 0.1069\n",
            "Epoch 43/50\n",
            "1594/1594 [==============================] - 5s 3ms/step - loss: 2.3025 - accuracy: 0.0988 - val_loss: 2.3169 - val_accuracy: 0.1069\n",
            "Epoch 44/50\n",
            "1594/1594 [==============================] - 6s 4ms/step - loss: 2.3025 - accuracy: 0.0988 - val_loss: 2.3203 - val_accuracy: 0.1069\n",
            "Epoch 45/50\n",
            "1594/1594 [==============================] - 6s 4ms/step - loss: 2.3025 - accuracy: 0.0988 - val_loss: 2.3187 - val_accuracy: 0.1069\n",
            "Epoch 46/50\n",
            "1594/1594 [==============================] - 5s 3ms/step - loss: 2.3025 - accuracy: 0.0988 - val_loss: 2.3346 - val_accuracy: 0.1069\n",
            "Epoch 47/50\n",
            "1594/1594 [==============================] - 6s 4ms/step - loss: 2.3025 - accuracy: 0.0988 - val_loss: 2.3133 - val_accuracy: 0.1069\n",
            "Epoch 48/50\n",
            "1594/1594 [==============================] - 5s 3ms/step - loss: 2.3025 - accuracy: 0.0988 - val_loss: 2.3346 - val_accuracy: 0.1069\n",
            "Epoch 49/50\n",
            "1594/1594 [==============================] - 7s 4ms/step - loss: 2.3025 - accuracy: 0.0988 - val_loss: 2.3293 - val_accuracy: 0.1069\n",
            "Epoch 50/50\n",
            "1594/1594 [==============================] - 5s 3ms/step - loss: 2.3025 - accuracy: 0.0988 - val_loss: 2.3441 - val_accuracy: 0.1069\n"
          ]
        }
      ]
    },
    {
      "cell_type": "code",
      "source": [
        "##plot\n",
        "fig, ax = plt.subplots(figsize=(12, 5))\n",
        "ax.plot(history_BNorm.history[\"loss\"] , label=\"train loss\")\n",
        "ax.plot(history_BNorm.history[\"accuracy\"], label=\"train accuracy\")\n",
        "ax.plot(history_BNorm.history[\"val_loss\"], label=\"validation loss\")\n",
        "ax.plot(history_BNorm.history[\"val_accuracy\"], label=\"validation accuracy\")"
      ],
      "metadata": {
        "colab": {
          "base_uri": "https://localhost:8080/",
          "height": 463
        },
        "id": "77ehvbtsAPPc",
        "outputId": "74eeca63-2212-495f-8f63-7b4ceb64e43c"
      },
      "execution_count": null,
      "outputs": [
        {
          "output_type": "execute_result",
          "data": {
            "text/plain": [
              "[<matplotlib.lines.Line2D at 0x7d56989f1450>]"
            ]
          },
          "metadata": {},
          "execution_count": 22
        },
        {
          "output_type": "display_data",
          "data": {
            "text/plain": [
              "<Figure size 1200x500 with 1 Axes>"
            ],
            "image/png": "[encoded data removed]"
          },
          "metadata": {}
        }
      ]
    }
  ]
}