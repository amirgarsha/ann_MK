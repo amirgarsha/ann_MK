{
  "nbformat": 4,
  "nbformat_minor": 0,
  "metadata": {
    "colab": {
      "provenance": [],
      "collapsed_sections": [
        "pM4LCrRLS_Sr",
        "QqetMuYnTzLM",
        "EhFBVTLpS5bG",
        "SOx3cMF28H5T"
      ],
      "authorship_tag": "ABX9TyOpYvs3lVaiZJmQtqZWkCYr",
      "include_colab_link": true
    },
    "kernelspec": {
      "name": "python3",
      "display_name": "Python 3"
    },
    "language_info": {
      "name": "python"
    }
  },
  "cells": [
    {
      "cell_type": "markdown",
      "metadata": {
        "id": "view-in-github",
        "colab_type": "text"
      },
      "source": [
        "<a href=\"https://colab.research.google.com/github/amirgarsha/ann_MK/blob/main/classification_challanges.ipynb\" target=\"_parent\"><img src=\"https://colab.research.google.com/assets/colab-badge.svg\" alt=\"Open In Colab\"/></a>"
      ]
    },
    {
      "cell_type": "markdown",
      "source": [
        "## import libraries"
      ],
      "metadata": {
        "id": "pM4LCrRLS_Sr"
      }
    },
    {
      "cell_type": "code",
      "execution_count": null,
      "metadata": {
        "id": "L2xkBmp_SMJ1"
      },
      "outputs": [],
      "source": [
        "import tensorflow as tf\n",
        "from tensorflow import keras\n",
        "from sklearn.model_selection import train_test_split\n",
        "from sklearn.preprocessing import StandardScaler\n",
        "import matplotlib.pyplot as plt\n",
        "import numpy as np"
      ]
    },
    {
      "cell_type": "markdown",
      "source": [
        "## Import Dataset"
      ],
      "metadata": {
        "id": "QqetMuYnTzLM"
      }
    },
    {
      "cell_type": "code",
      "source": [
        "fmnist_dataset = keras.datasets.fashion_mnist"
      ],
      "metadata": {
        "id": "v3GmfpWFTxQ6"
      },
      "execution_count": null,
      "outputs": []
    },
    {
      "cell_type": "code",
      "source": [
        "(X_train, y_train), (X_test, y_test) = fmnist_dataset.load_data()"
      ],
      "metadata": {
        "id": "6ytt9p6PUFB3",
        "colab": {
          "base_uri": "https://localhost:8080/"
        },
        "outputId": "23c5c829-5347-4351-fee2-5821b4e24db1"
      },
      "execution_count": null,
      "outputs": [
        {
          "output_type": "stream",
          "name": "stdout",
          "text": [
            "Downloading data from https://storage.googleapis.com/tensorflow/tf-keras-datasets/train-labels-idx1-ubyte.gz\n",
            "29515/29515 [==============================] - 0s 0us/step\n",
            "Downloading data from https://storage.googleapis.com/tensorflow/tf-keras-datasets/train-images-idx3-ubyte.gz\n",
            "26421880/26421880 [==============================] - 0s 0us/step\n",
            "Downloading data from https://storage.googleapis.com/tensorflow/tf-keras-datasets/t10k-labels-idx1-ubyte.gz\n",
            "5148/5148 [==============================] - 0s 0us/step\n",
            "Downloading data from https://storage.googleapis.com/tensorflow/tf-keras-datasets/t10k-images-idx3-ubyte.gz\n",
            "4422102/4422102 [==============================] - 0s 0us/step\n"
          ]
        }
      ]
    },
    {
      "cell_type": "code",
      "source": [
        "print( X_train.shape, y_train.shape, X_test.shape, y_test.shape)"
      ],
      "metadata": {
        "colab": {
          "base_uri": "https://localhost:8080/"
        },
        "id": "AJIHZ7SUUhKb",
        "outputId": "df975f84-2934-4fb3-b1ca-807a837a2c8f"
      },
      "execution_count": null,
      "outputs": [
        {
          "output_type": "stream",
          "name": "stdout",
          "text": [
            "(60000, 28, 28) (60000,) (10000, 28, 28) (10000,)\n"
          ]
        }
      ]
    },
    {
      "cell_type": "code",
      "source": [
        "X_train, X_test = X_train/255.0, X_test/255.0"
      ],
      "metadata": {
        "id": "Fzkr4mN5d-_J"
      },
      "execution_count": null,
      "outputs": []
    },
    {
      "cell_type": "markdown",
      "source": [
        "## Define Model with different initialization"
      ],
      "metadata": {
        "id": "EhFBVTLpS5bG"
      }
    },
    {
      "cell_type": "code",
      "source": [
        "## model with He initialization\n",
        "initializer_he = keras.initializers.HeNormal()\n",
        "\n",
        "model_he_init = keras.models.Sequential([\n",
        "    keras.layers.Flatten(input_shape=[28, 28]),\n",
        "    keras.layers.Dense(50, activation=\"relu\", kernel_initializer= initializer_he),\n",
        "    keras.layers.Dense(50, activation=\"relu\"),\n",
        "    keras.layers.Dense(10, activation=\"softmax\")\n",
        "]\n",
        "\n",
        ")"
      ],
      "metadata": {
        "id": "o0ALBkMYS-cN"
      },
      "execution_count": null,
      "outputs": []
    },
    {
      "cell_type": "code",
      "source": [
        "model_he_init.summary()"
      ],
      "metadata": {
        "colab": {
          "base_uri": "https://localhost:8080/"
        },
        "id": "k4NnsmIXUoUR",
        "outputId": "665fc9c7-0639-496d-d99d-622d1dc5fddc"
      },
      "execution_count": null,
      "outputs": [
        {
          "output_type": "stream",
          "name": "stdout",
          "text": [
            "Model: \"sequential\"\n",
            "_________________________________________________________________\n",
            " Layer (type)                Output Shape              Param #   \n",
            "=================================================================\n",
            " flatten (Flatten)           (None, 784)               0         \n",
            "                                                                 \n",
            " dense (Dense)               (None, 50)                39250     \n",
            "                                                                 \n",
            " dense_1 (Dense)             (None, 50)                2550      \n",
            "                                                                 \n",
            " dense_2 (Dense)             (None, 10)                510       \n",
            "                                                                 \n",
            "=================================================================\n",
            "Total params: 42310 (165.27 KB)\n",
            "Trainable params: 42310 (165.27 KB)\n",
            "Non-trainable params: 0 (0.00 Byte)\n",
            "_________________________________________________________________\n"
          ]
        }
      ]
    },
    {
      "cell_type": "code",
      "source": [
        "weight, bias = model_he_init.layers[1].get_weights()\n",
        "print(weight)\n",
        "print(bias)"
      ],
      "metadata": {
        "colab": {
          "base_uri": "https://localhost:8080/"
        },
        "id": "y0hbB4jlZZxA",
        "outputId": "468acc30-e569-42c4-a290-b85f97ab18fe"
      },
      "execution_count": null,
      "outputs": [
        {
          "output_type": "stream",
          "name": "stdout",
          "text": [
            "[[-0.01615884  0.03787501  0.02938883 ... -0.05254702 -0.04057484\n",
            "   0.00495733]\n",
            " [ 0.06681054 -0.00155599 -0.07423579 ... -0.04049765 -0.01265809\n",
            "  -0.01257188]\n",
            " [ 0.05056994 -0.0110037  -0.0707923  ... -0.11371574 -0.05882423\n",
            "  -0.11279096]\n",
            " ...\n",
            " [ 0.03732279 -0.00853963  0.01334038 ... -0.01690961 -0.00185726\n",
            "   0.03182492]\n",
            " [-0.00824714 -0.04479632 -0.04008211 ...  0.08661735  0.01977062\n",
            "   0.01993682]\n",
            " [ 0.06905155  0.03796542  0.02250274 ... -0.02305327  0.02880623\n",
            "   0.00612667]]\n",
            "[0. 0. 0. 0. 0. 0. 0. 0. 0. 0. 0. 0. 0. 0. 0. 0. 0. 0. 0. 0. 0. 0. 0. 0.\n",
            " 0. 0. 0. 0. 0. 0. 0. 0. 0. 0. 0. 0. 0. 0. 0. 0. 0. 0. 0. 0. 0. 0. 0. 0.\n",
            " 0. 0.]\n"
          ]
        }
      ]
    },
    {
      "cell_type": "code",
      "source": [
        "model_he_init.compile(loss=\"sparse_categorical_crossentropy\",\n",
        "              optimizer=\"sgd\",\n",
        "              metrics=[\"accuracy\"])"
      ],
      "metadata": {
        "id": "GkluWiyVZ7dw"
      },
      "execution_count": null,
      "outputs": []
    },
    {
      "cell_type": "code",
      "source": [
        "##fit model\n",
        "history_he_init = model_he_init.fit(X_train, y_train, epochs=50, validation_split=0.15)"
      ],
      "metadata": {
        "colab": {
          "base_uri": "https://localhost:8080/"
        },
        "id": "5LcyssHdaHNt",
        "outputId": "a49e6f20-70e8-4ce2-9533-264937cc20ae"
      },
      "execution_count": null,
      "outputs": [
        {
          "output_type": "stream",
          "name": "stdout",
          "text": [
            "Epoch 1/50\n",
            "1594/1594 [==============================] - 6s 3ms/step - loss: 0.8638 - accuracy: 0.7124 - val_loss: 0.5859 - val_accuracy: 0.7942\n",
            "Epoch 2/50\n",
            "1594/1594 [==============================] - 4s 3ms/step - loss: 0.5371 - accuracy: 0.8141 - val_loss: 0.4983 - val_accuracy: 0.8250\n",
            "Epoch 3/50\n",
            "1594/1594 [==============================] - 3s 2ms/step - loss: 0.4836 - accuracy: 0.8311 - val_loss: 0.5134 - val_accuracy: 0.8161\n",
            "Epoch 4/50\n",
            "1594/1594 [==============================] - 3s 2ms/step - loss: 0.4540 - accuracy: 0.8417 - val_loss: 0.4477 - val_accuracy: 0.8424\n",
            "Epoch 5/50\n",
            "1594/1594 [==============================] - 4s 3ms/step - loss: 0.4315 - accuracy: 0.8491 - val_loss: 0.4683 - val_accuracy: 0.8303\n",
            "Epoch 6/50\n",
            "1594/1594 [==============================] - 3s 2ms/step - loss: 0.4165 - accuracy: 0.8537 - val_loss: 0.4289 - val_accuracy: 0.8468\n",
            "Epoch 7/50\n",
            "1594/1594 [==============================] - 3s 2ms/step - loss: 0.4016 - accuracy: 0.8599 - val_loss: 0.4074 - val_accuracy: 0.8563\n",
            "Epoch 8/50\n",
            "1594/1594 [==============================] - 3s 2ms/step - loss: 0.3902 - accuracy: 0.8630 - val_loss: 0.4242 - val_accuracy: 0.8467\n",
            "Epoch 9/50\n",
            "1594/1594 [==============================] - 5s 3ms/step - loss: 0.3785 - accuracy: 0.8678 - val_loss: 0.3965 - val_accuracy: 0.8614\n",
            "Epoch 10/50\n",
            "1594/1594 [==============================] - 3s 2ms/step - loss: 0.3703 - accuracy: 0.8699 - val_loss: 0.3994 - val_accuracy: 0.8588\n",
            "Epoch 11/50\n",
            "1594/1594 [==============================] - 3s 2ms/step - loss: 0.3618 - accuracy: 0.8729 - val_loss: 0.4207 - val_accuracy: 0.8538\n",
            "Epoch 12/50\n",
            "1594/1594 [==============================] - 4s 2ms/step - loss: 0.3554 - accuracy: 0.8748 - val_loss: 0.3778 - val_accuracy: 0.8682\n",
            "Epoch 13/50\n",
            "1594/1594 [==============================] - 4s 2ms/step - loss: 0.3478 - accuracy: 0.8775 - val_loss: 0.3775 - val_accuracy: 0.8669\n",
            "Epoch 14/50\n",
            "1594/1594 [==============================] - 4s 2ms/step - loss: 0.3416 - accuracy: 0.8793 - val_loss: 0.3745 - val_accuracy: 0.8688\n",
            "Epoch 15/50\n",
            "1594/1594 [==============================] - 3s 2ms/step - loss: 0.3366 - accuracy: 0.8806 - val_loss: 0.3713 - val_accuracy: 0.8713\n",
            "Epoch 16/50\n",
            "1594/1594 [==============================] - 4s 3ms/step - loss: 0.3306 - accuracy: 0.8817 - val_loss: 0.3638 - val_accuracy: 0.8721\n",
            "Epoch 17/50\n",
            "1594/1594 [==============================] - 4s 2ms/step - loss: 0.3259 - accuracy: 0.8852 - val_loss: 0.3553 - val_accuracy: 0.8760\n",
            "Epoch 18/50\n",
            "1594/1594 [==============================] - 3s 2ms/step - loss: 0.3208 - accuracy: 0.8851 - val_loss: 0.3793 - val_accuracy: 0.8660\n",
            "Epoch 19/50\n",
            "1594/1594 [==============================] - 4s 2ms/step - loss: 0.3168 - accuracy: 0.8866 - val_loss: 0.3668 - val_accuracy: 0.8724\n",
            "Epoch 20/50\n",
            "1594/1594 [==============================] - 5s 3ms/step - loss: 0.3116 - accuracy: 0.8879 - val_loss: 0.3569 - val_accuracy: 0.8729\n",
            "Epoch 21/50\n",
            "1594/1594 [==============================] - 3s 2ms/step - loss: 0.3084 - accuracy: 0.8892 - val_loss: 0.3606 - val_accuracy: 0.8737\n",
            "Epoch 22/50\n",
            "1594/1594 [==============================] - 3s 2ms/step - loss: 0.3036 - accuracy: 0.8917 - val_loss: 0.3627 - val_accuracy: 0.8721\n",
            "Epoch 23/50\n",
            "1594/1594 [==============================] - 4s 2ms/step - loss: 0.3002 - accuracy: 0.8922 - val_loss: 0.3519 - val_accuracy: 0.8777\n",
            "Epoch 24/50\n",
            "1594/1594 [==============================] - 4s 3ms/step - loss: 0.2971 - accuracy: 0.8933 - val_loss: 0.3473 - val_accuracy: 0.8773\n",
            "Epoch 25/50\n",
            "1594/1594 [==============================] - 3s 2ms/step - loss: 0.2929 - accuracy: 0.8945 - val_loss: 0.3569 - val_accuracy: 0.8743\n",
            "Epoch 26/50\n",
            "1594/1594 [==============================] - 3s 2ms/step - loss: 0.2899 - accuracy: 0.8954 - val_loss: 0.3506 - val_accuracy: 0.8752\n",
            "Epoch 27/50\n",
            "1594/1594 [==============================] - 4s 3ms/step - loss: 0.2860 - accuracy: 0.8969 - val_loss: 0.3575 - val_accuracy: 0.8758\n",
            "Epoch 28/50\n",
            "1594/1594 [==============================] - 4s 2ms/step - loss: 0.2832 - accuracy: 0.8979 - val_loss: 0.3535 - val_accuracy: 0.8770\n",
            "Epoch 29/50\n",
            "1594/1594 [==============================] - 3s 2ms/step - loss: 0.2807 - accuracy: 0.8982 - val_loss: 0.3549 - val_accuracy: 0.8737\n",
            "Epoch 30/50\n",
            "1594/1594 [==============================] - 3s 2ms/step - loss: 0.2775 - accuracy: 0.8999 - val_loss: 0.3525 - val_accuracy: 0.8773\n",
            "Epoch 31/50\n",
            "1594/1594 [==============================] - 4s 3ms/step - loss: 0.2753 - accuracy: 0.9009 - val_loss: 0.3566 - val_accuracy: 0.8739\n",
            "Epoch 32/50\n",
            "1594/1594 [==============================] - 4s 2ms/step - loss: 0.2720 - accuracy: 0.9020 - val_loss: 0.3408 - val_accuracy: 0.8820\n",
            "Epoch 33/50\n",
            "1594/1594 [==============================] - 3s 2ms/step - loss: 0.2689 - accuracy: 0.9021 - val_loss: 0.3485 - val_accuracy: 0.8756\n",
            "Epoch 34/50\n",
            "1594/1594 [==============================] - 4s 2ms/step - loss: 0.2679 - accuracy: 0.9026 - val_loss: 0.3461 - val_accuracy: 0.8810\n",
            "Epoch 35/50\n",
            "1594/1594 [==============================] - 4s 3ms/step - loss: 0.2653 - accuracy: 0.9030 - val_loss: 0.3422 - val_accuracy: 0.8812\n",
            "Epoch 36/50\n",
            "1594/1594 [==============================] - 4s 2ms/step - loss: 0.2620 - accuracy: 0.9050 - val_loss: 0.3374 - val_accuracy: 0.8829\n",
            "Epoch 37/50\n",
            "1594/1594 [==============================] - 4s 2ms/step - loss: 0.2597 - accuracy: 0.9067 - val_loss: 0.3442 - val_accuracy: 0.8822\n",
            "Epoch 38/50\n",
            "1594/1594 [==============================] - 4s 3ms/step - loss: 0.2568 - accuracy: 0.9081 - val_loss: 0.3625 - val_accuracy: 0.8742\n",
            "Epoch 39/50\n",
            "1594/1594 [==============================] - 4s 2ms/step - loss: 0.2557 - accuracy: 0.9072 - val_loss: 0.3412 - val_accuracy: 0.8827\n",
            "Epoch 40/50\n",
            "1594/1594 [==============================] - 3s 2ms/step - loss: 0.2530 - accuracy: 0.9092 - val_loss: 0.3454 - val_accuracy: 0.8806\n",
            "Epoch 41/50\n",
            "1594/1594 [==============================] - 4s 2ms/step - loss: 0.2499 - accuracy: 0.9099 - val_loss: 0.3330 - val_accuracy: 0.8830\n",
            "Epoch 42/50\n",
            "1594/1594 [==============================] - 5s 3ms/step - loss: 0.2483 - accuracy: 0.9098 - val_loss: 0.3452 - val_accuracy: 0.8828\n",
            "Epoch 43/50\n",
            "1594/1594 [==============================] - 3s 2ms/step - loss: 0.2464 - accuracy: 0.9102 - val_loss: 0.3357 - val_accuracy: 0.8850\n",
            "Epoch 44/50\n",
            "1594/1594 [==============================] - 3s 2ms/step - loss: 0.2434 - accuracy: 0.9107 - val_loss: 0.3324 - val_accuracy: 0.8857\n",
            "Epoch 45/50\n",
            "1594/1594 [==============================] - 4s 2ms/step - loss: 0.2427 - accuracy: 0.9123 - val_loss: 0.3329 - val_accuracy: 0.8862\n",
            "Epoch 46/50\n",
            "1594/1594 [==============================] - 4s 3ms/step - loss: 0.2409 - accuracy: 0.9135 - val_loss: 0.3615 - val_accuracy: 0.8772\n",
            "Epoch 47/50\n",
            "1594/1594 [==============================] - 3s 2ms/step - loss: 0.2391 - accuracy: 0.9139 - val_loss: 0.3535 - val_accuracy: 0.8809\n",
            "Epoch 48/50\n",
            "1594/1594 [==============================] - 3s 2ms/step - loss: 0.2364 - accuracy: 0.9141 - val_loss: 0.3659 - val_accuracy: 0.8753\n",
            "Epoch 49/50\n",
            "1594/1594 [==============================] - 4s 2ms/step - loss: 0.2344 - accuracy: 0.9144 - val_loss: 0.3368 - val_accuracy: 0.8829\n",
            "Epoch 50/50\n",
            "1594/1594 [==============================] - 4s 3ms/step - loss: 0.2344 - accuracy: 0.9160 - val_loss: 0.3347 - val_accuracy: 0.8866\n"
          ]
        }
      ]
    },
    {
      "cell_type": "code",
      "source": [
        "##plot\n",
        "fig, ax = plt.subplots(figsize=(12, 5))\n",
        "ax.plot(history_he_init.history[\"loss\"] , label=\"train loss\")\n",
        "ax.plot(history_he_init.history[\"accuracy\"], label=\"train accuracy\")\n",
        "ax.plot(history_he_init.history[\"val_loss\"], label=\"validation loss\")\n",
        "ax.plot(history_he_init.history[\"val_accuracy\"], label=\"validation accuracy\")"
      ],
      "metadata": {
        "colab": {
          "base_uri": "https://localhost:8080/",
          "height": 463
        },
        "id": "7e66juThagDA",
        "outputId": "9ed3bfab-0206-40bc-9f0f-7c3c530bab90"
      },
      "execution_count": null,
      "outputs": [
        {
          "output_type": "execute_result",
          "data": {
            "text/plain": [
              "[<matplotlib.lines.Line2D at 0x7e5cc4119de0>]"
            ]
          },
          "metadata": {},
          "execution_count": 11
        },
        {
          "output_type": "display_data",
          "data": {
            "text/plain": [
              "<Figure size 1200x500 with 1 Axes>"
            ],
            "image/png": "[encoded data removed]"
          },
          "metadata": {}
        }
      ]
    },
    {
      "cell_type": "code",
      "source": [
        "## model with Lecunn initialization\n",
        "initializer_lecun = keras.initializers.LecunNormal()\n",
        "\n",
        "model_lecun_init = keras.models.Sequential([\n",
        "    keras.layers.Flatten(input_shape=[28, 28]),\n",
        "    keras.layers.Dense(50, activation=\"selu\", kernel_initializer= initializer_lecun),\n",
        "    keras.layers.Dense(50, activation=\"selu\"),\n",
        "    keras.layers.Dense(10, activation=\"softmax\")\n",
        "]\n",
        "\n",
        ")"
      ],
      "metadata": {
        "id": "Wf4p9pHDVAoO"
      },
      "execution_count": null,
      "outputs": []
    },
    {
      "cell_type": "code",
      "source": [
        "model_lecun_init.summary()"
      ],
      "metadata": {
        "id": "QzSLkvRLVXk4",
        "colab": {
          "base_uri": "https://localhost:8080/"
        },
        "outputId": "57086bc0-777b-4140-b232-8a3704f92e3f"
      },
      "execution_count": null,
      "outputs": [
        {
          "output_type": "stream",
          "name": "stdout",
          "text": [
            "Model: \"sequential_1\"\n",
            "_________________________________________________________________\n",
            " Layer (type)                Output Shape              Param #   \n",
            "=================================================================\n",
            " flatten_1 (Flatten)         (None, 784)               0         \n",
            "                                                                 \n",
            " dense_3 (Dense)             (None, 50)                39250     \n",
            "                                                                 \n",
            " dense_4 (Dense)             (None, 50)                2550      \n",
            "                                                                 \n",
            " dense_5 (Dense)             (None, 10)                510       \n",
            "                                                                 \n",
            "=================================================================\n",
            "Total params: 42310 (165.27 KB)\n",
            "Trainable params: 42310 (165.27 KB)\n",
            "Non-trainable params: 0 (0.00 Byte)\n",
            "_________________________________________________________________\n"
          ]
        }
      ]
    },
    {
      "cell_type": "code",
      "source": [
        "weight_lecun, bias_lecun = model_lecun_init.layers[1].get_weights()\n",
        "print(weight_lecun)\n",
        "print(bias_lecun)"
      ],
      "metadata": {
        "id": "iflYJ03YZmZT",
        "colab": {
          "base_uri": "https://localhost:8080/"
        },
        "outputId": "d2df4188-6c06-4637-dabd-96d19e6aaf59"
      },
      "execution_count": null,
      "outputs": [
        {
          "output_type": "stream",
          "name": "stdout",
          "text": [
            "[[ 0.03253734  0.01455651 -0.03422309 ... -0.04298353 -0.00774314\n",
            "  -0.02234769]\n",
            " [-0.04811908 -0.05928034 -0.00721819 ...  0.00394125  0.00525736\n",
            "   0.00063594]\n",
            " [-0.02072624  0.06217627  0.0384501  ...  0.00232318 -0.03055597\n",
            "   0.01451236]\n",
            " ...\n",
            " [-0.02924255 -0.0425963  -0.04018951 ...  0.04416874 -0.03987719\n",
            "   0.07311782]\n",
            " [-0.01811801  0.03598249  0.04824139 ... -0.01648858  0.0272912\n",
            "   0.06558967]\n",
            " [-0.0200616  -0.02432109 -0.02858416 ... -0.01290261 -0.00054885\n",
            "   0.01334733]]\n",
            "[0. 0. 0. 0. 0. 0. 0. 0. 0. 0. 0. 0. 0. 0. 0. 0. 0. 0. 0. 0. 0. 0. 0. 0.\n",
            " 0. 0. 0. 0. 0. 0. 0. 0. 0. 0. 0. 0. 0. 0. 0. 0. 0. 0. 0. 0. 0. 0. 0. 0.\n",
            " 0. 0.]\n"
          ]
        }
      ]
    },
    {
      "cell_type": "code",
      "source": [
        "model_lecun_init.compile(loss=\"sparse_categorical_crossentropy\",\n",
        "              optimizer=\"sgd\",\n",
        "              metrics=[\"accuracy\"])"
      ],
      "metadata": {
        "id": "JPKJtWOyZ_1P"
      },
      "execution_count": null,
      "outputs": []
    },
    {
      "cell_type": "code",
      "source": [
        "##fit model\n",
        "history_lecun = model_lecun_init.fit(X_train, y_train, epochs=50, validation_split=0.15)"
      ],
      "metadata": {
        "colab": {
          "base_uri": "https://localhost:8080/"
        },
        "id": "W_sjQdmSaOQ7",
        "outputId": "e2301d1b-c400-404d-b40e-637ed8b741bd"
      },
      "execution_count": null,
      "outputs": [
        {
          "output_type": "stream",
          "name": "stdout",
          "text": [
            "Epoch 1/50\n",
            "1594/1594 [==============================] - 5s 3ms/step - loss: 0.6304 - accuracy: 0.7845 - val_loss: 0.4928 - val_accuracy: 0.8217\n",
            "Epoch 2/50\n",
            "1594/1594 [==============================] - 4s 2ms/step - loss: 0.4656 - accuracy: 0.8354 - val_loss: 0.4480 - val_accuracy: 0.8373\n",
            "Epoch 3/50\n",
            "1594/1594 [==============================] - 4s 2ms/step - loss: 0.4348 - accuracy: 0.8458 - val_loss: 0.4363 - val_accuracy: 0.8443\n",
            "Epoch 4/50\n",
            "1594/1594 [==============================] - 4s 2ms/step - loss: 0.4158 - accuracy: 0.8517 - val_loss: 0.4184 - val_accuracy: 0.8530\n",
            "Epoch 5/50\n",
            "1594/1594 [==============================] - 4s 3ms/step - loss: 0.4004 - accuracy: 0.8582 - val_loss: 0.4075 - val_accuracy: 0.8536\n",
            "Epoch 6/50\n",
            "1594/1594 [==============================] - 3s 2ms/step - loss: 0.3891 - accuracy: 0.8612 - val_loss: 0.4083 - val_accuracy: 0.8496\n",
            "Epoch 7/50\n",
            "1594/1594 [==============================] - 4s 2ms/step - loss: 0.3789 - accuracy: 0.8648 - val_loss: 0.3864 - val_accuracy: 0.8630\n",
            "Epoch 8/50\n",
            "1594/1594 [==============================] - 4s 3ms/step - loss: 0.3713 - accuracy: 0.8673 - val_loss: 0.3870 - val_accuracy: 0.8612\n",
            "Epoch 9/50\n",
            "1594/1594 [==============================] - 4s 2ms/step - loss: 0.3636 - accuracy: 0.8707 - val_loss: 0.3805 - val_accuracy: 0.8664\n",
            "Epoch 10/50\n",
            "1594/1594 [==============================] - 4s 2ms/step - loss: 0.3562 - accuracy: 0.8732 - val_loss: 0.4044 - val_accuracy: 0.8498\n",
            "Epoch 11/50\n",
            "1594/1594 [==============================] - 3s 2ms/step - loss: 0.3492 - accuracy: 0.8754 - val_loss: 0.3760 - val_accuracy: 0.8634\n",
            "Epoch 12/50\n",
            "1594/1594 [==============================] - 4s 3ms/step - loss: 0.3434 - accuracy: 0.8778 - val_loss: 0.3772 - val_accuracy: 0.8626\n",
            "Epoch 13/50\n",
            "1594/1594 [==============================] - 3s 2ms/step - loss: 0.3380 - accuracy: 0.8785 - val_loss: 0.3622 - val_accuracy: 0.8690\n",
            "Epoch 14/50\n",
            "1594/1594 [==============================] - 4s 2ms/step - loss: 0.3325 - accuracy: 0.8815 - val_loss: 0.3602 - val_accuracy: 0.8718\n",
            "Epoch 15/50\n",
            "1594/1594 [==============================] - 4s 2ms/step - loss: 0.3268 - accuracy: 0.8827 - val_loss: 0.3543 - val_accuracy: 0.8743\n",
            "Epoch 16/50\n",
            "1594/1594 [==============================] - 4s 2ms/step - loss: 0.3234 - accuracy: 0.8834 - val_loss: 0.3571 - val_accuracy: 0.8710\n",
            "Epoch 17/50\n",
            "1594/1594 [==============================] - 4s 2ms/step - loss: 0.3176 - accuracy: 0.8865 - val_loss: 0.3535 - val_accuracy: 0.8736\n",
            "Epoch 18/50\n",
            "1594/1594 [==============================] - 3s 2ms/step - loss: 0.3134 - accuracy: 0.8859 - val_loss: 0.3673 - val_accuracy: 0.8676\n",
            "Epoch 19/50\n",
            "1594/1594 [==============================] - 4s 3ms/step - loss: 0.3093 - accuracy: 0.8881 - val_loss: 0.3373 - val_accuracy: 0.8794\n",
            "Epoch 20/50\n",
            "1594/1594 [==============================] - 4s 2ms/step - loss: 0.3053 - accuracy: 0.8892 - val_loss: 0.3451 - val_accuracy: 0.8760\n",
            "Epoch 21/50\n",
            "1594/1594 [==============================] - 3s 2ms/step - loss: 0.3009 - accuracy: 0.8916 - val_loss: 0.3420 - val_accuracy: 0.8774\n",
            "Epoch 22/50\n",
            "1594/1594 [==============================] - 4s 2ms/step - loss: 0.2970 - accuracy: 0.8925 - val_loss: 0.3427 - val_accuracy: 0.8756\n",
            "Epoch 23/50\n",
            "1594/1594 [==============================] - 5s 3ms/step - loss: 0.2935 - accuracy: 0.8942 - val_loss: 0.3424 - val_accuracy: 0.8772\n",
            "Epoch 24/50\n",
            "1594/1594 [==============================] - 4s 2ms/step - loss: 0.2909 - accuracy: 0.8948 - val_loss: 0.3342 - val_accuracy: 0.8800\n",
            "Epoch 25/50\n",
            "1594/1594 [==============================] - 3s 2ms/step - loss: 0.2867 - accuracy: 0.8953 - val_loss: 0.3491 - val_accuracy: 0.8760\n",
            "Epoch 26/50\n",
            "1594/1594 [==============================] - 4s 2ms/step - loss: 0.2836 - accuracy: 0.8966 - val_loss: 0.3418 - val_accuracy: 0.8770\n",
            "Epoch 27/50\n",
            "1594/1594 [==============================] - 4s 3ms/step - loss: 0.2803 - accuracy: 0.8978 - val_loss: 0.3398 - val_accuracy: 0.8767\n",
            "Epoch 28/50\n",
            "1594/1594 [==============================] - 4s 2ms/step - loss: 0.2773 - accuracy: 0.8983 - val_loss: 0.3289 - val_accuracy: 0.8806\n",
            "Epoch 29/50\n",
            "1594/1594 [==============================] - 3s 2ms/step - loss: 0.2747 - accuracy: 0.8996 - val_loss: 0.3409 - val_accuracy: 0.8773\n",
            "Epoch 30/50\n",
            "1594/1594 [==============================] - 4s 3ms/step - loss: 0.2720 - accuracy: 0.9005 - val_loss: 0.3308 - val_accuracy: 0.8802\n",
            "Epoch 31/50\n",
            "1594/1594 [==============================] - 4s 2ms/step - loss: 0.2692 - accuracy: 0.9016 - val_loss: 0.3290 - val_accuracy: 0.8820\n",
            "Epoch 32/50\n",
            "1594/1594 [==============================] - 4s 2ms/step - loss: 0.2668 - accuracy: 0.9027 - val_loss: 0.3447 - val_accuracy: 0.8769\n",
            "Epoch 33/50\n",
            "1594/1594 [==============================] - 5s 3ms/step - loss: 0.2639 - accuracy: 0.9036 - val_loss: 0.3448 - val_accuracy: 0.8766\n",
            "Epoch 34/50\n",
            "1594/1594 [==============================] - 6s 4ms/step - loss: 0.2616 - accuracy: 0.9047 - val_loss: 0.3390 - val_accuracy: 0.8781\n",
            "Epoch 35/50\n",
            "1594/1594 [==============================] - 4s 2ms/step - loss: 0.2589 - accuracy: 0.9057 - val_loss: 0.3419 - val_accuracy: 0.8773\n",
            "Epoch 36/50\n",
            "1594/1594 [==============================] - 4s 2ms/step - loss: 0.2568 - accuracy: 0.9059 - val_loss: 0.3262 - val_accuracy: 0.8829\n",
            "Epoch 37/50\n",
            "1594/1594 [==============================] - 4s 3ms/step - loss: 0.2552 - accuracy: 0.9069 - val_loss: 0.3291 - val_accuracy: 0.8806\n",
            "Epoch 38/50\n",
            "1594/1594 [==============================] - 4s 2ms/step - loss: 0.2533 - accuracy: 0.9086 - val_loss: 0.3221 - val_accuracy: 0.8827\n",
            "Epoch 39/50\n",
            "1594/1594 [==============================] - 4s 2ms/step - loss: 0.2499 - accuracy: 0.9087 - val_loss: 0.3325 - val_accuracy: 0.8822\n",
            "Epoch 40/50\n",
            "1594/1594 [==============================] - 4s 2ms/step - loss: 0.2477 - accuracy: 0.9097 - val_loss: 0.3232 - val_accuracy: 0.8840\n",
            "Epoch 41/50\n",
            "1594/1594 [==============================] - 5s 3ms/step - loss: 0.2454 - accuracy: 0.9104 - val_loss: 0.3295 - val_accuracy: 0.8822\n",
            "Epoch 42/50\n",
            "1594/1594 [==============================] - 3s 2ms/step - loss: 0.2436 - accuracy: 0.9107 - val_loss: 0.3311 - val_accuracy: 0.8829\n",
            "Epoch 43/50\n",
            "1594/1594 [==============================] - 4s 2ms/step - loss: 0.2430 - accuracy: 0.9115 - val_loss: 0.3343 - val_accuracy: 0.8784\n",
            "Epoch 44/50\n",
            "1594/1594 [==============================] - 4s 2ms/step - loss: 0.2402 - accuracy: 0.9128 - val_loss: 0.3176 - val_accuracy: 0.8862\n",
            "Epoch 45/50\n",
            "1594/1594 [==============================] - 4s 3ms/step - loss: 0.2380 - accuracy: 0.9136 - val_loss: 0.3279 - val_accuracy: 0.8842\n",
            "Epoch 46/50\n",
            "1594/1594 [==============================] - 3s 2ms/step - loss: 0.2372 - accuracy: 0.9140 - val_loss: 0.3255 - val_accuracy: 0.8873\n",
            "Epoch 47/50\n",
            "1594/1594 [==============================] - 3s 2ms/step - loss: 0.2348 - accuracy: 0.9132 - val_loss: 0.3328 - val_accuracy: 0.8832\n",
            "Epoch 48/50\n",
            "1594/1594 [==============================] - 4s 3ms/step - loss: 0.2319 - accuracy: 0.9154 - val_loss: 0.3262 - val_accuracy: 0.8850\n",
            "Epoch 49/50\n",
            "1594/1594 [==============================] - 4s 2ms/step - loss: 0.2311 - accuracy: 0.9153 - val_loss: 0.3475 - val_accuracy: 0.8786\n",
            "Epoch 50/50\n",
            "1594/1594 [==============================] - 3s 2ms/step - loss: 0.2292 - accuracy: 0.9170 - val_loss: 0.3235 - val_accuracy: 0.8847\n"
          ]
        }
      ]
    },
    {
      "cell_type": "code",
      "source": [
        "##plot\n",
        "fig, ax = plt.subplots(figsize=(12, 5))\n",
        "ax.plot(history_lecun.history[\"loss\"] , label=\"train loss\")\n",
        "ax.plot(history_lecun.history[\"accuracy\"], label=\"train accuracy\")\n",
        "ax.plot(history_lecun.history[\"val_loss\"], label=\"validation loss\")\n",
        "ax.plot(history_lecun.history[\"val_accuracy\"], label=\"validation accuracy\")"
      ],
      "metadata": {
        "colab": {
          "base_uri": "https://localhost:8080/",
          "height": 463
        },
        "id": "UiGpgsD-ap_6",
        "outputId": "17274fc6-c54e-4940-ae21-922bd6a1e969"
      },
      "execution_count": null,
      "outputs": [
        {
          "output_type": "execute_result",
          "data": {
            "text/plain": [
              "[<matplotlib.lines.Line2D at 0x7e5ce22c0880>]"
            ]
          },
          "metadata": {},
          "execution_count": 17
        },
        {
          "output_type": "display_data",
          "data": {
            "text/plain": [
              "<Figure size 1200x500 with 1 Axes>"
            ],
            "image/png": "[encoded data removed]"
          },
          "metadata": {}
        }
      ]
    },
    {
      "cell_type": "markdown",
      "source": [
        "## Model with Batch Normalization"
      ],
      "metadata": {
        "id": "SOx3cMF28H5T"
      }
    },
    {
      "cell_type": "code",
      "source": [
        "## model with Batch Normalization\n",
        "initializer_he = keras.initializers.HeNormal()\n",
        "\n",
        "model_BNorm = keras.models.Sequential([\n",
        "    keras.layers.Flatten(input_shape=[28, 28]),\n",
        "    keras.layers.Dense(50, activation=\"relu\", kernel_initializer= initializer_he),\n",
        "    keras.layers.BatchNormalization(),\n",
        "    keras.layers.Dense(50, activation=\"relu\"),\n",
        "    keras.layers.BatchNormalization(),\n",
        "    keras.layers.Dense(10, activation=\"softmax\")\n",
        "]\n",
        "\n",
        ")"
      ],
      "metadata": {
        "id": "NArrmtu68Mw1"
      },
      "execution_count": null,
      "outputs": []
    },
    {
      "cell_type": "code",
      "source": [
        "model_BNorm.summary()"
      ],
      "metadata": {
        "colab": {
          "base_uri": "https://localhost:8080/"
        },
        "id": "bhUn_Vag-gze",
        "outputId": "cca1eabd-2490-406f-add6-c48b1431adb8"
      },
      "execution_count": null,
      "outputs": [
        {
          "output_type": "stream",
          "name": "stdout",
          "text": [
            "Model: \"sequential_2\"\n",
            "_________________________________________________________________\n",
            " Layer (type)                Output Shape              Param #   \n",
            "=================================================================\n",
            " flatten_2 (Flatten)         (None, 784)               0         \n",
            "                                                                 \n",
            " dense_6 (Dense)             (None, 50)                39250     \n",
            "                                                                 \n",
            " batch_normalization (Batch  (None, 50)                200       \n",
            " Normalization)                                                  \n",
            "                                                                 \n",
            " dense_7 (Dense)             (None, 50)                2550      \n",
            "                                                                 \n",
            " batch_normalization_1 (Bat  (None, 50)                200       \n",
            " chNormalization)                                                \n",
            "                                                                 \n",
            " dense_8 (Dense)             (None, 10)                510       \n",
            "                                                                 \n",
            "=================================================================\n",
            "Total params: 42710 (166.84 KB)\n",
            "Trainable params: 42510 (166.05 KB)\n",
            "Non-trainable params: 200 (800.00 Byte)\n",
            "_________________________________________________________________\n"
          ]
        }
      ]
    },
    {
      "cell_type": "code",
      "source": [
        "model_BNorm.compile(loss=\"sparse_categorical_crossentropy\",\n",
        "              optimizer=\"sgd\",\n",
        "              metrics=[\"accuracy\"])"
      ],
      "metadata": {
        "id": "jFsi2sfs-vnp"
      },
      "execution_count": null,
      "outputs": []
    },
    {
      "cell_type": "code",
      "source": [
        "##fit model\n",
        "history_BNorm = model_BNorm.fit(X_train, y_train, epochs=50, validation_split=0.15)"
      ],
      "metadata": {
        "colab": {
          "base_uri": "https://localhost:8080/"
        },
        "id": "Ho_ealWK-2GE",
        "outputId": "c696de88-0742-469f-f3c8-d44a5928acd5"
      },
      "execution_count": null,
      "outputs": [
        {
          "output_type": "stream",
          "name": "stdout",
          "text": [
            "Epoch 1/50\n",
            "1594/1594 [==============================] - 6s 3ms/step - loss: 0.6212 - accuracy: 0.7876 - val_loss: 0.4681 - val_accuracy: 0.8346\n",
            "Epoch 2/50\n",
            "1594/1594 [==============================] - 4s 2ms/step - loss: 0.4594 - accuracy: 0.8371 - val_loss: 0.4043 - val_accuracy: 0.8567\n",
            "Epoch 3/50\n",
            "1594/1594 [==============================] - 4s 3ms/step - loss: 0.4148 - accuracy: 0.8537 - val_loss: 0.3973 - val_accuracy: 0.8591\n",
            "Epoch 4/50\n",
            "1594/1594 [==============================] - 5s 3ms/step - loss: 0.3905 - accuracy: 0.8616 - val_loss: 0.4418 - val_accuracy: 0.8358\n",
            "Epoch 5/50\n",
            "1594/1594 [==============================] - 4s 3ms/step - loss: 0.3726 - accuracy: 0.8661 - val_loss: 0.3688 - val_accuracy: 0.8663\n",
            "Epoch 6/50\n",
            "1594/1594 [==============================] - 4s 2ms/step - loss: 0.3588 - accuracy: 0.8716 - val_loss: 0.3736 - val_accuracy: 0.8643\n",
            "Epoch 7/50\n",
            "1594/1594 [==============================] - 4s 3ms/step - loss: 0.3462 - accuracy: 0.8765 - val_loss: 0.3837 - val_accuracy: 0.8634\n",
            "Epoch 8/50\n",
            "1594/1594 [==============================] - 5s 3ms/step - loss: 0.3376 - accuracy: 0.8774 - val_loss: 0.3498 - val_accuracy: 0.8716\n",
            "Epoch 9/50\n",
            "1594/1594 [==============================] - 4s 2ms/step - loss: 0.3278 - accuracy: 0.8818 - val_loss: 0.3570 - val_accuracy: 0.8741\n",
            "Epoch 10/50\n",
            "1594/1594 [==============================] - 4s 2ms/step - loss: 0.3216 - accuracy: 0.8826 - val_loss: 0.3447 - val_accuracy: 0.8763\n",
            "Epoch 11/50\n",
            "1594/1594 [==============================] - 5s 3ms/step - loss: 0.3162 - accuracy: 0.8840 - val_loss: 0.3347 - val_accuracy: 0.8832\n",
            "Epoch 12/50\n",
            "1594/1594 [==============================] - 4s 2ms/step - loss: 0.3059 - accuracy: 0.8896 - val_loss: 0.3449 - val_accuracy: 0.8762\n",
            "Epoch 13/50\n",
            "1594/1594 [==============================] - 4s 2ms/step - loss: 0.3032 - accuracy: 0.8893 - val_loss: 0.3512 - val_accuracy: 0.8773\n",
            "Epoch 14/50\n",
            "1594/1594 [==============================] - 5s 3ms/step - loss: 0.2992 - accuracy: 0.8910 - val_loss: 0.3966 - val_accuracy: 0.8581\n",
            "Epoch 15/50\n",
            "1594/1594 [==============================] - 4s 2ms/step - loss: 0.2951 - accuracy: 0.8933 - val_loss: 0.3548 - val_accuracy: 0.8741\n",
            "Epoch 16/50\n",
            "1594/1594 [==============================] - 4s 2ms/step - loss: 0.2883 - accuracy: 0.8951 - val_loss: 0.3522 - val_accuracy: 0.8781\n",
            "Epoch 17/50\n",
            "1594/1594 [==============================] - 4s 3ms/step - loss: 0.2882 - accuracy: 0.8956 - val_loss: 0.3477 - val_accuracy: 0.8786\n",
            "Epoch 18/50\n",
            "1594/1594 [==============================] - 4s 3ms/step - loss: 0.2822 - accuracy: 0.8972 - val_loss: 0.3556 - val_accuracy: 0.8760\n",
            "Epoch 19/50\n",
            "1594/1594 [==============================] - 4s 2ms/step - loss: 0.2804 - accuracy: 0.8968 - val_loss: 0.3520 - val_accuracy: 0.8728\n",
            "Epoch 20/50\n",
            "1594/1594 [==============================] - 4s 3ms/step - loss: 0.2733 - accuracy: 0.9002 - val_loss: 0.3436 - val_accuracy: 0.8787\n",
            "Epoch 21/50\n",
            "1594/1594 [==============================] - 5s 3ms/step - loss: 0.2712 - accuracy: 0.9009 - val_loss: 0.3385 - val_accuracy: 0.8792\n",
            "Epoch 22/50\n",
            "1594/1594 [==============================] - 4s 3ms/step - loss: 0.2655 - accuracy: 0.9023 - val_loss: 0.3425 - val_accuracy: 0.8787\n",
            "Epoch 23/50\n",
            "1594/1594 [==============================] - 4s 3ms/step - loss: 0.2629 - accuracy: 0.9032 - val_loss: 0.3545 - val_accuracy: 0.8734\n",
            "Epoch 24/50\n",
            "1594/1594 [==============================] - 5s 3ms/step - loss: 0.2600 - accuracy: 0.9044 - val_loss: 0.3471 - val_accuracy: 0.8789\n",
            "Epoch 25/50\n",
            "1594/1594 [==============================] - 4s 2ms/step - loss: 0.2565 - accuracy: 0.9071 - val_loss: 0.3586 - val_accuracy: 0.8754\n",
            "Epoch 26/50\n",
            "1594/1594 [==============================] - 4s 3ms/step - loss: 0.2537 - accuracy: 0.9069 - val_loss: 0.3355 - val_accuracy: 0.8821\n",
            "Epoch 27/50\n",
            "1594/1594 [==============================] - 5s 3ms/step - loss: 0.2520 - accuracy: 0.9081 - val_loss: 0.3468 - val_accuracy: 0.8806\n",
            "Epoch 28/50\n",
            "1594/1594 [==============================] - 4s 3ms/step - loss: 0.2491 - accuracy: 0.9085 - val_loss: 0.3369 - val_accuracy: 0.8830\n",
            "Epoch 29/50\n",
            "1594/1594 [==============================] - 4s 3ms/step - loss: 0.2444 - accuracy: 0.9105 - val_loss: 0.3564 - val_accuracy: 0.8773\n",
            "Epoch 30/50\n",
            "1594/1594 [==============================] - 5s 3ms/step - loss: 0.2438 - accuracy: 0.9108 - val_loss: 0.3497 - val_accuracy: 0.8784\n",
            "Epoch 31/50\n",
            "1594/1594 [==============================] - 4s 2ms/step - loss: 0.2417 - accuracy: 0.9111 - val_loss: 0.3398 - val_accuracy: 0.8850\n",
            "Epoch 32/50\n",
            "1594/1594 [==============================] - 4s 2ms/step - loss: 0.2368 - accuracy: 0.9133 - val_loss: 0.3628 - val_accuracy: 0.8750\n",
            "Epoch 33/50\n",
            "1594/1594 [==============================] - 5s 3ms/step - loss: 0.2366 - accuracy: 0.9125 - val_loss: 0.3858 - val_accuracy: 0.8677\n",
            "Epoch 34/50\n",
            "1594/1594 [==============================] - 4s 3ms/step - loss: 0.2354 - accuracy: 0.9140 - val_loss: 0.3492 - val_accuracy: 0.8820\n",
            "Epoch 35/50\n",
            "1594/1594 [==============================] - 4s 3ms/step - loss: 0.2290 - accuracy: 0.9151 - val_loss: 0.3363 - val_accuracy: 0.8863\n",
            "Epoch 36/50\n",
            "1594/1594 [==============================] - 4s 3ms/step - loss: 0.2300 - accuracy: 0.9152 - val_loss: 0.3463 - val_accuracy: 0.8833\n",
            "Epoch 37/50\n",
            "1594/1594 [==============================] - 4s 3ms/step - loss: 0.2268 - accuracy: 0.9162 - val_loss: 0.3589 - val_accuracy: 0.8788\n",
            "Epoch 38/50\n",
            "1594/1594 [==============================] - 4s 2ms/step - loss: 0.2269 - accuracy: 0.9157 - val_loss: 0.3751 - val_accuracy: 0.8740\n",
            "Epoch 39/50\n",
            "1594/1594 [==============================] - 4s 2ms/step - loss: 0.2268 - accuracy: 0.9162 - val_loss: 0.3565 - val_accuracy: 0.8797\n",
            "Epoch 40/50\n",
            "1594/1594 [==============================] - 5s 3ms/step - loss: 0.2256 - accuracy: 0.9177 - val_loss: 0.3563 - val_accuracy: 0.8786\n",
            "Epoch 41/50\n",
            "1594/1594 [==============================] - 4s 2ms/step - loss: 0.2230 - accuracy: 0.9172 - val_loss: 0.3407 - val_accuracy: 0.8830\n",
            "Epoch 42/50\n",
            "1594/1594 [==============================] - 4s 3ms/step - loss: 0.2199 - accuracy: 0.9193 - val_loss: 0.3728 - val_accuracy: 0.8756\n",
            "Epoch 43/50\n",
            "1594/1594 [==============================] - 5s 3ms/step - loss: 0.2201 - accuracy: 0.9190 - val_loss: 0.3634 - val_accuracy: 0.8748\n",
            "Epoch 44/50\n",
            "1594/1594 [==============================] - 4s 2ms/step - loss: 0.2168 - accuracy: 0.9205 - val_loss: 0.3625 - val_accuracy: 0.8760\n",
            "Epoch 45/50\n",
            "1594/1594 [==============================] - 4s 2ms/step - loss: 0.2132 - accuracy: 0.9205 - val_loss: 0.3459 - val_accuracy: 0.8822\n",
            "Epoch 46/50\n",
            "1594/1594 [==============================] - 5s 3ms/step - loss: 0.2137 - accuracy: 0.9213 - val_loss: 0.3572 - val_accuracy: 0.8778\n",
            "Epoch 47/50\n",
            "1594/1594 [==============================] - 4s 2ms/step - loss: 0.2103 - accuracy: 0.9224 - val_loss: 0.4017 - val_accuracy: 0.8667\n",
            "Epoch 48/50\n",
            "1594/1594 [==============================] - 4s 3ms/step - loss: 0.2092 - accuracy: 0.9219 - val_loss: 0.3912 - val_accuracy: 0.8733\n",
            "Epoch 49/50\n",
            "1594/1594 [==============================] - 5s 3ms/step - loss: 0.2081 - accuracy: 0.9222 - val_loss: 0.3608 - val_accuracy: 0.8800\n",
            "Epoch 50/50\n",
            "1594/1594 [==============================] - 4s 3ms/step - loss: 0.2062 - accuracy: 0.9240 - val_loss: 0.3672 - val_accuracy: 0.8768\n"
          ]
        }
      ]
    },
    {
      "cell_type": "code",
      "source": [
        "##plot\n",
        "fig, ax = plt.subplots(figsize=(12, 5))\n",
        "ax.plot(history_BNorm.history[\"loss\"] , label=\"train loss\")\n",
        "ax.plot(history_BNorm.history[\"accuracy\"], label=\"train accuracy\")\n",
        "ax.plot(history_BNorm.history[\"val_loss\"], label=\"validation loss\")\n",
        "ax.plot(history_BNorm.history[\"val_accuracy\"], label=\"validation accuracy\")"
      ],
      "metadata": {
        "colab": {
          "base_uri": "https://localhost:8080/",
          "height": 463
        },
        "id": "77ehvbtsAPPc",
        "outputId": "11bb7f84-6fae-4b61-85f0-aced7955dcbc"
      },
      "execution_count": null,
      "outputs": [
        {
          "output_type": "execute_result",
          "data": {
            "text/plain": [
              "[<matplotlib.lines.Line2D at 0x7e5ce20c8340>]"
            ]
          },
          "metadata": {},
          "execution_count": 22
        },
        {
          "output_type": "display_data",
          "data": {
            "text/plain": [
              "<Figure size 1200x500 with 1 Axes>"
            ],
            "image/png": "[encoded data removed]"
          },
          "metadata": {}
        }
      ]
    },
    {
      "cell_type": "markdown",
      "source": [
        "## Batch normalization before activation function"
      ],
      "metadata": {
        "id": "Y2DLreu-_-8t"
      }
    },
    {
      "cell_type": "code",
      "source": [
        "## model with Lecunn initialization\n",
        "initializer_lecun = keras.initializers.LecunNormal()\n",
        "\n",
        "model_BNorm_before = keras.models.Sequential([\n",
        "    keras.layers.Flatten(input_shape=[28, 28]),\n",
        "    keras.layers.BatchNormalization(),\n",
        "    keras.layers.Dense(50, kernel_initializer= initializer_lecun),\n",
        "    keras.layers.BatchNormalization(),\n",
        "    keras.layers.Activation(\"selu\"),\n",
        "    keras.layers.Dense(50),\n",
        "    keras.layers.BatchNormalization(),\n",
        "    keras.layers.Activation(\"selu\"),\n",
        "    keras.layers.Dense(10, activation=\"softmax\")\n",
        "]\n",
        "\n",
        ")"
      ],
      "metadata": {
        "id": "PP1doNL5AFjk"
      },
      "execution_count": null,
      "outputs": []
    },
    {
      "cell_type": "code",
      "source": [
        "## compile model\n",
        "model_BNorm_before.compile(loss=\"sparse_categorical_crossentropy\",\n",
        "              optimizer=\"sgd\",\n",
        "              metrics=[\"accuracy\"])"
      ],
      "metadata": {
        "id": "eFiCC6FjCptl"
      },
      "execution_count": null,
      "outputs": []
    },
    {
      "cell_type": "code",
      "source": [
        "## fit model\n",
        "history_BNorm_before = model_BNorm_before.fit(X_train, y_train, epochs=50, validation_split=0.15)"
      ],
      "metadata": {
        "colab": {
          "base_uri": "https://localhost:8080/"
        },
        "id": "4jjXmOwwC6o3",
        "outputId": "7ca77ed1-d3d9-4205-a2a9-970a47e5cecd"
      },
      "execution_count": null,
      "outputs": [
        {
          "output_type": "stream",
          "name": "stdout",
          "text": [
            "Epoch 1/50\n",
            "1594/1594 [==============================] - 6s 3ms/step - loss: 0.5784 - accuracy: 0.8044 - val_loss: 0.4454 - val_accuracy: 0.8402\n",
            "Epoch 2/50\n",
            "1594/1594 [==============================] - 5s 3ms/step - loss: 0.4568 - accuracy: 0.8420 - val_loss: 0.4185 - val_accuracy: 0.8496\n",
            "Epoch 3/50\n",
            "1594/1594 [==============================] - 4s 3ms/step - loss: 0.4264 - accuracy: 0.8515 - val_loss: 0.4018 - val_accuracy: 0.8594\n",
            "Epoch 4/50\n",
            "1594/1594 [==============================] - 5s 3ms/step - loss: 0.4089 - accuracy: 0.8545 - val_loss: 0.3883 - val_accuracy: 0.8581\n",
            "Epoch 5/50\n",
            "1594/1594 [==============================] - 4s 3ms/step - loss: 0.3915 - accuracy: 0.8617 - val_loss: 0.3869 - val_accuracy: 0.8622\n",
            "Epoch 6/50\n",
            "1594/1594 [==============================] - 4s 3ms/step - loss: 0.3824 - accuracy: 0.8641 - val_loss: 0.3785 - val_accuracy: 0.8620\n",
            "Epoch 7/50\n",
            "1594/1594 [==============================] - 5s 3ms/step - loss: 0.3698 - accuracy: 0.8677 - val_loss: 0.3719 - val_accuracy: 0.8648\n",
            "Epoch 8/50\n",
            "1594/1594 [==============================] - 4s 3ms/step - loss: 0.3587 - accuracy: 0.8713 - val_loss: 0.3723 - val_accuracy: 0.8660\n",
            "Epoch 9/50\n",
            "1594/1594 [==============================] - 4s 3ms/step - loss: 0.3500 - accuracy: 0.8749 - val_loss: 0.3652 - val_accuracy: 0.8694\n",
            "Epoch 10/50\n",
            "1594/1594 [==============================] - 5s 3ms/step - loss: 0.3431 - accuracy: 0.8772 - val_loss: 0.3632 - val_accuracy: 0.8702\n",
            "Epoch 11/50\n",
            "1594/1594 [==============================] - 4s 3ms/step - loss: 0.3367 - accuracy: 0.8792 - val_loss: 0.3697 - val_accuracy: 0.8694\n",
            "Epoch 12/50\n",
            "1594/1594 [==============================] - 4s 3ms/step - loss: 0.3289 - accuracy: 0.8811 - val_loss: 0.3603 - val_accuracy: 0.8694\n",
            "Epoch 13/50\n",
            "1594/1594 [==============================] - 5s 3ms/step - loss: 0.3233 - accuracy: 0.8822 - val_loss: 0.3553 - val_accuracy: 0.8733\n",
            "Epoch 14/50\n",
            "1594/1594 [==============================] - 4s 3ms/step - loss: 0.3164 - accuracy: 0.8852 - val_loss: 0.3548 - val_accuracy: 0.8732\n",
            "Epoch 15/50\n",
            "1594/1594 [==============================] - 4s 3ms/step - loss: 0.3100 - accuracy: 0.8880 - val_loss: 0.3548 - val_accuracy: 0.8757\n",
            "Epoch 16/50\n",
            "1594/1594 [==============================] - 5s 3ms/step - loss: 0.3063 - accuracy: 0.8879 - val_loss: 0.3495 - val_accuracy: 0.8769\n",
            "Epoch 17/50\n",
            "1594/1594 [==============================] - 4s 3ms/step - loss: 0.3034 - accuracy: 0.8902 - val_loss: 0.3442 - val_accuracy: 0.8780\n",
            "Epoch 18/50\n",
            "1594/1594 [==============================] - 4s 3ms/step - loss: 0.2971 - accuracy: 0.8913 - val_loss: 0.3498 - val_accuracy: 0.8726\n",
            "Epoch 19/50\n",
            "1594/1594 [==============================] - 5s 3ms/step - loss: 0.2925 - accuracy: 0.8938 - val_loss: 0.3566 - val_accuracy: 0.8753\n",
            "Epoch 20/50\n",
            "1594/1594 [==============================] - 4s 3ms/step - loss: 0.2901 - accuracy: 0.8935 - val_loss: 0.3459 - val_accuracy: 0.8782\n",
            "Epoch 21/50\n",
            "1594/1594 [==============================] - 4s 3ms/step - loss: 0.2848 - accuracy: 0.8961 - val_loss: 0.3433 - val_accuracy: 0.8808\n",
            "Epoch 22/50\n",
            "1594/1594 [==============================] - 5s 3ms/step - loss: 0.2800 - accuracy: 0.8975 - val_loss: 0.3438 - val_accuracy: 0.8788\n",
            "Epoch 23/50\n",
            "1594/1594 [==============================] - 4s 3ms/step - loss: 0.2793 - accuracy: 0.8989 - val_loss: 0.3486 - val_accuracy: 0.8766\n",
            "Epoch 24/50\n",
            "1594/1594 [==============================] - 4s 3ms/step - loss: 0.2738 - accuracy: 0.8994 - val_loss: 0.3460 - val_accuracy: 0.8792\n",
            "Epoch 25/50\n",
            "1594/1594 [==============================] - 5s 3ms/step - loss: 0.2710 - accuracy: 0.9017 - val_loss: 0.3464 - val_accuracy: 0.8788\n",
            "Epoch 26/50\n",
            "1594/1594 [==============================] - 4s 3ms/step - loss: 0.2679 - accuracy: 0.9021 - val_loss: 0.3433 - val_accuracy: 0.8794\n",
            "Epoch 27/50\n",
            "1594/1594 [==============================] - 4s 3ms/step - loss: 0.2648 - accuracy: 0.9042 - val_loss: 0.3442 - val_accuracy: 0.8816\n",
            "Epoch 28/50\n",
            "1594/1594 [==============================] - 5s 3ms/step - loss: 0.2600 - accuracy: 0.9044 - val_loss: 0.3423 - val_accuracy: 0.8808\n",
            "Epoch 29/50\n",
            "1594/1594 [==============================] - 4s 3ms/step - loss: 0.2578 - accuracy: 0.9057 - val_loss: 0.3450 - val_accuracy: 0.8817\n",
            "Epoch 30/50\n",
            "1594/1594 [==============================] - 4s 3ms/step - loss: 0.2563 - accuracy: 0.9059 - val_loss: 0.3434 - val_accuracy: 0.8803\n",
            "Epoch 31/50\n",
            "1594/1594 [==============================] - 5s 3ms/step - loss: 0.2529 - accuracy: 0.9060 - val_loss: 0.3499 - val_accuracy: 0.8791\n",
            "Epoch 32/50\n",
            "1594/1594 [==============================] - 4s 3ms/step - loss: 0.2526 - accuracy: 0.9075 - val_loss: 0.3460 - val_accuracy: 0.8814\n",
            "Epoch 33/50\n",
            "1594/1594 [==============================] - 4s 2ms/step - loss: 0.2489 - accuracy: 0.9095 - val_loss: 0.3561 - val_accuracy: 0.8774\n",
            "Epoch 34/50\n",
            "1594/1594 [==============================] - 5s 3ms/step - loss: 0.2436 - accuracy: 0.9113 - val_loss: 0.3682 - val_accuracy: 0.8746\n",
            "Epoch 35/50\n",
            "1594/1594 [==============================] - 4s 3ms/step - loss: 0.2442 - accuracy: 0.9106 - val_loss: 0.3440 - val_accuracy: 0.8817\n",
            "Epoch 36/50\n",
            "1594/1594 [==============================] - 4s 3ms/step - loss: 0.2415 - accuracy: 0.9114 - val_loss: 0.3386 - val_accuracy: 0.8829\n",
            "Epoch 37/50\n",
            "1594/1594 [==============================] - 5s 3ms/step - loss: 0.2394 - accuracy: 0.9125 - val_loss: 0.3451 - val_accuracy: 0.8828\n",
            "Epoch 38/50\n",
            "1594/1594 [==============================] - 7s 4ms/step - loss: 0.2368 - accuracy: 0.9121 - val_loss: 0.3400 - val_accuracy: 0.8787\n",
            "Epoch 39/50\n",
            "1594/1594 [==============================] - 5s 3ms/step - loss: 0.2357 - accuracy: 0.9147 - val_loss: 0.3470 - val_accuracy: 0.8833\n",
            "Epoch 40/50\n",
            "1594/1594 [==============================] - 4s 3ms/step - loss: 0.2347 - accuracy: 0.9142 - val_loss: 0.3449 - val_accuracy: 0.8837\n",
            "Epoch 41/50\n",
            "1594/1594 [==============================] - 4s 3ms/step - loss: 0.2311 - accuracy: 0.9143 - val_loss: 0.3502 - val_accuracy: 0.8810\n",
            "Epoch 42/50\n",
            "1594/1594 [==============================] - 5s 3ms/step - loss: 0.2300 - accuracy: 0.9153 - val_loss: 0.3478 - val_accuracy: 0.8820\n",
            "Epoch 43/50\n",
            "1594/1594 [==============================] - 4s 3ms/step - loss: 0.2266 - accuracy: 0.9166 - val_loss: 0.3473 - val_accuracy: 0.8821\n",
            "Epoch 44/50\n",
            "1594/1594 [==============================] - 4s 3ms/step - loss: 0.2246 - accuracy: 0.9175 - val_loss: 0.3489 - val_accuracy: 0.8837\n",
            "Epoch 45/50\n",
            "1594/1594 [==============================] - 5s 3ms/step - loss: 0.2265 - accuracy: 0.9161 - val_loss: 0.3620 - val_accuracy: 0.8793\n",
            "Epoch 46/50\n",
            "1594/1594 [==============================] - 4s 3ms/step - loss: 0.2214 - accuracy: 0.9185 - val_loss: 0.3472 - val_accuracy: 0.8854\n",
            "Epoch 47/50\n",
            "1594/1594 [==============================] - 4s 3ms/step - loss: 0.2211 - accuracy: 0.9190 - val_loss: 0.3544 - val_accuracy: 0.8792\n",
            "Epoch 48/50\n",
            "1594/1594 [==============================] - 5s 3ms/step - loss: 0.2183 - accuracy: 0.9195 - val_loss: 0.3547 - val_accuracy: 0.8818\n",
            "Epoch 49/50\n",
            "1594/1594 [==============================] - 4s 3ms/step - loss: 0.2198 - accuracy: 0.9196 - val_loss: 0.3502 - val_accuracy: 0.8844\n",
            "Epoch 50/50\n",
            "1594/1594 [==============================] - 4s 3ms/step - loss: 0.2140 - accuracy: 0.9218 - val_loss: 0.3462 - val_accuracy: 0.8850\n"
          ]
        }
      ]
    },
    {
      "cell_type": "code",
      "source": [
        "##plot\n",
        "fig, ax = plt.subplots(figsize=(12, 5))\n",
        "ax.plot(history_BNorm_before.history[\"loss\"] , label=\"train loss\")\n",
        "ax.plot(history_BNorm_before.history[\"accuracy\"], label=\"train accuracy\")\n",
        "ax.plot(history_BNorm_before.history[\"val_loss\"], label=\"validation loss\")\n",
        "ax.plot(history_BNorm_before.history[\"val_accuracy\"], label=\"validation accuracy\")"
      ],
      "metadata": {
        "colab": {
          "base_uri": "https://localhost:8080/",
          "height": 463
        },
        "id": "WI5iqLpTEOIM",
        "outputId": "95a4cdf5-25b2-4728-90b0-3fe91c9f2641"
      },
      "execution_count": null,
      "outputs": [
        {
          "output_type": "execute_result",
          "data": {
            "text/plain": [
              "[<matplotlib.lines.Line2D at 0x7e5ce2031060>]"
            ]
          },
          "metadata": {},
          "execution_count": 26
        },
        {
          "output_type": "display_data",
          "data": {
            "text/plain": [
              "<Figure size 1200x500 with 1 Axes>"
            ],
            "image/png": "[encoded data removed]"
          },
          "metadata": {}
        }
      ]
    },
    {
      "cell_type": "markdown",
      "source": [
        "## Limited data problem"
      ],
      "metadata": {
        "id": "0-oAJssxKak6"
      }
    },
    {
      "cell_type": "markdown",
      "source": [
        "Transfer learning"
      ],
      "metadata": {
        "id": "qpPvMF7tKe4r"
      }
    },
    {
      "cell_type": "code",
      "source": [
        "model_lecun_init.save(\"model_for_transfer.h5\")"
      ],
      "metadata": {
        "colab": {
          "base_uri": "https://localhost:8080/"
        },
        "id": "y42QQ8T4Kr3p",
        "outputId": "f336405d-686c-4480-ca08-d503691e12b2"
      },
      "execution_count": null,
      "outputs": [
        {
          "output_type": "stream",
          "name": "stderr",
          "text": [
            "/usr/local/lib/python3.10/dist-packages/keras/src/engine/training.py:3103: UserWarning: You are saving your model as an HDF5 file via `model.save()`. This file format is considered legacy. We recommend using instead the native Keras format, e.g. `model.save('my_model.keras')`.\n",
            "  saving_api.save_model(\n"
          ]
        }
      ]
    },
    {
      "cell_type": "code",
      "source": [
        "transfered_model = keras.models.load_model(\"model_for_transfer.h5\")"
      ],
      "metadata": {
        "id": "Z9qVdYAsLyjZ"
      },
      "execution_count": null,
      "outputs": []
    },
    {
      "cell_type": "code",
      "source": [
        "new_model = keras.models.Sequential(transfered_model.layers[:-1])\n",
        "new_model.add(keras.layers.Dense(1,activation=\"sigmoid\"))\n",
        "new_model.summary()"
      ],
      "metadata": {
        "colab": {
          "base_uri": "https://localhost:8080/"
        },
        "id": "uSchPXeVMAuK",
        "outputId": "1c4bf735-11b7-4533-9f3f-1cfc3cc16cf0"
      },
      "execution_count": null,
      "outputs": [
        {
          "output_type": "stream",
          "name": "stdout",
          "text": [
            "Model: \"sequential_4\"\n",
            "_________________________________________________________________\n",
            " Layer (type)                Output Shape              Param #   \n",
            "=================================================================\n",
            " flatten_1 (Flatten)         (None, 784)               0         \n",
            "                                                                 \n",
            " dense_3 (Dense)             (None, 50)                39250     \n",
            "                                                                 \n",
            " dense_4 (Dense)             (None, 50)                2550      \n",
            "                                                                 \n",
            " dense_12 (Dense)            (None, 1)                 51        \n",
            "                                                                 \n",
            "=================================================================\n",
            "Total params: 41851 (163.48 KB)\n",
            "Trainable params: 41851 (163.48 KB)\n",
            "Non-trainable params: 0 (0.00 Byte)\n",
            "_________________________________________________________________\n"
          ]
        }
      ]
    },
    {
      "cell_type": "markdown",
      "source": [
        "##clone model"
      ],
      "metadata": {
        "id": "3Ubws2S-86vF"
      }
    },
    {
      "cell_type": "code",
      "source": [
        "model_cloned = keras.models.clone_model(model_BNorm_before)\n",
        "model_cloned.set_weights(model_BNorm_before.get_weights())"
      ],
      "metadata": {
        "id": "Jt1XLCm-85r1"
      },
      "execution_count": null,
      "outputs": []
    },
    {
      "cell_type": "code",
      "source": [
        "model_cloned.get_weights()[2]"
      ],
      "metadata": {
        "colab": {
          "base_uri": "https://localhost:8080/"
        },
        "id": "V74T9PKn9tJo",
        "outputId": "653d5c86-fc0e-4fa7-fa89-f7f80ae8ab88"
      },
      "execution_count": null,
      "outputs": [
        {
          "output_type": "execute_result",
          "data": {
            "text/plain": [
              "array([1.40718157e-05, 2.80749518e-05, 7.99122645e-05, 3.11819516e-04,\n",
              "       7.21364049e-04, 1.26450718e-03, 2.71426630e-03, 8.58123228e-03,\n",
              "       2.16315854e-02, 5.46520017e-02, 1.21288776e-01, 1.71486080e-01,\n",
              "       1.97270945e-01, 1.91406608e-01, 1.91601411e-01, 2.04561040e-01,\n",
              "       1.91705287e-01, 1.47457659e-01, 9.80920717e-02, 4.06508707e-02,\n",
              "       1.53269880e-02, 8.19090288e-03, 5.25587378e-03, 3.53743555e-03,\n",
              "       1.92906964e-03, 1.10100082e-03, 5.42180613e-04, 4.66858946e-05,\n",
              "       6.84265324e-05, 2.56312924e-04, 3.68866749e-04, 1.52391184e-03,\n",
              "       2.63515278e-03, 6.82364078e-03, 2.66927294e-02, 6.53759167e-02,\n",
              "       1.20471366e-01, 1.99731499e-01, 3.01901221e-01, 3.78255546e-01,\n",
              "       4.27851498e-01, 4.21786308e-01, 4.11521852e-01, 4.33340251e-01,\n",
              "       4.17929858e-01, 3.44765425e-01, 2.72778749e-01, 1.68784022e-01,\n",
              "       9.80306566e-02, 5.18344194e-02, 2.35200282e-02, 1.35938330e-02,\n",
              "       8.66300520e-03, 4.60999273e-03, 2.14295485e-03, 2.08978992e-04,\n",
              "       3.37832287e-04, 5.85407135e-04, 9.75927047e-04, 3.00278026e-03,\n",
              "       7.23123038e-03, 3.38404737e-02, 8.46249908e-02, 1.31030411e-01,\n",
              "       1.88281327e-01, 2.71560997e-01, 3.55311275e-01, 3.86558324e-01,\n",
              "       4.03407753e-01, 4.08814311e-01, 4.07082438e-01, 4.12248760e-01,\n",
              "       4.01126355e-01, 3.82357568e-01, 3.41800332e-01, 2.46052966e-01,\n",
              "       1.70612842e-01, 1.23338737e-01, 7.32681528e-02, 3.61568332e-02,\n",
              "       1.92376412e-02, 1.14711765e-02, 5.40385628e-03, 9.00446204e-04,\n",
              "       4.80017305e-04, 9.11460957e-04, 1.94360013e-03, 5.13273384e-03,\n",
              "       2.17963886e-02, 7.22400248e-02, 1.30372301e-01, 1.88521102e-01,\n",
              "       2.48581737e-01, 3.19420546e-01, 3.74866068e-01, 3.91304165e-01,\n",
              "       3.99612427e-01, 4.03128326e-01, 4.07136768e-01, 4.11927938e-01,\n",
              "       4.07769620e-01, 4.00949866e-01, 3.84364516e-01, 3.15617055e-01,\n",
              "       2.40823299e-01, 1.81973249e-01, 1.24627158e-01, 6.82647154e-02,\n",
              "       3.57683599e-02, 1.96430460e-02, 8.94315820e-03, 2.09940691e-03,\n",
              "       3.42945423e-04, 1.32271182e-03, 4.04076697e-03, 1.10023208e-02,\n",
              "       4.13572975e-02, 1.04718894e-01, 1.78908542e-01, 2.30195388e-01,\n",
              "       2.72726238e-01, 3.34902257e-01, 3.84836942e-01, 3.88219297e-01,\n",
              "       3.96349341e-01, 4.04115856e-01, 4.16521698e-01, 4.18658912e-01,\n",
              "       4.18541491e-01, 4.17193502e-01, 4.03940797e-01, 3.50735903e-01,\n",
              "       2.85531312e-01, 2.38440588e-01, 1.76645964e-01, 1.04817711e-01,\n",
              "       5.70582673e-02, 3.15783359e-02, 1.49709992e-02, 3.13222082e-03,\n",
              "       8.77180486e-04, 3.41218640e-03, 8.15313589e-03, 1.95316337e-02,\n",
              "       6.13986142e-02, 1.39195323e-01, 2.11831063e-01, 2.51990825e-01,\n",
              "       2.91601360e-01, 3.53343427e-01, 3.91265482e-01, 3.90547246e-01,\n",
              "       3.96137416e-01, 4.09321964e-01, 4.25652057e-01, 4.30276662e-01,\n",
              "       4.34906572e-01, 4.37227398e-01, 4.28212583e-01, 3.86918873e-01,\n",
              "       3.24227810e-01, 2.83467978e-01, 2.27507800e-01, 1.46880060e-01,\n",
              "       8.71644765e-02, 5.33426255e-02, 2.63220910e-02, 5.40324626e-03,\n",
              "       1.52787345e-03, 5.41380886e-03, 1.23112081e-02, 3.20959389e-02,\n",
              "       8.42989087e-02, 1.67376220e-01, 2.35579506e-01, 2.74563223e-01,\n",
              "       3.07765663e-01, 3.63724619e-01, 3.94114733e-01, 3.98299217e-01,\n",
              "       4.02374119e-01, 4.19593275e-01, 4.39948529e-01, 4.52254802e-01,\n",
              "       4.60132211e-01, 4.64709371e-01, 4.52637285e-01, 4.20024127e-01,\n",
              "       3.64122659e-01, 3.23811591e-01, 2.69069374e-01, 1.86483622e-01,\n",
              "       1.20506652e-01, 7.94938356e-02, 3.94017063e-02, 7.96064362e-03,\n",
              "       2.32687057e-03, 8.82330257e-03, 1.99059788e-02, 4.35233563e-02,\n",
              "       1.02503076e-01, 1.90379485e-01, 2.54634023e-01, 2.93409050e-01,\n",
              "       3.20959568e-01, 3.68505388e-01, 4.00390297e-01, 4.04502273e-01,\n",
              "       4.10927922e-01, 4.29011822e-01, 4.49268758e-01, 4.77254301e-01,\n",
              "       4.90749389e-01, 4.95515704e-01, 4.79244053e-01, 4.46629643e-01,\n",
              "       3.97723854e-01, 3.59560877e-01, 3.08494389e-01, 2.25178972e-01,\n",
              "       1.55356050e-01, 1.09741278e-01, 5.27105480e-02, 1.07802972e-02,\n",
              "       3.03350901e-03, 1.29885990e-02, 2.57799774e-02, 5.38491532e-02,\n",
              "       1.16316520e-01, 2.06935763e-01, 2.65836924e-01, 3.10892522e-01,\n",
              "       3.32392842e-01, 3.69970113e-01, 4.04758602e-01, 4.11660224e-01,\n",
              "       4.22945052e-01, 4.38760251e-01, 4.51413274e-01, 5.03804326e-01,\n",
              "       5.20037293e-01, 5.22443533e-01, 4.99697179e-01, 4.66534227e-01,\n",
              "       4.28993881e-01, 3.94634575e-01, 3.45783263e-01, 2.64059335e-01,\n",
              "       1.89218596e-01, 1.38186663e-01, 6.86558709e-02, 1.34928795e-02,\n",
              "       4.07067733e-03, 1.64154172e-02, 2.92889997e-02, 6.07689172e-02,\n",
              "       1.25808343e-01, 2.20254168e-01, 2.73557097e-01, 3.19490999e-01,\n",
              "       3.42655808e-01, 3.73529822e-01, 4.11908060e-01, 4.23356801e-01,\n",
              "       4.37711567e-01, 4.55668002e-01, 4.68711823e-01, 5.49596488e-01,\n",
              "       5.65070212e-01, 5.57379484e-01, 5.20089149e-01, 4.82797831e-01,\n",
              "       4.56237853e-01, 4.17102426e-01, 3.71559829e-01, 2.95980662e-01,\n",
              "       2.19691321e-01, 1.70613751e-01, 8.86330605e-02, 1.81468837e-02,\n",
              "       5.46095939e-03, 2.02718414e-02, 3.25884931e-02, 6.47424310e-02,\n",
              "       1.32422954e-01, 2.26007998e-01, 2.72154629e-01, 3.17854881e-01,\n",
              "       3.45618784e-01, 3.79692048e-01, 4.24412519e-01, 4.43643481e-01,\n",
              "       4.72222656e-01, 4.94306564e-01, 5.04881561e-01, 5.85261643e-01,\n",
              "       5.89394212e-01, 5.80186784e-01, 5.42885840e-01, 4.96776074e-01,\n",
              "       4.70452577e-01, 4.30305392e-01, 3.90056580e-01, 3.19070935e-01,\n",
              "       2.45557830e-01, 2.04075322e-01, 1.14395231e-01, 2.34075878e-02,\n",
              "       6.66285073e-03, 2.35603619e-02, 3.56945135e-02, 6.58691823e-02,\n",
              "       1.32400393e-01, 2.22863495e-01, 2.67947674e-01, 3.17021817e-01,\n",
              "       3.49328190e-01, 3.91624391e-01, 4.53787804e-01, 4.82218087e-01,\n",
              "       5.17271340e-01, 5.23599625e-01, 5.23377597e-01, 5.92809200e-01,\n",
              "       5.95162332e-01, 5.94310164e-01, 5.67127883e-01, 5.18359005e-01,\n",
              "       4.87688601e-01, 4.43100363e-01, 4.04870301e-01, 3.40705901e-01,\n",
              "       2.64964670e-01, 2.24023148e-01, 1.42198995e-01, 2.81543732e-02,\n",
              "       8.27590656e-03, 2.63403971e-02, 3.81402597e-02, 6.69538453e-02,\n",
              "       1.34473071e-01, 2.22389296e-01, 2.67300397e-01, 3.20110708e-01,\n",
              "       3.64513993e-01, 4.26118612e-01, 4.94116902e-01, 5.15963197e-01,\n",
              "       5.38738668e-01, 5.38366914e-01, 5.35153389e-01, 6.00903392e-01,\n",
              "       6.06349289e-01, 6.06544673e-01, 5.85521460e-01, 5.33526599e-01,\n",
              "       5.08040607e-01, 4.64048922e-01, 4.24016863e-01, 3.61593455e-01,\n",
              "       2.75284946e-01, 2.34752595e-01, 1.65805712e-01, 3.38722356e-02,\n",
              "       1.02080256e-02, 2.97424532e-02, 4.41148207e-02, 7.65954033e-02,\n",
              "       1.49393871e-01, 2.39695236e-01, 2.89778709e-01, 3.43189150e-01,\n",
              "       3.90871525e-01, 4.56253350e-01, 5.15559793e-01, 5.36423206e-01,\n",
              "       5.65600991e-01, 5.52128077e-01, 5.41747034e-01, 6.02917314e-01,\n",
              "       6.10920727e-01, 6.09893858e-01, 5.93603373e-01, 5.33376396e-01,\n",
              "       5.08982182e-01, 4.74262178e-01, 4.37562287e-01, 3.72777969e-01,\n",
              "       2.82502770e-01, 2.40447149e-01, 1.83765218e-01, 4.14178893e-02,\n",
              "       1.41908051e-02, 4.27595079e-02, 6.12510331e-02, 9.88210365e-02,\n",
              "       1.81522712e-01, 2.76679993e-01, 3.19177926e-01, 3.61274779e-01,\n",
              "       4.01083648e-01, 4.76270795e-01, 5.35155296e-01, 5.64248383e-01,\n",
              "       5.85059226e-01, 5.61800122e-01, 5.46498060e-01, 6.04849279e-01,\n",
              "       6.16951346e-01, 6.13270640e-01, 5.99631786e-01, 5.31852484e-01,\n",
              "       4.99656677e-01, 4.70751494e-01, 4.34850067e-01, 3.75229359e-01,\n",
              "       2.86273062e-01, 2.40924910e-01, 1.98539808e-01, 4.88635637e-02,\n",
              "       2.50345562e-02, 7.23849386e-02, 8.93173590e-02, 1.28893346e-01,\n",
              "       2.13909134e-01, 3.02521884e-01, 3.37196231e-01, 3.68274778e-01,\n",
              "       4.12650347e-01, 5.04035652e-01, 5.61499178e-01, 5.88489771e-01,\n",
              "       5.93291104e-01, 5.66326916e-01, 5.50499260e-01, 6.03237987e-01,\n",
              "       6.23785436e-01, 6.22717857e-01, 6.08267486e-01, 5.36312759e-01,\n",
              "       4.92157161e-01, 4.67482924e-01, 4.34068054e-01, 3.80100399e-01,\n",
              "       2.92839348e-01, 2.44846389e-01, 2.11787745e-01, 5.56698516e-02,\n",
              "       3.65030207e-02, 9.22220200e-02, 1.07496716e-01, 1.50449619e-01,\n",
              "       2.40026146e-01, 3.21452379e-01, 3.59889477e-01, 3.86545748e-01,\n",
              "       4.36639160e-01, 5.33031464e-01, 5.85890353e-01, 6.06126726e-01,\n",
              "       6.04918182e-01, 5.73987663e-01, 5.56533277e-01, 6.05661452e-01,\n",
              "       6.31461263e-01, 6.27258420e-01, 6.15383565e-01, 5.40042698e-01,\n",
              "       4.82099533e-01, 4.61763203e-01, 4.31384325e-01, 3.81192148e-01,\n",
              "       2.98064440e-01, 2.46041030e-01, 2.15695456e-01, 5.97058907e-02,\n",
              "       3.74324806e-02, 1.03547357e-01, 1.24190837e-01, 1.68158561e-01,\n",
              "       2.59151697e-01, 3.33094567e-01, 3.71465772e-01, 3.92723531e-01,\n",
              "       4.50389743e-01, 5.48758149e-01, 5.94580531e-01, 6.13108575e-01,\n",
              "       6.11423254e-01, 5.74091017e-01, 5.58988631e-01, 6.06769204e-01,\n",
              "       6.33011937e-01, 6.23502791e-01, 6.03065670e-01, 5.26746869e-01,\n",
              "       4.58735108e-01, 4.41758275e-01, 4.15684789e-01, 3.71370852e-01,\n",
              "       2.91662037e-01, 2.36616731e-01, 2.07819223e-01, 6.05164506e-02,\n",
              "       3.22376490e-02, 1.02129407e-01, 1.32571965e-01, 1.76805869e-01,\n",
              "       2.67384380e-01, 3.34849179e-01, 3.73041034e-01, 3.93303216e-01,\n",
              "       4.57283765e-01, 5.51559985e-01, 5.90894043e-01, 6.06972575e-01,\n",
              "       6.04540050e-01, 5.62712312e-01, 5.48723042e-01, 5.91441095e-01,\n",
              "       6.17559433e-01, 6.06719792e-01, 5.79672873e-01, 5.05924344e-01,\n",
              "       4.36048657e-01, 4.22169089e-01, 4.04059798e-01, 3.61773133e-01,\n",
              "       2.84662336e-01, 2.27048561e-01, 1.97843313e-01, 5.66952676e-02,\n",
              "       2.87182648e-02, 9.14390832e-02, 1.22944869e-01, 1.71636760e-01,\n",
              "       2.64007658e-01, 3.30107301e-01, 3.68921489e-01, 3.86004359e-01,\n",
              "       4.52286005e-01, 5.37806630e-01, 5.78596532e-01, 5.96780598e-01,\n",
              "       5.93886554e-01, 5.50313532e-01, 5.33569574e-01, 5.73440313e-01,\n",
              "       5.99465430e-01, 5.84711611e-01, 5.53692937e-01, 4.84401852e-01,\n",
              "       4.10538524e-01, 3.98731798e-01, 3.84556383e-01, 3.43810052e-01,\n",
              "       2.67253697e-01, 2.08828866e-01, 1.73309207e-01, 4.46745194e-02,\n",
              "       2.78942641e-02, 8.87764841e-02, 1.16017289e-01, 1.64649725e-01,\n",
              "       2.54176825e-01, 3.17388088e-01, 3.52803677e-01, 3.67760032e-01,\n",
              "       4.39770848e-01, 5.17732501e-01, 5.58623135e-01, 5.74966133e-01,\n",
              "       5.72777450e-01, 5.29937088e-01, 5.09657800e-01, 5.47165811e-01,\n",
              "       5.67964375e-01, 5.50759196e-01, 5.13727009e-01, 4.48200196e-01,\n",
              "       3.74339849e-01, 3.63772243e-01, 3.54206771e-01, 3.15580338e-01,\n",
              "       2.40534499e-01, 1.79316521e-01, 1.39838994e-01, 3.47697623e-02,\n",
              "       2.45290659e-02, 7.91392475e-02, 1.05871685e-01, 1.55325636e-01,\n",
              "       2.43329316e-01, 3.04445803e-01, 3.33972156e-01, 3.45323533e-01,\n",
              "       4.21210915e-01, 4.95667815e-01, 5.36319137e-01, 5.55577874e-01,\n",
              "       5.50923526e-01, 5.07404327e-01, 4.86560285e-01, 5.15412748e-01,\n",
              "       5.33119082e-01, 5.10141432e-01, 4.71987069e-01, 4.14323628e-01,\n",
              "       3.40772063e-01, 3.31537455e-01, 3.29004407e-01, 2.90164798e-01,\n",
              "       2.16897294e-01, 1.56504333e-01, 1.17222585e-01, 2.88662799e-02,\n",
              "       2.04255749e-02, 6.32974729e-02, 8.76033455e-02, 1.34383187e-01,\n",
              "       2.22629040e-01, 2.81363964e-01, 3.09068620e-01, 3.19335431e-01,\n",
              "       3.98670465e-01, 4.68317002e-01, 5.08537829e-01, 5.28559983e-01,\n",
              "       5.23827910e-01, 4.81307209e-01, 4.52552021e-01, 4.73790765e-01,\n",
              "       4.90965575e-01, 4.69506055e-01, 4.32012230e-01, 3.83394003e-01,\n",
              "       3.13548237e-01, 3.00754339e-01, 3.00083190e-01, 2.60014236e-01,\n",
              "       1.88657179e-01, 1.28809497e-01, 9.27015617e-02, 2.08637491e-02,\n",
              "       1.40566872e-02, 4.54520620e-02, 6.84259087e-02, 1.13722697e-01,\n",
              "       1.96029663e-01, 2.50741065e-01, 2.76925802e-01, 2.85933614e-01,\n",
              "       3.64408791e-01, 4.29934591e-01, 4.70883220e-01, 4.93174016e-01,\n",
              "       4.86753732e-01, 4.45216566e-01, 4.16063428e-01, 4.32753026e-01,\n",
              "       4.52993661e-01, 4.38098162e-01, 4.00103807e-01, 3.52369964e-01,\n",
              "       2.82312125e-01, 2.63773382e-01, 2.65230268e-01, 2.28044182e-01,\n",
              "       1.59026563e-01, 1.00520313e-01, 6.65850714e-02, 1.40210800e-02,\n",
              "       8.41860194e-03, 2.68998947e-02, 4.82519120e-02, 9.16823894e-02,\n",
              "       1.71745330e-01, 2.24624172e-01, 2.44559765e-01, 2.49607489e-01,\n",
              "       3.25317025e-01, 3.86820108e-01, 4.26478386e-01, 4.54132468e-01,\n",
              "       4.47238415e-01, 4.07196522e-01, 3.75521749e-01, 3.93114060e-01,\n",
              "       4.15783763e-01, 4.04358983e-01, 3.65901530e-01, 3.17697346e-01,\n",
              "       2.49079227e-01, 2.31521383e-01, 2.36344203e-01, 2.01524079e-01,\n",
              "       1.32778361e-01, 7.52631873e-02, 4.58350964e-02, 9.87205934e-03,\n",
              "       4.30652220e-03, 1.56721883e-02, 3.26407701e-02, 6.99895099e-02,\n",
              "       1.45410106e-01, 1.98421434e-01, 2.13378698e-01, 2.10667387e-01,\n",
              "       2.79954672e-01, 3.38163823e-01, 3.75598341e-01, 4.03933227e-01,\n",
              "       3.96864206e-01, 3.58015269e-01, 3.30955416e-01, 3.48170131e-01,\n",
              "       3.74402344e-01, 3.66075754e-01, 3.28090340e-01, 2.82472998e-01,\n",
              "       2.16210037e-01, 2.02037722e-01, 2.09362715e-01, 1.74334541e-01,\n",
              "       1.06300339e-01, 5.17191924e-02, 2.84895767e-02, 5.57036046e-03,\n",
              "       1.03409158e-03, 6.07279874e-03, 1.83586348e-02, 5.20872511e-02,\n",
              "       1.22625738e-01, 1.74288601e-01, 1.87469631e-01, 1.77903831e-01,\n",
              "       2.30708972e-01, 2.96433240e-01, 3.47114444e-01, 3.80737305e-01,\n",
              "       3.76060128e-01, 3.38362426e-01, 3.09014529e-01, 3.30796391e-01,\n",
              "       3.58951360e-01, 3.49125922e-01, 3.04819793e-01, 2.42280871e-01,\n",
              "       1.79599345e-01, 1.74660563e-01, 1.83738396e-01, 1.46746740e-01,\n",
              "       8.30828398e-02, 3.24412473e-02, 1.48590403e-02, 2.61400337e-03,\n",
              "       6.90333618e-05, 5.66778646e-04, 3.36811366e-03, 1.55616775e-02,\n",
              "       4.83163223e-02, 7.92178661e-02, 8.03802684e-02, 6.55074641e-02,\n",
              "       8.61158222e-02, 1.18927881e-01, 1.62296355e-01, 2.02783957e-01,\n",
              "       2.05118522e-01, 1.78629994e-01, 1.63538456e-01, 1.75118327e-01,\n",
              "       1.93560407e-01, 1.76548973e-01, 1.32874027e-01, 9.00460333e-02,\n",
              "       6.55317605e-02, 6.99232593e-02, 8.73058140e-02, 6.60225824e-02,\n",
              "       2.99137812e-02, 9.32254642e-03, 3.03763803e-03, 2.02899988e-04],\n",
              "      dtype=float32)"
            ]
          },
          "metadata": {},
          "execution_count": 31
        }
      ]
    },
    {
      "cell_type": "code",
      "source": [
        "model_BNorm_before.get_weights()[2]"
      ],
      "metadata": {
        "colab": {
          "base_uri": "https://localhost:8080/"
        },
        "id": "UluDecOy9yeM",
        "outputId": "eaaabfdc-d635-4864-8c1c-a81fa314f1d2"
      },
      "execution_count": null,
      "outputs": [
        {
          "output_type": "execute_result",
          "data": {
            "text/plain": [
              "array([1.40718157e-05, 2.80749518e-05, 7.99122645e-05, 3.11819516e-04,\n",
              "       7.21364049e-04, 1.26450718e-03, 2.71426630e-03, 8.58123228e-03,\n",
              "       2.16315854e-02, 5.46520017e-02, 1.21288776e-01, 1.71486080e-01,\n",
              "       1.97270945e-01, 1.91406608e-01, 1.91601411e-01, 2.04561040e-01,\n",
              "       1.91705287e-01, 1.47457659e-01, 9.80920717e-02, 4.06508707e-02,\n",
              "       1.53269880e-02, 8.19090288e-03, 5.25587378e-03, 3.53743555e-03,\n",
              "       1.92906964e-03, 1.10100082e-03, 5.42180613e-04, 4.66858946e-05,\n",
              "       6.84265324e-05, 2.56312924e-04, 3.68866749e-04, 1.52391184e-03,\n",
              "       2.63515278e-03, 6.82364078e-03, 2.66927294e-02, 6.53759167e-02,\n",
              "       1.20471366e-01, 1.99731499e-01, 3.01901221e-01, 3.78255546e-01,\n",
              "       4.27851498e-01, 4.21786308e-01, 4.11521852e-01, 4.33340251e-01,\n",
              "       4.17929858e-01, 3.44765425e-01, 2.72778749e-01, 1.68784022e-01,\n",
              "       9.80306566e-02, 5.18344194e-02, 2.35200282e-02, 1.35938330e-02,\n",
              "       8.66300520e-03, 4.60999273e-03, 2.14295485e-03, 2.08978992e-04,\n",
              "       3.37832287e-04, 5.85407135e-04, 9.75927047e-04, 3.00278026e-03,\n",
              "       7.23123038e-03, 3.38404737e-02, 8.46249908e-02, 1.31030411e-01,\n",
              "       1.88281327e-01, 2.71560997e-01, 3.55311275e-01, 3.86558324e-01,\n",
              "       4.03407753e-01, 4.08814311e-01, 4.07082438e-01, 4.12248760e-01,\n",
              "       4.01126355e-01, 3.82357568e-01, 3.41800332e-01, 2.46052966e-01,\n",
              "       1.70612842e-01, 1.23338737e-01, 7.32681528e-02, 3.61568332e-02,\n",
              "       1.92376412e-02, 1.14711765e-02, 5.40385628e-03, 9.00446204e-04,\n",
              "       4.80017305e-04, 9.11460957e-04, 1.94360013e-03, 5.13273384e-03,\n",
              "       2.17963886e-02, 7.22400248e-02, 1.30372301e-01, 1.88521102e-01,\n",
              "       2.48581737e-01, 3.19420546e-01, 3.74866068e-01, 3.91304165e-01,\n",
              "       3.99612427e-01, 4.03128326e-01, 4.07136768e-01, 4.11927938e-01,\n",
              "       4.07769620e-01, 4.00949866e-01, 3.84364516e-01, 3.15617055e-01,\n",
              "       2.40823299e-01, 1.81973249e-01, 1.24627158e-01, 6.82647154e-02,\n",
              "       3.57683599e-02, 1.96430460e-02, 8.94315820e-03, 2.09940691e-03,\n",
              "       3.42945423e-04, 1.32271182e-03, 4.04076697e-03, 1.10023208e-02,\n",
              "       4.13572975e-02, 1.04718894e-01, 1.78908542e-01, 2.30195388e-01,\n",
              "       2.72726238e-01, 3.34902257e-01, 3.84836942e-01, 3.88219297e-01,\n",
              "       3.96349341e-01, 4.04115856e-01, 4.16521698e-01, 4.18658912e-01,\n",
              "       4.18541491e-01, 4.17193502e-01, 4.03940797e-01, 3.50735903e-01,\n",
              "       2.85531312e-01, 2.38440588e-01, 1.76645964e-01, 1.04817711e-01,\n",
              "       5.70582673e-02, 3.15783359e-02, 1.49709992e-02, 3.13222082e-03,\n",
              "       8.77180486e-04, 3.41218640e-03, 8.15313589e-03, 1.95316337e-02,\n",
              "       6.13986142e-02, 1.39195323e-01, 2.11831063e-01, 2.51990825e-01,\n",
              "       2.91601360e-01, 3.53343427e-01, 3.91265482e-01, 3.90547246e-01,\n",
              "       3.96137416e-01, 4.09321964e-01, 4.25652057e-01, 4.30276662e-01,\n",
              "       4.34906572e-01, 4.37227398e-01, 4.28212583e-01, 3.86918873e-01,\n",
              "       3.24227810e-01, 2.83467978e-01, 2.27507800e-01, 1.46880060e-01,\n",
              "       8.71644765e-02, 5.33426255e-02, 2.63220910e-02, 5.40324626e-03,\n",
              "       1.52787345e-03, 5.41380886e-03, 1.23112081e-02, 3.20959389e-02,\n",
              "       8.42989087e-02, 1.67376220e-01, 2.35579506e-01, 2.74563223e-01,\n",
              "       3.07765663e-01, 3.63724619e-01, 3.94114733e-01, 3.98299217e-01,\n",
              "       4.02374119e-01, 4.19593275e-01, 4.39948529e-01, 4.52254802e-01,\n",
              "       4.60132211e-01, 4.64709371e-01, 4.52637285e-01, 4.20024127e-01,\n",
              "       3.64122659e-01, 3.23811591e-01, 2.69069374e-01, 1.86483622e-01,\n",
              "       1.20506652e-01, 7.94938356e-02, 3.94017063e-02, 7.96064362e-03,\n",
              "       2.32687057e-03, 8.82330257e-03, 1.99059788e-02, 4.35233563e-02,\n",
              "       1.02503076e-01, 1.90379485e-01, 2.54634023e-01, 2.93409050e-01,\n",
              "       3.20959568e-01, 3.68505388e-01, 4.00390297e-01, 4.04502273e-01,\n",
              "       4.10927922e-01, 4.29011822e-01, 4.49268758e-01, 4.77254301e-01,\n",
              "       4.90749389e-01, 4.95515704e-01, 4.79244053e-01, 4.46629643e-01,\n",
              "       3.97723854e-01, 3.59560877e-01, 3.08494389e-01, 2.25178972e-01,\n",
              "       1.55356050e-01, 1.09741278e-01, 5.27105480e-02, 1.07802972e-02,\n",
              "       3.03350901e-03, 1.29885990e-02, 2.57799774e-02, 5.38491532e-02,\n",
              "       1.16316520e-01, 2.06935763e-01, 2.65836924e-01, 3.10892522e-01,\n",
              "       3.32392842e-01, 3.69970113e-01, 4.04758602e-01, 4.11660224e-01,\n",
              "       4.22945052e-01, 4.38760251e-01, 4.51413274e-01, 5.03804326e-01,\n",
              "       5.20037293e-01, 5.22443533e-01, 4.99697179e-01, 4.66534227e-01,\n",
              "       4.28993881e-01, 3.94634575e-01, 3.45783263e-01, 2.64059335e-01,\n",
              "       1.89218596e-01, 1.38186663e-01, 6.86558709e-02, 1.34928795e-02,\n",
              "       4.07067733e-03, 1.64154172e-02, 2.92889997e-02, 6.07689172e-02,\n",
              "       1.25808343e-01, 2.20254168e-01, 2.73557097e-01, 3.19490999e-01,\n",
              "       3.42655808e-01, 3.73529822e-01, 4.11908060e-01, 4.23356801e-01,\n",
              "       4.37711567e-01, 4.55668002e-01, 4.68711823e-01, 5.49596488e-01,\n",
              "       5.65070212e-01, 5.57379484e-01, 5.20089149e-01, 4.82797831e-01,\n",
              "       4.56237853e-01, 4.17102426e-01, 3.71559829e-01, 2.95980662e-01,\n",
              "       2.19691321e-01, 1.70613751e-01, 8.86330605e-02, 1.81468837e-02,\n",
              "       5.46095939e-03, 2.02718414e-02, 3.25884931e-02, 6.47424310e-02,\n",
              "       1.32422954e-01, 2.26007998e-01, 2.72154629e-01, 3.17854881e-01,\n",
              "       3.45618784e-01, 3.79692048e-01, 4.24412519e-01, 4.43643481e-01,\n",
              "       4.72222656e-01, 4.94306564e-01, 5.04881561e-01, 5.85261643e-01,\n",
              "       5.89394212e-01, 5.80186784e-01, 5.42885840e-01, 4.96776074e-01,\n",
              "       4.70452577e-01, 4.30305392e-01, 3.90056580e-01, 3.19070935e-01,\n",
              "       2.45557830e-01, 2.04075322e-01, 1.14395231e-01, 2.34075878e-02,\n",
              "       6.66285073e-03, 2.35603619e-02, 3.56945135e-02, 6.58691823e-02,\n",
              "       1.32400393e-01, 2.22863495e-01, 2.67947674e-01, 3.17021817e-01,\n",
              "       3.49328190e-01, 3.91624391e-01, 4.53787804e-01, 4.82218087e-01,\n",
              "       5.17271340e-01, 5.23599625e-01, 5.23377597e-01, 5.92809200e-01,\n",
              "       5.95162332e-01, 5.94310164e-01, 5.67127883e-01, 5.18359005e-01,\n",
              "       4.87688601e-01, 4.43100363e-01, 4.04870301e-01, 3.40705901e-01,\n",
              "       2.64964670e-01, 2.24023148e-01, 1.42198995e-01, 2.81543732e-02,\n",
              "       8.27590656e-03, 2.63403971e-02, 3.81402597e-02, 6.69538453e-02,\n",
              "       1.34473071e-01, 2.22389296e-01, 2.67300397e-01, 3.20110708e-01,\n",
              "       3.64513993e-01, 4.26118612e-01, 4.94116902e-01, 5.15963197e-01,\n",
              "       5.38738668e-01, 5.38366914e-01, 5.35153389e-01, 6.00903392e-01,\n",
              "       6.06349289e-01, 6.06544673e-01, 5.85521460e-01, 5.33526599e-01,\n",
              "       5.08040607e-01, 4.64048922e-01, 4.24016863e-01, 3.61593455e-01,\n",
              "       2.75284946e-01, 2.34752595e-01, 1.65805712e-01, 3.38722356e-02,\n",
              "       1.02080256e-02, 2.97424532e-02, 4.41148207e-02, 7.65954033e-02,\n",
              "       1.49393871e-01, 2.39695236e-01, 2.89778709e-01, 3.43189150e-01,\n",
              "       3.90871525e-01, 4.56253350e-01, 5.15559793e-01, 5.36423206e-01,\n",
              "       5.65600991e-01, 5.52128077e-01, 5.41747034e-01, 6.02917314e-01,\n",
              "       6.10920727e-01, 6.09893858e-01, 5.93603373e-01, 5.33376396e-01,\n",
              "       5.08982182e-01, 4.74262178e-01, 4.37562287e-01, 3.72777969e-01,\n",
              "       2.82502770e-01, 2.40447149e-01, 1.83765218e-01, 4.14178893e-02,\n",
              "       1.41908051e-02, 4.27595079e-02, 6.12510331e-02, 9.88210365e-02,\n",
              "       1.81522712e-01, 2.76679993e-01, 3.19177926e-01, 3.61274779e-01,\n",
              "       4.01083648e-01, 4.76270795e-01, 5.35155296e-01, 5.64248383e-01,\n",
              "       5.85059226e-01, 5.61800122e-01, 5.46498060e-01, 6.04849279e-01,\n",
              "       6.16951346e-01, 6.13270640e-01, 5.99631786e-01, 5.31852484e-01,\n",
              "       4.99656677e-01, 4.70751494e-01, 4.34850067e-01, 3.75229359e-01,\n",
              "       2.86273062e-01, 2.40924910e-01, 1.98539808e-01, 4.88635637e-02,\n",
              "       2.50345562e-02, 7.23849386e-02, 8.93173590e-02, 1.28893346e-01,\n",
              "       2.13909134e-01, 3.02521884e-01, 3.37196231e-01, 3.68274778e-01,\n",
              "       4.12650347e-01, 5.04035652e-01, 5.61499178e-01, 5.88489771e-01,\n",
              "       5.93291104e-01, 5.66326916e-01, 5.50499260e-01, 6.03237987e-01,\n",
              "       6.23785436e-01, 6.22717857e-01, 6.08267486e-01, 5.36312759e-01,\n",
              "       4.92157161e-01, 4.67482924e-01, 4.34068054e-01, 3.80100399e-01,\n",
              "       2.92839348e-01, 2.44846389e-01, 2.11787745e-01, 5.56698516e-02,\n",
              "       3.65030207e-02, 9.22220200e-02, 1.07496716e-01, 1.50449619e-01,\n",
              "       2.40026146e-01, 3.21452379e-01, 3.59889477e-01, 3.86545748e-01,\n",
              "       4.36639160e-01, 5.33031464e-01, 5.85890353e-01, 6.06126726e-01,\n",
              "       6.04918182e-01, 5.73987663e-01, 5.56533277e-01, 6.05661452e-01,\n",
              "       6.31461263e-01, 6.27258420e-01, 6.15383565e-01, 5.40042698e-01,\n",
              "       4.82099533e-01, 4.61763203e-01, 4.31384325e-01, 3.81192148e-01,\n",
              "       2.98064440e-01, 2.46041030e-01, 2.15695456e-01, 5.97058907e-02,\n",
              "       3.74324806e-02, 1.03547357e-01, 1.24190837e-01, 1.68158561e-01,\n",
              "       2.59151697e-01, 3.33094567e-01, 3.71465772e-01, 3.92723531e-01,\n",
              "       4.50389743e-01, 5.48758149e-01, 5.94580531e-01, 6.13108575e-01,\n",
              "       6.11423254e-01, 5.74091017e-01, 5.58988631e-01, 6.06769204e-01,\n",
              "       6.33011937e-01, 6.23502791e-01, 6.03065670e-01, 5.26746869e-01,\n",
              "       4.58735108e-01, 4.41758275e-01, 4.15684789e-01, 3.71370852e-01,\n",
              "       2.91662037e-01, 2.36616731e-01, 2.07819223e-01, 6.05164506e-02,\n",
              "       3.22376490e-02, 1.02129407e-01, 1.32571965e-01, 1.76805869e-01,\n",
              "       2.67384380e-01, 3.34849179e-01, 3.73041034e-01, 3.93303216e-01,\n",
              "       4.57283765e-01, 5.51559985e-01, 5.90894043e-01, 6.06972575e-01,\n",
              "       6.04540050e-01, 5.62712312e-01, 5.48723042e-01, 5.91441095e-01,\n",
              "       6.17559433e-01, 6.06719792e-01, 5.79672873e-01, 5.05924344e-01,\n",
              "       4.36048657e-01, 4.22169089e-01, 4.04059798e-01, 3.61773133e-01,\n",
              "       2.84662336e-01, 2.27048561e-01, 1.97843313e-01, 5.66952676e-02,\n",
              "       2.87182648e-02, 9.14390832e-02, 1.22944869e-01, 1.71636760e-01,\n",
              "       2.64007658e-01, 3.30107301e-01, 3.68921489e-01, 3.86004359e-01,\n",
              "       4.52286005e-01, 5.37806630e-01, 5.78596532e-01, 5.96780598e-01,\n",
              "       5.93886554e-01, 5.50313532e-01, 5.33569574e-01, 5.73440313e-01,\n",
              "       5.99465430e-01, 5.84711611e-01, 5.53692937e-01, 4.84401852e-01,\n",
              "       4.10538524e-01, 3.98731798e-01, 3.84556383e-01, 3.43810052e-01,\n",
              "       2.67253697e-01, 2.08828866e-01, 1.73309207e-01, 4.46745194e-02,\n",
              "       2.78942641e-02, 8.87764841e-02, 1.16017289e-01, 1.64649725e-01,\n",
              "       2.54176825e-01, 3.17388088e-01, 3.52803677e-01, 3.67760032e-01,\n",
              "       4.39770848e-01, 5.17732501e-01, 5.58623135e-01, 5.74966133e-01,\n",
              "       5.72777450e-01, 5.29937088e-01, 5.09657800e-01, 5.47165811e-01,\n",
              "       5.67964375e-01, 5.50759196e-01, 5.13727009e-01, 4.48200196e-01,\n",
              "       3.74339849e-01, 3.63772243e-01, 3.54206771e-01, 3.15580338e-01,\n",
              "       2.40534499e-01, 1.79316521e-01, 1.39838994e-01, 3.47697623e-02,\n",
              "       2.45290659e-02, 7.91392475e-02, 1.05871685e-01, 1.55325636e-01,\n",
              "       2.43329316e-01, 3.04445803e-01, 3.33972156e-01, 3.45323533e-01,\n",
              "       4.21210915e-01, 4.95667815e-01, 5.36319137e-01, 5.55577874e-01,\n",
              "       5.50923526e-01, 5.07404327e-01, 4.86560285e-01, 5.15412748e-01,\n",
              "       5.33119082e-01, 5.10141432e-01, 4.71987069e-01, 4.14323628e-01,\n",
              "       3.40772063e-01, 3.31537455e-01, 3.29004407e-01, 2.90164798e-01,\n",
              "       2.16897294e-01, 1.56504333e-01, 1.17222585e-01, 2.88662799e-02,\n",
              "       2.04255749e-02, 6.32974729e-02, 8.76033455e-02, 1.34383187e-01,\n",
              "       2.22629040e-01, 2.81363964e-01, 3.09068620e-01, 3.19335431e-01,\n",
              "       3.98670465e-01, 4.68317002e-01, 5.08537829e-01, 5.28559983e-01,\n",
              "       5.23827910e-01, 4.81307209e-01, 4.52552021e-01, 4.73790765e-01,\n",
              "       4.90965575e-01, 4.69506055e-01, 4.32012230e-01, 3.83394003e-01,\n",
              "       3.13548237e-01, 3.00754339e-01, 3.00083190e-01, 2.60014236e-01,\n",
              "       1.88657179e-01, 1.28809497e-01, 9.27015617e-02, 2.08637491e-02,\n",
              "       1.40566872e-02, 4.54520620e-02, 6.84259087e-02, 1.13722697e-01,\n",
              "       1.96029663e-01, 2.50741065e-01, 2.76925802e-01, 2.85933614e-01,\n",
              "       3.64408791e-01, 4.29934591e-01, 4.70883220e-01, 4.93174016e-01,\n",
              "       4.86753732e-01, 4.45216566e-01, 4.16063428e-01, 4.32753026e-01,\n",
              "       4.52993661e-01, 4.38098162e-01, 4.00103807e-01, 3.52369964e-01,\n",
              "       2.82312125e-01, 2.63773382e-01, 2.65230268e-01, 2.28044182e-01,\n",
              "       1.59026563e-01, 1.00520313e-01, 6.65850714e-02, 1.40210800e-02,\n",
              "       8.41860194e-03, 2.68998947e-02, 4.82519120e-02, 9.16823894e-02,\n",
              "       1.71745330e-01, 2.24624172e-01, 2.44559765e-01, 2.49607489e-01,\n",
              "       3.25317025e-01, 3.86820108e-01, 4.26478386e-01, 4.54132468e-01,\n",
              "       4.47238415e-01, 4.07196522e-01, 3.75521749e-01, 3.93114060e-01,\n",
              "       4.15783763e-01, 4.04358983e-01, 3.65901530e-01, 3.17697346e-01,\n",
              "       2.49079227e-01, 2.31521383e-01, 2.36344203e-01, 2.01524079e-01,\n",
              "       1.32778361e-01, 7.52631873e-02, 4.58350964e-02, 9.87205934e-03,\n",
              "       4.30652220e-03, 1.56721883e-02, 3.26407701e-02, 6.99895099e-02,\n",
              "       1.45410106e-01, 1.98421434e-01, 2.13378698e-01, 2.10667387e-01,\n",
              "       2.79954672e-01, 3.38163823e-01, 3.75598341e-01, 4.03933227e-01,\n",
              "       3.96864206e-01, 3.58015269e-01, 3.30955416e-01, 3.48170131e-01,\n",
              "       3.74402344e-01, 3.66075754e-01, 3.28090340e-01, 2.82472998e-01,\n",
              "       2.16210037e-01, 2.02037722e-01, 2.09362715e-01, 1.74334541e-01,\n",
              "       1.06300339e-01, 5.17191924e-02, 2.84895767e-02, 5.57036046e-03,\n",
              "       1.03409158e-03, 6.07279874e-03, 1.83586348e-02, 5.20872511e-02,\n",
              "       1.22625738e-01, 1.74288601e-01, 1.87469631e-01, 1.77903831e-01,\n",
              "       2.30708972e-01, 2.96433240e-01, 3.47114444e-01, 3.80737305e-01,\n",
              "       3.76060128e-01, 3.38362426e-01, 3.09014529e-01, 3.30796391e-01,\n",
              "       3.58951360e-01, 3.49125922e-01, 3.04819793e-01, 2.42280871e-01,\n",
              "       1.79599345e-01, 1.74660563e-01, 1.83738396e-01, 1.46746740e-01,\n",
              "       8.30828398e-02, 3.24412473e-02, 1.48590403e-02, 2.61400337e-03,\n",
              "       6.90333618e-05, 5.66778646e-04, 3.36811366e-03, 1.55616775e-02,\n",
              "       4.83163223e-02, 7.92178661e-02, 8.03802684e-02, 6.55074641e-02,\n",
              "       8.61158222e-02, 1.18927881e-01, 1.62296355e-01, 2.02783957e-01,\n",
              "       2.05118522e-01, 1.78629994e-01, 1.63538456e-01, 1.75118327e-01,\n",
              "       1.93560407e-01, 1.76548973e-01, 1.32874027e-01, 9.00460333e-02,\n",
              "       6.55317605e-02, 6.99232593e-02, 8.73058140e-02, 6.60225824e-02,\n",
              "       2.99137812e-02, 9.32254642e-03, 3.03763803e-03, 2.02899988e-04],\n",
              "      dtype=float32)"
            ]
          },
          "metadata": {},
          "execution_count": 32
        }
      ]
    },
    {
      "cell_type": "code",
      "source": [
        "x_train_new = X_train[:5000, : , :]"
      ],
      "metadata": {
        "id": "GlxH-19c-CMR"
      },
      "execution_count": null,
      "outputs": []
    },
    {
      "cell_type": "code",
      "source": [
        "## just find where y=9\n",
        "y_train_new = np.where(y_train==9 , 1, 0)[:5000]"
      ],
      "metadata": {
        "id": "3eFihT8Q-Inj"
      },
      "execution_count": null,
      "outputs": []
    },
    {
      "cell_type": "code",
      "source": [
        "new_model_1 = keras.models.Sequential(model_cloned.layers[:-1])\n",
        "new_model_1.add(keras.layers.Dense(1,activation=\"sigmoid\"))\n",
        "new_model_1.summary()"
      ],
      "metadata": {
        "colab": {
          "base_uri": "https://localhost:8080/"
        },
        "id": "8wMrqeVv-6sx",
        "outputId": "02b78ec6-ff11-4eb8-acf9-7d4edb3e5985"
      },
      "execution_count": null,
      "outputs": [
        {
          "output_type": "stream",
          "name": "stdout",
          "text": [
            "Model: \"sequential_5\"\n",
            "_________________________________________________________________\n",
            " Layer (type)                Output Shape              Param #   \n",
            "=================================================================\n",
            " flatten_3 (Flatten)         (None, 784)               0         \n",
            "                                                                 \n",
            " batch_normalization_2 (Bat  (None, 784)               3136      \n",
            " chNormalization)                                                \n",
            "                                                                 \n",
            " dense_9 (Dense)             (None, 50)                39250     \n",
            "                                                                 \n",
            " batch_normalization_3 (Bat  (None, 50)                200       \n",
            " chNormalization)                                                \n",
            "                                                                 \n",
            " activation (Activation)     (None, 50)                0         \n",
            "                                                                 \n",
            " dense_10 (Dense)            (None, 50)                2550      \n",
            "                                                                 \n",
            " batch_normalization_4 (Bat  (None, 50)                200       \n",
            " chNormalization)                                                \n",
            "                                                                 \n",
            " activation_1 (Activation)   (None, 50)                0         \n",
            "                                                                 \n",
            " dense_13 (Dense)            (None, 1)                 51        \n",
            "                                                                 \n",
            "=================================================================\n",
            "Total params: 45387 (177.29 KB)\n",
            "Trainable params: 43619 (170.39 KB)\n",
            "Non-trainable params: 1768 (6.91 KB)\n",
            "_________________________________________________________________\n"
          ]
        }
      ]
    },
    {
      "cell_type": "code",
      "source": [
        "new_model_1.compile(loss=\"binary_crossentropy\",\n",
        "                    optimizer=\"sgd\",\n",
        "                    metrics=[\"accuracy\"])"
      ],
      "metadata": {
        "id": "8IZuWNRTACeB"
      },
      "execution_count": null,
      "outputs": []
    },
    {
      "cell_type": "code",
      "source": [
        "new_model_1.fit(x_train_new, y_train_new, epochs = 15, validation_split=0.15)"
      ],
      "metadata": {
        "colab": {
          "base_uri": "https://localhost:8080/"
        },
        "id": "RbprepdiAZES",
        "outputId": "4966ecff-fb94-4792-fc45-36f971fd3f6b"
      },
      "execution_count": null,
      "outputs": [
        {
          "output_type": "stream",
          "name": "stdout",
          "text": [
            "Epoch 1/15\n",
            "133/133 [==============================] - 2s 5ms/step - loss: 0.3953 - accuracy: 0.8499 - val_loss: 0.1993 - val_accuracy: 0.9547\n",
            "Epoch 2/15\n",
            "133/133 [==============================] - 0s 3ms/step - loss: 0.1743 - accuracy: 0.9607 - val_loss: 0.1186 - val_accuracy: 0.9773\n",
            "Epoch 3/15\n",
            "133/133 [==============================] - 0s 3ms/step - loss: 0.1133 - accuracy: 0.9774 - val_loss: 0.0855 - val_accuracy: 0.9853\n",
            "Epoch 4/15\n",
            "133/133 [==============================] - 0s 3ms/step - loss: 0.0885 - accuracy: 0.9816 - val_loss: 0.0665 - val_accuracy: 0.9880\n",
            "Epoch 5/15\n",
            "133/133 [==============================] - 0s 3ms/step - loss: 0.0759 - accuracy: 0.9828 - val_loss: 0.0556 - val_accuracy: 0.9880\n",
            "Epoch 6/15\n",
            "133/133 [==============================] - 0s 3ms/step - loss: 0.0589 - accuracy: 0.9866 - val_loss: 0.0461 - val_accuracy: 0.9880\n",
            "Epoch 7/15\n",
            "133/133 [==============================] - 0s 3ms/step - loss: 0.0549 - accuracy: 0.9887 - val_loss: 0.0425 - val_accuracy: 0.9880\n",
            "Epoch 8/15\n",
            "133/133 [==============================] - 0s 3ms/step - loss: 0.0480 - accuracy: 0.9894 - val_loss: 0.0370 - val_accuracy: 0.9907\n",
            "Epoch 9/15\n",
            "133/133 [==============================] - 0s 3ms/step - loss: 0.0443 - accuracy: 0.9880 - val_loss: 0.0357 - val_accuracy: 0.9880\n",
            "Epoch 10/15\n",
            "133/133 [==============================] - 0s 3ms/step - loss: 0.0425 - accuracy: 0.9880 - val_loss: 0.0347 - val_accuracy: 0.9880\n",
            "Epoch 11/15\n",
            "133/133 [==============================] - 0s 3ms/step - loss: 0.0384 - accuracy: 0.9908 - val_loss: 0.0355 - val_accuracy: 0.9880\n",
            "Epoch 12/15\n",
            "133/133 [==============================] - 0s 3ms/step - loss: 0.0344 - accuracy: 0.9918 - val_loss: 0.0330 - val_accuracy: 0.9893\n",
            "Epoch 13/15\n",
            "133/133 [==============================] - 0s 3ms/step - loss: 0.0317 - accuracy: 0.9925 - val_loss: 0.0284 - val_accuracy: 0.9880\n",
            "Epoch 14/15\n",
            "133/133 [==============================] - 0s 3ms/step - loss: 0.0290 - accuracy: 0.9934 - val_loss: 0.0309 - val_accuracy: 0.9893\n",
            "Epoch 15/15\n",
            "133/133 [==============================] - 0s 3ms/step - loss: 0.0277 - accuracy: 0.9934 - val_loss: 0.0287 - val_accuracy: 0.9893\n"
          ]
        },
        {
          "output_type": "execute_result",
          "data": {
            "text/plain": [
              "<keras.src.callbacks.History at 0x7e5cb3990c10>"
            ]
          },
          "metadata": {},
          "execution_count": 38
        }
      ]
    },
    {
      "cell_type": "code",
      "source": [
        "new_model_1.get_weights()[-1]"
      ],
      "metadata": {
        "colab": {
          "base_uri": "https://localhost:8080/"
        },
        "id": "Fi7DQQl5A6tA",
        "outputId": "0e67602d-30c5-4a5a-cc1d-60264330d282"
      },
      "execution_count": null,
      "outputs": [
        {
          "output_type": "execute_result",
          "data": {
            "text/plain": [
              "array([-0.91616434], dtype=float32)"
            ]
          },
          "metadata": {},
          "execution_count": 39
        }
      ]
    }
  ]
}