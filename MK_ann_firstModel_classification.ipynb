{
  "nbformat": 4,
  "nbformat_minor": 0,
  "metadata": {
    "colab": {
      "provenance": [],
      "authorship_tag": "ABX9TyO+fAlK9/eEdYU9ZF5wxP+C",
      "include_colab_link": true
    },
    "kernelspec": {
      "name": "python3",
      "display_name": "Python 3"
    },
    "language_info": {
      "name": "python"
    }
  },
  "cells": [
    {
      "cell_type": "markdown",
      "metadata": {
        "id": "view-in-github",
        "colab_type": "text"
      },
      "source": [
        "<a href=\"https://colab.research.google.com/github/amirgarsha/ann_MK/blob/main/MK_ann_firstModel_classification.ipynb\" target=\"_parent\"><img src=\"https://colab.research.google.com/assets/colab-badge.svg\" alt=\"Open In Colab\"/></a>"
      ]
    },
    {
      "cell_type": "markdown",
      "source": [
        "import Libraries & load Data"
      ],
      "metadata": {
        "id": "64rIBkduoFB8"
      }
    },
    {
      "cell_type": "code",
      "execution_count": 1,
      "metadata": {
        "id": "ORmsaNA7lWph"
      },
      "outputs": [],
      "source": [
        "import tensorflow as tf\n",
        "from tensorflow import keras"
      ]
    },
    {
      "cell_type": "code",
      "source": [
        "import matplotlib.pyplot as plt"
      ],
      "metadata": {
        "id": "CYPgeetHln8Q"
      },
      "execution_count": 2,
      "outputs": []
    },
    {
      "cell_type": "code",
      "source": [
        "## load data : fashion_mnist\n",
        "mnist_fashion = keras.datasets.fashion_mnist\n",
        "(x_train, y_train), (x_test, y_test) = mnist_fashion.load_data()"
      ],
      "metadata": {
        "colab": {
          "base_uri": "https://localhost:8080/"
        },
        "id": "YW-69ZDtls0m",
        "outputId": "2e021881-d11f-42fb-ee88-e4eb4f591470"
      },
      "execution_count": 3,
      "outputs": [
        {
          "output_type": "stream",
          "name": "stdout",
          "text": [
            "Downloading data from https://storage.googleapis.com/tensorflow/tf-keras-datasets/train-labels-idx1-ubyte.gz\n",
            "29515/29515 [==============================] - 0s 0us/step\n",
            "Downloading data from https://storage.googleapis.com/tensorflow/tf-keras-datasets/train-images-idx3-ubyte.gz\n",
            "26421880/26421880 [==============================] - 0s 0us/step\n",
            "Downloading data from https://storage.googleapis.com/tensorflow/tf-keras-datasets/t10k-labels-idx1-ubyte.gz\n",
            "5148/5148 [==============================] - 0s 0us/step\n",
            "Downloading data from https://storage.googleapis.com/tensorflow/tf-keras-datasets/t10k-images-idx3-ubyte.gz\n",
            "4422102/4422102 [==============================] - 0s 0us/step\n"
          ]
        }
      ]
    },
    {
      "cell_type": "markdown",
      "source": [
        "Define Model"
      ],
      "metadata": {
        "id": "Fh_sOWGfoK11"
      }
    },
    {
      "cell_type": "code",
      "source": [
        "## show one sample of data\n",
        "plt.imshow(x_train[10,], cmap=\"gray\")"
      ],
      "metadata": {
        "colab": {
          "base_uri": "https://localhost:8080/",
          "height": 448
        },
        "id": "K3jSLzstmAWa",
        "outputId": "d646f1b1-6729-4229-d3f6-67e88c9642f5"
      },
      "execution_count": 4,
      "outputs": [
        {
          "output_type": "execute_result",
          "data": {
            "text/plain": [
              "<matplotlib.image.AxesImage at 0x7ab8a1998fa0>"
            ]
          },
          "metadata": {},
          "execution_count": 4
        },
        {
          "output_type": "display_data",
          "data": {
            "text/plain": [
              "<Figure size 640x480 with 1 Axes>"
            ],
            "image/png": "[encoded data removed]"
          },
          "metadata": {}
        }
      ]
    },
    {
      "cell_type": "code",
      "source": [
        "##define Model\n",
        "model = keras.models.Sequential([\n",
        "    keras.layers.Flatten(input_shape=[28, 28]),\n",
        "    keras.layers.Dense(100, activation=\"relu\"),\n",
        "    keras.layers.Dense(75, activation=\"relu\"),\n",
        "    keras.layers.Dense(10, activation=\"softmax\")\n",
        "])"
      ],
      "metadata": {
        "id": "9zzlRUD5mPLz"
      },
      "execution_count": 5,
      "outputs": []
    },
    {
      "cell_type": "code",
      "source": [
        "model.summary()"
      ],
      "metadata": {
        "colab": {
          "base_uri": "https://localhost:8080/"
        },
        "id": "TMJhzBacnYGe",
        "outputId": "9e0f4ee1-4ecc-4876-b3ab-ac27d3915386"
      },
      "execution_count": 6,
      "outputs": [
        {
          "output_type": "stream",
          "name": "stdout",
          "text": [
            "Model: \"sequential\"\n",
            "_________________________________________________________________\n",
            " Layer (type)                Output Shape              Param #   \n",
            "=================================================================\n",
            " flatten (Flatten)           (None, 784)               0         \n",
            "                                                                 \n",
            " dense (Dense)               (None, 100)               78500     \n",
            "                                                                 \n",
            " dense_1 (Dense)             (None, 75)                7575      \n",
            "                                                                 \n",
            " dense_2 (Dense)             (None, 10)                760       \n",
            "                                                                 \n",
            "=================================================================\n",
            "Total params: 86835 (339.20 KB)\n",
            "Trainable params: 86835 (339.20 KB)\n",
            "Non-trainable params: 0 (0.00 Byte)\n",
            "_________________________________________________________________\n"
          ]
        }
      ]
    },
    {
      "cell_type": "code",
      "source": [
        "weight, bias = model.layers[1].get_weights()"
      ],
      "metadata": {
        "id": "h7YNNrcnnbPU"
      },
      "execution_count": 7,
      "outputs": []
    },
    {
      "cell_type": "code",
      "source": [
        "bias"
      ],
      "metadata": {
        "colab": {
          "base_uri": "https://localhost:8080/"
        },
        "id": "Et38hj9Zn22n",
        "outputId": "2612c758-31bc-4d73-8d43-f676adb42a28"
      },
      "execution_count": null,
      "outputs": [
        {
          "output_type": "execute_result",
          "data": {
            "text/plain": [
              "array([0., 0., 0., 0., 0., 0., 0., 0., 0., 0., 0., 0., 0., 0., 0., 0., 0.,\n",
              "       0., 0., 0., 0., 0., 0., 0., 0., 0., 0., 0., 0., 0., 0., 0., 0., 0.,\n",
              "       0., 0., 0., 0., 0., 0., 0., 0., 0., 0., 0., 0., 0., 0., 0., 0., 0.,\n",
              "       0., 0., 0., 0., 0., 0., 0., 0., 0., 0., 0., 0., 0., 0., 0., 0., 0.,\n",
              "       0., 0., 0., 0., 0., 0., 0., 0., 0., 0., 0., 0., 0., 0., 0., 0., 0.,\n",
              "       0., 0., 0., 0., 0., 0., 0., 0., 0., 0., 0., 0., 0., 0., 0.],\n",
              "      dtype=float32)"
            ]
          },
          "metadata": {},
          "execution_count": 8
        }
      ]
    },
    {
      "cell_type": "code",
      "source": [
        "weight"
      ],
      "metadata": {
        "colab": {
          "base_uri": "https://localhost:8080/"
        },
        "id": "-IMNvqEvn8ot",
        "outputId": "c9c9ada3-56ec-4d0a-fc2d-f75e8295e3f2"
      },
      "execution_count": 8,
      "outputs": [
        {
          "output_type": "execute_result",
          "data": {
            "text/plain": [
              "array([[-0.03949356,  0.01795442, -0.01479724, ...,  0.04370251,\n",
              "        -0.0738754 ,  0.07642175],\n",
              "       [ 0.07848798, -0.00630408,  0.02637365, ...,  0.07482521,\n",
              "        -0.07811711,  0.01557493],\n",
              "       [ 0.07339436,  0.04189599, -0.02306978, ..., -0.07173826,\n",
              "         0.00167153, -0.03197807],\n",
              "       ...,\n",
              "       [-0.05904214,  0.0358541 , -0.02712252, ...,  0.07111849,\n",
              "        -0.03219971, -0.03385783],\n",
              "       [ 0.07715923, -0.00677944, -0.04317274, ...,  0.07620513,\n",
              "        -0.05838967, -0.04439794],\n",
              "       [-0.04835209, -0.02555967,  0.05112492, ...,  0.00124064,\n",
              "         0.07688431,  0.00592738]], dtype=float32)"
            ]
          },
          "metadata": {},
          "execution_count": 8
        }
      ]
    },
    {
      "cell_type": "markdown",
      "source": [
        "Compile Model"
      ],
      "metadata": {
        "id": "0538HS9nsygk"
      }
    },
    {
      "cell_type": "code",
      "source": [
        "model.compile(loss=\"sparse_categorical_crossentropy\",\n",
        "              optimizer=\"sgd\",\n",
        "              metrics=[\"accuracy\"])"
      ],
      "metadata": {
        "id": "ePFqYMJJtqjq"
      },
      "execution_count": 9,
      "outputs": []
    },
    {
      "cell_type": "code",
      "source": [
        "##fit model\n",
        "history = model.fit(x_train, y_train, epochs=50, validation_split=0.15)"
      ],
      "metadata": {
        "colab": {
          "base_uri": "https://localhost:8080/"
        },
        "id": "kK7jWt-ZuKvG",
        "outputId": "6c9bb193-6d84-4c3a-989a-2264fca4165b"
      },
      "execution_count": 15,
      "outputs": [
        {
          "output_type": "stream",
          "name": "stdout",
          "text": [
            "Epoch 1/50\n",
            "1594/1594 [==============================] - 4s 3ms/step - loss: 2.3027 - accuracy: 0.1003 - val_loss: 2.6106 - val_accuracy: 0.0973\n",
            "Epoch 2/50\n",
            "1594/1594 [==============================] - 4s 3ms/step - loss: 2.3027 - accuracy: 0.0989 - val_loss: 2.6105 - val_accuracy: 0.0943\n",
            "Epoch 3/50\n",
            "1594/1594 [==============================] - 6s 4ms/step - loss: 2.3027 - accuracy: 0.0977 - val_loss: 2.6106 - val_accuracy: 0.0943\n",
            "Epoch 4/50\n",
            "1594/1594 [==============================] - 4s 3ms/step - loss: 2.3027 - accuracy: 0.0998 - val_loss: 2.6106 - val_accuracy: 0.0969\n",
            "Epoch 5/50\n",
            "1594/1594 [==============================] - 4s 3ms/step - loss: 2.3027 - accuracy: 0.1006 - val_loss: 2.6106 - val_accuracy: 0.0943\n",
            "Epoch 6/50\n",
            "1594/1594 [==============================] - 6s 4ms/step - loss: 2.3027 - accuracy: 0.0978 - val_loss: 2.6105 - val_accuracy: 0.0943\n",
            "Epoch 7/50\n",
            "1594/1594 [==============================] - 4s 3ms/step - loss: 2.3027 - accuracy: 0.0997 - val_loss: 2.6106 - val_accuracy: 0.0943\n",
            "Epoch 8/50\n",
            "1594/1594 [==============================] - 4s 3ms/step - loss: 2.3027 - accuracy: 0.0986 - val_loss: 2.6106 - val_accuracy: 0.0943\n",
            "Epoch 9/50\n",
            "1594/1594 [==============================] - 6s 4ms/step - loss: 2.3027 - accuracy: 0.0978 - val_loss: 2.6106 - val_accuracy: 0.0943\n",
            "Epoch 10/50\n",
            "1594/1594 [==============================] - 4s 3ms/step - loss: 2.3027 - accuracy: 0.1000 - val_loss: 2.6106 - val_accuracy: 0.0969\n",
            "Epoch 11/50\n",
            "1594/1594 [==============================] - 4s 3ms/step - loss: 2.3027 - accuracy: 0.0983 - val_loss: 2.6105 - val_accuracy: 0.0969\n",
            "Epoch 12/50\n",
            "1594/1594 [==============================] - 6s 4ms/step - loss: 2.3027 - accuracy: 0.0986 - val_loss: 2.6105 - val_accuracy: 0.0969\n",
            "Epoch 13/50\n",
            "1594/1594 [==============================] - 4s 3ms/step - loss: 2.3027 - accuracy: 0.0980 - val_loss: 2.6105 - val_accuracy: 0.0969\n",
            "Epoch 14/50\n",
            "1594/1594 [==============================] - 4s 3ms/step - loss: 2.3027 - accuracy: 0.0984 - val_loss: 2.6107 - val_accuracy: 0.0943\n",
            "Epoch 15/50\n",
            "1594/1594 [==============================] - 6s 4ms/step - loss: 2.3027 - accuracy: 0.1003 - val_loss: 2.6105 - val_accuracy: 0.0969\n",
            "Epoch 16/50\n",
            "1594/1594 [==============================] - 4s 3ms/step - loss: 2.3027 - accuracy: 0.0995 - val_loss: 2.6107 - val_accuracy: 0.0973\n",
            "Epoch 17/50\n",
            "1594/1594 [==============================] - 4s 3ms/step - loss: 2.3027 - accuracy: 0.0999 - val_loss: 2.6106 - val_accuracy: 0.0943\n",
            "Epoch 18/50\n",
            "1594/1594 [==============================] - 5s 3ms/step - loss: 2.3027 - accuracy: 0.0999 - val_loss: 2.6105 - val_accuracy: 0.0973\n",
            "Epoch 19/50\n",
            "1594/1594 [==============================] - 5s 3ms/step - loss: 2.3027 - accuracy: 0.0985 - val_loss: 2.6105 - val_accuracy: 0.0969\n",
            "Epoch 20/50\n",
            "1594/1594 [==============================] - 4s 3ms/step - loss: 2.3027 - accuracy: 0.0987 - val_loss: 2.6106 - val_accuracy: 0.0969\n",
            "Epoch 21/50\n",
            "1594/1594 [==============================] - 5s 3ms/step - loss: 2.3027 - accuracy: 0.1004 - val_loss: 2.6106 - val_accuracy: 0.0969\n",
            "Epoch 22/50\n",
            "1594/1594 [==============================] - 4s 3ms/step - loss: 2.3027 - accuracy: 0.0994 - val_loss: 2.6106 - val_accuracy: 0.0969\n",
            "Epoch 23/50\n",
            "1594/1594 [==============================] - 4s 3ms/step - loss: 2.3027 - accuracy: 0.0986 - val_loss: 2.6105 - val_accuracy: 0.0999\n",
            "Epoch 24/50\n",
            "1594/1594 [==============================] - 6s 4ms/step - loss: 2.3027 - accuracy: 0.0984 - val_loss: 2.6106 - val_accuracy: 0.0943\n",
            "Epoch 25/50\n",
            "1594/1594 [==============================] - 4s 3ms/step - loss: 2.3027 - accuracy: 0.0998 - val_loss: 2.6106 - val_accuracy: 0.0969\n",
            "Epoch 26/50\n",
            "1594/1594 [==============================] - 4s 3ms/step - loss: 2.3027 - accuracy: 0.0976 - val_loss: 2.6105 - val_accuracy: 0.0969\n",
            "Epoch 27/50\n",
            "1594/1594 [==============================] - 5s 3ms/step - loss: 2.3027 - accuracy: 0.0999 - val_loss: 2.6106 - val_accuracy: 0.0969\n",
            "Epoch 28/50\n",
            "1594/1594 [==============================] - 4s 3ms/step - loss: 2.3027 - accuracy: 0.0979 - val_loss: 2.6105 - val_accuracy: 0.0943\n",
            "Epoch 29/50\n",
            "1594/1594 [==============================] - 4s 3ms/step - loss: 2.3027 - accuracy: 0.1007 - val_loss: 2.6104 - val_accuracy: 0.0943\n",
            "Epoch 30/50\n",
            "1594/1594 [==============================] - 6s 4ms/step - loss: 2.3027 - accuracy: 0.1001 - val_loss: 2.6105 - val_accuracy: 0.0943\n",
            "Epoch 31/50\n",
            "1594/1594 [==============================] - 4s 3ms/step - loss: 2.3027 - accuracy: 0.0987 - val_loss: 2.6106 - val_accuracy: 0.0943\n",
            "Epoch 32/50\n",
            "1594/1594 [==============================] - 4s 3ms/step - loss: 2.3027 - accuracy: 0.0958 - val_loss: 2.6105 - val_accuracy: 0.0943\n",
            "Epoch 33/50\n",
            "1594/1594 [==============================] - 6s 4ms/step - loss: 2.3027 - accuracy: 0.0993 - val_loss: 2.6105 - val_accuracy: 0.0943\n",
            "Epoch 34/50\n",
            "1594/1594 [==============================] - 4s 3ms/step - loss: 2.3027 - accuracy: 0.0996 - val_loss: 2.6106 - val_accuracy: 0.0943\n",
            "Epoch 35/50\n",
            "1594/1594 [==============================] - 4s 3ms/step - loss: 2.3027 - accuracy: 0.0990 - val_loss: 2.6106 - val_accuracy: 0.0943\n",
            "Epoch 36/50\n",
            "1594/1594 [==============================] - 5s 3ms/step - loss: 2.3027 - accuracy: 0.0982 - val_loss: 2.6106 - val_accuracy: 0.0969\n",
            "Epoch 37/50\n",
            "1594/1594 [==============================] - 4s 3ms/step - loss: 2.3027 - accuracy: 0.0996 - val_loss: 2.6106 - val_accuracy: 0.0943\n",
            "Epoch 38/50\n",
            "1594/1594 [==============================] - 4s 3ms/step - loss: 2.3027 - accuracy: 0.0989 - val_loss: 2.6106 - val_accuracy: 0.0943\n",
            "Epoch 39/50\n",
            "1594/1594 [==============================] - 6s 4ms/step - loss: 2.3027 - accuracy: 0.0988 - val_loss: 2.6106 - val_accuracy: 0.0943\n",
            "Epoch 40/50\n",
            "1594/1594 [==============================] - 4s 3ms/step - loss: 2.3027 - accuracy: 0.0983 - val_loss: 2.6106 - val_accuracy: 0.0943\n",
            "Epoch 41/50\n",
            "1594/1594 [==============================] - 4s 3ms/step - loss: 2.3027 - accuracy: 0.0982 - val_loss: 2.6105 - val_accuracy: 0.0969\n",
            "Epoch 42/50\n",
            "1594/1594 [==============================] - 6s 4ms/step - loss: 2.3027 - accuracy: 0.0984 - val_loss: 2.6105 - val_accuracy: 0.0969\n",
            "Epoch 43/50\n",
            "1594/1594 [==============================] - 4s 3ms/step - loss: 2.3027 - accuracy: 0.0971 - val_loss: 2.6105 - val_accuracy: 0.0969\n",
            "Epoch 44/50\n",
            "1594/1594 [==============================] - 4s 3ms/step - loss: 2.3027 - accuracy: 0.0987 - val_loss: 2.6105 - val_accuracy: 0.0991\n",
            "Epoch 45/50\n",
            "1594/1594 [==============================] - 5s 3ms/step - loss: 2.3027 - accuracy: 0.0992 - val_loss: 2.6106 - val_accuracy: 0.0999\n",
            "Epoch 46/50\n",
            "1594/1594 [==============================] - 5s 3ms/step - loss: 2.3027 - accuracy: 0.0994 - val_loss: 2.6105 - val_accuracy: 0.0943\n",
            "Epoch 47/50\n",
            "1594/1594 [==============================] - 4s 3ms/step - loss: 2.3027 - accuracy: 0.0993 - val_loss: 2.6105 - val_accuracy: 0.0973\n",
            "Epoch 48/50\n",
            "1594/1594 [==============================] - 5s 3ms/step - loss: 2.3027 - accuracy: 0.0984 - val_loss: 2.6106 - val_accuracy: 0.0943\n",
            "Epoch 49/50\n",
            "1594/1594 [==============================] - 5s 3ms/step - loss: 2.3027 - accuracy: 0.0994 - val_loss: 2.6105 - val_accuracy: 0.0943\n",
            "Epoch 50/50\n",
            "1594/1594 [==============================] - 4s 3ms/step - loss: 2.3027 - accuracy: 0.0985 - val_loss: 2.6106 - val_accuracy: 0.0943\n"
          ]
        }
      ]
    },
    {
      "cell_type": "code",
      "source": [
        "history.history"
      ],
      "metadata": {
        "colab": {
          "base_uri": "https://localhost:8080/"
        },
        "id": "shHFEHjt7Gl3",
        "outputId": "f05d37c7-09a0-4951-d2b1-efe32eda9a80"
      },
      "execution_count": null,
      "outputs": [
        {
          "output_type": "execute_result",
          "data": {
            "text/plain": [
              "{'loss': [598598016.0,\n",
              "  2.3027002811431885,\n",
              "  2.302680492401123,\n",
              "  2.302673816680908,\n",
              "  2.3026866912841797,\n",
              "  2.302664041519165,\n",
              "  2.3026890754699707,\n",
              "  2.3026814460754395,\n",
              "  2.3026647567749023,\n",
              "  2.302691698074341,\n",
              "  2.302668333053589,\n",
              "  2.302680253982544,\n",
              "  2.3026609420776367,\n",
              "  2.3026838302612305,\n",
              "  2.3026793003082275,\n",
              "  2.3026862144470215,\n",
              "  2.3026771545410156,\n",
              "  2.302680492401123,\n",
              "  2.3026926517486572,\n",
              "  2.30267596244812,\n",
              "  2.3026859760284424,\n",
              "  2.3026723861694336,\n",
              "  2.3026692867279053,\n",
              "  2.302682399749756,\n",
              "  2.302685260772705,\n",
              "  2.3026888370513916,\n",
              "  2.302678346633911,\n",
              "  2.3026819229125977,\n",
              "  2.3026678562164307,\n",
              "  2.302663803100586,\n",
              "  2.3026814460754395,\n",
              "  2.3026797771453857,\n",
              "  2.3026843070983887,\n",
              "  2.30267333984375,\n",
              "  2.3026933670043945,\n",
              "  2.302685260772705,\n",
              "  2.302671432495117,\n",
              "  2.3026840686798096,\n",
              "  2.302669048309326,\n",
              "  2.302685260772705,\n",
              "  2.3026773929595947,\n",
              "  2.3026812076568604,\n",
              "  2.3026785850524902,\n",
              "  2.30267071723938,\n",
              "  2.3026788234710693,\n",
              "  2.3026795387268066,\n",
              "  2.302682399749756,\n",
              "  2.3026907444000244,\n",
              "  2.302659034729004,\n",
              "  2.30267596244812],\n",
              " 'accuracy': [0.0972352921962738,\n",
              "  0.0977058857679367,\n",
              "  0.09845098108053207,\n",
              "  0.09937255084514618,\n",
              "  0.10001961141824722,\n",
              "  0.09896078705787659,\n",
              "  0.09805882722139359,\n",
              "  0.0994705855846405,\n",
              "  0.09996078163385391,\n",
              "  0.0994705855846405,\n",
              "  0.09982352703809738,\n",
              "  0.09972549229860306,\n",
              "  0.10182353109121323,\n",
              "  0.09927450865507126,\n",
              "  0.0972156897187233,\n",
              "  0.0981176495552063,\n",
              "  0.09821568429470062,\n",
              "  0.09821568429470062,\n",
              "  0.09776470810174942,\n",
              "  0.0967450961470604,\n",
              "  0.09870588034391403,\n",
              "  0.09945098310709,\n",
              "  0.09796078503131866,\n",
              "  0.09896078705787659,\n",
              "  0.09860784560441971,\n",
              "  0.09845098108053207,\n",
              "  0.09735294431447983,\n",
              "  0.09835293889045715,\n",
              "  0.10092157125473022,\n",
              "  0.10015686601400375,\n",
              "  0.09794117510318756,\n",
              "  0.09968627244234085,\n",
              "  0.09843137115240097,\n",
              "  0.10072548687458038,\n",
              "  0.09952941536903381,\n",
              "  0.09960784018039703,\n",
              "  0.09874510020017624,\n",
              "  0.09843137115240097,\n",
              "  0.09978431463241577,\n",
              "  0.098549023270607,\n",
              "  0.0976862758398056,\n",
              "  0.09841176122426987,\n",
              "  0.09774509817361832,\n",
              "  0.10117647051811218,\n",
              "  0.100352942943573,\n",
              "  0.10141176730394363,\n",
              "  0.09960784018039703,\n",
              "  0.09703921526670456,\n",
              "  0.09829411655664444,\n",
              "  0.09784314036369324],\n",
              " 'val_loss': [2.3027114868164062,\n",
              "  2.3027701377868652,\n",
              "  2.302793025970459,\n",
              "  2.3027782440185547,\n",
              "  2.3028202056884766,\n",
              "  2.302659273147583,\n",
              "  2.3027501106262207,\n",
              "  2.30279541015625,\n",
              "  2.3028860092163086,\n",
              "  2.302903413772583,\n",
              "  2.302823066711426,\n",
              "  2.302879810333252,\n",
              "  2.302781820297241,\n",
              "  2.3028035163879395,\n",
              "  2.3027842044830322,\n",
              "  2.302931547164917,\n",
              "  2.3028271198272705,\n",
              "  2.3028860092163086,\n",
              "  2.3027894496917725,\n",
              "  2.3028433322906494,\n",
              "  2.3028109073638916,\n",
              "  2.302772283554077,\n",
              "  2.3027937412261963,\n",
              "  2.3029165267944336,\n",
              "  2.302830934524536,\n",
              "  2.302849769592285,\n",
              "  2.3029308319091797,\n",
              "  2.3029122352600098,\n",
              "  2.302821397781372,\n",
              "  2.30285906791687,\n",
              "  2.3029472827911377,\n",
              "  2.3029558658599854,\n",
              "  2.302827835083008,\n",
              "  2.302835702896118,\n",
              "  2.302795886993408,\n",
              "  2.302849054336548,\n",
              "  2.302941083908081,\n",
              "  2.302941083908081,\n",
              "  2.302928924560547,\n",
              "  2.3028273582458496,\n",
              "  2.303025960922241,\n",
              "  2.3028502464294434,\n",
              "  2.302867889404297,\n",
              "  2.302790641784668,\n",
              "  2.302933692932129,\n",
              "  2.3028578758239746,\n",
              "  2.302779197692871,\n",
              "  2.3028151988983154,\n",
              "  2.302973747253418,\n",
              "  2.3029439449310303],\n",
              " 'val_accuracy': [0.09433333575725555,\n",
              "  0.09433333575725555,\n",
              "  0.09688889235258102,\n",
              "  0.09688889235258102,\n",
              "  0.09688889235258102,\n",
              "  0.10333333164453506,\n",
              "  0.09433333575725555,\n",
              "  0.09688889235258102,\n",
              "  0.09433333575725555,\n",
              "  0.09433333575725555,\n",
              "  0.09433333575725555,\n",
              "  0.09433333575725555,\n",
              "  0.0998888909816742,\n",
              "  0.09688889235258102,\n",
              "  0.09688889235258102,\n",
              "  0.09688889235258102,\n",
              "  0.09688889235258102,\n",
              "  0.09688889235258102,\n",
              "  0.09433333575725555,\n",
              "  0.09433333575725555,\n",
              "  0.09433333575725555,\n",
              "  0.09688889235258102,\n",
              "  0.09733333438634872,\n",
              "  0.09688889235258102,\n",
              "  0.09688889235258102,\n",
              "  0.09688889235258102,\n",
              "  0.09433333575725555,\n",
              "  0.09433333575725555,\n",
              "  0.09433333575725555,\n",
              "  0.09688889235258102,\n",
              "  0.09433333575725555,\n",
              "  0.09433333575725555,\n",
              "  0.09688889235258102,\n",
              "  0.09688889235258102,\n",
              "  0.09688889235258102,\n",
              "  0.09433333575725555,\n",
              "  0.09688889235258102,\n",
              "  0.09688889235258102,\n",
              "  0.09688889235258102,\n",
              "  0.09433333575725555,\n",
              "  0.09433333575725555,\n",
              "  0.09433333575725555,\n",
              "  0.09433333575725555,\n",
              "  0.09733333438634872,\n",
              "  0.09433333575725555,\n",
              "  0.09433333575725555,\n",
              "  0.0998888909816742,\n",
              "  0.09433333575725555,\n",
              "  0.09433333575725555,\n",
              "  0.09733333438634872]}"
            ]
          },
          "metadata": {},
          "execution_count": 13
        }
      ]
    },
    {
      "cell_type": "code",
      "source": [
        "##plot\n",
        "fig, ax = plt.subplots(figsize=(12, 5))\n",
        "ax.plot(history.history[\"loss\"] , label=\"train loss\")\n",
        "ax.plot(history.history[\"accuracy\"], label=\"train accuracy\")\n",
        "ax.plot(history.history[\"val_loss\"], label=\"validation loss\")\n",
        "ax.plot(history.history[\"val_accuracy\"], label=\"validation accuracy\")\n",
        "\n"
      ],
      "metadata": {
        "colab": {
          "base_uri": "https://localhost:8080/",
          "height": 463
        },
        "id": "qIcQhqSD7QDq",
        "outputId": "b7affe62-9fda-482d-95f6-635ac3cb4077"
      },
      "execution_count": 18,
      "outputs": [
        {
          "output_type": "execute_result",
          "data": {
            "text/plain": [
              "[<matplotlib.lines.Line2D at 0x7ab8849d3310>]"
            ]
          },
          "metadata": {},
          "execution_count": 18
        },
        {
          "output_type": "display_data",
          "data": {
            "text/plain": [
              "<Figure size 1200x500 with 1 Axes>"
            ],
            "image/png": "[encoded data removed]"
          },
          "metadata": {}
        }
      ]
    },
    {
      "cell_type": "markdown",
      "source": [
        "##evaluating"
      ],
      "metadata": {
        "id": "GvGx1RSfM-gQ"
      }
    },
    {
      "cell_type": "code",
      "source": [
        "model.evaluate(x_test, y_test)"
      ],
      "metadata": {
        "colab": {
          "base_uri": "https://localhost:8080/"
        },
        "id": "6pdGrEgQNBWP",
        "outputId": "689ec45b-070f-4cfc-b1ca-09d01d04fa27"
      },
      "execution_count": 14,
      "outputs": [
        {
          "output_type": "stream",
          "name": "stdout",
          "text": [
            "313/313 [==============================] - 1s 4ms/step - loss: 2.3026 - accuracy: 0.1000\n"
          ]
        },
        {
          "output_type": "execute_result",
          "data": {
            "text/plain": [
              "[2.302622079849243, 0.10000000149011612]"
            ]
          },
          "metadata": {},
          "execution_count": 14
        }
      ]
    },
    {
      "cell_type": "code",
      "source": [
        "x3=x_test[1:3,:,:]"
      ],
      "metadata": {
        "id": "5NSAMzuePYTY"
      },
      "execution_count": 16,
      "outputs": []
    },
    {
      "cell_type": "code",
      "source": [
        "model.predict(x3).round(3)"
      ],
      "metadata": {
        "colab": {
          "base_uri": "https://localhost:8080/"
        },
        "id": "-Z1X8-e7PfK3",
        "outputId": "7c8252af-9250-4182-daca-0a2e527b13fe"
      },
      "execution_count": 17,
      "outputs": [
        {
          "output_type": "stream",
          "name": "stdout",
          "text": [
            "1/1 [==============================] - 0s 86ms/step\n"
          ]
        },
        {
          "output_type": "execute_result",
          "data": {
            "text/plain": [
              "array([[0.099, 0.101, 0.1  , 0.1  , 0.098, 0.101, 0.101, 0.101, 0.101,\n",
              "        0.099],\n",
              "       [0.099, 0.101, 0.1  , 0.1  , 0.098, 0.101, 0.101, 0.101, 0.101,\n",
              "        0.099]], dtype=float32)"
            ]
          },
          "metadata": {},
          "execution_count": 17
        }
      ]
    }
  ]
}