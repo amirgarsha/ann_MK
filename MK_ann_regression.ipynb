{
  "cells": [
    {
      "cell_type": "markdown",
      "metadata": {
        "id": "view-in-github",
        "colab_type": "text"
      },
      "source": [
        "<a href=\"https://colab.research.google.com/github/amirgarsha/ann_MK/blob/main/MK_ann_regression.ipynb\" target=\"_parent\"><img src=\"https://colab.research.google.com/assets/colab-badge.svg\" alt=\"Open In Colab\"/></a>"
      ]
    },
    {
      "cell_type": "code",
      "execution_count": 1,
      "metadata": {
        "id": "7w7-F8QU9Cm9"
      },
      "outputs": [],
      "source": [
        "import tensorflow as tf\n",
        "from tensorflow import keras\n",
        "from sklearn.datasets import fetch_california_housing\n",
        "from sklearn.model_selection import train_test_split\n",
        "from sklearn.preprocessing import StandardScaler"
      ]
    },
    {
      "cell_type": "code",
      "execution_count": 2,
      "metadata": {
        "id": "MCae5-ij-KRu"
      },
      "outputs": [],
      "source": [
        "import matplotlib.pyplot as plt\n",
        "import numpy as np\n"
      ]
    },
    {
      "cell_type": "markdown",
      "metadata": {
        "id": "HoS4AUFn_hG7"
      },
      "source": [
        "##Regression"
      ]
    },
    {
      "cell_type": "code",
      "execution_count": 3,
      "metadata": {
        "id": "p6xspfO-_k21"
      },
      "outputs": [],
      "source": [
        "## check dataset\n",
        "california_housing = fetch_california_housing()"
      ]
    },
    {
      "cell_type": "code",
      "execution_count": 4,
      "metadata": {
        "id": "v4vwfjqY_rS-"
      },
      "outputs": [],
      "source": [
        "## split data\n",
        "X_train0, X_test, y_train0,  y_test = train_test_split(california_housing[\"data\"],\n",
        "                                                    california_housing[\"target\"])"
      ]
    },
    {
      "cell_type": "code",
      "execution_count": 5,
      "metadata": {
        "id": "va0TVguWA0N_"
      },
      "outputs": [],
      "source": [
        "## split train to train and validation\n",
        "X_train1, X_validation, y_train1, y_validation = train_test_split(X_train0,\n",
        "                                                                  y_train0)"
      ]
    },
    {
      "cell_type": "code",
      "execution_count": 6,
      "metadata": {
        "colab": {
          "base_uri": "https://localhost:8080/"
        },
        "id": "1f7ZeEyhCYZZ",
        "outputId": "ec599623-6192-4bf0-bd92-df440cd4102f"
      },
      "outputs": [
        {
          "output_type": "stream",
          "name": "stdout",
          "text": [
            "(11610, 8)\n",
            "(5160, 8)\n",
            "(3870, 8)\n"
          ]
        }
      ],
      "source": [
        "## check shape of train and test\n",
        "print(X_train1.shape)\n",
        "print(X_test.shape)\n",
        "print(X_validation.shape)"
      ]
    },
    {
      "cell_type": "code",
      "execution_count": 7,
      "metadata": {
        "id": "b3Bu65SrETeN"
      },
      "outputs": [],
      "source": [
        "## Standardization\n",
        "sc = StandardScaler()\n",
        "X_train_s = sc.fit_transform(X_train1)\n",
        "X_validation_s = sc.transform(X_validation)\n",
        "X_test_s = sc.transform(X_test)"
      ]
    },
    {
      "cell_type": "markdown",
      "metadata": {
        "id": "12lIYxUnPNoX"
      },
      "source": [
        "Create Model"
      ]
    },
    {
      "cell_type": "code",
      "execution_count": 8,
      "metadata": {
        "id": "gCJ_W-HCPP5p"
      },
      "outputs": [],
      "source": [
        "## create Model\n",
        "model = keras.models.Sequential([\n",
        "    keras.layers.Dense(50, activation=\"relu\"),\n",
        "    keras.layers.Dense(10, activation=\"relu\"),\n",
        "    keras.layers.Dense(1)]\n",
        ")"
      ]
    },
    {
      "cell_type": "code",
      "execution_count": 9,
      "metadata": {
        "id": "5DxCzmoNRoJb"
      },
      "outputs": [],
      "source": [
        "model.compile(loss=\"mean_squared_error\",\n",
        "              optimizer=\"sgd\",\n",
        "              metrics=[\"mean_absolute_error\"])"
      ]
    },
    {
      "cell_type": "code",
      "execution_count": 10,
      "metadata": {
        "colab": {
          "base_uri": "https://localhost:8080/"
        },
        "id": "b68M7gfUsPNe",
        "outputId": "4ed47e89-8ccc-4597-a335-ef5218a3dc96"
      },
      "outputs": [
        {
          "output_type": "stream",
          "name": "stdout",
          "text": [
            "Epoch 1/30\n",
            "363/363 [==============================] - 6s 9ms/step - loss: 0.8136 - mean_absolute_error: 0.5991 - val_loss: 0.5003 - val_mean_absolute_error: 0.5225\n",
            "Epoch 2/30\n",
            "363/363 [==============================] - 3s 8ms/step - loss: 0.5305 - mean_absolute_error: 0.5056 - val_loss: 0.4524 - val_mean_absolute_error: 0.4907\n",
            "Epoch 3/30\n",
            "363/363 [==============================] - 3s 7ms/step - loss: 0.4519 - mean_absolute_error: 0.4778 - val_loss: 0.4440 - val_mean_absolute_error: 0.4962\n",
            "Epoch 4/30\n",
            "363/363 [==============================] - 2s 7ms/step - loss: 0.4297 - mean_absolute_error: 0.4653 - val_loss: 0.4230 - val_mean_absolute_error: 0.4573\n",
            "Epoch 5/30\n",
            "363/363 [==============================] - 4s 10ms/step - loss: 0.4183 - mean_absolute_error: 0.4585 - val_loss: 0.4039 - val_mean_absolute_error: 0.4585\n",
            "Epoch 6/30\n",
            "363/363 [==============================] - 3s 8ms/step - loss: 0.4078 - mean_absolute_error: 0.4524 - val_loss: 0.3939 - val_mean_absolute_error: 0.4503\n",
            "Epoch 7/30\n",
            "363/363 [==============================] - 3s 7ms/step - loss: 0.3983 - mean_absolute_error: 0.4482 - val_loss: 0.3891 - val_mean_absolute_error: 0.4328\n",
            "Epoch 8/30\n",
            "363/363 [==============================] - 3s 7ms/step - loss: 0.3922 - mean_absolute_error: 0.4430 - val_loss: 0.3750 - val_mean_absolute_error: 0.4307\n",
            "Epoch 9/30\n",
            "363/363 [==============================] - 1s 3ms/step - loss: 0.3836 - mean_absolute_error: 0.4393 - val_loss: 0.3774 - val_mean_absolute_error: 0.4324\n",
            "Epoch 10/30\n",
            "363/363 [==============================] - 1s 3ms/step - loss: 0.3772 - mean_absolute_error: 0.4351 - val_loss: 0.3637 - val_mean_absolute_error: 0.4314\n",
            "Epoch 11/30\n",
            "363/363 [==============================] - 1s 3ms/step - loss: 0.3718 - mean_absolute_error: 0.4327 - val_loss: 0.3659 - val_mean_absolute_error: 0.4319\n",
            "Epoch 12/30\n",
            "363/363 [==============================] - 1s 2ms/step - loss: 0.3672 - mean_absolute_error: 0.4291 - val_loss: 0.3559 - val_mean_absolute_error: 0.4246\n",
            "Epoch 13/30\n",
            "363/363 [==============================] - 1s 4ms/step - loss: 0.3620 - mean_absolute_error: 0.4264 - val_loss: 0.3598 - val_mean_absolute_error: 0.4288\n",
            "Epoch 14/30\n",
            "363/363 [==============================] - 1s 4ms/step - loss: 0.3556 - mean_absolute_error: 0.4221 - val_loss: 0.3667 - val_mean_absolute_error: 0.4208\n",
            "Epoch 15/30\n",
            "363/363 [==============================] - 2s 5ms/step - loss: 0.3530 - mean_absolute_error: 0.4203 - val_loss: 0.3481 - val_mean_absolute_error: 0.4220\n",
            "Epoch 16/30\n",
            "363/363 [==============================] - 1s 3ms/step - loss: 0.3490 - mean_absolute_error: 0.4175 - val_loss: 0.3390 - val_mean_absolute_error: 0.4093\n",
            "Epoch 17/30\n",
            "363/363 [==============================] - 1s 3ms/step - loss: 0.3444 - mean_absolute_error: 0.4154 - val_loss: 0.3350 - val_mean_absolute_error: 0.4190\n",
            "Epoch 18/30\n",
            "363/363 [==============================] - 1s 3ms/step - loss: 0.3443 - mean_absolute_error: 0.4142 - val_loss: 0.3316 - val_mean_absolute_error: 0.4096\n",
            "Epoch 19/30\n",
            "363/363 [==============================] - 1s 3ms/step - loss: 0.3407 - mean_absolute_error: 0.4115 - val_loss: 0.3345 - val_mean_absolute_error: 0.4184\n",
            "Epoch 20/30\n",
            "363/363 [==============================] - 1s 3ms/step - loss: 0.3365 - mean_absolute_error: 0.4085 - val_loss: 0.3235 - val_mean_absolute_error: 0.4059\n",
            "Epoch 21/30\n",
            "363/363 [==============================] - 1s 3ms/step - loss: 0.3324 - mean_absolute_error: 0.4068 - val_loss: 0.3281 - val_mean_absolute_error: 0.4027\n",
            "Epoch 22/30\n",
            "363/363 [==============================] - 1s 3ms/step - loss: 0.3300 - mean_absolute_error: 0.4046 - val_loss: 0.3340 - val_mean_absolute_error: 0.4231\n",
            "Epoch 23/30\n",
            "363/363 [==============================] - 1s 3ms/step - loss: 0.3282 - mean_absolute_error: 0.4027 - val_loss: 0.3147 - val_mean_absolute_error: 0.3870\n",
            "Epoch 24/30\n",
            "363/363 [==============================] - 1s 3ms/step - loss: 0.3252 - mean_absolute_error: 0.4005 - val_loss: 0.3232 - val_mean_absolute_error: 0.4127\n",
            "Epoch 25/30\n",
            "363/363 [==============================] - 1s 4ms/step - loss: 0.3230 - mean_absolute_error: 0.3989 - val_loss: 0.3196 - val_mean_absolute_error: 0.3997\n",
            "Epoch 26/30\n",
            "363/363 [==============================] - 2s 4ms/step - loss: 0.3186 - mean_absolute_error: 0.3946 - val_loss: 0.3291 - val_mean_absolute_error: 0.4208\n",
            "Epoch 27/30\n",
            "363/363 [==============================] - 2s 4ms/step - loss: 0.3181 - mean_absolute_error: 0.3954 - val_loss: 0.3069 - val_mean_absolute_error: 0.3945\n",
            "Epoch 28/30\n",
            "363/363 [==============================] - 1s 3ms/step - loss: 0.3161 - mean_absolute_error: 0.3926 - val_loss: 0.3195 - val_mean_absolute_error: 0.3886\n",
            "Epoch 29/30\n",
            "363/363 [==============================] - 1s 3ms/step - loss: 0.3150 - mean_absolute_error: 0.3937 - val_loss: 0.3034 - val_mean_absolute_error: 0.3841\n",
            "Epoch 30/30\n",
            "363/363 [==============================] - 1s 3ms/step - loss: 0.3130 - mean_absolute_error: 0.3913 - val_loss: 0.3041 - val_mean_absolute_error: 0.3829\n"
          ]
        }
      ],
      "source": [
        "history = model.fit(X_train_s, y_train1, epochs=30, validation_data=(X_validation_s, y_validation))"
      ]
    },
    {
      "cell_type": "markdown",
      "source": [
        "## Functional API"
      ],
      "metadata": {
        "id": "0-EnpQFFvgCs"
      }
    },
    {
      "cell_type": "code",
      "source": [
        "X_train0.shape[1:]"
      ],
      "metadata": {
        "colab": {
          "base_uri": "https://localhost:8080/"
        },
        "id": "PFAmuv7TugG5",
        "outputId": "a1ac2e8f-117c-4859-aea9-80d08446eb3f"
      },
      "execution_count": 11,
      "outputs": [
        {
          "output_type": "execute_result",
          "data": {
            "text/plain": [
              "(8,)"
            ]
          },
          "metadata": {},
          "execution_count": 11
        }
      ]
    },
    {
      "cell_type": "code",
      "source": [
        "input_layer = keras.layers.Input(shape=X_train1.shape[1:])\n",
        "hidden_layer_1 = keras.layers.Dense(50, activation=\"relu\")(input_layer)\n",
        "hidden_layer_2 = keras.layers.Dense(10, activation=\"relu\")(hidden_layer_1)\n",
        "cancatenate_layer = keras.layers.Concatenate()([input_layer, hidden_layer_2])\n",
        "output_layer = keras.layers.Dense(1)(cancatenate_layer)\n",
        "model_conc = keras.Model(inputs=[input_layer], outputs=[output_layer])\n"
      ],
      "metadata": {
        "id": "Z7cGqNYyx_qF"
      },
      "execution_count": 12,
      "outputs": []
    },
    {
      "cell_type": "code",
      "source": [
        "model_conc.summary()"
      ],
      "metadata": {
        "colab": {
          "base_uri": "https://localhost:8080/"
        },
        "id": "jUpqaDMV0bqa",
        "outputId": "380abba1-9efe-40eb-8b98-d9daabbfc10c"
      },
      "execution_count": 13,
      "outputs": [
        {
          "output_type": "stream",
          "name": "stdout",
          "text": [
            "Model: \"model\"\n",
            "__________________________________________________________________________________________________\n",
            " Layer (type)                Output Shape                 Param #   Connected to                  \n",
            "==================================================================================================\n",
            " input_1 (InputLayer)        [(None, 8)]                  0         []                            \n",
            "                                                                                                  \n",
            " dense_3 (Dense)             (None, 50)                   450       ['input_1[0][0]']             \n",
            "                                                                                                  \n",
            " dense_4 (Dense)             (None, 10)                   510       ['dense_3[0][0]']             \n",
            "                                                                                                  \n",
            " concatenate (Concatenate)   (None, 18)                   0         ['input_1[0][0]',             \n",
            "                                                                     'dense_4[0][0]']             \n",
            "                                                                                                  \n",
            " dense_5 (Dense)             (None, 1)                    19        ['concatenate[0][0]']         \n",
            "                                                                                                  \n",
            "==================================================================================================\n",
            "Total params: 979 (3.82 KB)\n",
            "Trainable params: 979 (3.82 KB)\n",
            "Non-trainable params: 0 (0.00 Byte)\n",
            "__________________________________________________________________________________________________\n"
          ]
        }
      ]
    },
    {
      "cell_type": "code",
      "source": [
        "keras.utils.plot_model(model_conc, \"model_pic.png\")"
      ],
      "metadata": {
        "colab": {
          "base_uri": "https://localhost:8080/",
          "height": 466
        },
        "id": "_rZLnKgE0fya",
        "outputId": "66e6d4d1-414a-432a-a408-c9716545f044"
      },
      "execution_count": 14,
      "outputs": [
        {
          "output_type": "execute_result",
          "data": {
            "image/png": "[encoded data removed]",
            "text/plain": [
              "<IPython.core.display.Image object>"
            ]
          },
          "metadata": {},
          "execution_count": 14
        }
      ]
    },
    {
      "cell_type": "code",
      "source": [
        "model_conc.compile(loss=\"mean_squared_error\",\n",
        "                   optimizer=\"sgd\",\n",
        "                   metrics=\"mean_absolute_error\")"
      ],
      "metadata": {
        "id": "nFDAQdAX0vcO"
      },
      "execution_count": 15,
      "outputs": []
    },
    {
      "cell_type": "code",
      "source": [
        "model_conc.fit(X_train_s, y_train1, epochs = 30,\n",
        "               validation_data = (X_validation_s, y_validation) )"
      ],
      "metadata": {
        "colab": {
          "base_uri": "https://localhost:8080/"
        },
        "id": "qmC-iawD1H29",
        "outputId": "32157e17-f5bc-4821-c463-9fda15064c42"
      },
      "execution_count": 16,
      "outputs": [
        {
          "output_type": "stream",
          "name": "stdout",
          "text": [
            "Epoch 1/30\n",
            "363/363 [==============================] - 2s 5ms/step - loss: 1.5930 - mean_absolute_error: 0.6698 - val_loss: 0.5787 - val_mean_absolute_error: 0.5665\n",
            "Epoch 2/30\n",
            "363/363 [==============================] - 1s 3ms/step - loss: nan - mean_absolute_error: nan - val_loss: nan - val_mean_absolute_error: nan\n",
            "Epoch 3/30\n",
            "363/363 [==============================] - 1s 3ms/step - loss: nan - mean_absolute_error: nan - val_loss: nan - val_mean_absolute_error: nan\n",
            "Epoch 4/30\n",
            "363/363 [==============================] - 1s 3ms/step - loss: nan - mean_absolute_error: nan - val_loss: nan - val_mean_absolute_error: nan\n",
            "Epoch 5/30\n",
            "363/363 [==============================] - 1s 3ms/step - loss: nan - mean_absolute_error: nan - val_loss: nan - val_mean_absolute_error: nan\n",
            "Epoch 6/30\n",
            "363/363 [==============================] - 1s 3ms/step - loss: nan - mean_absolute_error: nan - val_loss: nan - val_mean_absolute_error: nan\n",
            "Epoch 7/30\n",
            "363/363 [==============================] - 1s 3ms/step - loss: nan - mean_absolute_error: nan - val_loss: nan - val_mean_absolute_error: nan\n",
            "Epoch 8/30\n",
            "363/363 [==============================] - 1s 3ms/step - loss: nan - mean_absolute_error: nan - val_loss: nan - val_mean_absolute_error: nan\n",
            "Epoch 9/30\n",
            "363/363 [==============================] - 1s 3ms/step - loss: nan - mean_absolute_error: nan - val_loss: nan - val_mean_absolute_error: nan\n",
            "Epoch 10/30\n",
            "363/363 [==============================] - 1s 3ms/step - loss: nan - mean_absolute_error: nan - val_loss: nan - val_mean_absolute_error: nan\n",
            "Epoch 11/30\n",
            "363/363 [==============================] - 1s 3ms/step - loss: nan - mean_absolute_error: nan - val_loss: nan - val_mean_absolute_error: nan\n",
            "Epoch 12/30\n",
            "363/363 [==============================] - 2s 4ms/step - loss: nan - mean_absolute_error: nan - val_loss: nan - val_mean_absolute_error: nan\n",
            "Epoch 13/30\n",
            "363/363 [==============================] - 2s 4ms/step - loss: nan - mean_absolute_error: nan - val_loss: nan - val_mean_absolute_error: nan\n",
            "Epoch 14/30\n",
            "363/363 [==============================] - 1s 4ms/step - loss: nan - mean_absolute_error: nan - val_loss: nan - val_mean_absolute_error: nan\n",
            "Epoch 15/30\n",
            "363/363 [==============================] - 1s 3ms/step - loss: nan - mean_absolute_error: nan - val_loss: nan - val_mean_absolute_error: nan\n",
            "Epoch 16/30\n",
            "363/363 [==============================] - 1s 3ms/step - loss: nan - mean_absolute_error: nan - val_loss: nan - val_mean_absolute_error: nan\n",
            "Epoch 17/30\n",
            "363/363 [==============================] - 1s 3ms/step - loss: nan - mean_absolute_error: nan - val_loss: nan - val_mean_absolute_error: nan\n",
            "Epoch 18/30\n",
            "363/363 [==============================] - 1s 3ms/step - loss: nan - mean_absolute_error: nan - val_loss: nan - val_mean_absolute_error: nan\n",
            "Epoch 19/30\n",
            "363/363 [==============================] - 1s 3ms/step - loss: nan - mean_absolute_error: nan - val_loss: nan - val_mean_absolute_error: nan\n",
            "Epoch 20/30\n",
            "363/363 [==============================] - 1s 3ms/step - loss: nan - mean_absolute_error: nan - val_loss: nan - val_mean_absolute_error: nan\n",
            "Epoch 21/30\n",
            "363/363 [==============================] - 1s 3ms/step - loss: nan - mean_absolute_error: nan - val_loss: nan - val_mean_absolute_error: nan\n",
            "Epoch 22/30\n",
            "363/363 [==============================] - 1s 3ms/step - loss: nan - mean_absolute_error: nan - val_loss: nan - val_mean_absolute_error: nan\n",
            "Epoch 23/30\n",
            "363/363 [==============================] - 1s 3ms/step - loss: nan - mean_absolute_error: nan - val_loss: nan - val_mean_absolute_error: nan\n",
            "Epoch 24/30\n",
            "363/363 [==============================] - 2s 4ms/step - loss: nan - mean_absolute_error: nan - val_loss: nan - val_mean_absolute_error: nan\n",
            "Epoch 25/30\n",
            "363/363 [==============================] - 1s 4ms/step - loss: nan - mean_absolute_error: nan - val_loss: nan - val_mean_absolute_error: nan\n",
            "Epoch 26/30\n",
            "363/363 [==============================] - 1s 4ms/step - loss: nan - mean_absolute_error: nan - val_loss: nan - val_mean_absolute_error: nan\n",
            "Epoch 27/30\n",
            "363/363 [==============================] - 1s 3ms/step - loss: nan - mean_absolute_error: nan - val_loss: nan - val_mean_absolute_error: nan\n",
            "Epoch 28/30\n",
            "363/363 [==============================] - 1s 3ms/step - loss: nan - mean_absolute_error: nan - val_loss: nan - val_mean_absolute_error: nan\n",
            "Epoch 29/30\n",
            "363/363 [==============================] - 1s 3ms/step - loss: nan - mean_absolute_error: nan - val_loss: nan - val_mean_absolute_error: nan\n",
            "Epoch 30/30\n",
            "363/363 [==============================] - 1s 3ms/step - loss: nan - mean_absolute_error: nan - val_loss: nan - val_mean_absolute_error: nan\n"
          ]
        },
        {
          "output_type": "execute_result",
          "data": {
            "text/plain": [
              "<keras.src.callbacks.History at 0x7e2f6aae4dc0>"
            ]
          },
          "metadata": {},
          "execution_count": 16
        }
      ]
    },
    {
      "cell_type": "markdown",
      "source": [
        "## funcitonal API with multiple input"
      ],
      "metadata": {
        "id": "UWvJ0gv-5EYg"
      }
    },
    {
      "cell_type": "code",
      "source": [
        "X_train_s_1, X_train_s_2 = X_train_s[: , :6], X_train_s[: , -4:]\n",
        "X_validation_s_1, X_validation_s_2 = X_validation_s[: , :6], X_validation_s[: , -4:]\n",
        "X_test_s_1, X_test_s_2 = X_test_s[: , :6], X_test_s[: , -4:]"
      ],
      "metadata": {
        "id": "YnI7lgIT5I_L"
      },
      "execution_count": 17,
      "outputs": []
    },
    {
      "cell_type": "code",
      "source": [
        "input_layer_1 = keras.layers.Input(shape=[6])\n",
        "input_layer_2 = keras.layers.Input(shape=[4])\n",
        "hidden_layer_1 = keras.layers.Dense(50, activation=\"relu\")(input_layer_1)\n",
        "hidden_layer_2 = keras.layers.Dense(10, activation=\"relu\")(hidden_layer_1)\n",
        "concatenation_layer = keras.layers.Concatenate()([input_layer_2, hidden_layer_2])\n",
        "output_layer = keras.layers.Dense(1)(concatenation_layer)\n",
        "model_multiple = keras.Model(inputs=[input_layer_1, input_layer_2], outputs=[output_layer])"
      ],
      "metadata": {
        "id": "eZ1N70rN72bv"
      },
      "execution_count": 18,
      "outputs": []
    },
    {
      "cell_type": "code",
      "source": [
        "model_multiple.summary()"
      ],
      "metadata": {
        "colab": {
          "base_uri": "https://localhost:8080/"
        },
        "id": "QyhROS6W9kpf",
        "outputId": "aab88d90-0cba-4046-ce8a-82a272373dc5"
      },
      "execution_count": 19,
      "outputs": [
        {
          "output_type": "stream",
          "name": "stdout",
          "text": [
            "Model: \"model_1\"\n",
            "__________________________________________________________________________________________________\n",
            " Layer (type)                Output Shape                 Param #   Connected to                  \n",
            "==================================================================================================\n",
            " input_2 (InputLayer)        [(None, 6)]                  0         []                            \n",
            "                                                                                                  \n",
            " dense_6 (Dense)             (None, 50)                   350       ['input_2[0][0]']             \n",
            "                                                                                                  \n",
            " input_3 (InputLayer)        [(None, 4)]                  0         []                            \n",
            "                                                                                                  \n",
            " dense_7 (Dense)             (None, 10)                   510       ['dense_6[0][0]']             \n",
            "                                                                                                  \n",
            " concatenate_1 (Concatenate  (None, 14)                   0         ['input_3[0][0]',             \n",
            " )                                                                   'dense_7[0][0]']             \n",
            "                                                                                                  \n",
            " dense_8 (Dense)             (None, 1)                    15        ['concatenate_1[0][0]']       \n",
            "                                                                                                  \n",
            "==================================================================================================\n",
            "Total params: 875 (3.42 KB)\n",
            "Trainable params: 875 (3.42 KB)\n",
            "Non-trainable params: 0 (0.00 Byte)\n",
            "__________________________________________________________________________________________________\n"
          ]
        }
      ]
    },
    {
      "cell_type": "code",
      "source": [
        "keras.utils.plot_model(model_multiple, \"multiple_model.png\")"
      ],
      "metadata": {
        "colab": {
          "base_uri": "https://localhost:8080/",
          "height": 466
        },
        "id": "DtyMqFws9uan",
        "outputId": "bdc96356-9a64-4f19-b589-ef66850c7ce8"
      },
      "execution_count": 20,
      "outputs": [
        {
          "output_type": "execute_result",
          "data": {
            "image/png": "[encoded data removed]",
            "text/plain": [
              "<IPython.core.display.Image object>"
            ]
          },
          "metadata": {},
          "execution_count": 20
        }
      ]
    },
    {
      "cell_type": "code",
      "source": [
        "model_multiple.compile(loss=\"mean_squared_error\",\n",
        "                       optimizer=\"sgd\",\n",
        "                       metrics=\"mean_absolute_error\")"
      ],
      "metadata": {
        "id": "9O69dGjk9-jz"
      },
      "execution_count": 21,
      "outputs": []
    },
    {
      "cell_type": "code",
      "source": [
        "model_multiple.fit((X_train_s_1, X_train_s_2), y_train1, epochs = 30,\n",
        "                   validation_data=((X_validation_s_1,X_validation_s_2), y_validation))"
      ],
      "metadata": {
        "colab": {
          "base_uri": "https://localhost:8080/"
        },
        "id": "A_7nR31g-OSb",
        "outputId": "01385f8b-560a-4066-cc8f-8849282b2050"
      },
      "execution_count": 22,
      "outputs": [
        {
          "output_type": "stream",
          "name": "stdout",
          "text": [
            "Epoch 1/30\n",
            "363/363 [==============================] - 2s 4ms/step - loss: 1.1537 - mean_absolute_error: 0.6253 - val_loss: 0.5387 - val_mean_absolute_error: 0.5448\n",
            "Epoch 2/30\n",
            "363/363 [==============================] - 1s 3ms/step - loss: 0.5119 - mean_absolute_error: 0.5213 - val_loss: 0.4808 - val_mean_absolute_error: 0.5140\n",
            "Epoch 3/30\n",
            "363/363 [==============================] - 1s 3ms/step - loss: 0.4741 - mean_absolute_error: 0.4995 - val_loss: 0.4478 - val_mean_absolute_error: 0.4904\n",
            "Epoch 4/30\n",
            "363/363 [==============================] - 1s 3ms/step - loss: 0.4513 - mean_absolute_error: 0.4868 - val_loss: 0.4381 - val_mean_absolute_error: 0.4756\n",
            "Epoch 5/30\n",
            "363/363 [==============================] - 2s 4ms/step - loss: 0.4507 - mean_absolute_error: 0.4818 - val_loss: 0.4316 - val_mean_absolute_error: 0.4756\n",
            "Epoch 6/30\n",
            "363/363 [==============================] - 1s 4ms/step - loss: 0.4296 - mean_absolute_error: 0.4705 - val_loss: 0.4162 - val_mean_absolute_error: 0.4802\n",
            "Epoch 7/30\n",
            "363/363 [==============================] - 2s 4ms/step - loss: 0.4174 - mean_absolute_error: 0.4667 - val_loss: 0.3995 - val_mean_absolute_error: 0.4618\n",
            "Epoch 8/30\n",
            "363/363 [==============================] - 2s 6ms/step - loss: 0.4067 - mean_absolute_error: 0.4594 - val_loss: 0.3905 - val_mean_absolute_error: 0.4561\n",
            "Epoch 9/30\n",
            "363/363 [==============================] - 1s 4ms/step - loss: 0.4029 - mean_absolute_error: 0.4569 - val_loss: 0.3876 - val_mean_absolute_error: 0.4482\n",
            "Epoch 10/30\n",
            "363/363 [==============================] - 1s 3ms/step - loss: 0.4028 - mean_absolute_error: 0.4554 - val_loss: 0.3900 - val_mean_absolute_error: 0.4445\n",
            "Epoch 11/30\n",
            "363/363 [==============================] - 1s 3ms/step - loss: 0.4202 - mean_absolute_error: 0.4536 - val_loss: 0.3723 - val_mean_absolute_error: 0.4442\n",
            "Epoch 12/30\n",
            "363/363 [==============================] - 1s 3ms/step - loss: 0.3879 - mean_absolute_error: 0.4495 - val_loss: 0.3757 - val_mean_absolute_error: 0.4522\n",
            "Epoch 13/30\n",
            "363/363 [==============================] - 1s 3ms/step - loss: 0.3956 - mean_absolute_error: 0.4477 - val_loss: 0.3703 - val_mean_absolute_error: 0.4504\n",
            "Epoch 14/30\n",
            "363/363 [==============================] - 1s 3ms/step - loss: 0.3833 - mean_absolute_error: 0.4458 - val_loss: 0.3677 - val_mean_absolute_error: 0.4484\n",
            "Epoch 15/30\n",
            "363/363 [==============================] - 1s 3ms/step - loss: 0.3795 - mean_absolute_error: 0.4434 - val_loss: 0.3637 - val_mean_absolute_error: 0.4392\n",
            "Epoch 16/30\n",
            "363/363 [==============================] - 2s 5ms/step - loss: 0.3851 - mean_absolute_error: 0.4439 - val_loss: 0.3623 - val_mean_absolute_error: 0.4344\n",
            "Epoch 17/30\n",
            "363/363 [==============================] - 2s 4ms/step - loss: 0.3733 - mean_absolute_error: 0.4400 - val_loss: 0.3637 - val_mean_absolute_error: 0.4421\n",
            "Epoch 18/30\n",
            "363/363 [==============================] - 2s 4ms/step - loss: 0.4173 - mean_absolute_error: 0.4411 - val_loss: 0.3573 - val_mean_absolute_error: 0.4296\n",
            "Epoch 19/30\n",
            "363/363 [==============================] - 1s 3ms/step - loss: 0.3789 - mean_absolute_error: 0.4378 - val_loss: 0.3606 - val_mean_absolute_error: 0.4331\n",
            "Epoch 20/30\n",
            "363/363 [==============================] - 1s 3ms/step - loss: 0.3772 - mean_absolute_error: 0.4361 - val_loss: 0.3578 - val_mean_absolute_error: 0.4358\n",
            "Epoch 21/30\n",
            "363/363 [==============================] - 1s 3ms/step - loss: 0.3665 - mean_absolute_error: 0.4341 - val_loss: 0.3518 - val_mean_absolute_error: 0.4278\n",
            "Epoch 22/30\n",
            "363/363 [==============================] - 1s 3ms/step - loss: 0.3829 - mean_absolute_error: 0.4344 - val_loss: 0.3557 - val_mean_absolute_error: 0.4261\n",
            "Epoch 23/30\n",
            "363/363 [==============================] - 1s 3ms/step - loss: 0.3630 - mean_absolute_error: 0.4318 - val_loss: 0.3550 - val_mean_absolute_error: 0.4368\n",
            "Epoch 24/30\n",
            "363/363 [==============================] - 1s 3ms/step - loss: 0.3685 - mean_absolute_error: 0.4317 - val_loss: 0.3549 - val_mean_absolute_error: 0.4255\n",
            "Epoch 25/30\n",
            "363/363 [==============================] - 1s 3ms/step - loss: 0.3644 - mean_absolute_error: 0.4310 - val_loss: 0.3507 - val_mean_absolute_error: 0.4278\n",
            "Epoch 26/30\n",
            "363/363 [==============================] - 1s 3ms/step - loss: 0.3580 - mean_absolute_error: 0.4292 - val_loss: 0.3510 - val_mean_absolute_error: 0.4254\n",
            "Epoch 27/30\n",
            "363/363 [==============================] - 1s 3ms/step - loss: 0.3601 - mean_absolute_error: 0.4311 - val_loss: 0.3473 - val_mean_absolute_error: 0.4300\n",
            "Epoch 28/30\n",
            "363/363 [==============================] - 2s 4ms/step - loss: 0.3604 - mean_absolute_error: 0.4289 - val_loss: 0.3620 - val_mean_absolute_error: 0.4355\n",
            "Epoch 29/30\n",
            "363/363 [==============================] - 2s 4ms/step - loss: 0.3584 - mean_absolute_error: 0.4287 - val_loss: 0.3557 - val_mean_absolute_error: 0.4423\n",
            "Epoch 30/30\n",
            "363/363 [==============================] - 2s 4ms/step - loss: 0.3681 - mean_absolute_error: 0.4295 - val_loss: 0.3504 - val_mean_absolute_error: 0.4322\n"
          ]
        },
        {
          "output_type": "execute_result",
          "data": {
            "text/plain": [
              "<keras.src.callbacks.History at 0x7e2f7d37d360>"
            ]
          },
          "metadata": {},
          "execution_count": 22
        }
      ]
    },
    {
      "cell_type": "markdown",
      "source": [
        "## with multiple output"
      ],
      "metadata": {
        "id": "7Nr8pYWDTupJ"
      }
    },
    {
      "cell_type": "code",
      "source": [
        "input_layer_1 = keras.layers.Input(shape=[6])\n",
        "input_layer_2 = keras.layers.Input(shape=[4])\n",
        "hidden_layer_1 = keras.layers.Dense(50, activation=\"relu\")(input_layer_1)\n",
        "hidden_layer_2 = keras.layers.Dense(10, activation=\"relu\")(hidden_layer_1)\n",
        "concatenation_layer = keras.layers.Concatenate()([input_layer_2, hidden_layer_2])\n",
        "output_layer = keras.layers.Dense(1, name=\"output_layer\")(concatenation_layer)\n",
        "helper_output = keras.layers.Dense(1,name = \"helper_output\")(hidden_layer_2)\n",
        "model_multiple_output = keras.Model(inputs=[input_layer_1, input_layer_2], outputs=[output_layer, helper_output])"
      ],
      "metadata": {
        "id": "lMhr5YlITuAq"
      },
      "execution_count": 23,
      "outputs": []
    },
    {
      "cell_type": "code",
      "source": [
        "model_multiple_output.summary()"
      ],
      "metadata": {
        "colab": {
          "base_uri": "https://localhost:8080/"
        },
        "id": "sE121oNKWkDT",
        "outputId": "08354f00-38dc-4a7c-f884-8713c5065313"
      },
      "execution_count": 24,
      "outputs": [
        {
          "output_type": "stream",
          "name": "stdout",
          "text": [
            "Model: \"model_2\"\n",
            "__________________________________________________________________________________________________\n",
            " Layer (type)                Output Shape                 Param #   Connected to                  \n",
            "==================================================================================================\n",
            " input_4 (InputLayer)        [(None, 6)]                  0         []                            \n",
            "                                                                                                  \n",
            " dense_9 (Dense)             (None, 50)                   350       ['input_4[0][0]']             \n",
            "                                                                                                  \n",
            " input_5 (InputLayer)        [(None, 4)]                  0         []                            \n",
            "                                                                                                  \n",
            " dense_10 (Dense)            (None, 10)                   510       ['dense_9[0][0]']             \n",
            "                                                                                                  \n",
            " concatenate_2 (Concatenate  (None, 14)                   0         ['input_5[0][0]',             \n",
            " )                                                                   'dense_10[0][0]']            \n",
            "                                                                                                  \n",
            " output_layer (Dense)        (None, 1)                    15        ['concatenate_2[0][0]']       \n",
            "                                                                                                  \n",
            " helper_output (Dense)       (None, 1)                    11        ['dense_10[0][0]']            \n",
            "                                                                                                  \n",
            "==================================================================================================\n",
            "Total params: 886 (3.46 KB)\n",
            "Trainable params: 886 (3.46 KB)\n",
            "Non-trainable params: 0 (0.00 Byte)\n",
            "__________________________________________________________________________________________________\n"
          ]
        }
      ]
    },
    {
      "cell_type": "code",
      "source": [
        "keras.utils.plot_model(model_multiple_output, \"multiple_model.png\")"
      ],
      "metadata": {
        "colab": {
          "base_uri": "https://localhost:8080/",
          "height": 466
        },
        "id": "aN9wnckrWnGS",
        "outputId": "554514e8-d60e-4331-c32b-3d5d8cb0dcfe"
      },
      "execution_count": 25,
      "outputs": [
        {
          "output_type": "execute_result",
          "data": {
            "image/png": "[encoded data removed]",
            "text/plain": [
              "<IPython.core.display.Image object>"
            ]
          },
          "metadata": {},
          "execution_count": 25
        }
      ]
    },
    {
      "cell_type": "code",
      "source": [
        "model_multiple_output.compile(loss=[\"mse\", \"mse\"],\n",
        "                              loss_weights = [0.8, 0.2],\n",
        "                              optimizer=\"sgd\",\n",
        "                              metrics=[\"mae\"])"
      ],
      "metadata": {
        "id": "3zh8-F0mW_Ui"
      },
      "execution_count": 26,
      "outputs": []
    },
    {
      "cell_type": "code",
      "source": [
        "model_multiple_output.fit((X_train_s_1, X_train_s_2), (y_train1, y_train1), epochs = 30,\n",
        "                   validation_data=((X_validation_s_1,X_validation_s_2), (y_validation,y_validation)))"
      ],
      "metadata": {
        "colab": {
          "base_uri": "https://localhost:8080/"
        },
        "id": "CD0h2KMuXuNr",
        "outputId": "ae71b550-c458-4969-d78b-5e9963fbcec4"
      },
      "execution_count": 27,
      "outputs": [
        {
          "output_type": "stream",
          "name": "stdout",
          "text": [
            "Epoch 1/30\n",
            "363/363 [==============================] - 3s 5ms/step - loss: 1.3971 - output_layer_loss: 1.4771 - helper_output_loss: 1.0773 - output_layer_mae: 0.6570 - helper_output_mae: 0.7306 - val_loss: 0.5875 - val_output_layer_loss: 0.5742 - val_helper_output_loss: 0.6410 - val_output_layer_mae: 0.5561 - val_helper_output_mae: 0.5931\n",
            "Epoch 2/30\n",
            "363/363 [==============================] - 1s 4ms/step - loss: 0.5608 - output_layer_loss: 0.5447 - helper_output_loss: 0.6250 - output_layer_mae: 0.5354 - helper_output_mae: 0.5819 - val_loss: 0.5218 - val_output_layer_loss: 0.5040 - val_helper_output_loss: 0.5931 - val_output_layer_mae: 0.5355 - val_helper_output_mae: 0.5831\n",
            "Epoch 3/30\n",
            "363/363 [==============================] - 1s 3ms/step - loss: 0.5614 - output_layer_loss: 0.5533 - helper_output_loss: 0.5940 - output_layer_mae: 0.5154 - helper_output_mae: 0.5626 - val_loss: 0.4949 - val_output_layer_loss: 0.4772 - val_helper_output_loss: 0.5657 - val_output_layer_mae: 0.5187 - val_helper_output_mae: 0.5680\n",
            "Epoch 4/30\n",
            "363/363 [==============================] - 1s 3ms/step - loss: 0.5030 - output_layer_loss: 0.4844 - helper_output_loss: 0.5774 - output_layer_mae: 0.4989 - helper_output_mae: 0.5531 - val_loss: 0.4683 - val_output_layer_loss: 0.4497 - val_helper_output_loss: 0.5430 - val_output_layer_mae: 0.4905 - val_helper_output_mae: 0.5449\n",
            "Epoch 5/30\n",
            "363/363 [==============================] - 2s 4ms/step - loss: 0.4832 - output_layer_loss: 0.4644 - helper_output_loss: 0.5586 - output_layer_mae: 0.4901 - helper_output_mae: 0.5442 - val_loss: 0.4563 - val_output_layer_loss: 0.4368 - val_helper_output_loss: 0.5343 - val_output_layer_mae: 0.4844 - val_helper_output_mae: 0.5420\n",
            "Epoch 6/30\n",
            "363/363 [==============================] - 2s 6ms/step - loss: 0.5904 - output_layer_loss: 0.5976 - helper_output_loss: 0.5613 - output_layer_mae: 0.4949 - helper_output_mae: 0.5436 - val_loss: 0.4531 - val_output_layer_loss: 0.4349 - val_helper_output_loss: 0.5257 - val_output_layer_mae: 0.4844 - val_helper_output_mae: 0.5393\n",
            "Epoch 7/30\n",
            "363/363 [==============================] - 1s 4ms/step - loss: 0.4568 - output_layer_loss: 0.4392 - helper_output_loss: 0.5272 - output_layer_mae: 0.4777 - helper_output_mae: 0.5294 - val_loss: 0.4450 - val_output_layer_loss: 0.4278 - val_helper_output_loss: 0.5138 - val_output_layer_mae: 0.4714 - val_helper_output_mae: 0.5248\n",
            "Epoch 8/30\n",
            "363/363 [==============================] - 1s 3ms/step - loss: 0.4489 - output_layer_loss: 0.4318 - helper_output_loss: 0.5172 - output_layer_mae: 0.4728 - helper_output_mae: 0.5223 - val_loss: 0.4335 - val_output_layer_loss: 0.4165 - val_helper_output_loss: 0.5015 - val_output_layer_mae: 0.4657 - val_helper_output_mae: 0.5227\n",
            "Epoch 9/30\n",
            "363/363 [==============================] - 1s 4ms/step - loss: 0.4397 - output_layer_loss: 0.4232 - helper_output_loss: 0.5056 - output_layer_mae: 0.4683 - helper_output_mae: 0.5173 - val_loss: 0.4293 - val_output_layer_loss: 0.4125 - val_helper_output_loss: 0.4964 - val_output_layer_mae: 0.4645 - val_helper_output_mae: 0.5179\n",
            "Epoch 10/30\n",
            "363/363 [==============================] - 1s 3ms/step - loss: 0.4330 - output_layer_loss: 0.4168 - helper_output_loss: 0.4981 - output_layer_mae: 0.4645 - helper_output_mae: 0.5120 - val_loss: 0.4191 - val_output_layer_loss: 0.4030 - val_helper_output_loss: 0.4833 - val_output_layer_mae: 0.4614 - val_helper_output_mae: 0.5121\n",
            "Epoch 11/30\n",
            "363/363 [==============================] - 1s 3ms/step - loss: 0.4258 - output_layer_loss: 0.4097 - helper_output_loss: 0.4901 - output_layer_mae: 0.4610 - helper_output_mae: 0.5086 - val_loss: 0.4121 - val_output_layer_loss: 0.3964 - val_helper_output_loss: 0.4747 - val_output_layer_mae: 0.4598 - val_helper_output_mae: 0.5097\n",
            "Epoch 12/30\n",
            "363/363 [==============================] - 1s 3ms/step - loss: 0.4318 - output_layer_loss: 0.4188 - helper_output_loss: 0.4838 - output_layer_mae: 0.4597 - helper_output_mae: 0.5056 - val_loss: 0.4067 - val_output_layer_loss: 0.3919 - val_helper_output_loss: 0.4660 - val_output_layer_mae: 0.4625 - val_helper_output_mae: 0.5089\n",
            "Epoch 13/30\n",
            "363/363 [==============================] - 1s 3ms/step - loss: 0.4157 - output_layer_loss: 0.4005 - helper_output_loss: 0.4763 - output_layer_mae: 0.4554 - helper_output_mae: 0.5011 - val_loss: 0.4002 - val_output_layer_loss: 0.3852 - val_helper_output_loss: 0.4603 - val_output_layer_mae: 0.4544 - val_helper_output_mae: 0.5028\n",
            "Epoch 14/30\n",
            "363/363 [==============================] - 1s 3ms/step - loss: 0.4094 - output_layer_loss: 0.3938 - helper_output_loss: 0.4716 - output_layer_mae: 0.4515 - helper_output_mae: 0.4981 - val_loss: 0.3966 - val_output_layer_loss: 0.3819 - val_helper_output_loss: 0.4555 - val_output_layer_mae: 0.4512 - val_helper_output_mae: 0.4992\n",
            "Epoch 15/30\n",
            "363/363 [==============================] - 1s 4ms/step - loss: 0.4100 - output_layer_loss: 0.3958 - helper_output_loss: 0.4669 - output_layer_mae: 0.4505 - helper_output_mae: 0.4946 - val_loss: 0.3980 - val_output_layer_loss: 0.3828 - val_helper_output_loss: 0.4591 - val_output_layer_mae: 0.4607 - val_helper_output_mae: 0.5113\n",
            "Epoch 16/30\n",
            "363/363 [==============================] - 2s 5ms/step - loss: 0.4037 - output_layer_loss: 0.3888 - helper_output_loss: 0.4631 - output_layer_mae: 0.4490 - helper_output_mae: 0.4932 - val_loss: 0.3922 - val_output_layer_loss: 0.3775 - val_helper_output_loss: 0.4510 - val_output_layer_mae: 0.4457 - val_helper_output_mae: 0.4961\n",
            "Epoch 17/30\n",
            "363/363 [==============================] - 2s 6ms/step - loss: 0.4021 - output_layer_loss: 0.3874 - helper_output_loss: 0.4611 - output_layer_mae: 0.4466 - helper_output_mae: 0.4921 - val_loss: 0.3866 - val_output_layer_loss: 0.3721 - val_helper_output_loss: 0.4444 - val_output_layer_mae: 0.4415 - val_helper_output_mae: 0.4897\n",
            "Epoch 18/30\n",
            "363/363 [==============================] - 1s 3ms/step - loss: 0.4010 - output_layer_loss: 0.3869 - helper_output_loss: 0.4576 - output_layer_mae: 0.4463 - helper_output_mae: 0.4904 - val_loss: 0.3853 - val_output_layer_loss: 0.3706 - val_helper_output_loss: 0.4442 - val_output_layer_mae: 0.4402 - val_helper_output_mae: 0.4924\n",
            "Epoch 19/30\n",
            "363/363 [==============================] - 1s 3ms/step - loss: 0.3965 - output_layer_loss: 0.3817 - helper_output_loss: 0.4558 - output_layer_mae: 0.4454 - helper_output_mae: 0.4904 - val_loss: 0.3948 - val_output_layer_loss: 0.3808 - val_helper_output_loss: 0.4508 - val_output_layer_mae: 0.4550 - val_helper_output_mae: 0.4996\n",
            "Epoch 20/30\n",
            "363/363 [==============================] - 1s 3ms/step - loss: 0.3940 - output_layer_loss: 0.3791 - helper_output_loss: 0.4533 - output_layer_mae: 0.4435 - helper_output_mae: 0.4885 - val_loss: 0.3825 - val_output_layer_loss: 0.3677 - val_helper_output_loss: 0.4414 - val_output_layer_mae: 0.4414 - val_helper_output_mae: 0.4916\n",
            "Epoch 21/30\n",
            "363/363 [==============================] - 1s 3ms/step - loss: 0.3948 - output_layer_loss: 0.3803 - helper_output_loss: 0.4525 - output_layer_mae: 0.4438 - helper_output_mae: 0.4887 - val_loss: 0.3832 - val_output_layer_loss: 0.3691 - val_helper_output_loss: 0.4397 - val_output_layer_mae: 0.4442 - val_helper_output_mae: 0.4913\n",
            "Epoch 22/30\n",
            "363/363 [==============================] - 1s 3ms/step - loss: 0.3912 - output_layer_loss: 0.3766 - helper_output_loss: 0.4492 - output_layer_mae: 0.4425 - helper_output_mae: 0.4862 - val_loss: 0.3842 - val_output_layer_loss: 0.3697 - val_helper_output_loss: 0.4419 - val_output_layer_mae: 0.4390 - val_helper_output_mae: 0.4896\n",
            "Epoch 23/30\n",
            "363/363 [==============================] - 1s 3ms/step - loss: 0.3927 - output_layer_loss: 0.3792 - helper_output_loss: 0.4469 - output_layer_mae: 0.4411 - helper_output_mae: 0.4854 - val_loss: 0.3939 - val_output_layer_loss: 0.3792 - val_helper_output_loss: 0.4524 - val_output_layer_mae: 0.4467 - val_helper_output_mae: 0.4958\n",
            "Epoch 24/30\n",
            "363/363 [==============================] - 1s 4ms/step - loss: 0.3907 - output_layer_loss: 0.3767 - helper_output_loss: 0.4469 - output_layer_mae: 0.4411 - helper_output_mae: 0.4855 - val_loss: 0.3759 - val_output_layer_loss: 0.3613 - val_helper_output_loss: 0.4343 - val_output_layer_mae: 0.4383 - val_helper_output_mae: 0.4899\n",
            "Epoch 25/30\n",
            "363/363 [==============================] - 1s 3ms/step - loss: 0.3874 - output_layer_loss: 0.3729 - helper_output_loss: 0.4454 - output_layer_mae: 0.4400 - helper_output_mae: 0.4851 - val_loss: 0.3773 - val_output_layer_loss: 0.3632 - val_helper_output_loss: 0.4335 - val_output_layer_mae: 0.4373 - val_helper_output_mae: 0.4872\n",
            "Epoch 26/30\n",
            "363/363 [==============================] - 2s 5ms/step - loss: 0.3938 - output_layer_loss: 0.3814 - helper_output_loss: 0.4434 - output_layer_mae: 0.4411 - helper_output_mae: 0.4842 - val_loss: 0.3771 - val_output_layer_loss: 0.3628 - val_helper_output_loss: 0.4344 - val_output_layer_mae: 0.4455 - val_helper_output_mae: 0.4944\n",
            "Epoch 27/30\n",
            "363/363 [==============================] - 2s 6ms/step - loss: 0.3845 - output_layer_loss: 0.3700 - helper_output_loss: 0.4422 - output_layer_mae: 0.4383 - helper_output_mae: 0.4829 - val_loss: 0.3764 - val_output_layer_loss: 0.3622 - val_helper_output_loss: 0.4333 - val_output_layer_mae: 0.4353 - val_helper_output_mae: 0.4877\n",
            "Epoch 28/30\n",
            "363/363 [==============================] - 1s 3ms/step - loss: 0.4101 - output_layer_loss: 0.4023 - helper_output_loss: 0.4412 - output_layer_mae: 0.4404 - helper_output_mae: 0.4833 - val_loss: 0.3824 - val_output_layer_loss: 0.3685 - val_helper_output_loss: 0.4378 - val_output_layer_mae: 0.4365 - val_helper_output_mae: 0.4860\n",
            "Epoch 29/30\n",
            "363/363 [==============================] - 1s 3ms/step - loss: 0.3831 - output_layer_loss: 0.3686 - helper_output_loss: 0.4408 - output_layer_mae: 0.4369 - helper_output_mae: 0.4821 - val_loss: 0.3793 - val_output_layer_loss: 0.3651 - val_helper_output_loss: 0.4362 - val_output_layer_mae: 0.4334 - val_helper_output_mae: 0.4847\n",
            "Epoch 30/30\n",
            "363/363 [==============================] - 1s 3ms/step - loss: 0.3846 - output_layer_loss: 0.3708 - helper_output_loss: 0.4402 - output_layer_mae: 0.4370 - helper_output_mae: 0.4813 - val_loss: 0.3689 - val_output_layer_loss: 0.3549 - val_helper_output_loss: 0.4249 - val_output_layer_mae: 0.4342 - val_helper_output_mae: 0.4837\n"
          ]
        },
        {
          "output_type": "execute_result",
          "data": {
            "text/plain": [
              "<keras.src.callbacks.History at 0x7e2f7d2a5030>"
            ]
          },
          "metadata": {},
          "execution_count": 27
        }
      ]
    },
    {
      "cell_type": "markdown",
      "source": [
        "## Subclass Model"
      ],
      "metadata": {
        "id": "BpVMeAlpLewd"
      }
    },
    {
      "cell_type": "code",
      "source": [
        "class WideAndDeepAnn(keras.Model):\n",
        "  def __init__(self, activation=\"relu\", **kwargs):\n",
        "    super().__init__(**kwargs)\n",
        "    self.hidden_layer1 = keras.layers.Dense(50, activation = activation)\n",
        "    self.hidden_layer2 = keras.layers.Dense(10, activation = activation)\n",
        "    self.final_output = keras.layers.Dense(1)\n",
        "    self.helper_output = keras.layers.Dense(1)\n",
        "\n",
        "  def call(self, inputs):\n",
        "    input_1, input_2 = inputs\n",
        "    h1_out = self.hidden_layer1(input_1)\n",
        "    h2_out = self.hidden_layer2(h1_out)\n",
        "    concat_out = keras.layers.concatenate([input_1, h2_out])\n",
        "    final_output = self.final_output(concat_out)\n",
        "    helper_output = self.helper_output(h2_out)\n",
        "    return final_output, helper_output\n",
        "\n"
      ],
      "metadata": {
        "id": "Pbx-wjedLkQR"
      },
      "execution_count": 28,
      "outputs": []
    },
    {
      "cell_type": "code",
      "source": [
        "subclass_model = WideAndDeepAnn()"
      ],
      "metadata": {
        "id": "ubxseZ_dVthZ"
      },
      "execution_count": 29,
      "outputs": []
    },
    {
      "cell_type": "code",
      "source": [
        "subclass_model.compile(loss=[\"mse\", \"mse\"],\n",
        "                              loss_weights = [0.8, 0.2],\n",
        "                              optimizer=\"sgd\",\n",
        "                              metrics=[\"mae\"])"
      ],
      "metadata": {
        "id": "3yiFVkSZV2lP"
      },
      "execution_count": 30,
      "outputs": []
    },
    {
      "cell_type": "code",
      "source": [
        "subclass_model.fit((X_train_s_1, X_train_s_2), (y_train1, y_train1), epochs = 30,\n",
        "                   validation_data=((X_validation_s_1,X_validation_s_2), (y_validation,y_validation)))"
      ],
      "metadata": {
        "id": "SaNnAGOvWAip",
        "outputId": "75863bd2-a993-4dae-8452-077e273de6de",
        "colab": {
          "base_uri": "https://localhost:8080/"
        }
      },
      "execution_count": 31,
      "outputs": [
        {
          "output_type": "stream",
          "name": "stdout",
          "text": [
            "Epoch 1/30\n",
            "363/363 [==============================] - 3s 4ms/step - loss: 0.9549 - output_1_loss: 0.9429 - output_2_loss: 1.0030 - output_1_mae: 0.6790 - output_2_mae: 0.6851 - val_loss: 0.6096 - val_output_1_loss: 0.5990 - val_output_2_loss: 0.6520 - val_output_1_mae: 0.5801 - val_output_2_mae: 0.5971\n",
            "Epoch 2/30\n",
            "363/363 [==============================] - 1s 3ms/step - loss: 0.6224 - output_1_loss: 0.6167 - output_2_loss: 0.6453 - output_1_mae: 0.5641 - output_2_mae: 0.5868 - val_loss: 0.5731 - val_output_1_loss: 0.5667 - val_output_2_loss: 0.5984 - val_output_1_mae: 0.5666 - val_output_2_mae: 0.5744\n",
            "Epoch 3/30\n",
            "363/363 [==============================] - 1s 3ms/step - loss: 0.5881 - output_1_loss: 0.5850 - output_2_loss: 0.6005 - output_1_mae: 0.5480 - output_2_mae: 0.5662 - val_loss: 0.5410 - val_output_1_loss: 0.5355 - val_output_2_loss: 0.5633 - val_output_1_mae: 0.5475 - val_output_2_mae: 0.5561\n",
            "Epoch 4/30\n",
            "363/363 [==============================] - 1s 3ms/step - loss: 0.5438 - output_1_loss: 0.5383 - output_2_loss: 0.5657 - output_1_mae: 0.5336 - output_2_mae: 0.5497 - val_loss: 0.5221 - val_output_1_loss: 0.5180 - val_output_2_loss: 0.5386 - val_output_1_mae: 0.5336 - val_output_2_mae: 0.5427\n",
            "Epoch 5/30\n",
            "363/363 [==============================] - 2s 6ms/step - loss: 0.5335 - output_1_loss: 0.5313 - output_2_loss: 0.5426 - output_1_mae: 0.5269 - output_2_mae: 0.5374 - val_loss: 0.5048 - val_output_1_loss: 0.5014 - val_output_2_loss: 0.5187 - val_output_1_mae: 0.5247 - val_output_2_mae: 0.5322\n",
            "Epoch 6/30\n",
            "363/363 [==============================] - 2s 5ms/step - loss: 0.5195 - output_1_loss: 0.5183 - output_2_loss: 0.5242 - output_1_mae: 0.5180 - output_2_mae: 0.5263 - val_loss: 0.4925 - val_output_1_loss: 0.4897 - val_output_2_loss: 0.5038 - val_output_1_mae: 0.5187 - val_output_2_mae: 0.5269\n",
            "Epoch 7/30\n",
            "363/363 [==============================] - 1s 4ms/step - loss: 0.5029 - output_1_loss: 0.5011 - output_2_loss: 0.5101 - output_1_mae: 0.5100 - output_2_mae: 0.5190 - val_loss: 0.4914 - val_output_1_loss: 0.4909 - val_output_2_loss: 0.4932 - val_output_1_mae: 0.5335 - val_output_2_mae: 0.5304\n",
            "Epoch 8/30\n",
            "363/363 [==============================] - 1s 3ms/step - loss: 0.4910 - output_1_loss: 0.4885 - output_2_loss: 0.5007 - output_1_mae: 0.5070 - output_2_mae: 0.5142 - val_loss: 0.4764 - val_output_1_loss: 0.4739 - val_output_2_loss: 0.4862 - val_output_1_mae: 0.5066 - val_output_2_mae: 0.5147\n",
            "Epoch 9/30\n",
            "363/363 [==============================] - 1s 3ms/step - loss: 0.4797 - output_1_loss: 0.4769 - output_2_loss: 0.4907 - output_1_mae: 0.5014 - output_2_mae: 0.5090 - val_loss: 0.4724 - val_output_1_loss: 0.4708 - val_output_2_loss: 0.4788 - val_output_1_mae: 0.5048 - val_output_2_mae: 0.5109\n",
            "Epoch 10/30\n",
            "363/363 [==============================] - 1s 3ms/step - loss: 0.4726 - output_1_loss: 0.4702 - output_2_loss: 0.4825 - output_1_mae: 0.4965 - output_2_mae: 0.5047 - val_loss: 0.4594 - val_output_1_loss: 0.4577 - val_output_2_loss: 0.4661 - val_output_1_mae: 0.5082 - val_output_2_mae: 0.5125\n",
            "Epoch 11/30\n",
            "363/363 [==============================] - 1s 3ms/step - loss: 0.4659 - output_1_loss: 0.4636 - output_2_loss: 0.4749 - output_1_mae: 0.4930 - output_2_mae: 0.5004 - val_loss: 0.4506 - val_output_1_loss: 0.4488 - val_output_2_loss: 0.4579 - val_output_1_mae: 0.4916 - val_output_2_mae: 0.5003\n",
            "Epoch 12/30\n",
            "363/363 [==============================] - 1s 3ms/step - loss: 0.4675 - output_1_loss: 0.4666 - output_2_loss: 0.4709 - output_1_mae: 0.4918 - output_2_mae: 0.4983 - val_loss: 0.4445 - val_output_1_loss: 0.4427 - val_output_2_loss: 0.4517 - val_output_1_mae: 0.4903 - val_output_2_mae: 0.4985\n",
            "Epoch 13/30\n",
            "363/363 [==============================] - 1s 3ms/step - loss: 0.4611 - output_1_loss: 0.4600 - output_2_loss: 0.4658 - output_1_mae: 0.4898 - output_2_mae: 0.4954 - val_loss: 0.4547 - val_output_1_loss: 0.4540 - val_output_2_loss: 0.4572 - val_output_1_mae: 0.4881 - val_output_2_mae: 0.4929\n",
            "Epoch 14/30\n",
            "363/363 [==============================] - 1s 3ms/step - loss: 0.4557 - output_1_loss: 0.4540 - output_2_loss: 0.4626 - output_1_mae: 0.4871 - output_2_mae: 0.4932 - val_loss: 0.4391 - val_output_1_loss: 0.4370 - val_output_2_loss: 0.4476 - val_output_1_mae: 0.4924 - val_output_2_mae: 0.4989\n",
            "Epoch 15/30\n",
            "363/363 [==============================] - 2s 5ms/step - loss: 0.4530 - output_1_loss: 0.4516 - output_2_loss: 0.4590 - output_1_mae: 0.4868 - output_2_mae: 0.4917 - val_loss: 0.4443 - val_output_1_loss: 0.4431 - val_output_2_loss: 0.4494 - val_output_1_mae: 0.4841 - val_output_2_mae: 0.4903\n",
            "Epoch 16/30\n",
            "363/363 [==============================] - 2s 5ms/step - loss: 0.4487 - output_1_loss: 0.4470 - output_2_loss: 0.4558 - output_1_mae: 0.4841 - output_2_mae: 0.4893 - val_loss: 0.4367 - val_output_1_loss: 0.4348 - val_output_2_loss: 0.4444 - val_output_1_mae: 0.4903 - val_output_2_mae: 0.4976\n",
            "Epoch 17/30\n",
            "363/363 [==============================] - 2s 4ms/step - loss: 0.4503 - output_1_loss: 0.4494 - output_2_loss: 0.4539 - output_1_mae: 0.4848 - output_2_mae: 0.4887 - val_loss: 0.4348 - val_output_1_loss: 0.4336 - val_output_2_loss: 0.4397 - val_output_1_mae: 0.4895 - val_output_2_mae: 0.4934\n",
            "Epoch 18/30\n",
            "363/363 [==============================] - 1s 3ms/step - loss: 0.5046 - output_1_loss: 0.5177 - output_2_loss: 0.4521 - output_1_mae: 0.4866 - output_2_mae: 0.4877 - val_loss: 0.4297 - val_output_1_loss: 0.4281 - val_output_2_loss: 0.4363 - val_output_1_mae: 0.4853 - val_output_2_mae: 0.4900\n",
            "Epoch 19/30\n",
            "363/363 [==============================] - 1s 3ms/step - loss: 0.4506 - output_1_loss: 0.4505 - output_2_loss: 0.4514 - output_1_mae: 0.4838 - output_2_mae: 0.4864 - val_loss: 0.4350 - val_output_1_loss: 0.4338 - val_output_2_loss: 0.4398 - val_output_1_mae: 0.4854 - val_output_2_mae: 0.4885\n",
            "Epoch 20/30\n",
            "363/363 [==============================] - 1s 4ms/step - loss: 0.4458 - output_1_loss: 0.4451 - output_2_loss: 0.4485 - output_1_mae: 0.4825 - output_2_mae: 0.4849 - val_loss: 0.4511 - val_output_1_loss: 0.4516 - val_output_2_loss: 0.4488 - val_output_1_mae: 0.4914 - val_output_2_mae: 0.4917\n",
            "Epoch 21/30\n",
            "363/363 [==============================] - 1s 3ms/step - loss: 0.4469 - output_1_loss: 0.4462 - output_2_loss: 0.4496 - output_1_mae: 0.4837 - output_2_mae: 0.4873 - val_loss: 0.4331 - val_output_1_loss: 0.4314 - val_output_2_loss: 0.4402 - val_output_1_mae: 0.4839 - val_output_2_mae: 0.4895\n",
            "Epoch 22/30\n",
            "363/363 [==============================] - 1s 3ms/step - loss: 0.4504 - output_1_loss: 0.4497 - output_2_loss: 0.4531 - output_1_mae: 0.4848 - output_2_mae: 0.4881 - val_loss: 0.4299 - val_output_1_loss: 0.4285 - val_output_2_loss: 0.4355 - val_output_1_mae: 0.4795 - val_output_2_mae: 0.4839\n",
            "Epoch 23/30\n",
            "363/363 [==============================] - 1s 3ms/step - loss: 0.4424 - output_1_loss: 0.4414 - output_2_loss: 0.4466 - output_1_mae: 0.4805 - output_2_mae: 0.4833 - val_loss: 0.4292 - val_output_1_loss: 0.4275 - val_output_2_loss: 0.4360 - val_output_1_mae: 0.4847 - val_output_2_mae: 0.4900\n",
            "Epoch 24/30\n",
            "363/363 [==============================] - 1s 3ms/step - loss: 0.4376 - output_1_loss: 0.4362 - output_2_loss: 0.4428 - output_1_mae: 0.4786 - output_2_mae: 0.4823 - val_loss: 0.4293 - val_output_1_loss: 0.4284 - val_output_2_loss: 0.4331 - val_output_1_mae: 0.4815 - val_output_2_mae: 0.4829\n",
            "Epoch 25/30\n",
            "363/363 [==============================] - 1s 3ms/step - loss: 0.4420 - output_1_loss: 0.4421 - output_2_loss: 0.4416 - output_1_mae: 0.4812 - output_2_mae: 0.4823 - val_loss: 0.4330 - val_output_1_loss: 0.4323 - val_output_2_loss: 0.4360 - val_output_1_mae: 0.4897 - val_output_2_mae: 0.4888\n",
            "Epoch 26/30\n",
            "363/363 [==============================] - 2s 6ms/step - loss: 0.4397 - output_1_loss: 0.4397 - output_2_loss: 0.4395 - output_1_mae: 0.4798 - output_2_mae: 0.4808 - val_loss: 0.4264 - val_output_1_loss: 0.4258 - val_output_2_loss: 0.4290 - val_output_1_mae: 0.4743 - val_output_2_mae: 0.4778\n",
            "Epoch 27/30\n",
            "363/363 [==============================] - 2s 6ms/step - loss: 0.4362 - output_1_loss: 0.4351 - output_2_loss: 0.4403 - output_1_mae: 0.4771 - output_2_mae: 0.4799 - val_loss: 0.4499 - val_output_1_loss: 0.4504 - val_output_2_loss: 0.4477 - val_output_1_mae: 0.4910 - val_output_2_mae: 0.4896\n",
            "Epoch 28/30\n",
            "363/363 [==============================] - 1s 4ms/step - loss: 0.4380 - output_1_loss: 0.4384 - output_2_loss: 0.4365 - output_1_mae: 0.4778 - output_2_mae: 0.4788 - val_loss: 0.4471 - val_output_1_loss: 0.4469 - val_output_2_loss: 0.4476 - val_output_1_mae: 0.4852 - val_output_2_mae: 0.4860\n",
            "Epoch 29/30\n",
            "363/363 [==============================] - 1s 4ms/step - loss: 0.4361 - output_1_loss: 0.4360 - output_2_loss: 0.4366 - output_1_mae: 0.4769 - output_2_mae: 0.4785 - val_loss: 0.4223 - val_output_1_loss: 0.4213 - val_output_2_loss: 0.4266 - val_output_1_mae: 0.4771 - val_output_2_mae: 0.4806\n",
            "Epoch 30/30\n",
            "363/363 [==============================] - 1s 3ms/step - loss: 0.4304 - output_1_loss: 0.4291 - output_2_loss: 0.4355 - output_1_mae: 0.4745 - output_2_mae: 0.4783 - val_loss: 0.4323 - val_output_1_loss: 0.4316 - val_output_2_loss: 0.4352 - val_output_1_mae: 0.4888 - val_output_2_mae: 0.4897\n"
          ]
        },
        {
          "output_type": "execute_result",
          "data": {
            "text/plain": [
              "<keras.src.callbacks.History at 0x7e2f7c10a740>"
            ]
          },
          "metadata": {},
          "execution_count": 31
        }
      ]
    },
    {
      "cell_type": "markdown",
      "source": [
        "## saving Models"
      ],
      "metadata": {
        "id": "n9KseDN-Ud27"
      }
    },
    {
      "cell_type": "code",
      "source": [
        "model.save(\"model_regression.h5\")\n",
        "model_conc.save(\"model_conc_regression.h5\")\n",
        "model_multiple.save(\"model_multiple_regressin.h5\")\n",
        "model_multiple_output.save(\"model_multiple_output_regression.h5\")\n",
        "subclass_model.save_weights(\"model_subclass_regression.h5\")"
      ],
      "metadata": {
        "id": "5YVBhLYKUgkF",
        "outputId": "6fdb82f2-3dab-4e22-ba7d-87c2fcd4e162",
        "colab": {
          "base_uri": "https://localhost:8080/"
        }
      },
      "execution_count": 32,
      "outputs": [
        {
          "output_type": "stream",
          "name": "stderr",
          "text": [
            "/usr/local/lib/python3.10/dist-packages/keras/src/engine/training.py:3079: UserWarning: You are saving your model as an HDF5 file via `model.save()`. This file format is considered legacy. We recommend using instead the native Keras format, e.g. `model.save('my_model.keras')`.\n",
            "  saving_api.save_model(\n"
          ]
        }
      ]
    },
    {
      "cell_type": "code",
      "source": [
        "model_from = keras.models.load_model(\"model_regression.h5\")"
      ],
      "metadata": {
        "id": "pazOB6TRVx99"
      },
      "execution_count": 34,
      "outputs": []
    },
    {
      "cell_type": "code",
      "source": [
        "model_from.summary()"
      ],
      "metadata": {
        "id": "31Lv_Bv5WEWQ",
        "outputId": "c78ccf2d-bde5-43db-b624-c44c9897031b",
        "colab": {
          "base_uri": "https://localhost:8080/"
        }
      },
      "execution_count": 35,
      "outputs": [
        {
          "output_type": "stream",
          "name": "stdout",
          "text": [
            "Model: \"sequential\"\n",
            "_________________________________________________________________\n",
            " Layer (type)                Output Shape              Param #   \n",
            "=================================================================\n",
            " dense (Dense)               (None, 50)                450       \n",
            "                                                                 \n",
            " dense_1 (Dense)             (None, 10)                510       \n",
            "                                                                 \n",
            " dense_2 (Dense)             (None, 1)                 11        \n",
            "                                                                 \n",
            "=================================================================\n",
            "Total params: 971 (3.79 KB)\n",
            "Trainable params: 971 (3.79 KB)\n",
            "Non-trainable params: 0 (0.00 Byte)\n",
            "_________________________________________________________________\n"
          ]
        }
      ]
    }
  ],
  "metadata": {
    "colab": {
      "provenance": [],
      "authorship_tag": "ABX9TyPBSsYLtCvB7HgAz1TubvKU",
      "include_colab_link": true
    },
    "kernelspec": {
      "display_name": "Python 3",
      "name": "python3"
    },
    "language_info": {
      "name": "python"
    }
  },
  "nbformat": 4,
  "nbformat_minor": 0
}