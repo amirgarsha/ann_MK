{
  "cells": [
    {
      "cell_type": "markdown",
      "metadata": {
        "id": "view-in-github",
        "colab_type": "text"
      },
      "source": [
        "<a href=\"https://colab.research.google.com/github/amirgarsha/ann_MK/blob/main/MK_ann_regression.ipynb\" target=\"_parent\"><img src=\"https://colab.research.google.com/assets/colab-badge.svg\" alt=\"Open In Colab\"/></a>"
      ]
    },
    {
      "cell_type": "code",
      "execution_count": 1,
      "metadata": {
        "id": "7w7-F8QU9Cm9"
      },
      "outputs": [],
      "source": [
        "import tensorflow as tf\n",
        "from tensorflow import keras\n",
        "from sklearn.datasets import fetch_california_housing\n",
        "from sklearn.model_selection import train_test_split\n",
        "from sklearn.preprocessing import StandardScaler"
      ]
    },
    {
      "cell_type": "code",
      "execution_count": 2,
      "metadata": {
        "id": "MCae5-ij-KRu"
      },
      "outputs": [],
      "source": [
        "import matplotlib.pyplot as plt\n",
        "import numpy as np\n"
      ]
    },
    {
      "cell_type": "markdown",
      "metadata": {
        "id": "HoS4AUFn_hG7"
      },
      "source": [
        "##Regression"
      ]
    },
    {
      "cell_type": "code",
      "execution_count": 3,
      "metadata": {
        "id": "p6xspfO-_k21"
      },
      "outputs": [],
      "source": [
        "## check dataset\n",
        "california_housing = fetch_california_housing()"
      ]
    },
    {
      "cell_type": "code",
      "execution_count": 4,
      "metadata": {
        "id": "v4vwfjqY_rS-"
      },
      "outputs": [],
      "source": [
        "## split data\n",
        "X_train0, X_test, y_train0,  y_test = train_test_split(california_housing[\"data\"],\n",
        "                                                    california_housing[\"target\"])"
      ]
    },
    {
      "cell_type": "code",
      "execution_count": 5,
      "metadata": {
        "id": "va0TVguWA0N_"
      },
      "outputs": [],
      "source": [
        "## split train to train and validation\n",
        "X_train1, X_validation, y_train1, y_validation = train_test_split(X_train0,\n",
        "                                                                  y_train0)"
      ]
    },
    {
      "cell_type": "code",
      "execution_count": 6,
      "metadata": {
        "colab": {
          "base_uri": "https://localhost:8080/"
        },
        "id": "1f7ZeEyhCYZZ",
        "outputId": "704b9a5c-8d32-4075-fc70-36eb1d46a833"
      },
      "outputs": [
        {
          "output_type": "stream",
          "name": "stdout",
          "text": [
            "(11610, 8)\n",
            "(5160, 8)\n",
            "(3870, 8)\n"
          ]
        }
      ],
      "source": [
        "## check shape of train and test\n",
        "print(X_train1.shape)\n",
        "print(X_test.shape)\n",
        "print(X_validation.shape)"
      ]
    },
    {
      "cell_type": "code",
      "execution_count": 7,
      "metadata": {
        "id": "b3Bu65SrETeN"
      },
      "outputs": [],
      "source": [
        "## Standardization\n",
        "sc = StandardScaler()\n",
        "X_train_s = sc.fit_transform(X_train1)\n",
        "X_validation_s = sc.transform(X_validation)\n",
        "X_test_s = sc.transform(X_test)"
      ]
    },
    {
      "cell_type": "markdown",
      "metadata": {
        "id": "12lIYxUnPNoX"
      },
      "source": [
        "Create Model"
      ]
    },
    {
      "cell_type": "code",
      "execution_count": 8,
      "metadata": {
        "id": "gCJ_W-HCPP5p"
      },
      "outputs": [],
      "source": [
        "## create Model\n",
        "model = keras.models.Sequential([\n",
        "    keras.layers.Dense(50, activation=\"relu\"),\n",
        "    keras.layers.Dense(10, activation=\"relu\"),\n",
        "    keras.layers.Dense(1)]\n",
        ")"
      ]
    },
    {
      "cell_type": "code",
      "execution_count": 9,
      "metadata": {
        "id": "5DxCzmoNRoJb"
      },
      "outputs": [],
      "source": [
        "model.compile(loss=\"mean_squared_error\",\n",
        "              optimizer=\"sgd\",\n",
        "              metrics=[\"mean_absolute_error\"])"
      ]
    },
    {
      "cell_type": "code",
      "execution_count": 10,
      "metadata": {
        "colab": {
          "base_uri": "https://localhost:8080/"
        },
        "id": "b68M7gfUsPNe",
        "outputId": "59b3f4f0-9869-408b-d3cf-63c46ee3c7cc"
      },
      "outputs": [
        {
          "output_type": "stream",
          "name": "stdout",
          "text": [
            "Epoch 1/30\n",
            "363/363 [==============================] - 2s 3ms/step - loss: 0.7220 - mean_absolute_error: 0.5987 - val_loss: 0.6933 - val_mean_absolute_error: 0.5114\n",
            "Epoch 2/30\n",
            "363/363 [==============================] - 1s 2ms/step - loss: 0.5752 - mean_absolute_error: 0.4993 - val_loss: 0.4632 - val_mean_absolute_error: 0.5048\n",
            "Epoch 3/30\n",
            "363/363 [==============================] - 1s 3ms/step - loss: 0.4454 - mean_absolute_error: 0.4775 - val_loss: 0.4236 - val_mean_absolute_error: 0.4664\n",
            "Epoch 4/30\n",
            "363/363 [==============================] - 2s 5ms/step - loss: 0.4229 - mean_absolute_error: 0.4624 - val_loss: 0.4004 - val_mean_absolute_error: 0.4507\n",
            "Epoch 5/30\n",
            "363/363 [==============================] - 2s 5ms/step - loss: 0.4079 - mean_absolute_error: 0.4536 - val_loss: 0.3900 - val_mean_absolute_error: 0.4437\n",
            "Epoch 6/30\n",
            "363/363 [==============================] - 3s 8ms/step - loss: 0.3967 - mean_absolute_error: 0.4468 - val_loss: 0.4008 - val_mean_absolute_error: 0.4375\n",
            "Epoch 7/30\n",
            "363/363 [==============================] - 2s 6ms/step - loss: 0.3885 - mean_absolute_error: 0.4411 - val_loss: 0.3745 - val_mean_absolute_error: 0.4335\n",
            "Epoch 8/30\n",
            "363/363 [==============================] - 2s 4ms/step - loss: 0.3804 - mean_absolute_error: 0.4367 - val_loss: 0.3763 - val_mean_absolute_error: 0.4420\n",
            "Epoch 9/30\n",
            "363/363 [==============================] - 2s 6ms/step - loss: 0.3748 - mean_absolute_error: 0.4326 - val_loss: 0.3656 - val_mean_absolute_error: 0.4232\n",
            "Epoch 10/30\n",
            "363/363 [==============================] - 2s 5ms/step - loss: 0.3677 - mean_absolute_error: 0.4282 - val_loss: 0.3710 - val_mean_absolute_error: 0.4315\n",
            "Epoch 11/30\n",
            "363/363 [==============================] - 2s 6ms/step - loss: 0.3617 - mean_absolute_error: 0.4234 - val_loss: 0.3610 - val_mean_absolute_error: 0.4266\n",
            "Epoch 12/30\n",
            "363/363 [==============================] - 4s 10ms/step - loss: 0.3567 - mean_absolute_error: 0.4209 - val_loss: 0.3624 - val_mean_absolute_error: 0.4338\n",
            "Epoch 13/30\n",
            "363/363 [==============================] - 3s 8ms/step - loss: 0.3523 - mean_absolute_error: 0.4177 - val_loss: 0.3476 - val_mean_absolute_error: 0.4134\n",
            "Epoch 14/30\n",
            "363/363 [==============================] - 2s 5ms/step - loss: 0.3476 - mean_absolute_error: 0.4148 - val_loss: 0.3465 - val_mean_absolute_error: 0.4087\n",
            "Epoch 15/30\n",
            "363/363 [==============================] - 2s 6ms/step - loss: 0.3436 - mean_absolute_error: 0.4120 - val_loss: 0.3406 - val_mean_absolute_error: 0.4013\n",
            "Epoch 16/30\n",
            "363/363 [==============================] - 1s 3ms/step - loss: 0.3404 - mean_absolute_error: 0.4097 - val_loss: 0.3383 - val_mean_absolute_error: 0.4013\n",
            "Epoch 17/30\n",
            "363/363 [==============================] - 1s 2ms/step - loss: 0.3363 - mean_absolute_error: 0.4065 - val_loss: 0.3369 - val_mean_absolute_error: 0.3969\n",
            "Epoch 18/30\n",
            "363/363 [==============================] - 1s 2ms/step - loss: 0.3325 - mean_absolute_error: 0.4034 - val_loss: 0.3378 - val_mean_absolute_error: 0.3994\n",
            "Epoch 19/30\n",
            "363/363 [==============================] - 1s 2ms/step - loss: 0.3294 - mean_absolute_error: 0.4008 - val_loss: 0.3403 - val_mean_absolute_error: 0.4138\n",
            "Epoch 20/30\n",
            "363/363 [==============================] - 1s 3ms/step - loss: 0.3275 - mean_absolute_error: 0.3996 - val_loss: 0.3284 - val_mean_absolute_error: 0.4011\n",
            "Epoch 21/30\n",
            "363/363 [==============================] - 1s 2ms/step - loss: 0.3235 - mean_absolute_error: 0.3982 - val_loss: 0.3519 - val_mean_absolute_error: 0.4017\n",
            "Epoch 22/30\n",
            "363/363 [==============================] - 1s 3ms/step - loss: 0.3221 - mean_absolute_error: 0.3960 - val_loss: 0.3409 - val_mean_absolute_error: 0.4093\n",
            "Epoch 23/30\n",
            "363/363 [==============================] - 1s 3ms/step - loss: 0.3211 - mean_absolute_error: 0.3950 - val_loss: 0.3223 - val_mean_absolute_error: 0.3939\n",
            "Epoch 24/30\n",
            "363/363 [==============================] - 1s 4ms/step - loss: 0.3201 - mean_absolute_error: 0.3944 - val_loss: 0.3193 - val_mean_absolute_error: 0.3947\n",
            "Epoch 25/30\n",
            "363/363 [==============================] - 1s 4ms/step - loss: 0.3181 - mean_absolute_error: 0.3951 - val_loss: 0.3184 - val_mean_absolute_error: 0.3879\n",
            "Epoch 26/30\n",
            "363/363 [==============================] - 1s 2ms/step - loss: 0.3142 - mean_absolute_error: 0.3908 - val_loss: 0.3347 - val_mean_absolute_error: 0.3922\n",
            "Epoch 27/30\n",
            "363/363 [==============================] - 1s 3ms/step - loss: 0.3163 - mean_absolute_error: 0.3924 - val_loss: 0.3232 - val_mean_absolute_error: 0.3864\n",
            "Epoch 28/30\n",
            "363/363 [==============================] - 1s 3ms/step - loss: 0.3133 - mean_absolute_error: 0.3898 - val_loss: 0.3297 - val_mean_absolute_error: 0.3913\n",
            "Epoch 29/30\n",
            "363/363 [==============================] - 1s 3ms/step - loss: 0.3119 - mean_absolute_error: 0.3894 - val_loss: 0.3224 - val_mean_absolute_error: 0.3931\n",
            "Epoch 30/30\n",
            "363/363 [==============================] - 1s 3ms/step - loss: 0.3107 - mean_absolute_error: 0.3886 - val_loss: 0.3338 - val_mean_absolute_error: 0.3896\n"
          ]
        }
      ],
      "source": [
        "history = model.fit(X_train_s, y_train1, epochs=30, validation_data=(X_validation_s, y_validation))"
      ]
    },
    {
      "cell_type": "markdown",
      "source": [
        "## Functional API"
      ],
      "metadata": {
        "id": "0-EnpQFFvgCs"
      }
    },
    {
      "cell_type": "code",
      "source": [
        "X_train0.shape[1:]"
      ],
      "metadata": {
        "colab": {
          "base_uri": "https://localhost:8080/"
        },
        "id": "PFAmuv7TugG5",
        "outputId": "f6b082f4-b8f7-4cc0-ec30-f572d2103e47"
      },
      "execution_count": 11,
      "outputs": [
        {
          "output_type": "execute_result",
          "data": {
            "text/plain": [
              "(8,)"
            ]
          },
          "metadata": {},
          "execution_count": 11
        }
      ]
    },
    {
      "cell_type": "code",
      "source": [
        "input_layer = keras.layers.Input(shape=X_train1.shape[1:])\n",
        "hidden_layer_1 = keras.layers.Dense(50, activation=\"relu\")(input_layer)\n",
        "hidden_layer_2 = keras.layers.Dense(10, activation=\"relu\")(hidden_layer_1)\n",
        "cancatenate_layer = keras.layers.Concatenate()([input_layer, hidden_layer_2])\n",
        "output_layer = keras.layers.Dense(1)(cancatenate_layer)\n",
        "model_conc = keras.Model(inputs=[input_layer], outputs=[output_layer])\n"
      ],
      "metadata": {
        "id": "Z7cGqNYyx_qF"
      },
      "execution_count": 12,
      "outputs": []
    },
    {
      "cell_type": "code",
      "source": [
        "model_conc.summary()"
      ],
      "metadata": {
        "colab": {
          "base_uri": "https://localhost:8080/"
        },
        "id": "jUpqaDMV0bqa",
        "outputId": "1d502fcb-ae09-4a10-b7a1-2cd809ed4a81"
      },
      "execution_count": 13,
      "outputs": [
        {
          "output_type": "stream",
          "name": "stdout",
          "text": [
            "Model: \"model\"\n",
            "__________________________________________________________________________________________________\n",
            " Layer (type)                Output Shape                 Param #   Connected to                  \n",
            "==================================================================================================\n",
            " input_1 (InputLayer)        [(None, 8)]                  0         []                            \n",
            "                                                                                                  \n",
            " dense_3 (Dense)             (None, 50)                   450       ['input_1[0][0]']             \n",
            "                                                                                                  \n",
            " dense_4 (Dense)             (None, 10)                   510       ['dense_3[0][0]']             \n",
            "                                                                                                  \n",
            " concatenate (Concatenate)   (None, 18)                   0         ['input_1[0][0]',             \n",
            "                                                                     'dense_4[0][0]']             \n",
            "                                                                                                  \n",
            " dense_5 (Dense)             (None, 1)                    19        ['concatenate[0][0]']         \n",
            "                                                                                                  \n",
            "==================================================================================================\n",
            "Total params: 979 (3.82 KB)\n",
            "Trainable params: 979 (3.82 KB)\n",
            "Non-trainable params: 0 (0.00 Byte)\n",
            "__________________________________________________________________________________________________\n"
          ]
        }
      ]
    },
    {
      "cell_type": "code",
      "source": [
        "keras.utils.plot_model(model_conc, \"model_pic.png\")"
      ],
      "metadata": {
        "colab": {
          "base_uri": "https://localhost:8080/",
          "height": 466
        },
        "id": "_rZLnKgE0fya",
        "outputId": "c5f004a2-5d05-45ed-d407-d0f2cb6cfd68"
      },
      "execution_count": 14,
      "outputs": [
        {
          "output_type": "execute_result",
          "data": {
            "image/png": "[encoded data removed]",
            "text/plain": [
              "<IPython.core.display.Image object>"
            ]
          },
          "metadata": {},
          "execution_count": 14
        }
      ]
    },
    {
      "cell_type": "code",
      "source": [
        "model_conc.compile(loss=\"mean_squared_error\",\n",
        "                   optimizer=\"sgd\",\n",
        "                   metrics=\"mean_absolute_error\")"
      ],
      "metadata": {
        "id": "nFDAQdAX0vcO"
      },
      "execution_count": 15,
      "outputs": []
    },
    {
      "cell_type": "code",
      "source": [
        "model_conc.fit(X_train_s, y_train1, epochs = 30,\n",
        "               validation_data = (X_validation_s, y_validation) )"
      ],
      "metadata": {
        "colab": {
          "base_uri": "https://localhost:8080/"
        },
        "id": "qmC-iawD1H29",
        "outputId": "deb861e3-a32f-4e08-a168-f52e76bf3d2f"
      },
      "execution_count": 16,
      "outputs": [
        {
          "output_type": "stream",
          "name": "stdout",
          "text": [
            "Epoch 1/30\n",
            "363/363 [==============================] - 1s 3ms/step - loss: 1.5175 - mean_absolute_error: 0.7019 - val_loss: 3.1384 - val_mean_absolute_error: 0.5385\n",
            "Epoch 2/30\n",
            "363/363 [==============================] - 1s 3ms/step - loss: 4.9338 - mean_absolute_error: 0.6100 - val_loss: 48.5026 - val_mean_absolute_error: 0.7765\n",
            "Epoch 3/30\n",
            "363/363 [==============================] - 1s 3ms/step - loss: 206.5499 - mean_absolute_error: 1.8102 - val_loss: 1046.5006 - val_mean_absolute_error: 3.5454\n",
            "Epoch 4/30\n",
            "363/363 [==============================] - 1s 3ms/step - loss: 347600544.0000 - mean_absolute_error: 1179.3489 - val_loss: 3394.5525 - val_mean_absolute_error: 28.4417\n",
            "Epoch 5/30\n",
            "363/363 [==============================] - 1s 3ms/step - loss: 1844.2736 - mean_absolute_error: 15.3206 - val_loss: 29104.2910 - val_mean_absolute_error: 16.3811\n",
            "Epoch 6/30\n",
            "363/363 [==============================] - 1s 4ms/step - loss: 26353.1738 - mean_absolute_error: 16.6207 - val_loss: 484262.3750 - val_mean_absolute_error: 58.1901\n",
            "Epoch 7/30\n",
            "363/363 [==============================] - 1s 4ms/step - loss: 1690627.1250 - mean_absolute_error: 195.2663 - val_loss: 8116969.0000 - val_mean_absolute_error: 206.8253\n",
            "Epoch 8/30\n",
            "363/363 [==============================] - 1s 3ms/step - loss: 24627130.0000 - mean_absolute_error: 612.0763 - val_loss: 137782000.0000 - val_mean_absolute_error: 1034.2782\n",
            "Epoch 9/30\n",
            "363/363 [==============================] - 1s 3ms/step - loss: 130787296.0000 - mean_absolute_error: 1477.5110 - val_loss: 2365031424.0000 - val_mean_absolute_error: 3704.8809\n",
            "Epoch 10/30\n",
            "363/363 [==============================] - 1s 2ms/step - loss: 7109867008.0000 - mean_absolute_error: 12159.9971 - val_loss: 39721414656.0000 - val_mean_absolute_error: 19334.5195\n",
            "Epoch 11/30\n",
            "363/363 [==============================] - 1s 3ms/step - loss: 41087234048.0000 - mean_absolute_error: 43282.0586 - val_loss: 680595292160.0000 - val_mean_absolute_error: 59839.1211\n",
            "Epoch 12/30\n",
            "363/363 [==============================] - 1s 3ms/step - loss: 545127530496.0000 - mean_absolute_error: 96112.5234 - val_loss: 11580627484672.0000 - val_mean_absolute_error: 257782.3906\n",
            "Epoch 13/30\n",
            "363/363 [==============================] - 1s 2ms/step - loss: 13136259186688.0000 - mean_absolute_error: 692293.4375 - val_loss: 194781581934592.0000 - val_mean_absolute_error: 1046218.7500\n",
            "Epoch 14/30\n",
            "363/363 [==============================] - 1s 3ms/step - loss: 158400927236096.0000 - mean_absolute_error: 1808099.1250 - val_loss: 3325993682993152.0000 - val_mean_absolute_error: 4258916.5000\n",
            "Epoch 15/30\n",
            "363/363 [==============================] - 1s 2ms/step - loss: 3288293265375232.0000 - mean_absolute_error: 12356179.0000 - val_loss: 55635361379909632.0000 - val_mean_absolute_error: 17063650.0000\n",
            "Epoch 16/30\n",
            "363/363 [==============================] - 1s 3ms/step - loss: 52578981047697408.0000 - mean_absolute_error: 34296996.0000 - val_loss: 940991944023080960.0000 - val_mean_absolute_error: 71222888.0000\n",
            "Epoch 17/30\n",
            "363/363 [==============================] - 1s 2ms/step - loss: 783169350642171904.0000 - mean_absolute_error: 87475824.0000 - val_loss: 16060119945203154944.0000 - val_mean_absolute_error: 335394176.0000\n",
            "Epoch 18/30\n",
            "363/363 [==============================] - 1s 3ms/step - loss: 50132694463330385920.0000 - mean_absolute_error: 791668544.0000 - val_loss: 268986547720515747840.0000 - val_mean_absolute_error: 1263045120.0000\n",
            "Epoch 19/30\n",
            "363/363 [==============================] - 1s 3ms/step - loss: 941080833490872696832.0000 - mean_absolute_error: 5913803264.0000 - val_loss: 4563359579675935375360.0000 - val_mean_absolute_error: 4978160128.0000\n",
            "Epoch 20/30\n",
            "363/363 [==============================] - 1s 4ms/step - loss: 15951664311753376792576.0000 - mean_absolute_error: 23910072320.0000 - val_loss: 77219980218790188154880.0000 - val_mean_absolute_error: 20804972544.0000\n",
            "Epoch 21/30\n",
            "363/363 [==============================] - 1s 4ms/step - loss: 267403857977305584369664.0000 - mean_absolute_error: 99065454592.0000 - val_loss: 1311944111852457455255552.0000 - val_mean_absolute_error: 93013966848.0000\n",
            "Epoch 22/30\n",
            "363/363 [==============================] - 1s 3ms/step - loss: 3782703751273688239964160.0000 - mean_absolute_error: 214109929472.0000 - val_loss: 22194619795711323919089664.0000 - val_mean_absolute_error: 374252929024.0000\n",
            "Epoch 23/30\n",
            "363/363 [==============================] - 1s 3ms/step - loss: 18733638213837424024354816.0000 - mean_absolute_error: 655901130752.0000 - val_loss: 379001970691489135599812608.0000 - val_mean_absolute_error: 1414212616192.0000\n",
            "Epoch 24/30\n",
            "363/363 [==============================] - 1s 3ms/step - loss: 327848891120675517034921984.0000 - mean_absolute_error: 1940877344768.0000 - val_loss: 6482300975184556385464483840.0000 - val_mean_absolute_error: 6838559440896.0000\n",
            "Epoch 25/30\n",
            "363/363 [==============================] - 1s 3ms/step - loss: 4948447121905882864126263296.0000 - mean_absolute_error: 6397947281408.0000 - val_loss: 109957205681206926313651175424.0000 - val_mean_absolute_error: 29369122684928.0000\n",
            "Epoch 26/30\n",
            "363/363 [==============================] - 1s 3ms/step - loss: 384827911424959165893789614080.0000 - mean_absolute_error: 118248569831424.0000 - val_loss: 1855195651000129416350306140160.0000 - val_mean_absolute_error: 99771125596160.0000\n",
            "Epoch 27/30\n",
            "363/363 [==============================] - 1s 2ms/step - loss: 1459814043843525715504301867008.0000 - mean_absolute_error: 137717027438592.0000 - val_loss: 31859673208081331339970849275904.0000 - val_mean_absolute_error: 463961594003456.0000\n",
            "Epoch 28/30\n",
            "363/363 [==============================] - 1s 2ms/step - loss: 35391687807628906541600858963968.0000 - mean_absolute_error: 1260489283731456.0000 - val_loss: 525121669207586775805058732785664.0000 - val_mean_absolute_error: 1674819410067456.0000\n",
            "Epoch 29/30\n",
            "363/363 [==============================] - 1s 3ms/step - loss: 1522525123156539204774584295358464.0000 - mean_absolute_error: 4312284872572928.0000 - val_loss: 8862315562950953485651250738364416.0000 - val_mean_absolute_error: 7187329269628928.0000\n",
            "Epoch 30/30\n",
            "363/363 [==============================] - 1s 3ms/step - loss: inf - mean_absolute_error: 31750859268292608.0000 - val_loss: inf - val_mean_absolute_error: 28819533351354368.0000\n"
          ]
        },
        {
          "output_type": "execute_result",
          "data": {
            "text/plain": [
              "<keras.src.callbacks.History at 0x7cb990e34d60>"
            ]
          },
          "metadata": {},
          "execution_count": 16
        }
      ]
    },
    {
      "cell_type": "markdown",
      "source": [
        "## funcitonal API with multiple input"
      ],
      "metadata": {
        "id": "UWvJ0gv-5EYg"
      }
    },
    {
      "cell_type": "code",
      "source": [
        "X_train_s_1, X_train_s_2 = X_train_s[: , :6], X_train_s[: , -4:]\n",
        "X_validation_s_1, X_validation_s_2 = X_validation_s[: , :6], X_validation_s[: , -4:]\n",
        "X_test_s_1, X_test_s_2 = X_test_s[: , :6], X_test_s[: , -4:]"
      ],
      "metadata": {
        "id": "YnI7lgIT5I_L"
      },
      "execution_count": 17,
      "outputs": []
    },
    {
      "cell_type": "code",
      "source": [
        "input_layer_1 = keras.layers.Input(shape=[6])\n",
        "input_layer_2 = keras.layers.Input(shape=[4])\n",
        "hidden_layer_1 = keras.layers.Dense(50, activation=\"relu\")(input_layer_1)\n",
        "hidden_layer_2 = keras.layers.Dense(10, activation=\"relu\")(hidden_layer_1)\n",
        "concatenation_layer = keras.layers.Concatenate()([input_layer_2, hidden_layer_2])\n",
        "output_layer = keras.layers.Dense(1)(concatenation_layer)\n",
        "model_multiple = keras.Model(inputs=[input_layer_1, input_layer_2], outputs=[output_layer])"
      ],
      "metadata": {
        "id": "eZ1N70rN72bv"
      },
      "execution_count": 18,
      "outputs": []
    },
    {
      "cell_type": "code",
      "source": [
        "model_multiple.summary()"
      ],
      "metadata": {
        "colab": {
          "base_uri": "https://localhost:8080/"
        },
        "id": "QyhROS6W9kpf",
        "outputId": "f55fbcd4-46bb-4654-9c50-63e04c5d1c87"
      },
      "execution_count": 19,
      "outputs": [
        {
          "output_type": "stream",
          "name": "stdout",
          "text": [
            "Model: \"model_1\"\n",
            "__________________________________________________________________________________________________\n",
            " Layer (type)                Output Shape                 Param #   Connected to                  \n",
            "==================================================================================================\n",
            " input_2 (InputLayer)        [(None, 6)]                  0         []                            \n",
            "                                                                                                  \n",
            " dense_6 (Dense)             (None, 50)                   350       ['input_2[0][0]']             \n",
            "                                                                                                  \n",
            " input_3 (InputLayer)        [(None, 4)]                  0         []                            \n",
            "                                                                                                  \n",
            " dense_7 (Dense)             (None, 10)                   510       ['dense_6[0][0]']             \n",
            "                                                                                                  \n",
            " concatenate_1 (Concatenate  (None, 14)                   0         ['input_3[0][0]',             \n",
            " )                                                                   'dense_7[0][0]']             \n",
            "                                                                                                  \n",
            " dense_8 (Dense)             (None, 1)                    15        ['concatenate_1[0][0]']       \n",
            "                                                                                                  \n",
            "==================================================================================================\n",
            "Total params: 875 (3.42 KB)\n",
            "Trainable params: 875 (3.42 KB)\n",
            "Non-trainable params: 0 (0.00 Byte)\n",
            "__________________________________________________________________________________________________\n"
          ]
        }
      ]
    },
    {
      "cell_type": "code",
      "source": [
        "keras.utils.plot_model(model_multiple, \"multiple_model.png\")"
      ],
      "metadata": {
        "colab": {
          "base_uri": "https://localhost:8080/",
          "height": 466
        },
        "id": "DtyMqFws9uan",
        "outputId": "4ef4472d-27e4-45e3-8315-4149a9159ae0"
      },
      "execution_count": 20,
      "outputs": [
        {
          "output_type": "execute_result",
          "data": {
            "image/png": "[encoded data removed]",
            "text/plain": [
              "<IPython.core.display.Image object>"
            ]
          },
          "metadata": {},
          "execution_count": 20
        }
      ]
    },
    {
      "cell_type": "code",
      "source": [
        "model_multiple.compile(loss=\"mean_squared_error\",\n",
        "                       optimizer=\"sgd\",\n",
        "                       metrics=\"mean_absolute_error\")"
      ],
      "metadata": {
        "id": "9O69dGjk9-jz"
      },
      "execution_count": 21,
      "outputs": []
    },
    {
      "cell_type": "code",
      "source": [
        "model_multiple.fit((X_train_s_1, X_train_s_2), y_train1, epochs = 30,\n",
        "                   validation_data=((X_validation_s_1,X_validation_s_2), y_validation))"
      ],
      "metadata": {
        "colab": {
          "base_uri": "https://localhost:8080/"
        },
        "id": "A_7nR31g-OSb",
        "outputId": "233bbdb1-7f1d-4ba3-d70c-d852a9f934fb"
      },
      "execution_count": 22,
      "outputs": [
        {
          "output_type": "stream",
          "name": "stdout",
          "text": [
            "Epoch 1/30\n",
            "363/363 [==============================] - 1s 3ms/step - loss: 0.7942 - mean_absolute_error: 0.6187 - val_loss: 0.5874 - val_mean_absolute_error: 0.5511\n",
            "Epoch 2/30\n",
            "363/363 [==============================] - 1s 3ms/step - loss: 0.5484 - mean_absolute_error: 0.5370 - val_loss: 1.0965 - val_mean_absolute_error: 0.5424\n",
            "Epoch 3/30\n",
            "363/363 [==============================] - 1s 3ms/step - loss: 0.8390 - mean_absolute_error: 0.5234 - val_loss: 5.1624 - val_mean_absolute_error: 0.5122\n",
            "Epoch 4/30\n",
            "363/363 [==============================] - 1s 3ms/step - loss: 108.5253 - mean_absolute_error: 1.1545 - val_loss: 3.7102 - val_mean_absolute_error: 0.7361\n",
            "Epoch 5/30\n",
            "363/363 [==============================] - 1s 3ms/step - loss: 4.2206 - mean_absolute_error: 0.7504 - val_loss: 50.6963 - val_mean_absolute_error: 0.7716\n",
            "Epoch 6/30\n",
            "363/363 [==============================] - 1s 4ms/step - loss: 174.2831 - mean_absolute_error: 2.3963 - val_loss: 15011.8408 - val_mean_absolute_error: 4.0496\n",
            "Epoch 7/30\n",
            "363/363 [==============================] - 1s 4ms/step - loss: 2484.4851 - mean_absolute_error: 6.2918 - val_loss: 13376.5117 - val_mean_absolute_error: 8.6656\n",
            "Epoch 8/30\n",
            "363/363 [==============================] - 1s 3ms/step - loss: 38192.9648 - mean_absolute_error: 27.8752 - val_loss: 226796.8438 - val_mean_absolute_error: 38.3573\n",
            "Epoch 9/30\n",
            "363/363 [==============================] - 1s 2ms/step - loss: 654586.1250 - mean_absolute_error: 73.8935 - val_loss: 3823110.2500 - val_mean_absolute_error: 144.2572\n",
            "Epoch 10/30\n",
            "363/363 [==============================] - 1s 3ms/step - loss: 2992253.0000 - mean_absolute_error: 180.8566 - val_loss: 65154352.0000 - val_mean_absolute_error: 649.9028\n",
            "Epoch 11/30\n",
            "363/363 [==============================] - 1s 3ms/step - loss: 207657184.0000 - mean_absolute_error: 2690.7422 - val_loss: 1095975552.0000 - val_mean_absolute_error: 2423.4556\n",
            "Epoch 12/30\n",
            "363/363 [==============================] - 1s 3ms/step - loss: 2989901824.0000 - mean_absolute_error: 7222.3174 - val_loss: 18528892928.0000 - val_mean_absolute_error: 12717.6934\n",
            "Epoch 13/30\n",
            "363/363 [==============================] - 1s 2ms/step - loss: 15697356800.0000 - mean_absolute_error: 13829.6240 - val_loss: 318128455680.0000 - val_mean_absolute_error: 43983.6641\n",
            "Epoch 14/30\n",
            "363/363 [==============================] - 1s 2ms/step - loss: 277382692864.0000 - mean_absolute_error: 72288.3828 - val_loss: 5343686950912.0000 - val_mean_absolute_error: 169121.1250\n",
            "Epoch 15/30\n",
            "363/363 [==============================] - 1s 2ms/step - loss: 17148107816960.0000 - mean_absolute_error: 710111.6250 - val_loss: 90701589118976.0000 - val_mean_absolute_error: 770501.0625\n",
            "Epoch 16/30\n",
            "363/363 [==============================] - 1s 2ms/step - loss: 289388252626944.0000 - mean_absolute_error: 2352619.2500 - val_loss: 1537283282960384.0000 - val_mean_absolute_error: 2878743.0000\n",
            "Epoch 17/30\n",
            "363/363 [==============================] - 1s 2ms/step - loss: 1282766473789440.0000 - mean_absolute_error: 5090874.0000 - val_loss: 26109232893919232.0000 - val_mean_absolute_error: 11829660.0000\n",
            "Epoch 18/30\n",
            "363/363 [==============================] - 1s 3ms/step - loss: 19670305970585600.0000 - mean_absolute_error: 11436452.0000 - val_loss: 447725154919776256.0000 - val_mean_absolute_error: 65254996.0000\n",
            "Epoch 19/30\n",
            "363/363 [==============================] - 1s 3ms/step - loss: 1489139515997028352.0000 - mean_absolute_error: 191852224.0000 - val_loss: 7422050383406563328.0000 - val_mean_absolute_error: 223181520.0000\n",
            "Epoch 20/30\n",
            "363/363 [==============================] - 1s 3ms/step - loss: 7888562721711456256.0000 - mean_absolute_error: 382727712.0000 - val_loss: 126184510779759263744.0000 - val_mean_absolute_error: 824101184.0000\n",
            "Epoch 21/30\n",
            "363/363 [==============================] - 1s 3ms/step - loss: 433847972100132831232.0000 - mean_absolute_error: 3197793280.0000 - val_loss: 2132509170442900078592.0000 - val_mean_absolute_error: 3373828608.0000\n",
            "Epoch 22/30\n",
            "363/363 [==============================] - 1s 3ms/step - loss: 2163713345623555047424.0000 - mean_absolute_error: 4821988864.0000 - val_loss: 36127696066781024092160.0000 - val_mean_absolute_error: 14292922368.0000\n",
            "Epoch 23/30\n",
            "363/363 [==============================] - 1s 4ms/step - loss: 120434540659201424752640.0000 - mean_absolute_error: 61769474048.0000 - val_loss: 610217068979213322682368.0000 - val_mean_absolute_error: 58972078080.0000\n",
            "Epoch 24/30\n",
            "363/363 [==============================] - 1s 2ms/step - loss: 1733821869394135279992832.0000 - mean_absolute_error: 114933276672.0000 - val_loss: 10245629488580014995668992.0000 - val_mean_absolute_error: 235291639808.0000\n",
            "Epoch 25/30\n",
            "363/363 [==============================] - 1s 3ms/step - loss: 8296518839635753207595008.0000 - mean_absolute_error: 349070163968.0000 - val_loss: 174351984156836146435850240.0000 - val_mean_absolute_error: 1002179592192.0000\n",
            "Epoch 26/30\n",
            "363/363 [==============================] - 1s 2ms/step - loss: 138325566767857686968008704.0000 - mean_absolute_error: 1307646754816.0000 - val_loss: 2952420278463145214721654784.0000 - val_mean_absolute_error: 4000074956800.0000\n",
            "Epoch 27/30\n",
            "363/363 [==============================] - 1s 2ms/step - loss: 10090256852115156579878174720.0000 - mean_absolute_error: 15335307608064.0000 - val_loss: 49628520515364853222744260608.0000 - val_mean_absolute_error: 16350964613120.0000\n",
            "Epoch 28/30\n",
            "363/363 [==============================] - 1s 2ms/step - loss: 60192109604791000081681612800.0000 - mean_absolute_error: 53563921268736.0000 - val_loss: 838850807755745958202942947328.0000 - val_mean_absolute_error: 68564966965248.0000\n",
            "Epoch 29/30\n",
            "363/363 [==============================] - 1s 3ms/step - loss: 669019926364054414854014894080.0000 - mean_absolute_error: 91085778976768.0000 - val_loss: 14329674583904891357873311842304.0000 - val_mean_absolute_error: 289427075104768.0000\n",
            "Epoch 30/30\n",
            "363/363 [==============================] - 1s 3ms/step - loss: 50080907810619565147694359904256.0000 - mean_absolute_error: 1337201560387584.0000 - val_loss: 242145791330620157282566751125504.0000 - val_mean_absolute_error: 1160391715454976.0000\n"
          ]
        },
        {
          "output_type": "execute_result",
          "data": {
            "text/plain": [
              "<keras.src.callbacks.History at 0x7cb990d7e080>"
            ]
          },
          "metadata": {},
          "execution_count": 22
        }
      ]
    },
    {
      "cell_type": "markdown",
      "source": [
        "## with multiple output"
      ],
      "metadata": {
        "id": "7Nr8pYWDTupJ"
      }
    },
    {
      "cell_type": "code",
      "source": [
        "input_layer_1 = keras.layers.Input(shape=[6])\n",
        "input_layer_2 = keras.layers.Input(shape=[4])\n",
        "hidden_layer_1 = keras.layers.Dense(50, activation=\"relu\")(input_layer_1)\n",
        "hidden_layer_2 = keras.layers.Dense(10, activation=\"relu\")(hidden_layer_1)\n",
        "concatenation_layer = keras.layers.Concatenate()([input_layer_2, hidden_layer_2])\n",
        "output_layer = keras.layers.Dense(1, name=\"output_layer\")(concatenation_layer)\n",
        "helper_output = keras.layers.Dense(1,name = \"helper_output\")(hidden_layer_2)\n",
        "model_multiple_output = keras.Model(inputs=[input_layer_1, input_layer_2], outputs=[output_layer, helper_output])"
      ],
      "metadata": {
        "id": "lMhr5YlITuAq"
      },
      "execution_count": 26,
      "outputs": []
    },
    {
      "cell_type": "code",
      "source": [
        "model_multiple_output.summary()"
      ],
      "metadata": {
        "colab": {
          "base_uri": "https://localhost:8080/"
        },
        "id": "sE121oNKWkDT",
        "outputId": "bfd2ea5b-160e-4b1c-88b5-aabbd842c33d"
      },
      "execution_count": 28,
      "outputs": [
        {
          "output_type": "stream",
          "name": "stdout",
          "text": [
            "Model: \"model_3\"\n",
            "__________________________________________________________________________________________________\n",
            " Layer (type)                Output Shape                 Param #   Connected to                  \n",
            "==================================================================================================\n",
            " input_6 (InputLayer)        [(None, 6)]                  0         []                            \n",
            "                                                                                                  \n",
            " dense_11 (Dense)            (None, 50)                   350       ['input_6[0][0]']             \n",
            "                                                                                                  \n",
            " input_7 (InputLayer)        [(None, 4)]                  0         []                            \n",
            "                                                                                                  \n",
            " dense_12 (Dense)            (None, 10)                   510       ['dense_11[0][0]']            \n",
            "                                                                                                  \n",
            " concatenate_3 (Concatenate  (None, 14)                   0         ['input_7[0][0]',             \n",
            " )                                                                   'dense_12[0][0]']            \n",
            "                                                                                                  \n",
            " output_layer (Dense)        (None, 1)                    15        ['concatenate_3[0][0]']       \n",
            "                                                                                                  \n",
            " helper_output (Dense)       (None, 1)                    11        ['dense_12[0][0]']            \n",
            "                                                                                                  \n",
            "==================================================================================================\n",
            "Total params: 886 (3.46 KB)\n",
            "Trainable params: 886 (3.46 KB)\n",
            "Non-trainable params: 0 (0.00 Byte)\n",
            "__________________________________________________________________________________________________\n"
          ]
        }
      ]
    },
    {
      "cell_type": "code",
      "source": [
        "keras.utils.plot_model(model_multiple_output, \"multiple_model.png\")"
      ],
      "metadata": {
        "colab": {
          "base_uri": "https://localhost:8080/",
          "height": 466
        },
        "id": "aN9wnckrWnGS",
        "outputId": "80ab0a00-05e5-4fc6-ebee-9cf821019d22"
      },
      "execution_count": 29,
      "outputs": [
        {
          "output_type": "execute_result",
          "data": {
            "image/png": "[encoded data removed]",
            "text/plain": [
              "<IPython.core.display.Image object>"
            ]
          },
          "metadata": {},
          "execution_count": 29
        }
      ]
    },
    {
      "cell_type": "code",
      "source": [
        "model_multiple_output.compile(loss=[\"mse\", \"mse\"],\n",
        "                              loss_weights = [0.8, 0.2],\n",
        "                              optimizer=\"sgd\",\n",
        "                              metrics=[\"mae\"])"
      ],
      "metadata": {
        "id": "3zh8-F0mW_Ui"
      },
      "execution_count": 30,
      "outputs": []
    },
    {
      "cell_type": "code",
      "source": [
        "model_multiple_output.fit((X_train_s_1, X_train_s_2), (y_train1, y_train1), epochs = 30,\n",
        "                   validation_data=((X_validation_s_1,X_validation_s_2), (y_validation,y_validation)))"
      ],
      "metadata": {
        "colab": {
          "base_uri": "https://localhost:8080/"
        },
        "id": "CD0h2KMuXuNr",
        "outputId": "1ee20dea-9a2b-4c79-acf2-adced08909be"
      },
      "execution_count": 33,
      "outputs": [
        {
          "output_type": "stream",
          "name": "stdout",
          "text": [
            "Epoch 1/30\n",
            "363/363 [==============================] - 3s 4ms/step - loss: 1.8447 - output_layer_loss: 1.9330 - helper_output_loss: 1.4916 - output_layer_mae: 0.7257 - helper_output_mae: 0.8569 - val_loss: 3.8253 - val_output_layer_loss: 3.8176 - val_helper_output_loss: 3.8562 - val_output_layer_mae: 0.5238 - val_helper_output_mae: 0.6177\n",
            "Epoch 2/30\n",
            "363/363 [==============================] - 2s 6ms/step - loss: 3.9534 - output_layer_loss: 4.0204 - helper_output_loss: 3.6853 - output_layer_mae: 0.5631 - helper_output_mae: 0.6394 - val_loss: 24.5996 - val_output_layer_loss: 30.5920 - val_helper_output_loss: 0.6300 - val_output_layer_mae: 0.6226 - val_helper_output_mae: 0.5839\n",
            "Epoch 3/30\n",
            "363/363 [==============================] - 1s 3ms/step - loss: 54.4209 - output_layer_loss: 67.8666 - helper_output_loss: 0.6381 - output_layer_mae: 0.9065 - helper_output_mae: 0.6007 - val_loss: 283.5885 - val_output_layer_loss: 354.2974 - val_helper_output_loss: 0.7529 - val_output_layer_mae: 1.3665 - val_helper_output_mae: 0.6814\n",
            "Epoch 4/30\n",
            "363/363 [==============================] - 1s 3ms/step - loss: 52179158247145472.0000 - output_layer_loss: 65218369720156160.0000 - helper_output_loss: 22024489533440.0000 - output_layer_mae: 18676492.0000 - helper_output_mae: 251107.2188 - val_loss: 4436272525344768.0000 - val_output_layer_loss: 5539138791014400.0000 - val_helper_output_loss: 24807833862144.0000 - val_output_layer_mae: 16931118.0000 - val_helper_output_mae: 310299.7812\n",
            "Epoch 5/30\n",
            "363/363 [==============================] - 1s 3ms/step - loss: 294232237539328.0000 - output_layer_loss: 367432707342336.0000 - helper_output_loss: 1428635910144.0000 - output_layer_mae: 3477053.5000 - helper_output_mae: 108147.8828 - val_loss: 432998537232384.0000 - val_output_layer_loss: 541247785664512.0000 - val_helper_output_loss: 1764590592.0000 - val_output_layer_mae: 1885924.0000 - val_helper_output_mae: 42007.0391\n",
            "Epoch 6/30\n",
            "363/363 [==============================] - 1s 3ms/step - loss: 1034986790584320.0000 - output_layer_loss: 1293734075432960.0000 - helper_output_loss: 575932992.0000 - output_layer_mae: 4790849.0000 - helper_output_mae: 22183.8770 - val_loss: 4969053823172608.0000 - val_output_layer_loss: 6211316205223936.0000 - val_helper_output_loss: 96144152.0000 - val_output_layer_mae: 5891592.0000 - val_helper_output_mae: 9805.3105\n",
            "Epoch 7/30\n",
            "363/363 [==============================] - 1s 3ms/step - loss: 12894244515610624.0000 - output_layer_loss: 16117800007368704.0000 - helper_output_loss: 31379862.0000 - output_layer_mae: 16859412.0000 - helper_output_mae: 5178.1782 - val_loss: 57670694841876480.0000 - val_output_layer_loss: 72088371773571072.0000 - val_helper_output_loss: 5238388.5000 - val_output_layer_mae: 20964658.0000 - val_helper_output_mae: 2288.7520\n",
            "Epoch 8/30\n",
            "363/363 [==============================] - 1s 3ms/step - loss: 152852835183099904.0000 - output_layer_loss: 191066035388940288.0000 - helper_output_loss: 1709731.7500 - output_layer_mae: 65728932.0000 - helper_output_mae: 1208.6953 - val_loss: 670958554030538752.0000 - val_output_layer_loss: 838697986379743232.0000 - val_helper_output_loss: 285403.5938 - val_output_layer_mae: 67254664.0000 - val_helper_output_mae: 534.2307\n",
            "Epoch 9/30\n",
            "363/363 [==============================] - 1s 3ms/step - loss: 1623507670931603456.0000 - output_layer_loss: 2029384004548952064.0000 - helper_output_loss: 93156.3125 - output_layer_mae: 120224864.0000 - helper_output_mae: 282.1304 - val_loss: 7754762601971580928.0000 - val_output_layer_loss: 9693452840147615744.0000 - val_helper_output_loss: 15550.0547 - val_output_layer_mae: 253903648.0000 - val_helper_output_mae: 124.6946\n",
            "Epoch 10/30\n",
            "363/363 [==============================] - 1s 4ms/step - loss: 20619548374985605120.0000 - output_layer_loss: 25774410729720381440.0000 - helper_output_loss: 5077.0083 - output_layer_mae: 845338496.0000 - helper_output_mae: 65.8557 - val_loss: 90212985122462892032.0000 - val_output_layer_loss: 112766238000148381696.0000 - val_helper_output_loss: 848.1024 - val_output_layer_mae: 787721856.0000 - val_helper_output_mae: 29.0995\n",
            "Epoch 11/30\n",
            "363/363 [==============================] - 1s 4ms/step - loss: 239058773598313381888.0000 - output_layer_loss: 298823475793984749568.0000 - helper_output_loss: 277.9495 - output_layer_mae: 2314952704.0000 - helper_output_mae: 15.3697 - val_loss: 1045540208366615265280.0000 - val_output_layer_loss: 1306925190089524903936.0000 - val_helper_output_loss: 47.4116 - val_output_layer_mae: 2637954048.0000 - val_helper_output_mae: 6.7892\n",
            "Epoch 12/30\n",
            "363/363 [==============================] - 2s 4ms/step - loss: 1146605769079413276672.0000 - output_layer_loss: 1433257211349266595840.0000 - helper_output_loss: 16.4354 - output_layer_mae: 4449239040.0000 - helper_output_mae: 3.6296 - val_loss: 12181689804682466164736.0000 - val_output_layer_loss: 15227111692903129284608.0000 - val_helper_output_loss: 3.8140 - val_output_layer_mae: 9107947520.0000 - val_helper_output_mae: 1.7699\n",
            "Epoch 13/30\n",
            "363/363 [==============================] - 1s 3ms/step - loss: 10766166783503366094848.0000 - output_layer_loss: 13457708197904230907904.0000 - helper_output_loss: 2.1539 - output_layer_mae: 11172090880.0000 - helper_output_mae: 1.2812 - val_loss: 142204175645973749432320.0000 - val_output_layer_loss: 177755239823665509957632.0000 - val_helper_output_loss: 1.4467 - val_output_layer_mae: 36858433536.0000 - val_helper_output_mae: 1.0119\n",
            "Epoch 14/30\n",
            "363/363 [==============================] - 1s 3ms/step - loss: 376299888160807646658560.0000 - output_layer_loss: 470375580776949937602560.0000 - helper_output_loss: 1.3751 - output_layer_mae: 103543554048.0000 - helper_output_mae: 0.9588 - val_loss: 1637144789546832733667328.0000 - val_output_layer_loss: 2046430770760758803300352.0000 - val_helper_output_loss: 1.3252 - val_output_layer_mae: 104461934592.0000 - val_helper_output_mae: 0.9259\n",
            "Epoch 15/30\n",
            "363/363 [==============================] - 1s 3ms/step - loss: 2013915790257460353171456.0000 - output_layer_loss: 2517393440785132758761472.0000 - helper_output_loss: 1.3332 - output_layer_mae: 324335894528.0000 - helper_output_mae: 0.9207 - val_loss: 18897351914570091688099840.0000 - val_output_layer_loss: 23621689893212614610124800.0000 - val_helper_output_loss: 1.3184 - val_output_layer_mae: 356205166592.0000 - val_helper_output_mae: 0.9100\n",
            "Epoch 16/30\n",
            "363/363 [==============================] - 1s 3ms/step - loss: 17416139470290958856224768.0000 - output_layer_loss: 21770160214575267136405504.0000 - helper_output_loss: 1.3308 - output_layer_mae: 585803956224.0000 - helper_output_mae: 0.9122 - val_loss: 220588692837356916432699392.0000 - val_output_layer_loss: 275735806094777905984831488.0000 - val_helper_output_loss: 1.3184 - val_output_layer_mae: 1238667362304.0000 - val_helper_output_mae: 0.9074\n",
            "Epoch 17/30\n",
            "363/363 [==============================] - 1s 3ms/step - loss: 587823356357018213089804288.0000 - output_layer_loss: 734779416807201650876874752.0000 - helper_output_loss: 1.3306 - output_layer_mae: 4041794650112.0000 - helper_output_mae: 0.9115 - val_loss: 2555664460298843205683642368.0000 - val_output_layer_loss: 3194580575373554007104552960.0000 - val_helper_output_loss: 1.3185 - val_output_layer_mae: 4159060836352.0000 - val_helper_output_mae: 0.9059\n",
            "Epoch 18/30\n",
            "363/363 [==============================] - 1s 3ms/step - loss: 5931531372287469664191119360.0000 - output_layer_loss: 7414408755123091262211620864.0000 - helper_output_loss: 1.3306 - output_layer_mae: 7972763205632.0000 - helper_output_mae: 0.9107 - val_loss: 29574131775159022547355303936.0000 - val_output_layer_loss: 36967659996582295314548916224.0000 - val_helper_output_loss: 1.3186 - val_output_layer_mae: 14811347812352.0000 - val_helper_output_mae: 0.9056\n",
            "Epoch 19/30\n",
            "363/363 [==============================] - 1s 3ms/step - loss: 73529819828013539933888184320.0000 - output_layer_loss: 91912259437325855591013285888.0000 - helper_output_loss: 1.3307 - output_layer_mae: 36605226123264.0000 - helper_output_mae: 0.9097 - val_loss: 344106189664536956072854814720.0000 - val_output_layer_loss: 430132708746472297873197236224.0000 - val_helper_output_loss: 1.3184 - val_output_layer_mae: 51693400096768.0000 - val_helper_output_mae: 0.9066\n",
            "Epoch 20/30\n",
            "363/363 [==============================] - 1s 3ms/step - loss: 363265926074563132462509064192.0000 - output_layer_loss: 454082700379925853496139579392.0000 - helper_output_loss: 1.3307 - output_layer_mae: 103179064705024.0000 - helper_output_mae: 0.9105 - val_loss: 4021975309275909801329976934400.0000 - val_output_layer_loss: 5027469136594887251662471168000.0000 - val_helper_output_loss: 1.3185 - val_output_layer_mae: 164743637630976.0000 - val_helper_output_mae: 0.9065\n",
            "Epoch 21/30\n",
            "363/363 [==============================] - 1s 3ms/step - loss: 3952422482327476244678900187136.0000 - output_layer_loss: 4940530747434575712849944903680.0000 - helper_output_loss: 1.3307 - output_layer_mae: 320275409272832.0000 - helper_output_mae: 0.9107 - val_loss: 46852094224482978172339008569344.0000 - val_output_layer_loss: 58565125034158640403198808948736.0000 - val_helper_output_loss: 1.3185 - val_output_layer_mae: 560110644494336.0000 - val_helper_output_mae: 0.9062\n",
            "Epoch 22/30\n",
            "363/363 [==============================] - 1s 3ms/step - loss: 121488592061939486570781142417408.0000 - output_layer_loss: 151860628856248953667592355053568.0000 - helper_output_loss: 1.3306 - output_layer_mae: 1712317158916096.0000 - helper_output_mae: 0.9093 - val_loss: 544542124373259772544473878233088.0000 - val_output_layer_loss: 680677694152200943348725938388992.0000 - val_helper_output_loss: 1.3184 - val_output_layer_mae: 1952129208025088.0000 - val_helper_output_mae: 0.9077\n",
            "Epoch 23/30\n",
            "363/363 [==============================] - 2s 4ms/step - loss: 502030489711675260541766140428288.0000 - output_layer_loss: 627537996082715392672806903742464.0000 - helper_output_loss: 1.3307 - output_layer_mae: 3551949496516608.0000 - helper_output_mae: 0.9110 - val_loss: 6325580208958982569609373692198912.0000 - val_output_layer_loss: 7906976808623777318737060739153920.0000 - val_helper_output_loss: 1.3184 - val_output_layer_mae: 6577571688873984.0000 - val_helper_output_mae: 0.9068\n",
            "Epoch 24/30\n",
            "363/363 [==============================] - 1s 4ms/step - loss: 16255089836426782042293599698157568.0000 - output_layer_loss: 20318866937808624873043030494412800.0000 - helper_output_loss: 1.3307 - output_layer_mae: 17476303531802624.0000 - helper_output_mae: 0.9101 - val_loss: inf - val_output_layer_loss: inf - val_helper_output_loss: 1.3184 - val_output_layer_mae: 22423156669022208.0000 - val_helper_output_mae: 0.9072\n",
            "Epoch 25/30\n",
            "363/363 [==============================] - 1s 4ms/step - loss: inf - output_layer_loss: inf - helper_output_loss: 1.3307 - output_layer_mae: 85605175019962368.0000 - helper_output_mae: 0.9111 - val_loss: inf - val_output_layer_loss: inf - val_helper_output_loss: 1.3185 - val_output_layer_mae: 82349632759267328.0000 - val_helper_output_mae: 0.9063\n",
            "Epoch 26/30\n",
            "363/363 [==============================] - 1s 3ms/step - loss: inf - output_layer_loss: inf - helper_output_loss: 1.3307 - output_layer_mae: 100563695708405760.0000 - helper_output_mae: 0.9101 - val_loss: inf - val_output_layer_loss: inf - val_helper_output_loss: 1.3184 - val_output_layer_mae: 272380366281506816.0000 - val_helper_output_mae: 0.9068\n",
            "Epoch 27/30\n",
            "363/363 [==============================] - 1s 3ms/step - loss: inf - output_layer_loss: inf - helper_output_loss: 1.3307 - output_layer_mae: 875678135834640384.0000 - helper_output_mae: 0.9103 - val_loss: inf - val_output_layer_loss: inf - val_helper_output_loss: 1.3184 - val_output_layer_mae: 874990391311466496.0000 - val_helper_output_mae: 0.9069\n",
            "Epoch 28/30\n",
            "363/363 [==============================] - 1s 3ms/step - loss: inf - output_layer_loss: inf - helper_output_loss: 1.3307 - output_layer_mae: 2683279787383848960.0000 - helper_output_mae: 0.9100 - val_loss: inf - val_output_layer_loss: inf - val_helper_output_loss: 1.3184 - val_output_layer_mae: 3021731181767950336.0000 - val_helper_output_mae: 0.9075\n",
            "Epoch 29/30\n",
            "363/363 [==============================] - 1s 3ms/step - loss: inf - output_layer_loss: inf - helper_output_loss: 1.3307 - output_layer_mae: 3414722201180438528.0000 - helper_output_mae: 0.9110 - val_loss: inf - val_output_layer_loss: inf - val_helper_output_loss: 1.3184 - val_output_layer_mae: 11955938807343218688.0000 - val_helper_output_mae: 0.9067\n",
            "Epoch 30/30\n",
            "363/363 [==============================] - 1s 3ms/step - loss: inf - output_layer_loss: inf - helper_output_loss: 1.3306 - output_layer_mae: 33205635987904921600.0000 - helper_output_mae: 0.9103 - val_loss: inf - val_output_layer_loss: inf - val_helper_output_loss: 1.3184 - val_output_layer_mae: 35657192875101257728.0000 - val_helper_output_mae: 0.9069\n"
          ]
        },
        {
          "output_type": "execute_result",
          "data": {
            "text/plain": [
              "<keras.src.callbacks.History at 0x7cb990ed1d50>"
            ]
          },
          "metadata": {},
          "execution_count": 33
        }
      ]
    }
  ],
  "metadata": {
    "colab": {
      "provenance": [],
      "authorship_tag": "ABX9TyOHiMY3xE/UJyEj5i0rZSQR",
      "include_colab_link": true
    },
    "kernelspec": {
      "display_name": "Python 3",
      "name": "python3"
    },
    "language_info": {
      "name": "python"
    }
  },
  "nbformat": 4,
  "nbformat_minor": 0
}