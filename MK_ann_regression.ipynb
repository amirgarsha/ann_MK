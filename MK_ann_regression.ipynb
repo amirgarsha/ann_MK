{
  "nbformat": 4,
  "nbformat_minor": 0,
  "metadata": {
    "colab": {
      "provenance": [],
      "authorship_tag": "ABX9TyMbgmmXSGD++JR+0JNOojp/",
      "include_colab_link": true
    },
    "kernelspec": {
      "name": "python3",
      "display_name": "Python 3"
    },
    "language_info": {
      "name": "python"
    }
  },
  "cells": [
    {
      "cell_type": "markdown",
      "metadata": {
        "id": "view-in-github",
        "colab_type": "text"
      },
      "source": [
        "<a href=\"https://colab.research.google.com/github/amirgarsha/ann_MK/blob/main/MK_ann_regression.ipynb\" target=\"_parent\"><img src=\"https://colab.research.google.com/assets/colab-badge.svg\" alt=\"Open In Colab\"/></a>"
      ]
    },
    {
      "cell_type": "code",
      "execution_count": 14,
      "metadata": {
        "id": "7w7-F8QU9Cm9"
      },
      "outputs": [],
      "source": [
        "import tensorflow as tf\n",
        "from tensorflow import keras\n",
        "from sklearn.datasets import fetch_california_housing\n",
        "from sklearn.model_selection import train_test_split\n",
        "from sklearn.preprocessing import StandardScaler"
      ]
    },
    {
      "cell_type": "code",
      "source": [
        "import matplotlib.pyplot as plt\n",
        "import numpy as np\n"
      ],
      "metadata": {
        "id": "MCae5-ij-KRu"
      },
      "execution_count": 15,
      "outputs": []
    },
    {
      "cell_type": "markdown",
      "source": [
        "##Regression"
      ],
      "metadata": {
        "id": "HoS4AUFn_hG7"
      }
    },
    {
      "cell_type": "code",
      "source": [
        "## check dataset\n",
        "california_housing = fetch_california_housing()"
      ],
      "metadata": {
        "id": "p6xspfO-_k21"
      },
      "execution_count": 16,
      "outputs": []
    },
    {
      "cell_type": "code",
      "source": [
        "## split data\n",
        "X_train0, X_test, y_train0,  y_test = train_test_split(california_housing[\"data\"],\n",
        "                                                    california_housing[\"target\"])"
      ],
      "metadata": {
        "id": "v4vwfjqY_rS-"
      },
      "execution_count": 17,
      "outputs": []
    },
    {
      "cell_type": "code",
      "source": [
        "## split train to train and validation\n",
        "X_train1, X_validation, y_train1, y_validation = train_test_split(X_train0,\n",
        "                                                                  y_train0)"
      ],
      "metadata": {
        "id": "va0TVguWA0N_"
      },
      "execution_count": 18,
      "outputs": []
    },
    {
      "cell_type": "code",
      "source": [
        "## check shape of train and test\n",
        "print(X_train1.shape)\n",
        "print(X_test.shape)\n",
        "print(X_validation.shape)"
      ],
      "metadata": {
        "colab": {
          "base_uri": "https://localhost:8080/"
        },
        "id": "1f7ZeEyhCYZZ",
        "outputId": "be58e5b9-5528-427d-915a-d2c7c6a3fe91"
      },
      "execution_count": 19,
      "outputs": [
        {
          "output_type": "stream",
          "name": "stdout",
          "text": [
            "(11610, 8)\n",
            "(5160, 8)\n",
            "(3870, 8)\n"
          ]
        }
      ]
    },
    {
      "cell_type": "code",
      "source": [
        "## Standardization\n",
        "sc = StandardScaler()\n",
        "X_train_s = sc.fit_transform(X_train1)\n",
        "X_validation_s = sc.transform(X_validation)\n",
        "X_test_s = sc.transform(X_test)"
      ],
      "metadata": {
        "id": "b3Bu65SrETeN"
      },
      "execution_count": 20,
      "outputs": []
    },
    {
      "cell_type": "markdown",
      "source": [
        "Create Model"
      ],
      "metadata": {
        "id": "12lIYxUnPNoX"
      }
    },
    {
      "cell_type": "code",
      "source": [
        "## create Model\n",
        "model = keras.models.Sequential([\n",
        "    keras.layers.Dense(50, activation=\"relu\"),\n",
        "    keras.layers.Dense(10, activation=\"relu\"),\n",
        "    keras.layers.Dense(1)]\n",
        ")"
      ],
      "metadata": {
        "id": "gCJ_W-HCPP5p"
      },
      "execution_count": 21,
      "outputs": []
    },
    {
      "cell_type": "code",
      "source": [
        "model.compile(loss=\"mean_squared_error\",\n",
        "              optimizer=\"sgd\",\n",
        "              metrics=[\"mean_absolute_error\"])"
      ],
      "metadata": {
        "id": "5DxCzmoNRoJb"
      },
      "execution_count": 22,
      "outputs": []
    },
    {
      "cell_type": "code",
      "source": [
        "history = model.fit(X_train_s, y_train1, epochs=30, validation_data=(X_validation_s, y_validation))"
      ],
      "metadata": {
        "colab": {
          "base_uri": "https://localhost:8080/"
        },
        "id": "b68M7gfUsPNe",
        "outputId": "d9e24301-db7a-4f03-b471-2c69ce007c75"
      },
      "execution_count": 28,
      "outputs": [
        {
          "output_type": "stream",
          "name": "stdout",
          "text": [
            "Epoch 1/30\n",
            "363/363 [==============================] - 3s 5ms/step - loss: 0.6955 - mean_absolute_error: 0.5893 - val_loss: 0.4978 - val_mean_absolute_error: 0.5154\n",
            "Epoch 2/30\n",
            "363/363 [==============================] - 1s 3ms/step - loss: 0.4501 - mean_absolute_error: 0.4828 - val_loss: 0.4471 - val_mean_absolute_error: 0.4734\n",
            "Epoch 3/30\n",
            "363/363 [==============================] - 1s 3ms/step - loss: 0.4304 - mean_absolute_error: 0.4653 - val_loss: 0.4364 - val_mean_absolute_error: 0.4711\n",
            "Epoch 4/30\n",
            "363/363 [==============================] - 1s 3ms/step - loss: 0.4029 - mean_absolute_error: 0.4512 - val_loss: 0.4209 - val_mean_absolute_error: 0.4617\n",
            "Epoch 5/30\n",
            "363/363 [==============================] - 1s 3ms/step - loss: 0.3924 - mean_absolute_error: 0.4443 - val_loss: 0.4101 - val_mean_absolute_error: 0.4497\n",
            "Epoch 6/30\n",
            "363/363 [==============================] - 1s 4ms/step - loss: 0.3938 - mean_absolute_error: 0.4394 - val_loss: 0.4077 - val_mean_absolute_error: 0.4430\n",
            "Epoch 7/30\n",
            "363/363 [==============================] - 1s 4ms/step - loss: 0.3786 - mean_absolute_error: 0.4344 - val_loss: 0.3972 - val_mean_absolute_error: 0.4461\n",
            "Epoch 8/30\n",
            "363/363 [==============================] - 1s 4ms/step - loss: 0.3685 - mean_absolute_error: 0.4295 - val_loss: 0.4132 - val_mean_absolute_error: 0.4387\n",
            "Epoch 9/30\n",
            "363/363 [==============================] - 1s 2ms/step - loss: 0.3645 - mean_absolute_error: 0.4279 - val_loss: 0.3903 - val_mean_absolute_error: 0.4459\n",
            "Epoch 10/30\n",
            "363/363 [==============================] - 1s 3ms/step - loss: 0.3599 - mean_absolute_error: 0.4243 - val_loss: 0.4057 - val_mean_absolute_error: 0.4289\n",
            "Epoch 11/30\n",
            "363/363 [==============================] - 1s 2ms/step - loss: 0.3541 - mean_absolute_error: 0.4221 - val_loss: 0.3835 - val_mean_absolute_error: 0.4318\n",
            "Epoch 12/30\n",
            "363/363 [==============================] - 1s 2ms/step - loss: 0.3499 - mean_absolute_error: 0.4194 - val_loss: 0.3779 - val_mean_absolute_error: 0.4212\n",
            "Epoch 13/30\n",
            "363/363 [==============================] - 1s 3ms/step - loss: 0.3482 - mean_absolute_error: 0.4173 - val_loss: 0.3761 - val_mean_absolute_error: 0.4241\n",
            "Epoch 14/30\n",
            "363/363 [==============================] - 1s 3ms/step - loss: 0.3454 - mean_absolute_error: 0.4162 - val_loss: 0.3787 - val_mean_absolute_error: 0.4171\n",
            "Epoch 15/30\n",
            "363/363 [==============================] - 1s 2ms/step - loss: 0.3420 - mean_absolute_error: 0.4138 - val_loss: 0.3737 - val_mean_absolute_error: 0.4339\n",
            "Epoch 16/30\n",
            "363/363 [==============================] - 1s 2ms/step - loss: 0.3362 - mean_absolute_error: 0.4105 - val_loss: 0.3583 - val_mean_absolute_error: 0.4124\n",
            "Epoch 17/30\n",
            "363/363 [==============================] - 1s 2ms/step - loss: 0.3316 - mean_absolute_error: 0.4075 - val_loss: 0.3644 - val_mean_absolute_error: 0.4211\n",
            "Epoch 18/30\n",
            "363/363 [==============================] - 1s 2ms/step - loss: 0.3288 - mean_absolute_error: 0.4056 - val_loss: 0.3648 - val_mean_absolute_error: 0.4153\n",
            "Epoch 19/30\n",
            "363/363 [==============================] - 1s 3ms/step - loss: 0.3252 - mean_absolute_error: 0.4017 - val_loss: 0.3545 - val_mean_absolute_error: 0.4189\n",
            "Epoch 20/30\n",
            "363/363 [==============================] - 1s 4ms/step - loss: 0.3228 - mean_absolute_error: 0.4010 - val_loss: 0.3598 - val_mean_absolute_error: 0.4166\n",
            "Epoch 21/30\n",
            "363/363 [==============================] - 1s 4ms/step - loss: 0.3193 - mean_absolute_error: 0.3974 - val_loss: 0.3679 - val_mean_absolute_error: 0.4409\n",
            "Epoch 22/30\n",
            "363/363 [==============================] - 1s 3ms/step - loss: 0.3181 - mean_absolute_error: 0.3977 - val_loss: 0.3407 - val_mean_absolute_error: 0.3997\n",
            "Epoch 23/30\n",
            "363/363 [==============================] - 1s 4ms/step - loss: 0.3169 - mean_absolute_error: 0.3968 - val_loss: 0.3401 - val_mean_absolute_error: 0.3993\n",
            "Epoch 24/30\n",
            "363/363 [==============================] - 1s 3ms/step - loss: 0.3132 - mean_absolute_error: 0.3938 - val_loss: 0.3423 - val_mean_absolute_error: 0.4037\n",
            "Epoch 25/30\n",
            "363/363 [==============================] - 1s 3ms/step - loss: 0.3143 - mean_absolute_error: 0.3921 - val_loss: 0.3473 - val_mean_absolute_error: 0.4070\n",
            "Epoch 26/30\n",
            "363/363 [==============================] - 1s 3ms/step - loss: 0.3108 - mean_absolute_error: 0.3907 - val_loss: 0.3405 - val_mean_absolute_error: 0.4034\n",
            "Epoch 27/30\n",
            "363/363 [==============================] - 1s 2ms/step - loss: 0.3122 - mean_absolute_error: 0.3918 - val_loss: 0.3451 - val_mean_absolute_error: 0.4102\n",
            "Epoch 28/30\n",
            "363/363 [==============================] - 1s 3ms/step - loss: 0.3106 - mean_absolute_error: 0.3900 - val_loss: 0.3638 - val_mean_absolute_error: 0.4298\n",
            "Epoch 29/30\n",
            "363/363 [==============================] - 1s 2ms/step - loss: 0.3083 - mean_absolute_error: 0.3881 - val_loss: 0.3447 - val_mean_absolute_error: 0.4238\n",
            "Epoch 30/30\n",
            "363/363 [==============================] - 1s 2ms/step - loss: 0.3065 - mean_absolute_error: 0.3877 - val_loss: 0.3316 - val_mean_absolute_error: 0.3989\n"
          ]
        }
      ]
    }
  ]
}