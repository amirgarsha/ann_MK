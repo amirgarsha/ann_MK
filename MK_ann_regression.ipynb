{
  "cells": [
    {
      "cell_type": "markdown",
      "metadata": {
        "id": "view-in-github",
        "colab_type": "text"
      },
      "source": [
        "<a href=\"https://colab.research.google.com/github/amirgarsha/ann_MK/blob/main/MK_ann_regression.ipynb\" target=\"_parent\"><img src=\"https://colab.research.google.com/assets/colab-badge.svg\" alt=\"Open In Colab\"/></a>"
      ]
    },
    {
      "cell_type": "code",
      "execution_count": 1,
      "metadata": {
        "id": "7w7-F8QU9Cm9"
      },
      "outputs": [],
      "source": [
        "import tensorflow as tf\n",
        "from tensorflow import keras\n",
        "from sklearn.datasets import fetch_california_housing\n",
        "from sklearn.model_selection import train_test_split\n",
        "from sklearn.preprocessing import StandardScaler"
      ]
    },
    {
      "cell_type": "code",
      "execution_count": 2,
      "metadata": {
        "id": "MCae5-ij-KRu"
      },
      "outputs": [],
      "source": [
        "import matplotlib.pyplot as plt\n",
        "import numpy as np\n"
      ]
    },
    {
      "cell_type": "markdown",
      "metadata": {
        "id": "HoS4AUFn_hG7"
      },
      "source": [
        "##Regression"
      ]
    },
    {
      "cell_type": "code",
      "execution_count": 3,
      "metadata": {
        "id": "p6xspfO-_k21"
      },
      "outputs": [],
      "source": [
        "## check dataset\n",
        "california_housing = fetch_california_housing()"
      ]
    },
    {
      "cell_type": "code",
      "execution_count": 4,
      "metadata": {
        "id": "v4vwfjqY_rS-"
      },
      "outputs": [],
      "source": [
        "## split data\n",
        "X_train0, X_test, y_train0,  y_test = train_test_split(california_housing[\"data\"],\n",
        "                                                    california_housing[\"target\"])"
      ]
    },
    {
      "cell_type": "code",
      "execution_count": 5,
      "metadata": {
        "id": "va0TVguWA0N_"
      },
      "outputs": [],
      "source": [
        "## split train to train and validation\n",
        "X_train1, X_validation, y_train1, y_validation = train_test_split(X_train0,\n",
        "                                                                  y_train0)"
      ]
    },
    {
      "cell_type": "code",
      "execution_count": 6,
      "metadata": {
        "colab": {
          "base_uri": "https://localhost:8080/"
        },
        "id": "1f7ZeEyhCYZZ",
        "outputId": "fc599d47-2339-4a38-9193-0dcb98343f47"
      },
      "outputs": [
        {
          "output_type": "stream",
          "name": "stdout",
          "text": [
            "(11610, 8)\n",
            "(5160, 8)\n",
            "(3870, 8)\n"
          ]
        }
      ],
      "source": [
        "## check shape of train and test\n",
        "print(X_train1.shape)\n",
        "print(X_test.shape)\n",
        "print(X_validation.shape)"
      ]
    },
    {
      "cell_type": "code",
      "execution_count": 7,
      "metadata": {
        "id": "b3Bu65SrETeN"
      },
      "outputs": [],
      "source": [
        "## Standardization\n",
        "sc = StandardScaler()\n",
        "X_train_s = sc.fit_transform(X_train1)\n",
        "X_validation_s = sc.transform(X_validation)\n",
        "X_test_s = sc.transform(X_test)"
      ]
    },
    {
      "cell_type": "markdown",
      "metadata": {
        "id": "12lIYxUnPNoX"
      },
      "source": [
        "Create Model"
      ]
    },
    {
      "cell_type": "code",
      "execution_count": 8,
      "metadata": {
        "id": "gCJ_W-HCPP5p"
      },
      "outputs": [],
      "source": [
        "## create Model\n",
        "model = keras.models.Sequential([\n",
        "    keras.layers.Dense(50, activation=\"relu\"),\n",
        "    keras.layers.Dense(10, activation=\"relu\"),\n",
        "    keras.layers.Dense(1)]\n",
        ")"
      ]
    },
    {
      "cell_type": "code",
      "execution_count": 9,
      "metadata": {
        "id": "5DxCzmoNRoJb"
      },
      "outputs": [],
      "source": [
        "model.compile(loss=\"mean_squared_error\",\n",
        "              optimizer=\"sgd\",\n",
        "              metrics=[\"mean_absolute_error\"])"
      ]
    },
    {
      "cell_type": "code",
      "execution_count": 10,
      "metadata": {
        "colab": {
          "base_uri": "https://localhost:8080/"
        },
        "id": "b68M7gfUsPNe",
        "outputId": "e926e424-923f-47f5-9e42-428304e11137"
      },
      "outputs": [
        {
          "output_type": "stream",
          "name": "stdout",
          "text": [
            "Epoch 1/30\n",
            "363/363 [==============================] - 5s 9ms/step - loss: 0.8354 - mean_absolute_error: 0.6283 - val_loss: 0.4831 - val_mean_absolute_error: 0.5152\n",
            "Epoch 2/30\n",
            "363/363 [==============================] - 2s 6ms/step - loss: 0.4897 - mean_absolute_error: 0.5037 - val_loss: 0.4813 - val_mean_absolute_error: 0.4823\n",
            "Epoch 3/30\n",
            "363/363 [==============================] - 2s 6ms/step - loss: 0.4622 - mean_absolute_error: 0.4814 - val_loss: 0.3975 - val_mean_absolute_error: 0.4514\n",
            "Epoch 4/30\n",
            "363/363 [==============================] - 2s 6ms/step - loss: 0.4310 - mean_absolute_error: 0.4677 - val_loss: 0.4002 - val_mean_absolute_error: 0.4633\n",
            "Epoch 5/30\n",
            "363/363 [==============================] - 2s 5ms/step - loss: 0.4199 - mean_absolute_error: 0.4602 - val_loss: 0.3832 - val_mean_absolute_error: 0.4411\n",
            "Epoch 6/30\n",
            "363/363 [==============================] - 2s 5ms/step - loss: 0.4074 - mean_absolute_error: 0.4527 - val_loss: 0.3659 - val_mean_absolute_error: 0.4367\n",
            "Epoch 7/30\n",
            "363/363 [==============================] - 3s 7ms/step - loss: 0.3972 - mean_absolute_error: 0.4466 - val_loss: 0.3751 - val_mean_absolute_error: 0.4373\n",
            "Epoch 8/30\n",
            "363/363 [==============================] - 1s 3ms/step - loss: 0.3889 - mean_absolute_error: 0.4409 - val_loss: 0.3614 - val_mean_absolute_error: 0.4327\n",
            "Epoch 9/30\n",
            "363/363 [==============================] - 1s 3ms/step - loss: 0.3813 - mean_absolute_error: 0.4363 - val_loss: 0.3466 - val_mean_absolute_error: 0.4226\n",
            "Epoch 10/30\n",
            "363/363 [==============================] - 1s 3ms/step - loss: 0.3732 - mean_absolute_error: 0.4316 - val_loss: 0.3352 - val_mean_absolute_error: 0.4071\n",
            "Epoch 11/30\n",
            "363/363 [==============================] - 1s 3ms/step - loss: 0.3673 - mean_absolute_error: 0.4278 - val_loss: 0.3667 - val_mean_absolute_error: 0.4477\n",
            "Epoch 12/30\n",
            "363/363 [==============================] - 1s 4ms/step - loss: 0.3622 - mean_absolute_error: 0.4247 - val_loss: 0.3345 - val_mean_absolute_error: 0.4162\n",
            "Epoch 13/30\n",
            "363/363 [==============================] - 2s 6ms/step - loss: 0.3579 - mean_absolute_error: 0.4213 - val_loss: 0.3324 - val_mean_absolute_error: 0.4161\n",
            "Epoch 14/30\n",
            "363/363 [==============================] - 2s 4ms/step - loss: 0.3525 - mean_absolute_error: 0.4177 - val_loss: 0.3346 - val_mean_absolute_error: 0.4176\n",
            "Epoch 15/30\n",
            "363/363 [==============================] - 2s 4ms/step - loss: 0.3470 - mean_absolute_error: 0.4141 - val_loss: 0.3160 - val_mean_absolute_error: 0.3993\n",
            "Epoch 16/30\n",
            "363/363 [==============================] - 1s 2ms/step - loss: 0.3436 - mean_absolute_error: 0.4137 - val_loss: 0.3226 - val_mean_absolute_error: 0.3978\n",
            "Epoch 17/30\n",
            "363/363 [==============================] - 1s 2ms/step - loss: 0.3396 - mean_absolute_error: 0.4106 - val_loss: 0.3222 - val_mean_absolute_error: 0.4009\n",
            "Epoch 18/30\n",
            "363/363 [==============================] - 1s 2ms/step - loss: 0.3375 - mean_absolute_error: 0.4087 - val_loss: 0.3093 - val_mean_absolute_error: 0.3896\n",
            "Epoch 19/30\n",
            "363/363 [==============================] - 1s 2ms/step - loss: 0.3342 - mean_absolute_error: 0.4066 - val_loss: 0.3134 - val_mean_absolute_error: 0.4004\n",
            "Epoch 20/30\n",
            "363/363 [==============================] - 1s 3ms/step - loss: 0.3311 - mean_absolute_error: 0.4042 - val_loss: 0.3038 - val_mean_absolute_error: 0.3892\n",
            "Epoch 21/30\n",
            "363/363 [==============================] - 1s 3ms/step - loss: 0.3270 - mean_absolute_error: 0.4015 - val_loss: 0.3050 - val_mean_absolute_error: 0.3949\n",
            "Epoch 22/30\n",
            "363/363 [==============================] - 1s 3ms/step - loss: 0.3246 - mean_absolute_error: 0.3990 - val_loss: 0.3077 - val_mean_absolute_error: 0.3906\n",
            "Epoch 23/30\n",
            "363/363 [==============================] - 1s 3ms/step - loss: 0.3238 - mean_absolute_error: 0.3992 - val_loss: 0.3011 - val_mean_absolute_error: 0.3872\n",
            "Epoch 24/30\n",
            "363/363 [==============================] - 1s 3ms/step - loss: 0.3217 - mean_absolute_error: 0.3973 - val_loss: 0.2996 - val_mean_absolute_error: 0.3857\n",
            "Epoch 25/30\n",
            "363/363 [==============================] - 1s 3ms/step - loss: 0.3196 - mean_absolute_error: 0.3965 - val_loss: 0.2960 - val_mean_absolute_error: 0.3809\n",
            "Epoch 26/30\n",
            "363/363 [==============================] - 1s 2ms/step - loss: 0.3168 - mean_absolute_error: 0.3946 - val_loss: 0.2893 - val_mean_absolute_error: 0.3777\n",
            "Epoch 27/30\n",
            "363/363 [==============================] - 1s 3ms/step - loss: 0.3163 - mean_absolute_error: 0.3950 - val_loss: 0.2996 - val_mean_absolute_error: 0.3855\n",
            "Epoch 28/30\n",
            "363/363 [==============================] - 1s 2ms/step - loss: 0.3126 - mean_absolute_error: 0.3913 - val_loss: 0.2899 - val_mean_absolute_error: 0.3821\n",
            "Epoch 29/30\n",
            "363/363 [==============================] - 1s 3ms/step - loss: 0.3114 - mean_absolute_error: 0.3905 - val_loss: 0.2896 - val_mean_absolute_error: 0.3767\n",
            "Epoch 30/30\n",
            "363/363 [==============================] - 1s 2ms/step - loss: 0.3103 - mean_absolute_error: 0.3892 - val_loss: 0.2881 - val_mean_absolute_error: 0.3764\n"
          ]
        }
      ],
      "source": [
        "history = model.fit(X_train_s, y_train1, epochs=30, validation_data=(X_validation_s, y_validation))"
      ]
    },
    {
      "cell_type": "markdown",
      "source": [
        "## Functional API"
      ],
      "metadata": {
        "id": "0-EnpQFFvgCs"
      }
    },
    {
      "cell_type": "code",
      "source": [
        "X_train0.shape[1:]"
      ],
      "metadata": {
        "colab": {
          "base_uri": "https://localhost:8080/"
        },
        "id": "PFAmuv7TugG5",
        "outputId": "c6b2b8a3-4fb8-43de-f25d-506c3c891294"
      },
      "execution_count": 11,
      "outputs": [
        {
          "output_type": "execute_result",
          "data": {
            "text/plain": [
              "(8,)"
            ]
          },
          "metadata": {},
          "execution_count": 11
        }
      ]
    },
    {
      "cell_type": "code",
      "source": [
        "input_layer = keras.layers.Input(shape=X_train1.shape[1:])\n",
        "hidden_layer_1 = keras.layers.Dense(50, activation=\"relu\")(input_layer)\n",
        "hidden_layer_2 = keras.layers.Dense(10, activation=\"relu\")(hidden_layer_1)\n",
        "cancatenate_layer = keras.layers.Concatenate()([input_layer, hidden_layer_2])\n",
        "output_layer = keras.layers.Dense(1)(cancatenate_layer)\n",
        "model_conc = keras.Model(inputs=[input_layer], outputs=[output_layer])\n"
      ],
      "metadata": {
        "id": "Z7cGqNYyx_qF"
      },
      "execution_count": 17,
      "outputs": []
    },
    {
      "cell_type": "code",
      "source": [
        "model_conc.summary()"
      ],
      "metadata": {
        "colab": {
          "base_uri": "https://localhost:8080/"
        },
        "id": "jUpqaDMV0bqa",
        "outputId": "ec59e063-0a90-4f07-baaf-497d8c80fe05"
      },
      "execution_count": 18,
      "outputs": [
        {
          "output_type": "stream",
          "name": "stdout",
          "text": [
            "Model: \"model\"\n",
            "__________________________________________________________________________________________________\n",
            " Layer (type)                Output Shape                 Param #   Connected to                  \n",
            "==================================================================================================\n",
            " input_6 (InputLayer)        [(None, 8)]                  0         []                            \n",
            "                                                                                                  \n",
            " dense_14 (Dense)            (None, 50)                   450       ['input_6[0][0]']             \n",
            "                                                                                                  \n",
            " dense_15 (Dense)            (None, 10)                   510       ['dense_14[0][0]']            \n",
            "                                                                                                  \n",
            " concatenate_4 (Concatenate  (None, 18)                   0         ['input_6[0][0]',             \n",
            " )                                                                   'dense_15[0][0]']            \n",
            "                                                                                                  \n",
            " dense_16 (Dense)            (None, 1)                    19        ['concatenate_4[0][0]']       \n",
            "                                                                                                  \n",
            "==================================================================================================\n",
            "Total params: 979 (3.82 KB)\n",
            "Trainable params: 979 (3.82 KB)\n",
            "Non-trainable params: 0 (0.00 Byte)\n",
            "__________________________________________________________________________________________________\n"
          ]
        }
      ]
    },
    {
      "cell_type": "code",
      "source": [
        "keras.utils.plot_model(model_conc, \"model_pic.png\")"
      ],
      "metadata": {
        "colab": {
          "base_uri": "https://localhost:8080/",
          "height": 466
        },
        "id": "_rZLnKgE0fya",
        "outputId": "8146eeb1-af3b-4388-adc1-e0d48ad673a3"
      },
      "execution_count": 20,
      "outputs": [
        {
          "output_type": "execute_result",
          "data": {
            "image/png": "[encoded data removed]",
            "text/plain": [
              "<IPython.core.display.Image object>"
            ]
          },
          "metadata": {},
          "execution_count": 20
        }
      ]
    },
    {
      "cell_type": "code",
      "source": [
        "model_conc.compile(loss=\"mean_squared_error\",\n",
        "                   optimizer=\"sgd\",\n",
        "                   metrics=\"mean_absolute_error\")"
      ],
      "metadata": {
        "id": "nFDAQdAX0vcO"
      },
      "execution_count": 21,
      "outputs": []
    },
    {
      "cell_type": "code",
      "source": [
        "model_conc.fit(X_train_s, y_train1, epochs = 30,\n",
        "               validation_data = (X_validation_s, y_validation) )"
      ],
      "metadata": {
        "colab": {
          "base_uri": "https://localhost:8080/"
        },
        "id": "qmC-iawD1H29",
        "outputId": "42ed53bd-588f-46e8-c79f-b248bb1bdd33"
      },
      "execution_count": 23,
      "outputs": [
        {
          "output_type": "stream",
          "name": "stdout",
          "text": [
            "Epoch 1/30\n",
            "363/363 [==============================] - 5s 6ms/step - loss: 0.9870 - mean_absolute_error: 0.6488 - val_loss: 0.5013 - val_mean_absolute_error: 0.5234\n",
            "Epoch 2/30\n",
            "363/363 [==============================] - 1s 4ms/step - loss: 0.5113 - mean_absolute_error: 0.5175 - val_loss: 0.4397 - val_mean_absolute_error: 0.4878\n",
            "Epoch 3/30\n",
            "363/363 [==============================] - 1s 4ms/step - loss: 0.4698 - mean_absolute_error: 0.4911 - val_loss: 0.5364 - val_mean_absolute_error: 0.5020\n",
            "Epoch 4/30\n",
            "363/363 [==============================] - 1s 3ms/step - loss: 0.4472 - mean_absolute_error: 0.4781 - val_loss: 0.3994 - val_mean_absolute_error: 0.4579\n",
            "Epoch 5/30\n",
            "363/363 [==============================] - 1s 2ms/step - loss: 0.4266 - mean_absolute_error: 0.4666 - val_loss: 0.3875 - val_mean_absolute_error: 0.4528\n",
            "Epoch 6/30\n",
            "363/363 [==============================] - 1s 2ms/step - loss: 0.4190 - mean_absolute_error: 0.4599 - val_loss: 0.3743 - val_mean_absolute_error: 0.4420\n",
            "Epoch 7/30\n",
            "363/363 [==============================] - 1s 3ms/step - loss: 0.4035 - mean_absolute_error: 0.4518 - val_loss: 0.3695 - val_mean_absolute_error: 0.4381\n",
            "Epoch 8/30\n",
            "363/363 [==============================] - 1s 2ms/step - loss: 0.3931 - mean_absolute_error: 0.4464 - val_loss: 0.3584 - val_mean_absolute_error: 0.4317\n",
            "Epoch 9/30\n",
            "363/363 [==============================] - 1s 3ms/step - loss: 0.3866 - mean_absolute_error: 0.4423 - val_loss: 0.3521 - val_mean_absolute_error: 0.4296\n",
            "Epoch 10/30\n",
            "363/363 [==============================] - 1s 3ms/step - loss: 0.3769 - mean_absolute_error: 0.4367 - val_loss: 0.3492 - val_mean_absolute_error: 0.4269\n",
            "Epoch 11/30\n",
            "363/363 [==============================] - 1s 3ms/step - loss: 0.3754 - mean_absolute_error: 0.4334 - val_loss: 0.3381 - val_mean_absolute_error: 0.4128\n",
            "Epoch 12/30\n",
            "363/363 [==============================] - 1s 3ms/step - loss: 0.4056 - mean_absolute_error: 0.4345 - val_loss: 0.3480 - val_mean_absolute_error: 0.4244\n",
            "Epoch 13/30\n",
            "363/363 [==============================] - 1s 3ms/step - loss: 0.3623 - mean_absolute_error: 0.4272 - val_loss: 0.3454 - val_mean_absolute_error: 0.4244\n",
            "Epoch 14/30\n",
            "363/363 [==============================] - 1s 3ms/step - loss: 0.3650 - mean_absolute_error: 0.4248 - val_loss: 0.3552 - val_mean_absolute_error: 0.4390\n",
            "Epoch 15/30\n",
            "363/363 [==============================] - 1s 3ms/step - loss: 0.3510 - mean_absolute_error: 0.4207 - val_loss: 0.3254 - val_mean_absolute_error: 0.4074\n",
            "Epoch 16/30\n",
            "363/363 [==============================] - 1s 3ms/step - loss: 0.3484 - mean_absolute_error: 0.4190 - val_loss: 0.3291 - val_mean_absolute_error: 0.4114\n",
            "Epoch 17/30\n",
            "363/363 [==============================] - 1s 3ms/step - loss: 0.3469 - mean_absolute_error: 0.4171 - val_loss: 0.3300 - val_mean_absolute_error: 0.4132\n",
            "Epoch 18/30\n",
            "363/363 [==============================] - 1s 2ms/step - loss: 0.3471 - mean_absolute_error: 0.4159 - val_loss: 0.3128 - val_mean_absolute_error: 0.3981\n",
            "Epoch 19/30\n",
            "363/363 [==============================] - 1s 2ms/step - loss: 0.3970 - mean_absolute_error: 0.4175 - val_loss: 0.3147 - val_mean_absolute_error: 0.3965\n",
            "Epoch 20/30\n",
            "363/363 [==============================] - 1s 3ms/step - loss: 0.3371 - mean_absolute_error: 0.4103 - val_loss: 0.3149 - val_mean_absolute_error: 0.3944\n",
            "Epoch 21/30\n",
            "363/363 [==============================] - 1s 2ms/step - loss: 0.3368 - mean_absolute_error: 0.4103 - val_loss: 0.3109 - val_mean_absolute_error: 0.3955\n",
            "Epoch 22/30\n",
            "363/363 [==============================] - 1s 2ms/step - loss: 0.3442 - mean_absolute_error: 0.4108 - val_loss: 0.3124 - val_mean_absolute_error: 0.3889\n",
            "Epoch 23/30\n",
            "363/363 [==============================] - 1s 2ms/step - loss: 0.3393 - mean_absolute_error: 0.4076 - val_loss: 0.3093 - val_mean_absolute_error: 0.4000\n",
            "Epoch 24/30\n",
            "363/363 [==============================] - 1s 3ms/step - loss: 0.3278 - mean_absolute_error: 0.4053 - val_loss: 0.3116 - val_mean_absolute_error: 0.3957\n",
            "Epoch 25/30\n",
            "363/363 [==============================] - 1s 3ms/step - loss: 0.3370 - mean_absolute_error: 0.4068 - val_loss: 0.3037 - val_mean_absolute_error: 0.3865\n",
            "Epoch 26/30\n",
            "363/363 [==============================] - 1s 3ms/step - loss: 0.3389 - mean_absolute_error: 0.4070 - val_loss: 0.3093 - val_mean_absolute_error: 0.4000\n",
            "Epoch 27/30\n",
            "363/363 [==============================] - 1s 4ms/step - loss: 0.3249 - mean_absolute_error: 0.4023 - val_loss: 0.3099 - val_mean_absolute_error: 0.3991\n",
            "Epoch 28/30\n",
            "363/363 [==============================] - 2s 6ms/step - loss: 0.3236 - mean_absolute_error: 0.4020 - val_loss: 0.3008 - val_mean_absolute_error: 0.3941\n",
            "Epoch 29/30\n",
            "363/363 [==============================] - 2s 4ms/step - loss: 0.3222 - mean_absolute_error: 0.4004 - val_loss: 0.3087 - val_mean_absolute_error: 0.3913\n",
            "Epoch 30/30\n",
            "363/363 [==============================] - 1s 4ms/step - loss: 0.3223 - mean_absolute_error: 0.4002 - val_loss: 0.2985 - val_mean_absolute_error: 0.3872\n"
          ]
        },
        {
          "output_type": "execute_result",
          "data": {
            "text/plain": [
              "<keras.src.callbacks.History at 0x7a308599c280>"
            ]
          },
          "metadata": {},
          "execution_count": 23
        }
      ]
    },
    {
      "cell_type": "markdown",
      "source": [
        "## funcitonal API with multiple input"
      ],
      "metadata": {
        "id": "UWvJ0gv-5EYg"
      }
    },
    {
      "cell_type": "code",
      "source": [
        "X_train_s_1, X_train_s_2 = X_train_s[: , :6], X_train_s[: , -4:]\n",
        "X_validation_s_1, X_validation_s_2 = X_validation_s[: , :6], X_validation_s[: , -4:]\n",
        "X_test_s_1, X_test_s_2 = X_test_s[: , :6], X_test_s[: , -4:]"
      ],
      "metadata": {
        "id": "YnI7lgIT5I_L"
      },
      "execution_count": 24,
      "outputs": []
    },
    {
      "cell_type": "code",
      "source": [
        "input_layer_1 = keras.layers.Input(shape=[6])\n",
        "input_layer_2 = keras.layers.Input(shape=[4])\n",
        "hidden_layer_1 = keras.layers.Dense(50, activation=\"relu\")(input_layer_1)\n",
        "hidden_layer_2 = keras.layers.Dense(10, activation=\"relu\")(hidden_layer_1)\n",
        "concatenation_layer = keras.layers.Concatenate()([input_layer_2, hidden_layer_2])\n",
        "output_layer = keras.layers.Dense(1)(concatenation_layer)\n",
        "model_multiple = keras.Model(inputs=[input_layer_1, input_layer_2], outputs=[output_layer])"
      ],
      "metadata": {
        "id": "eZ1N70rN72bv"
      },
      "execution_count": 25,
      "outputs": []
    },
    {
      "cell_type": "code",
      "source": [
        "model_multiple.summary()"
      ],
      "metadata": {
        "colab": {
          "base_uri": "https://localhost:8080/"
        },
        "id": "QyhROS6W9kpf",
        "outputId": "464c2742-731d-4361-bf09-8c1cf9afe2cb"
      },
      "execution_count": 26,
      "outputs": [
        {
          "output_type": "stream",
          "name": "stdout",
          "text": [
            "Model: \"model_1\"\n",
            "__________________________________________________________________________________________________\n",
            " Layer (type)                Output Shape                 Param #   Connected to                  \n",
            "==================================================================================================\n",
            " input_7 (InputLayer)        [(None, 6)]                  0         []                            \n",
            "                                                                                                  \n",
            " dense_17 (Dense)            (None, 50)                   350       ['input_7[0][0]']             \n",
            "                                                                                                  \n",
            " input_8 (InputLayer)        [(None, 4)]                  0         []                            \n",
            "                                                                                                  \n",
            " dense_18 (Dense)            (None, 10)                   510       ['dense_17[0][0]']            \n",
            "                                                                                                  \n",
            " concatenate_5 (Concatenate  (None, 14)                   0         ['input_8[0][0]',             \n",
            " )                                                                   'dense_18[0][0]']            \n",
            "                                                                                                  \n",
            " dense_19 (Dense)            (None, 1)                    15        ['concatenate_5[0][0]']       \n",
            "                                                                                                  \n",
            "==================================================================================================\n",
            "Total params: 875 (3.42 KB)\n",
            "Trainable params: 875 (3.42 KB)\n",
            "Non-trainable params: 0 (0.00 Byte)\n",
            "__________________________________________________________________________________________________\n"
          ]
        }
      ]
    },
    {
      "cell_type": "code",
      "source": [
        "keras.utils.plot_model(model_multiple, \"multiple_model.png\")"
      ],
      "metadata": {
        "colab": {
          "base_uri": "https://localhost:8080/",
          "height": 466
        },
        "id": "DtyMqFws9uan",
        "outputId": "aa4383b0-490e-4cf3-8046-f6a9578bd3b4"
      },
      "execution_count": 28,
      "outputs": [
        {
          "output_type": "execute_result",
          "data": {
            "image/png": "[encoded data removed]",
            "text/plain": [
              "<IPython.core.display.Image object>"
            ]
          },
          "metadata": {},
          "execution_count": 28
        }
      ]
    },
    {
      "cell_type": "code",
      "source": [
        "model_multiple.compile(loss=\"mean_squared_error\",\n",
        "                       optimizer=\"sgd\",\n",
        "                       metrics=\"mean_absolute_error\")"
      ],
      "metadata": {
        "id": "9O69dGjk9-jz"
      },
      "execution_count": 29,
      "outputs": []
    },
    {
      "cell_type": "code",
      "source": [
        "model_multiple.fit((X_train_s_1, X_train_s_2), y_train1, epochs = 30,\n",
        "                   validation_data=((X_validation_s_1,X_validation_s_2), y_validation))"
      ],
      "metadata": {
        "colab": {
          "base_uri": "https://localhost:8080/"
        },
        "id": "A_7nR31g-OSb",
        "outputId": "b6e4b9e6-dcc5-4a16-c581-c79ed89fbb2c"
      },
      "execution_count": 32,
      "outputs": [
        {
          "output_type": "stream",
          "name": "stdout",
          "text": [
            "Epoch 1/30\n",
            "363/363 [==============================] - 2s 3ms/step - loss: 1.1182 - mean_absolute_error: 0.6895 - val_loss: 0.5272 - val_mean_absolute_error: 0.5365\n",
            "Epoch 2/30\n",
            "363/363 [==============================] - 1s 2ms/step - loss: 0.6011 - mean_absolute_error: 0.5373 - val_loss: 0.4526 - val_mean_absolute_error: 0.4975\n",
            "Epoch 3/30\n",
            "363/363 [==============================] - 1s 2ms/step - loss: 0.4825 - mean_absolute_error: 0.5048 - val_loss: 0.4329 - val_mean_absolute_error: 0.4817\n",
            "Epoch 4/30\n",
            "363/363 [==============================] - 1s 2ms/step - loss: 0.4540 - mean_absolute_error: 0.4886 - val_loss: 0.4023 - val_mean_absolute_error: 0.4554\n",
            "Epoch 5/30\n",
            "363/363 [==============================] - 1s 3ms/step - loss: 0.4571 - mean_absolute_error: 0.4835 - val_loss: 0.4217 - val_mean_absolute_error: 0.4898\n",
            "Epoch 6/30\n",
            "363/363 [==============================] - 1s 3ms/step - loss: 0.4241 - mean_absolute_error: 0.4702 - val_loss: 0.3744 - val_mean_absolute_error: 0.4452\n",
            "Epoch 7/30\n",
            "363/363 [==============================] - 1s 3ms/step - loss: 0.4557 - mean_absolute_error: 0.4672 - val_loss: 0.3858 - val_mean_absolute_error: 0.4561\n",
            "Epoch 8/30\n",
            "363/363 [==============================] - 1s 3ms/step - loss: 0.4039 - mean_absolute_error: 0.4579 - val_loss: 0.3640 - val_mean_absolute_error: 0.4395\n",
            "Epoch 9/30\n",
            "363/363 [==============================] - 1s 3ms/step - loss: 0.3998 - mean_absolute_error: 0.4545 - val_loss: 0.3628 - val_mean_absolute_error: 0.4389\n",
            "Epoch 10/30\n",
            "363/363 [==============================] - 1s 3ms/step - loss: 0.3969 - mean_absolute_error: 0.4503 - val_loss: 0.3664 - val_mean_absolute_error: 0.4404\n",
            "Epoch 11/30\n",
            "363/363 [==============================] - 1s 2ms/step - loss: 0.3975 - mean_absolute_error: 0.4476 - val_loss: 0.3500 - val_mean_absolute_error: 0.4281\n",
            "Epoch 12/30\n",
            "363/363 [==============================] - 1s 2ms/step - loss: 0.3900 - mean_absolute_error: 0.4451 - val_loss: 0.3584 - val_mean_absolute_error: 0.4378\n",
            "Epoch 13/30\n",
            "363/363 [==============================] - 1s 3ms/step - loss: 0.3879 - mean_absolute_error: 0.4438 - val_loss: 0.3598 - val_mean_absolute_error: 0.4330\n",
            "Epoch 14/30\n",
            "363/363 [==============================] - 1s 2ms/step - loss: 0.3831 - mean_absolute_error: 0.4429 - val_loss: 0.3453 - val_mean_absolute_error: 0.4233\n",
            "Epoch 15/30\n",
            "363/363 [==============================] - 1s 2ms/step - loss: 0.3763 - mean_absolute_error: 0.4406 - val_loss: 0.3438 - val_mean_absolute_error: 0.4240\n",
            "Epoch 16/30\n",
            "363/363 [==============================] - 1s 2ms/step - loss: 0.3735 - mean_absolute_error: 0.4395 - val_loss: 0.3504 - val_mean_absolute_error: 0.4356\n",
            "Epoch 17/30\n",
            "363/363 [==============================] - 1s 3ms/step - loss: 0.3762 - mean_absolute_error: 0.4401 - val_loss: 0.3430 - val_mean_absolute_error: 0.4189\n",
            "Epoch 18/30\n",
            "363/363 [==============================] - 1s 3ms/step - loss: 0.3770 - mean_absolute_error: 0.4392 - val_loss: 0.3748 - val_mean_absolute_error: 0.4510\n",
            "Epoch 19/30\n",
            "363/363 [==============================] - 1s 2ms/step - loss: 0.3749 - mean_absolute_error: 0.4387 - val_loss: 0.3405 - val_mean_absolute_error: 0.4212\n",
            "Epoch 20/30\n",
            "363/363 [==============================] - 1s 2ms/step - loss: 0.3674 - mean_absolute_error: 0.4372 - val_loss: 0.3856 - val_mean_absolute_error: 0.4668\n",
            "Epoch 21/30\n",
            "363/363 [==============================] - 1s 3ms/step - loss: 0.3677 - mean_absolute_error: 0.4363 - val_loss: 0.3465 - val_mean_absolute_error: 0.4280\n",
            "Epoch 22/30\n",
            "363/363 [==============================] - 1s 4ms/step - loss: 0.4301 - mean_absolute_error: 0.4394 - val_loss: 0.3407 - val_mean_absolute_error: 0.4199\n",
            "Epoch 23/30\n",
            "363/363 [==============================] - 1s 3ms/step - loss: 0.3661 - mean_absolute_error: 0.4351 - val_loss: 0.3750 - val_mean_absolute_error: 0.4571\n",
            "Epoch 24/30\n",
            "363/363 [==============================] - 1s 4ms/step - loss: 0.3658 - mean_absolute_error: 0.4349 - val_loss: 0.3370 - val_mean_absolute_error: 0.4146\n",
            "Epoch 25/30\n",
            "363/363 [==============================] - 1s 3ms/step - loss: 0.3788 - mean_absolute_error: 0.4370 - val_loss: 0.3361 - val_mean_absolute_error: 0.4163\n",
            "Epoch 26/30\n",
            "363/363 [==============================] - 1s 3ms/step - loss: 0.3637 - mean_absolute_error: 0.4345 - val_loss: 0.3424 - val_mean_absolute_error: 0.4244\n",
            "Epoch 27/30\n",
            "363/363 [==============================] - 1s 2ms/step - loss: 0.3652 - mean_absolute_error: 0.4341 - val_loss: 0.3458 - val_mean_absolute_error: 0.4214\n",
            "Epoch 28/30\n",
            "363/363 [==============================] - 1s 2ms/step - loss: 0.3653 - mean_absolute_error: 0.4339 - val_loss: 0.3495 - val_mean_absolute_error: 0.4260\n",
            "Epoch 29/30\n",
            "363/363 [==============================] - 1s 3ms/step - loss: 0.3654 - mean_absolute_error: 0.4337 - val_loss: 0.3480 - val_mean_absolute_error: 0.4250\n",
            "Epoch 30/30\n",
            "363/363 [==============================] - 1s 2ms/step - loss: 0.3653 - mean_absolute_error: 0.4331 - val_loss: 0.3560 - val_mean_absolute_error: 0.4397\n"
          ]
        },
        {
          "output_type": "execute_result",
          "data": {
            "text/plain": [
              "<keras.src.callbacks.History at 0x7a3085490970>"
            ]
          },
          "metadata": {},
          "execution_count": 32
        }
      ]
    }
  ],
  "metadata": {
    "colab": {
      "provenance": [],
      "authorship_tag": "ABX9TyMr4JUfu/abH0Fm0Wz8dMJH",
      "include_colab_link": true
    },
    "kernelspec": {
      "display_name": "Python 3",
      "name": "python3"
    },
    "language_info": {
      "name": "python"
    }
  },
  "nbformat": 4,
  "nbformat_minor": 0
}