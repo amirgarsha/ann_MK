{
  "cells": [
    {
      "cell_type": "markdown",
      "metadata": {
        "id": "view-in-github",
        "colab_type": "text"
      },
      "source": [
        "<a href=\"https://colab.research.google.com/github/amirgarsha/ann_MK/blob/main/MK_ann_regression.ipynb\" target=\"_parent\"><img src=\"https://colab.research.google.com/assets/colab-badge.svg\" alt=\"Open In Colab\"/></a>"
      ]
    },
    {
      "cell_type": "code",
      "execution_count": 1,
      "metadata": {
        "id": "7w7-F8QU9Cm9"
      },
      "outputs": [],
      "source": [
        "import tensorflow as tf\n",
        "from tensorflow import keras\n",
        "from sklearn.datasets import fetch_california_housing\n",
        "from sklearn.model_selection import train_test_split\n",
        "from sklearn.preprocessing import StandardScaler"
      ]
    },
    {
      "cell_type": "code",
      "execution_count": 2,
      "metadata": {
        "id": "MCae5-ij-KRu"
      },
      "outputs": [],
      "source": [
        "import matplotlib.pyplot as plt\n",
        "import numpy as np\n"
      ]
    },
    {
      "cell_type": "markdown",
      "metadata": {
        "id": "HoS4AUFn_hG7"
      },
      "source": [
        "##Regression"
      ]
    },
    {
      "cell_type": "code",
      "execution_count": 3,
      "metadata": {
        "id": "p6xspfO-_k21"
      },
      "outputs": [],
      "source": [
        "## check dataset\n",
        "california_housing = fetch_california_housing()"
      ]
    },
    {
      "cell_type": "code",
      "execution_count": 4,
      "metadata": {
        "id": "v4vwfjqY_rS-"
      },
      "outputs": [],
      "source": [
        "## split data\n",
        "X_train0, X_test, y_train0,  y_test = train_test_split(california_housing[\"data\"],\n",
        "                                                    california_housing[\"target\"])"
      ]
    },
    {
      "cell_type": "code",
      "execution_count": 5,
      "metadata": {
        "id": "va0TVguWA0N_"
      },
      "outputs": [],
      "source": [
        "## split train to train and validation\n",
        "X_train1, X_validation, y_train1, y_validation = train_test_split(X_train0,\n",
        "                                                                  y_train0)"
      ]
    },
    {
      "cell_type": "code",
      "execution_count": 6,
      "metadata": {
        "colab": {
          "base_uri": "https://localhost:8080/"
        },
        "id": "1f7ZeEyhCYZZ",
        "outputId": "f2d36173-3ff4-477a-fdfb-4f808f1dda8e"
      },
      "outputs": [
        {
          "output_type": "stream",
          "name": "stdout",
          "text": [
            "(11610, 8)\n",
            "(5160, 8)\n",
            "(3870, 8)\n"
          ]
        }
      ],
      "source": [
        "## check shape of train and test\n",
        "print(X_train1.shape)\n",
        "print(X_test.shape)\n",
        "print(X_validation.shape)"
      ]
    },
    {
      "cell_type": "code",
      "execution_count": 7,
      "metadata": {
        "id": "b3Bu65SrETeN"
      },
      "outputs": [],
      "source": [
        "## Standardization\n",
        "sc = StandardScaler()\n",
        "X_train_s = sc.fit_transform(X_train1)\n",
        "X_validation_s = sc.transform(X_validation)\n",
        "X_test_s = sc.transform(X_test)"
      ]
    },
    {
      "cell_type": "markdown",
      "metadata": {
        "id": "12lIYxUnPNoX"
      },
      "source": [
        "Create Model"
      ]
    },
    {
      "cell_type": "code",
      "execution_count": 8,
      "metadata": {
        "id": "gCJ_W-HCPP5p"
      },
      "outputs": [],
      "source": [
        "## create Model\n",
        "model = keras.models.Sequential([\n",
        "    keras.layers.Dense(50, activation=\"relu\"),\n",
        "    keras.layers.Dense(10, activation=\"relu\"),\n",
        "    keras.layers.Dense(1)]\n",
        ")"
      ]
    },
    {
      "cell_type": "code",
      "execution_count": 9,
      "metadata": {
        "id": "5DxCzmoNRoJb"
      },
      "outputs": [],
      "source": [
        "model.compile(loss=\"mean_squared_error\",\n",
        "              optimizer=\"sgd\",\n",
        "              metrics=[\"mean_absolute_error\"])"
      ]
    },
    {
      "cell_type": "code",
      "execution_count": 10,
      "metadata": {
        "colab": {
          "base_uri": "https://localhost:8080/"
        },
        "id": "b68M7gfUsPNe",
        "outputId": "bc03ec7c-22cc-442b-8747-71e3f6c93215"
      },
      "outputs": [
        {
          "output_type": "stream",
          "name": "stdout",
          "text": [
            "Epoch 1/30\n",
            "363/363 [==============================] - 2s 3ms/step - loss: 0.6542 - mean_absolute_error: 0.5676 - val_loss: 2.6287 - val_mean_absolute_error: 0.5215\n",
            "Epoch 2/30\n",
            "363/363 [==============================] - 1s 3ms/step - loss: 0.4734 - mean_absolute_error: 0.4785 - val_loss: 0.6217 - val_mean_absolute_error: 0.4537\n",
            "Epoch 3/30\n",
            "363/363 [==============================] - 1s 3ms/step - loss: 0.4062 - mean_absolute_error: 0.4521 - val_loss: 2.4929 - val_mean_absolute_error: 0.4639\n",
            "Epoch 4/30\n",
            "363/363 [==============================] - 1s 3ms/step - loss: 0.4422 - mean_absolute_error: 0.4556 - val_loss: 0.8343 - val_mean_absolute_error: 0.4568\n",
            "Epoch 5/30\n",
            "363/363 [==============================] - 1s 4ms/step - loss: 0.3843 - mean_absolute_error: 0.4404 - val_loss: 0.3583 - val_mean_absolute_error: 0.4296\n",
            "Epoch 6/30\n",
            "363/363 [==============================] - 1s 3ms/step - loss: 0.3618 - mean_absolute_error: 0.4292 - val_loss: 0.3459 - val_mean_absolute_error: 0.4140\n",
            "Epoch 7/30\n",
            "363/363 [==============================] - 1s 3ms/step - loss: 0.3547 - mean_absolute_error: 0.4221 - val_loss: 0.3382 - val_mean_absolute_error: 0.4090\n",
            "Epoch 8/30\n",
            "363/363 [==============================] - 1s 2ms/step - loss: 0.3461 - mean_absolute_error: 0.4161 - val_loss: 0.3320 - val_mean_absolute_error: 0.4101\n",
            "Epoch 9/30\n",
            "363/363 [==============================] - 1s 2ms/step - loss: 0.3413 - mean_absolute_error: 0.4119 - val_loss: 0.3265 - val_mean_absolute_error: 0.3992\n",
            "Epoch 10/30\n",
            "363/363 [==============================] - 1s 2ms/step - loss: 0.3360 - mean_absolute_error: 0.4069 - val_loss: 0.3208 - val_mean_absolute_error: 0.3981\n",
            "Epoch 11/30\n",
            "363/363 [==============================] - 1s 2ms/step - loss: 0.3333 - mean_absolute_error: 0.4048 - val_loss: 0.3178 - val_mean_absolute_error: 0.3952\n",
            "Epoch 12/30\n",
            "363/363 [==============================] - 1s 2ms/step - loss: 0.3274 - mean_absolute_error: 0.4004 - val_loss: 0.3195 - val_mean_absolute_error: 0.3858\n",
            "Epoch 13/30\n",
            "363/363 [==============================] - 1s 2ms/step - loss: 0.3231 - mean_absolute_error: 0.3975 - val_loss: 0.3194 - val_mean_absolute_error: 0.3864\n",
            "Epoch 14/30\n",
            "363/363 [==============================] - 1s 2ms/step - loss: 0.3190 - mean_absolute_error: 0.3943 - val_loss: 0.3448 - val_mean_absolute_error: 0.3948\n",
            "Epoch 15/30\n",
            "363/363 [==============================] - 1s 3ms/step - loss: 0.3181 - mean_absolute_error: 0.3933 - val_loss: 0.3137 - val_mean_absolute_error: 0.3977\n",
            "Epoch 16/30\n",
            "363/363 [==============================] - 1s 2ms/step - loss: 0.3155 - mean_absolute_error: 0.3908 - val_loss: 0.3063 - val_mean_absolute_error: 0.3875\n",
            "Epoch 17/30\n",
            "363/363 [==============================] - 1s 3ms/step - loss: 0.3126 - mean_absolute_error: 0.3885 - val_loss: 0.3364 - val_mean_absolute_error: 0.3929\n",
            "Epoch 18/30\n",
            "363/363 [==============================] - 1s 2ms/step - loss: 0.3125 - mean_absolute_error: 0.3880 - val_loss: 0.3134 - val_mean_absolute_error: 0.3814\n",
            "Epoch 19/30\n",
            "363/363 [==============================] - 1s 3ms/step - loss: 0.3097 - mean_absolute_error: 0.3866 - val_loss: 0.3061 - val_mean_absolute_error: 0.3856\n",
            "Epoch 20/30\n",
            "363/363 [==============================] - 1s 4ms/step - loss: 0.3073 - mean_absolute_error: 0.3849 - val_loss: 0.2982 - val_mean_absolute_error: 0.3803\n",
            "Epoch 21/30\n",
            "363/363 [==============================] - 1s 3ms/step - loss: 0.3054 - mean_absolute_error: 0.3834 - val_loss: 0.3325 - val_mean_absolute_error: 0.3831\n",
            "Epoch 22/30\n",
            "363/363 [==============================] - 1s 3ms/step - loss: 0.3045 - mean_absolute_error: 0.3817 - val_loss: 0.2937 - val_mean_absolute_error: 0.3754\n",
            "Epoch 23/30\n",
            "363/363 [==============================] - 1s 4ms/step - loss: 0.3042 - mean_absolute_error: 0.3822 - val_loss: 0.2940 - val_mean_absolute_error: 0.3734\n",
            "Epoch 24/30\n",
            "363/363 [==============================] - 1s 4ms/step - loss: 0.3033 - mean_absolute_error: 0.3806 - val_loss: 0.2983 - val_mean_absolute_error: 0.3721\n",
            "Epoch 25/30\n",
            "363/363 [==============================] - 1s 4ms/step - loss: 0.3047 - mean_absolute_error: 0.3808 - val_loss: 0.2963 - val_mean_absolute_error: 0.3749\n",
            "Epoch 26/30\n",
            "363/363 [==============================] - 2s 5ms/step - loss: 0.3031 - mean_absolute_error: 0.3814 - val_loss: 0.3077 - val_mean_absolute_error: 0.3764\n",
            "Epoch 27/30\n",
            "363/363 [==============================] - 2s 4ms/step - loss: 0.3027 - mean_absolute_error: 0.3797 - val_loss: 0.2913 - val_mean_absolute_error: 0.3675\n",
            "Epoch 28/30\n",
            "363/363 [==============================] - 2s 5ms/step - loss: 0.3043 - mean_absolute_error: 0.3805 - val_loss: 0.2871 - val_mean_absolute_error: 0.3678\n",
            "Epoch 29/30\n",
            "363/363 [==============================] - 3s 10ms/step - loss: 0.3005 - mean_absolute_error: 0.3793 - val_loss: 0.2921 - val_mean_absolute_error: 0.3695\n",
            "Epoch 30/30\n",
            "363/363 [==============================] - 3s 7ms/step - loss: 0.2982 - mean_absolute_error: 0.3778 - val_loss: 0.2881 - val_mean_absolute_error: 0.3681\n"
          ]
        }
      ],
      "source": [
        "history = model.fit(X_train_s, y_train1, epochs=30, validation_data=(X_validation_s, y_validation))"
      ]
    },
    {
      "cell_type": "markdown",
      "source": [
        "## Functional API"
      ],
      "metadata": {
        "id": "0-EnpQFFvgCs"
      }
    },
    {
      "cell_type": "code",
      "source": [
        "X_train0.shape[1:]"
      ],
      "metadata": {
        "colab": {
          "base_uri": "https://localhost:8080/"
        },
        "id": "PFAmuv7TugG5",
        "outputId": "ab77d9fa-b650-479b-f3d0-6ced7a651bcb"
      },
      "execution_count": 11,
      "outputs": [
        {
          "output_type": "execute_result",
          "data": {
            "text/plain": [
              "(8,)"
            ]
          },
          "metadata": {},
          "execution_count": 11
        }
      ]
    },
    {
      "cell_type": "code",
      "source": [
        "input_layer = keras.layers.Input(shape=X_train1.shape[1:])\n",
        "hidden_layer_1 = keras.layers.Dense(50, activation=\"relu\")(input_layer)\n",
        "hidden_layer_2 = keras.layers.Dense(10, activation=\"relu\")(hidden_layer_1)\n",
        "cancatenate_layer = keras.layers.Concatenate()([input_layer, hidden_layer_2])\n",
        "output_layer = keras.layers.Dense(1)(cancatenate_layer)\n",
        "model_conc = keras.Model(inputs=[input_layer], outputs=[output_layer])\n"
      ],
      "metadata": {
        "id": "Z7cGqNYyx_qF"
      },
      "execution_count": 12,
      "outputs": []
    },
    {
      "cell_type": "code",
      "source": [
        "model_conc.summary()"
      ],
      "metadata": {
        "colab": {
          "base_uri": "https://localhost:8080/"
        },
        "id": "jUpqaDMV0bqa",
        "outputId": "cd65c4e5-1199-4e20-909a-35143dba54f1"
      },
      "execution_count": 13,
      "outputs": [
        {
          "output_type": "stream",
          "name": "stdout",
          "text": [
            "Model: \"model\"\n",
            "__________________________________________________________________________________________________\n",
            " Layer (type)                Output Shape                 Param #   Connected to                  \n",
            "==================================================================================================\n",
            " input_1 (InputLayer)        [(None, 8)]                  0         []                            \n",
            "                                                                                                  \n",
            " dense_3 (Dense)             (None, 50)                   450       ['input_1[0][0]']             \n",
            "                                                                                                  \n",
            " dense_4 (Dense)             (None, 10)                   510       ['dense_3[0][0]']             \n",
            "                                                                                                  \n",
            " concatenate (Concatenate)   (None, 18)                   0         ['input_1[0][0]',             \n",
            "                                                                     'dense_4[0][0]']             \n",
            "                                                                                                  \n",
            " dense_5 (Dense)             (None, 1)                    19        ['concatenate[0][0]']         \n",
            "                                                                                                  \n",
            "==================================================================================================\n",
            "Total params: 979 (3.82 KB)\n",
            "Trainable params: 979 (3.82 KB)\n",
            "Non-trainable params: 0 (0.00 Byte)\n",
            "__________________________________________________________________________________________________\n"
          ]
        }
      ]
    },
    {
      "cell_type": "code",
      "source": [
        "keras.utils.plot_model(model_conc, \"model_pic.png\")"
      ],
      "metadata": {
        "colab": {
          "base_uri": "https://localhost:8080/",
          "height": 0
        },
        "id": "_rZLnKgE0fya",
        "outputId": "c23365de-0820-490b-d314-fdc3b329865d"
      },
      "execution_count": 14,
      "outputs": [
        {
          "output_type": "execute_result",
          "data": {
            "image/png": "[encoded data removed]",
            "text/plain": [
              "<IPython.core.display.Image object>"
            ]
          },
          "metadata": {},
          "execution_count": 14
        }
      ]
    },
    {
      "cell_type": "code",
      "source": [
        "model_conc.compile(loss=\"mean_squared_error\",\n",
        "                   optimizer=\"sgd\",\n",
        "                   metrics=\"mean_absolute_error\")"
      ],
      "metadata": {
        "id": "nFDAQdAX0vcO"
      },
      "execution_count": 15,
      "outputs": []
    },
    {
      "cell_type": "code",
      "source": [
        "model_conc.fit(X_train_s, y_train1, epochs = 30,\n",
        "               validation_data = (X_validation_s, y_validation) )"
      ],
      "metadata": {
        "colab": {
          "base_uri": "https://localhost:8080/"
        },
        "id": "qmC-iawD1H29",
        "outputId": "ba8ab93e-1985-4a10-91c5-1a7e587f3ec0"
      },
      "execution_count": 16,
      "outputs": [
        {
          "output_type": "stream",
          "name": "stdout",
          "text": [
            "Epoch 1/30\n",
            "363/363 [==============================] - 3s 6ms/step - loss: 0.6950 - mean_absolute_error: 0.5826 - val_loss: 0.4819 - val_mean_absolute_error: 0.4910\n",
            "Epoch 2/30\n",
            "363/363 [==============================] - 2s 5ms/step - loss: 0.5814 - mean_absolute_error: 0.4909 - val_loss: 2.0662 - val_mean_absolute_error: 0.5027\n",
            "Epoch 3/30\n",
            "363/363 [==============================] - 1s 3ms/step - loss: 0.4647 - mean_absolute_error: 0.4733 - val_loss: 1.2981 - val_mean_absolute_error: 0.4844\n",
            "Epoch 4/30\n",
            "363/363 [==============================] - 1s 3ms/step - loss: 0.5609 - mean_absolute_error: 0.4903 - val_loss: 3.8230 - val_mean_absolute_error: 0.4951\n",
            "Epoch 5/30\n",
            "363/363 [==============================] - 1s 4ms/step - loss: 0.5460 - mean_absolute_error: 0.4858 - val_loss: 9.7703 - val_mean_absolute_error: 0.5235\n",
            "Epoch 6/30\n",
            "363/363 [==============================] - 1s 3ms/step - loss: 0.7589 - mean_absolute_error: 0.5362 - val_loss: 13.8318 - val_mean_absolute_error: 0.5590\n",
            "Epoch 7/30\n",
            "363/363 [==============================] - 1s 2ms/step - loss: 0.5966 - mean_absolute_error: 0.5017 - val_loss: 57.3518 - val_mean_absolute_error: 0.7366\n",
            "Epoch 8/30\n",
            "363/363 [==============================] - 1s 2ms/step - loss: 1.6262 - mean_absolute_error: 0.6019 - val_loss: 82.7693 - val_mean_absolute_error: 0.8492\n",
            "Epoch 9/30\n",
            "363/363 [==============================] - 1s 2ms/step - loss: 0.4575 - mean_absolute_error: 0.4784 - val_loss: 0.6924 - val_mean_absolute_error: 0.4531\n",
            "Epoch 10/30\n",
            "363/363 [==============================] - 1s 2ms/step - loss: 0.3935 - mean_absolute_error: 0.4457 - val_loss: 1.1458 - val_mean_absolute_error: 0.4462\n",
            "Epoch 11/30\n",
            "363/363 [==============================] - 1s 3ms/step - loss: 0.3719 - mean_absolute_error: 0.4324 - val_loss: 10.9611 - val_mean_absolute_error: 0.5065\n",
            "Epoch 12/30\n",
            "363/363 [==============================] - 1s 3ms/step - loss: 0.5533 - mean_absolute_error: 0.4645 - val_loss: 18.9196 - val_mean_absolute_error: 0.5368\n",
            "Epoch 13/30\n",
            "363/363 [==============================] - 1s 2ms/step - loss: 0.8075 - mean_absolute_error: 0.5022 - val_loss: 179.8680 - val_mean_absolute_error: 0.8322\n",
            "Epoch 14/30\n",
            "363/363 [==============================] - 1s 2ms/step - loss: 16.5326 - mean_absolute_error: 1.0333 - val_loss: 282.4252 - val_mean_absolute_error: 0.9935\n",
            "Epoch 15/30\n",
            "363/363 [==============================] - 1s 2ms/step - loss: 2726.1833 - mean_absolute_error: 4.2328 - val_loss: 61.6159 - val_mean_absolute_error: 0.8216\n",
            "Epoch 16/30\n",
            "363/363 [==============================] - 1s 2ms/step - loss: 4.4022 - mean_absolute_error: 1.0861 - val_loss: 102.4126 - val_mean_absolute_error: 1.0879\n",
            "Epoch 17/30\n",
            "363/363 [==============================] - 1s 2ms/step - loss: 1.5691 - mean_absolute_error: 0.7008 - val_loss: 88.3222 - val_mean_absolute_error: 0.8156\n",
            "Epoch 18/30\n",
            "363/363 [==============================] - 1s 3ms/step - loss: 2.0758 - mean_absolute_error: 0.7016 - val_loss: 280.6735 - val_mean_absolute_error: 1.4898\n",
            "Epoch 19/30\n",
            "363/363 [==============================] - 1s 3ms/step - loss: 1.8853 - mean_absolute_error: 0.8095 - val_loss: 236.7474 - val_mean_absolute_error: 1.1073\n",
            "Epoch 20/30\n",
            "363/363 [==============================] - 1s 4ms/step - loss: 4.3738 - mean_absolute_error: 0.9092 - val_loss: 516.9400 - val_mean_absolute_error: 1.8773\n",
            "Epoch 21/30\n",
            "363/363 [==============================] - 1s 3ms/step - loss: 3.2097 - mean_absolute_error: 0.9449 - val_loss: 456.4825 - val_mean_absolute_error: 1.4536\n",
            "Epoch 22/30\n",
            "363/363 [==============================] - 1s 3ms/step - loss: 7.9283 - mean_absolute_error: 0.9317 - val_loss: 966.9879 - val_mean_absolute_error: 2.4747\n",
            "Epoch 23/30\n",
            "363/363 [==============================] - 1s 3ms/step - loss: 29.9358 - mean_absolute_error: 2.0019 - val_loss: 1259.5034 - val_mean_absolute_error: 2.3411\n",
            "Epoch 24/30\n",
            "363/363 [==============================] - 1s 2ms/step - loss: 35.9792 - mean_absolute_error: 2.8833 - val_loss: 1773.2682 - val_mean_absolute_error: 3.1677\n",
            "Epoch 25/30\n",
            "363/363 [==============================] - 1s 3ms/step - loss: 132.0490 - mean_absolute_error: 3.7606 - val_loss: 2726.9026 - val_mean_absolute_error: 3.3980\n",
            "Epoch 26/30\n",
            "363/363 [==============================] - 1s 2ms/step - loss: 191.1204 - mean_absolute_error: 6.3262 - val_loss: 3911.8987 - val_mean_absolute_error: 4.5660\n",
            "Epoch 27/30\n",
            "363/363 [==============================] - 1s 2ms/step - loss: 52.5098 - mean_absolute_error: 3.3615 - val_loss: 5433.3018 - val_mean_absolute_error: 4.9190\n",
            "Epoch 28/30\n",
            "363/363 [==============================] - 1s 3ms/step - loss: 39.7726 - mean_absolute_error: 2.5059 - val_loss: 8778.0547 - val_mean_absolute_error: 6.6842\n",
            "Epoch 29/30\n",
            "363/363 [==============================] - 1s 2ms/step - loss: 45.9249 - mean_absolute_error: 2.9485 - val_loss: 11286.2012 - val_mean_absolute_error: 7.2668\n",
            "Epoch 30/30\n",
            "363/363 [==============================] - 1s 3ms/step - loss: 438.2499 - mean_absolute_error: 9.3737 - val_loss: 16065.7100 - val_mean_absolute_error: 9.0798\n"
          ]
        },
        {
          "output_type": "execute_result",
          "data": {
            "text/plain": [
              "<keras.src.callbacks.History at 0x7bdf4af26f80>"
            ]
          },
          "metadata": {},
          "execution_count": 16
        }
      ]
    },
    {
      "cell_type": "markdown",
      "source": [
        "## funcitonal API with multiple input"
      ],
      "metadata": {
        "id": "UWvJ0gv-5EYg"
      }
    },
    {
      "cell_type": "code",
      "source": [
        "X_train_s_1, X_train_s_2 = X_train_s[: , :6], X_train_s[: , -4:]\n",
        "X_validation_s_1, X_validation_s_2 = X_validation_s[: , :6], X_validation_s[: , -4:]\n",
        "X_test_s_1, X_test_s_2 = X_test_s[: , :6], X_test_s[: , -4:]"
      ],
      "metadata": {
        "id": "YnI7lgIT5I_L"
      },
      "execution_count": 17,
      "outputs": []
    },
    {
      "cell_type": "code",
      "source": [
        "input_layer_1 = keras.layers.Input(shape=[6])\n",
        "input_layer_2 = keras.layers.Input(shape=[4])\n",
        "hidden_layer_1 = keras.layers.Dense(50, activation=\"relu\")(input_layer_1)\n",
        "hidden_layer_2 = keras.layers.Dense(10, activation=\"relu\")(hidden_layer_1)\n",
        "concatenation_layer = keras.layers.Concatenate()([input_layer_2, hidden_layer_2])\n",
        "output_layer = keras.layers.Dense(1)(concatenation_layer)\n",
        "model_multiple = keras.Model(inputs=[input_layer_1, input_layer_2], outputs=[output_layer])"
      ],
      "metadata": {
        "id": "eZ1N70rN72bv"
      },
      "execution_count": 18,
      "outputs": []
    },
    {
      "cell_type": "code",
      "source": [
        "model_multiple.summary()"
      ],
      "metadata": {
        "colab": {
          "base_uri": "https://localhost:8080/"
        },
        "id": "QyhROS6W9kpf",
        "outputId": "e5ec27c1-a040-443f-baa2-f233c1fa6b75"
      },
      "execution_count": 19,
      "outputs": [
        {
          "output_type": "stream",
          "name": "stdout",
          "text": [
            "Model: \"model_1\"\n",
            "__________________________________________________________________________________________________\n",
            " Layer (type)                Output Shape                 Param #   Connected to                  \n",
            "==================================================================================================\n",
            " input_2 (InputLayer)        [(None, 6)]                  0         []                            \n",
            "                                                                                                  \n",
            " dense_6 (Dense)             (None, 50)                   350       ['input_2[0][0]']             \n",
            "                                                                                                  \n",
            " input_3 (InputLayer)        [(None, 4)]                  0         []                            \n",
            "                                                                                                  \n",
            " dense_7 (Dense)             (None, 10)                   510       ['dense_6[0][0]']             \n",
            "                                                                                                  \n",
            " concatenate_1 (Concatenate  (None, 14)                   0         ['input_3[0][0]',             \n",
            " )                                                                   'dense_7[0][0]']             \n",
            "                                                                                                  \n",
            " dense_8 (Dense)             (None, 1)                    15        ['concatenate_1[0][0]']       \n",
            "                                                                                                  \n",
            "==================================================================================================\n",
            "Total params: 875 (3.42 KB)\n",
            "Trainable params: 875 (3.42 KB)\n",
            "Non-trainable params: 0 (0.00 Byte)\n",
            "__________________________________________________________________________________________________\n"
          ]
        }
      ]
    },
    {
      "cell_type": "code",
      "source": [
        "keras.utils.plot_model(model_multiple, \"multiple_model.png\")"
      ],
      "metadata": {
        "colab": {
          "base_uri": "https://localhost:8080/",
          "height": 0
        },
        "id": "DtyMqFws9uan",
        "outputId": "8508d29c-d8ef-4bc1-d742-b3441bf94a91"
      },
      "execution_count": 20,
      "outputs": [
        {
          "output_type": "execute_result",
          "data": {
            "image/png": "[encoded data removed]",
            "text/plain": [
              "<IPython.core.display.Image object>"
            ]
          },
          "metadata": {},
          "execution_count": 20
        }
      ]
    },
    {
      "cell_type": "code",
      "source": [
        "model_multiple.compile(loss=\"mean_squared_error\",\n",
        "                       optimizer=\"sgd\",\n",
        "                       metrics=\"mean_absolute_error\")"
      ],
      "metadata": {
        "id": "9O69dGjk9-jz"
      },
      "execution_count": 21,
      "outputs": []
    },
    {
      "cell_type": "code",
      "source": [
        "model_multiple.fit((X_train_s_1, X_train_s_2), y_train1, epochs = 30,\n",
        "                   validation_data=((X_validation_s_1,X_validation_s_2), y_validation))"
      ],
      "metadata": {
        "colab": {
          "base_uri": "https://localhost:8080/"
        },
        "id": "A_7nR31g-OSb",
        "outputId": "eb79408c-ff26-42fc-cf44-592d37dda675"
      },
      "execution_count": 22,
      "outputs": [
        {
          "metadata": {
            "tags": null
          },
          "name": "stdout",
          "output_type": "stream",
          "text": [
            "Epoch 1/30\n",
            "363/363 [==============================] - 1s 3ms/step - loss: 0.9153 - mean_absolute_error: 0.6341 - val_loss: 11.8382 - val_mean_absolute_error: 0.5952\n",
            "Epoch 2/30\n",
            "363/363 [==============================] - 1s 3ms/step - loss: 0.6806 - mean_absolute_error: 0.5375 - val_loss: 56.4963 - val_mean_absolute_error: 0.7611\n",
            "Epoch 3/30\n",
            "363/363 [==============================] - 1s 2ms/step - loss: 3.0315 - mean_absolute_error: 0.7929 - val_loss: 5.5191 - val_mean_absolute_error: 0.5288\n",
            "Epoch 4/30\n",
            "363/363 [==============================] - 1s 3ms/step - loss: 1.1762 - mean_absolute_error: 0.4974 - val_loss: 398.9437 - val_mean_absolute_error: 2.6060\n",
            "Epoch 5/30\n",
            "363/363 [==============================] - 1s 4ms/step - loss: 4.3766 - mean_absolute_error: 0.9973 - val_loss: 2602.5581 - val_mean_absolute_error: 3.0539\n",
            "Epoch 6/30\n",
            "363/363 [==============================] - 1s 3ms/step - loss: 14961984579567616.0000 - mean_absolute_error: 5603868.0000 - val_loss: 40079091302400.0000 - val_mean_absolute_error: 704065.4375\n",
            "Epoch 7/30\n",
            "363/363 [==============================] - 1s 3ms/step - loss: 1938461687808.0000 - mean_absolute_error: 653380.6875 - val_loss: 55580911730688.0000 - val_mean_absolute_error: 564387.3750\n",
            "Epoch 8/30\n",
            "363/363 [==============================] - 1s 2ms/step - loss: 755962740736.0000 - mean_absolute_error: 405038.7500 - val_loss: 79484745154560.0000 - val_mean_absolute_error: 632582.8750\n",
            "Epoch 9/30\n",
            "363/363 [==============================] - 1s 2ms/step - loss: 1010586877952.0000 - mean_absolute_error: 457952.3438 - val_loss: 113168202334208.0000 - val_mean_absolute_error: 736551.1250\n",
            "Epoch 10/30\n",
            "363/363 [==============================] - 1s 2ms/step - loss: 4478163484672.0000 - mean_absolute_error: 879795.1250 - val_loss: 161686661103616.0000 - val_mean_absolute_error: 877493.0625\n",
            "Epoch 11/30\n",
            "363/363 [==============================] - 1s 3ms/step - loss: 7017607987200.0000 - mean_absolute_error: 992855.9375 - val_loss: 229600428818432.0000 - val_mean_absolute_error: 1040225.8750\n",
            "Epoch 12/30\n",
            "363/363 [==============================] - 1s 3ms/step - loss: 11085239287808.0000 - mean_absolute_error: 1300379.7500 - val_loss: 322476009586688.0000 - val_mean_absolute_error: 1235387.0000\n",
            "Epoch 13/30\n",
            "363/363 [==============================] - 1s 2ms/step - loss: 1351865991168.0000 - mean_absolute_error: 451369.9062 - val_loss: 471523085254656.0000 - val_mean_absolute_error: 1576205.2500\n",
            "Epoch 14/30\n",
            "363/363 [==============================] - 1s 2ms/step - loss: 20882414108672.0000 - mean_absolute_error: 2177448.7500 - val_loss: 661385436463104.0000 - val_mean_absolute_error: 1777469.2500\n",
            "Epoch 15/30\n",
            "363/363 [==============================] - 1s 2ms/step - loss: 8866487074816.0000 - mean_absolute_error: 1378050.7500 - val_loss: 956031735693312.0000 - val_mean_absolute_error: 2125005.0000\n",
            "Epoch 16/30\n",
            "363/363 [==============================] - 1s 2ms/step - loss: 15492236443648.0000 - mean_absolute_error: 1308618.1250 - val_loss: 1351884979830784.0000 - val_mean_absolute_error: 2537654.5000\n",
            "Epoch 17/30\n",
            "363/363 [==============================] - 1s 2ms/step - loss: 11649284046848.0000 - mean_absolute_error: 1459793.6250 - val_loss: 1938453897936896.0000 - val_mean_absolute_error: 3038293.7500\n",
            "Epoch 18/30\n",
            "363/363 [==============================] - 1s 2ms/step - loss: 119540910391296.0000 - mean_absolute_error: 4105150.5000 - val_loss: 2761056501891072.0000 - val_mean_absolute_error: 3624059.2500\n",
            "Epoch 19/30\n",
            "363/363 [==============================] - 1s 3ms/step - loss: 106408301297664.0000 - mean_absolute_error: 4092192.0000 - val_loss: 3939019196989440.0000 - val_mean_absolute_error: 4355221.0000\n",
            "Epoch 20/30\n",
            "363/363 [==============================] - 1s 4ms/step - loss: 98592853327872.0000 - mean_absolute_error: 3748947.7500 - val_loss: 5676721089019904.0000 - val_mean_absolute_error: 5188723.5000\n",
            "Epoch 21/30\n",
            "363/363 [==============================] - 1s 4ms/step - loss: 72441258835968.0000 - mean_absolute_error: 2854845.5000 - val_loss: 8087551193645056.0000 - val_mean_absolute_error: 6219349.0000\n",
            "Epoch 22/30\n",
            "363/363 [==============================] - 1s 3ms/step - loss: 510704226402304.0000 - mean_absolute_error: 10416829.0000 - val_loss: 11523683944235008.0000 - val_mean_absolute_error: 7447384.0000\n",
            "Epoch 23/30\n",
            "363/363 [==============================] - 1s 3ms/step - loss: 48541246423040.0000 - mean_absolute_error: 2884587.5000 - val_loss: 16894216277852160.0000 - val_mean_absolute_error: 9354436.0000\n",
            "Epoch 24/30\n",
            "363/363 [==============================] - 1s 2ms/step - loss: 319491577741312.0000 - mean_absolute_error: 8796206.0000 - val_loss: 23724871062126592.0000 - val_mean_absolute_error: 10601777.0000\n",
            "Epoch 25/30\n",
            "363/363 [==============================] - 1s 2ms/step - loss: 645731085975552.0000 - mean_absolute_error: 8454557.0000 - val_loss: 33589362969018368.0000 - val_mean_absolute_error: 12653929.0000\n",
            "Epoch 26/30\n",
            "363/363 [==============================] - 1s 2ms/step - loss: 1499151892217856.0000 - mean_absolute_error: 18809682.0000 - val_loss: 47721338676183040.0000 - val_mean_absolute_error: 15098589.0000\n",
            "Epoch 27/30\n",
            "363/363 [==============================] - 1s 2ms/step - loss: 3864879471525888.0000 - mean_absolute_error: 30623328.0000 - val_loss: 67881799199490048.0000 - val_mean_absolute_error: 18177622.0000\n",
            "Epoch 28/30\n",
            "363/363 [==============================] - 1s 2ms/step - loss: 4647635650609152.0000 - mean_absolute_error: 29848692.0000 - val_loss: 97202299683733504.0000 - val_mean_absolute_error: 21579588.0000\n",
            "Epoch 29/30\n",
            "363/363 [==============================] - 1s 2ms/step - loss: 1091769479462912.0000 - mean_absolute_error: 14267849.0000 - val_loss: 139439033842401280.0000 - val_mean_absolute_error: 25700818.0000\n",
            "Epoch 30/30\n",
            "363/363 [==============================] - 1s 2ms/step - loss: 1286273448804352.0000 - mean_absolute_error: 16653728.0000 - val_loss: 195217413338300416.0000 - val_mean_absolute_error: 30517938.0000\n"
          ]
        },
        {
          "data": {
            "text/plain": [
              "<keras.src.callbacks.History at 0x7bdf4a678cd0>"
            ]
          },
          "execution_count": 22,
          "metadata": {},
          "output_type": "execute_result"
        }
      ]
    },
    {
      "cell_type": "markdown",
      "source": [
        "## with multiple output"
      ],
      "metadata": {
        "id": "7Nr8pYWDTupJ"
      }
    },
    {
      "cell_type": "code",
      "source": [
        "input_layer_1 = keras.layers.Input(shape=[6])\n",
        "input_layer_2 = keras.layers.Input(shape=[4])\n",
        "hidden_layer_1 = keras.layers.Dense(50, activation=\"relu\")(input_layer_1)\n",
        "hidden_layer_2 = keras.layers.Dense(10, activation=\"relu\")(hidden_layer_1)\n",
        "concatenation_layer = keras.layers.Concatenate()([input_layer_2, hidden_layer_2])\n",
        "output_layer = keras.layers.Dense(1, name=\"output_layer\")(concatenation_layer)\n",
        "helper_output = keras.layers.Dense(1,name = \"helper_output\")(hidden_layer_2)\n",
        "model_multiple_output = keras.Model(inputs=[input_layer_1, input_layer_2], outputs=[output_layer, helper_output])"
      ],
      "metadata": {
        "id": "lMhr5YlITuAq"
      },
      "execution_count": 23,
      "outputs": []
    },
    {
      "cell_type": "code",
      "source": [
        "model_multiple_output.summary()"
      ],
      "metadata": {
        "colab": {
          "base_uri": "https://localhost:8080/"
        },
        "id": "sE121oNKWkDT",
        "outputId": "4863ed08-90a1-45df-dade-0026a6ff3d77"
      },
      "execution_count": 24,
      "outputs": [
        {
          "metadata": {
            "tags": null
          },
          "name": "stdout",
          "output_type": "stream",
          "text": [
            "Model: \"model_2\"\n",
            "__________________________________________________________________________________________________\n",
            " Layer (type)                Output Shape                 Param #   Connected to                  \n",
            "==================================================================================================\n",
            " input_4 (InputLayer)        [(None, 6)]                  0         []                            \n",
            "                                                                                                  \n",
            " dense_9 (Dense)             (None, 50)                   350       ['input_4[0][0]']             \n",
            "                                                                                                  \n",
            " input_5 (InputLayer)        [(None, 4)]                  0         []                            \n",
            "                                                                                                  \n",
            " dense_10 (Dense)            (None, 10)                   510       ['dense_9[0][0]']             \n",
            "                                                                                                  \n",
            " concatenate_2 (Concatenate  (None, 14)                   0         ['input_5[0][0]',             \n",
            " )                                                                   'dense_10[0][0]']            \n",
            "                                                                                                  \n",
            " output_layer (Dense)        (None, 1)                    15        ['concatenate_2[0][0]']       \n",
            "                                                                                                  \n",
            " helper_output (Dense)       (None, 1)                    11        ['dense_10[0][0]']            \n",
            "                                                                                                  \n",
            "==================================================================================================\n",
            "Total params: 886 (3.46 KB)\n",
            "Trainable params: 886 (3.46 KB)\n",
            "Non-trainable params: 0 (0.00 Byte)\n",
            "__________________________________________________________________________________________________\n"
          ]
        }
      ]
    },
    {
      "cell_type": "code",
      "source": [
        "keras.utils.plot_model(model_multiple_output, \"multiple_model.png\")"
      ],
      "metadata": {
        "colab": {
          "base_uri": "https://localhost:8080/",
          "height": 466
        },
        "id": "aN9wnckrWnGS",
        "outputId": "542080b9-2723-4d1c-fdc3-e3aee0b173be"
      },
      "execution_count": 25,
      "outputs": [
        {
          "data": {
            "image/png": "[encoded data removed]",
            "text/plain": [
              "<IPython.core.display.Image object>"
            ]
          },
          "execution_count": 25,
          "metadata": {},
          "output_type": "execute_result"
        }
      ]
    },
    {
      "cell_type": "code",
      "source": [
        "model_multiple_output.compile(loss=[\"mse\", \"mse\"],\n",
        "                              loss_weights = [0.8, 0.2],\n",
        "                              optimizer=\"sgd\",\n",
        "                              metrics=[\"mae\"])"
      ],
      "metadata": {
        "id": "3zh8-F0mW_Ui"
      },
      "execution_count": 26,
      "outputs": []
    },
    {
      "cell_type": "code",
      "source": [
        "model_multiple_output.fit((X_train_s_1, X_train_s_2), (y_train1, y_train1), epochs = 30,\n",
        "                   validation_data=((X_validation_s_1,X_validation_s_2), (y_validation,y_validation)))"
      ],
      "metadata": {
        "colab": {
          "base_uri": "https://localhost:8080/"
        },
        "id": "CD0h2KMuXuNr",
        "outputId": "a390dfc1-7c27-42f5-817f-cdff98205839"
      },
      "execution_count": 27,
      "outputs": [
        {
          "output_type": "stream",
          "name": "stdout",
          "text": [
            "Epoch 1/30\n",
            "363/363 [==============================] - 2s 4ms/step - loss: 0.8355 - output_layer_loss: 0.7359 - helper_output_loss: 1.2338 - output_layer_mae: 0.6117 - helper_output_mae: 0.7828 - val_loss: 0.8035 - val_output_layer_loss: 0.8482 - val_helper_output_loss: 0.6248 - val_output_layer_mae: 0.5245 - val_helper_output_mae: 0.5886\n",
            "Epoch 2/30\n",
            "363/363 [==============================] - 1s 4ms/step - loss: 0.5416 - output_layer_loss: 0.5329 - helper_output_loss: 0.5764 - output_layer_mae: 0.5129 - helper_output_mae: 0.5664 - val_loss: 2.3349 - val_output_layer_loss: 2.3680 - val_helper_output_loss: 2.2025 - val_output_layer_mae: 0.5234 - val_helper_output_mae: 0.5861\n",
            "Epoch 3/30\n",
            "363/363 [==============================] - 1s 4ms/step - loss: 0.5997 - output_layer_loss: 0.5958 - helper_output_loss: 0.6152 - output_layer_mae: 0.5262 - helper_output_mae: 0.5538 - val_loss: 2.8034 - val_output_layer_loss: 1.2044 - val_helper_output_loss: 9.1996 - val_output_layer_mae: 0.4903 - val_helper_output_mae: 0.6020\n",
            "Epoch 4/30\n",
            "363/363 [==============================] - 1s 3ms/step - loss: 0.5211 - output_layer_loss: 0.4608 - helper_output_loss: 0.7623 - output_layer_mae: 0.4827 - helper_output_mae: 0.5331 - val_loss: 0.4473 - val_output_layer_loss: 0.4117 - val_helper_output_loss: 0.5896 - val_output_layer_mae: 0.4600 - val_helper_output_mae: 0.5241\n",
            "Epoch 5/30\n",
            "363/363 [==============================] - 1s 3ms/step - loss: 0.4250 - output_layer_loss: 0.4077 - helper_output_loss: 0.4943 - output_layer_mae: 0.4631 - helper_output_mae: 0.5164 - val_loss: 1.3905 - val_output_layer_loss: 1.6084 - val_helper_output_loss: 0.5188 - val_output_layer_mae: 0.4841 - val_helper_output_mae: 0.5254\n",
            "Epoch 6/30\n",
            "363/363 [==============================] - 1s 3ms/step - loss: 0.4363 - output_layer_loss: 0.4254 - helper_output_loss: 0.4803 - output_layer_mae: 0.4658 - helper_output_mae: 0.5124 - val_loss: 5.6833 - val_output_layer_loss: 6.7491 - val_helper_output_loss: 1.4200 - val_output_layer_mae: 0.5059 - val_helper_output_mae: 0.5358\n",
            "Epoch 7/30\n",
            "363/363 [==============================] - 1s 3ms/step - loss: 0.5735 - output_layer_loss: 0.5920 - helper_output_loss: 0.4997 - output_layer_mae: 0.4960 - helper_output_mae: 0.5165 - val_loss: 10.6427 - val_output_layer_loss: 13.1759 - val_helper_output_loss: 0.5099 - val_output_layer_mae: 0.5651 - val_helper_output_mae: 0.5181\n",
            "Epoch 8/30\n",
            "363/363 [==============================] - 1s 3ms/step - loss: 0.4757 - output_layer_loss: 0.4600 - helper_output_loss: 0.5385 - output_layer_mae: 0.4763 - helper_output_mae: 0.5115 - val_loss: 39.1305 - val_output_layer_loss: 44.4817 - val_helper_output_loss: 17.7255 - val_output_layer_mae: 0.6892 - val_helper_output_mae: 0.6168\n",
            "Epoch 9/30\n",
            "363/363 [==============================] - 1s 3ms/step - loss: 1.3663 - output_layer_loss: 1.4662 - helper_output_loss: 0.9667 - output_layer_mae: 0.6051 - helper_output_mae: 0.5941 - val_loss: 4.3804 - val_output_layer_loss: 0.5472 - val_helper_output_loss: 19.7130 - val_output_layer_mae: 0.4793 - val_helper_output_mae: 0.6700\n",
            "Epoch 10/30\n",
            "363/363 [==============================] - 1s 3ms/step - loss: 0.5604 - output_layer_loss: 0.5200 - helper_output_loss: 0.7221 - output_layer_mae: 0.5075 - helper_output_mae: 0.5681 - val_loss: 81.8874 - val_output_layer_loss: 97.4341 - val_helper_output_loss: 19.7004 - val_output_layer_mae: 0.8153 - val_helper_output_mae: 0.7090\n",
            "Epoch 11/30\n",
            "363/363 [==============================] - 1s 3ms/step - loss: 2.5562 - output_layer_loss: 2.7917 - helper_output_loss: 1.6144 - output_layer_mae: 0.5592 - helper_output_mae: 0.6097 - val_loss: 27.3033 - val_output_layer_loss: 33.9724 - val_helper_output_loss: 0.6268 - val_output_layer_mae: 0.6907 - val_helper_output_mae: 0.6118\n",
            "Epoch 12/30\n",
            "363/363 [==============================] - 1s 3ms/step - loss: 1.8424 - output_layer_loss: 2.1670 - helper_output_loss: 0.5440 - output_layer_mae: 0.6349 - helper_output_mae: 0.5635 - val_loss: 32.7977 - val_output_layer_loss: 40.2867 - val_helper_output_loss: 2.8419 - val_output_layer_mae: 0.6290 - val_helper_output_mae: 0.5995\n",
            "Epoch 13/30\n",
            "363/363 [==============================] - 1s 3ms/step - loss: 0.8944 - output_layer_loss: 0.9609 - helper_output_loss: 0.6283 - output_layer_mae: 0.5159 - helper_output_mae: 0.5384 - val_loss: 35.4376 - val_output_layer_loss: 44.0920 - val_helper_output_loss: 0.8203 - val_output_layer_mae: 0.6439 - val_helper_output_mae: 0.5379\n",
            "Epoch 14/30\n",
            "363/363 [==============================] - 2s 4ms/step - loss: 0.6880 - output_layer_loss: 0.7290 - helper_output_loss: 0.5240 - output_layer_mae: 0.5276 - helper_output_mae: 0.5452 - val_loss: 9.0751 - val_output_layer_loss: 8.4179 - val_helper_output_loss: 11.7043 - val_output_layer_mae: 0.6326 - val_helper_output_mae: 0.6275\n",
            "Epoch 15/30\n",
            "363/363 [==============================] - 1s 4ms/step - loss: 0.5284 - output_layer_loss: 0.4923 - helper_output_loss: 0.6728 - output_layer_mae: 0.5040 - helper_output_mae: 0.5365 - val_loss: 5.2396 - val_output_layer_loss: 5.1531 - val_helper_output_loss: 5.5854 - val_output_layer_mae: 0.5290 - val_helper_output_mae: 0.5898\n",
            "Epoch 16/30\n",
            "363/363 [==============================] - 1s 3ms/step - loss: 0.9226 - output_layer_loss: 0.9864 - helper_output_loss: 0.6674 - output_layer_mae: 0.5591 - helper_output_mae: 0.5426 - val_loss: 2.0979 - val_output_layer_loss: 1.4279 - val_helper_output_loss: 4.7781 - val_output_layer_mae: 0.4785 - val_helper_output_mae: 0.5702\n",
            "Epoch 17/30\n",
            "363/363 [==============================] - 1s 3ms/step - loss: 1.0365 - output_layer_loss: 1.1093 - helper_output_loss: 0.7454 - output_layer_mae: 0.5256 - helper_output_mae: 0.5240 - val_loss: 3.3479 - val_output_layer_loss: 0.4354 - val_helper_output_loss: 14.9976 - val_output_layer_mae: 0.4629 - val_helper_output_mae: 0.6058\n",
            "Epoch 18/30\n",
            "363/363 [==============================] - 1s 3ms/step - loss: 0.6659 - output_layer_loss: 0.6223 - helper_output_loss: 0.8400 - output_layer_mae: 0.4803 - helper_output_mae: 0.5197 - val_loss: 46.4133 - val_output_layer_loss: 57.8485 - val_helper_output_loss: 0.6723 - val_output_layer_mae: 0.6433 - val_helper_output_mae: 0.5321\n",
            "Epoch 19/30\n",
            "363/363 [==============================] - 1s 3ms/step - loss: 2.5976 - output_layer_loss: 3.0801 - helper_output_loss: 0.6675 - output_layer_mae: 0.6339 - helper_output_mae: 0.5797 - val_loss: 38.9353 - val_output_layer_loss: 47.4009 - val_helper_output_loss: 5.0729 - val_output_layer_mae: 0.6618 - val_helper_output_mae: 0.7193\n",
            "Epoch 20/30\n",
            "363/363 [==============================] - 1s 3ms/step - loss: 0.7668 - output_layer_loss: 0.6483 - helper_output_loss: 1.2410 - output_layer_mae: 0.4932 - helper_output_mae: 0.6942 - val_loss: 314.7862 - val_output_layer_loss: 392.9962 - val_helper_output_loss: 1.9458 - val_output_layer_mae: 1.0931 - val_helper_output_mae: 0.9364\n",
            "Epoch 21/30\n",
            "363/363 [==============================] - 1s 3ms/step - loss: 1.1237 - output_layer_loss: 1.2020 - helper_output_loss: 0.8108 - output_layer_mae: 0.5906 - helper_output_mae: 0.6694 - val_loss: 3.9222 - val_output_layer_loss: 1.3487 - val_helper_output_loss: 14.2164 - val_output_layer_mae: 0.5105 - val_helper_output_mae: 0.7343\n",
            "Epoch 22/30\n",
            "363/363 [==============================] - 1s 3ms/step - loss: 0.7714 - output_layer_loss: 0.7302 - helper_output_loss: 0.9363 - output_layer_mae: 0.5168 - helper_output_mae: 0.6285 - val_loss: 49.1651 - val_output_layer_loss: 61.2948 - val_helper_output_loss: 0.6462 - val_output_layer_mae: 0.6865 - val_helper_output_mae: 0.5996\n",
            "Epoch 23/30\n",
            "363/363 [==============================] - 1s 3ms/step - loss: 2.8582 - output_layer_loss: 3.4165 - helper_output_loss: 0.6249 - output_layer_mae: 0.7213 - helper_output_mae: 0.6097 - val_loss: 134.7909 - val_output_layer_loss: 168.3415 - val_helper_output_loss: 0.5887 - val_output_layer_mae: 0.8324 - val_helper_output_mae: 0.5988\n",
            "Epoch 24/30\n",
            "363/363 [==============================] - 1s 3ms/step - loss: 2.9590 - output_layer_loss: 3.5543 - helper_output_loss: 0.5778 - output_layer_mae: 0.7024 - helper_output_mae: 0.5719 - val_loss: 435.7623 - val_output_layer_loss: 544.5251 - val_helper_output_loss: 0.7101 - val_output_layer_mae: 1.4794 - val_helper_output_mae: 0.6257\n",
            "Epoch 25/30\n",
            "363/363 [==============================] - 1s 3ms/step - loss: 218.6591 - output_layer_loss: 272.9127 - helper_output_loss: 1.6451 - output_layer_mae: 2.9609 - helper_output_mae: 0.8940 - val_loss: 1474.9255 - val_output_layer_loss: 1843.2610 - val_helper_output_loss: 1.5827 - val_output_layer_mae: 3.3989 - val_helper_output_mae: 0.9079\n",
            "Epoch 26/30\n",
            "363/363 [==============================] - 1s 4ms/step - loss: 41.5017 - output_layer_loss: 51.5123 - helper_output_loss: 1.4593 - output_layer_mae: 2.4887 - helper_output_mae: 0.8945 - val_loss: 1955.5870 - val_output_layer_loss: 2444.1433 - val_helper_output_loss: 1.3619 - val_output_layer_mae: 3.2821 - val_helper_output_mae: 0.8959\n",
            "Epoch 27/30\n",
            "363/363 [==============================] - 1s 4ms/step - loss: 16.6848 - output_layer_loss: 20.5232 - helper_output_loss: 1.3312 - output_layer_mae: 1.8074 - helper_output_mae: 0.8976 - val_loss: 3587.0562 - val_output_layer_loss: 4483.4834 - val_helper_output_loss: 1.3474 - val_output_layer_mae: 5.0316 - val_helper_output_mae: 0.9143\n",
            "Epoch 28/30\n",
            "363/363 [==============================] - 1s 3ms/step - loss: 1467.2386 - output_layer_loss: 1832.9657 - helper_output_loss: 4.3313 - output_layer_mae: 5.2620 - helper_output_mae: 0.9727 - val_loss: 4538.1123 - val_output_layer_loss: 5672.3062 - val_helper_output_loss: 1.3487 - val_output_layer_mae: 5.3706 - val_helper_output_mae: 0.9181\n",
            "Epoch 29/30\n",
            "363/363 [==============================] - 1s 3ms/step - loss: 147.6488 - output_layer_loss: 184.2297 - helper_output_loss: 1.3253 - output_layer_mae: 6.2794 - helper_output_mae: 0.9083 - val_loss: 6395.2056 - val_output_layer_loss: 7993.6699 - val_helper_output_loss: 1.3489 - val_output_layer_mae: 6.4988 - val_helper_output_mae: 0.9205\n",
            "Epoch 30/30\n",
            "363/363 [==============================] - 1s 3ms/step - loss: 55.3618 - output_layer_loss: 68.8710 - helper_output_loss: 1.3253 - output_layer_mae: 3.5382 - helper_output_mae: 0.9093 - val_loss: 8646.5254 - val_output_layer_loss: 10807.8213 - val_helper_output_loss: 1.3491 - val_output_layer_mae: 7.0368 - val_helper_output_mae: 0.9211\n"
          ]
        },
        {
          "output_type": "execute_result",
          "data": {
            "text/plain": [
              "<keras.src.callbacks.History at 0x7bdf4a57a320>"
            ]
          },
          "metadata": {},
          "execution_count": 27
        }
      ]
    },
    {
      "cell_type": "markdown",
      "source": [
        "## Subclass Model"
      ],
      "metadata": {
        "id": "BpVMeAlpLewd"
      }
    },
    {
      "cell_type": "code",
      "source": [
        "class WideAndDeepAnn(keras.Model):\n",
        "  def __init__(self, activation=\"relu\", **kwargs):\n",
        "    super().__init__(**kwargs)\n",
        "    self.hidden_layer1 = keras.layers.Dense(50, activation = activation)\n",
        "    self.hidden_layer2 = keras.layers.Dense(10, activation = activation)\n",
        "    self.final_output = keras.layers.Dense(1)\n",
        "    self.helper_output = keras.layers.Dense(1)\n",
        "\n",
        "  def call(self, inputs):\n",
        "    input_1, input_2 = inputs\n",
        "    h1_out = self.hidden_layer1(input_1)\n",
        "    h2_out = self.hidden_layer2(h1_out)\n",
        "    concat_out = keras.layers.concatenate([input_1, h2_out])\n",
        "    final_output = self.final_output(concat_out)\n",
        "    helper_output = self.helper_output(h2_out)\n",
        "    return final_output, helper_output\n",
        "\n"
      ],
      "metadata": {
        "id": "Pbx-wjedLkQR"
      },
      "execution_count": 32,
      "outputs": []
    },
    {
      "cell_type": "code",
      "source": [
        "subclass_model = WideAndDeepAnn()"
      ],
      "metadata": {
        "id": "ubxseZ_dVthZ"
      },
      "execution_count": 33,
      "outputs": []
    },
    {
      "cell_type": "code",
      "source": [
        "subclass_model.compile(loss=[\"mse\", \"mse\"],\n",
        "                              loss_weights = [0.8, 0.2],\n",
        "                              optimizer=\"sgd\",\n",
        "                              metrics=[\"mae\"])"
      ],
      "metadata": {
        "id": "3yiFVkSZV2lP"
      },
      "execution_count": 34,
      "outputs": []
    },
    {
      "cell_type": "code",
      "source": [
        "subclass_model.fit((X_train_s_1, X_train_s_2), (y_train1, y_train1), epochs = 30,\n",
        "                   validation_data=((X_validation_s_1,X_validation_s_2), (y_validation,y_validation)))"
      ],
      "metadata": {
        "id": "SaNnAGOvWAip",
        "outputId": "7838e102-1d3d-4385-e4e5-08ddd5d8e973",
        "colab": {
          "base_uri": "https://localhost:8080/"
        }
      },
      "execution_count": 35,
      "outputs": [
        {
          "output_type": "stream",
          "name": "stdout",
          "text": [
            "Epoch 1/30\n",
            "363/363 [==============================] - 3s 4ms/step - loss: 1.3426 - output_1_loss: 1.3085 - output_2_loss: 1.4791 - output_1_mae: 0.7172 - output_2_mae: 0.8463 - val_loss: 12.6377 - val_output_1_loss: 15.5516 - val_output_2_loss: 0.9818 - val_output_1_mae: 0.6778 - val_output_2_mae: 0.6019\n",
            "Epoch 2/30\n",
            "363/363 [==============================] - 1s 3ms/step - loss: 0.7588 - output_1_loss: 0.8023 - output_2_loss: 0.5851 - output_1_mae: 0.6065 - output_2_mae: 0.5575 - val_loss: 11.9389 - val_output_1_loss: 14.7817 - val_output_2_loss: 0.5673 - val_output_1_mae: 0.6569 - val_output_2_mae: 0.5454\n",
            "Epoch 3/30\n",
            "363/363 [==============================] - 1s 3ms/step - loss: 0.6246 - output_1_loss: 0.6414 - output_2_loss: 0.5575 - output_1_mae: 0.5670 - output_2_mae: 0.5370 - val_loss: 22.3770 - val_output_1_loss: 27.8403 - val_output_2_loss: 0.5238 - val_output_1_mae: 0.6529 - val_output_2_mae: 0.5344\n",
            "Epoch 4/30\n",
            "363/363 [==============================] - 1s 3ms/step - loss: 0.5472 - output_1_loss: 0.5553 - output_2_loss: 0.5146 - output_1_mae: 0.5183 - output_2_mae: 0.5255 - val_loss: 39.2152 - val_output_1_loss: 48.8720 - val_output_2_loss: 0.5877 - val_output_1_mae: 0.9393 - val_output_2_mae: 0.5719\n",
            "Epoch 5/30\n",
            "363/363 [==============================] - 1s 3ms/step - loss: 0.8155 - output_1_loss: 0.8902 - output_2_loss: 0.5166 - output_1_mae: 0.6109 - output_2_mae: 0.5293 - val_loss: 63.6547 - val_output_1_loss: 79.2762 - val_output_2_loss: 1.1686 - val_output_1_mae: 0.7707 - val_output_2_mae: 0.5529\n",
            "Epoch 6/30\n",
            "363/363 [==============================] - 1s 3ms/step - loss: 2.1371 - output_1_loss: 2.5363 - output_2_loss: 0.5400 - output_1_mae: 0.6513 - output_2_mae: 0.5477 - val_loss: 47.5664 - val_output_1_loss: 58.9984 - val_output_2_loss: 1.8387 - val_output_1_mae: 0.7629 - val_output_2_mae: 0.5888\n",
            "Epoch 7/30\n",
            "363/363 [==============================] - 1s 2ms/step - loss: 0.6300 - output_1_loss: 0.5755 - output_2_loss: 0.8480 - output_1_mae: 0.5335 - output_2_mae: 0.5919 - val_loss: 7.7575 - val_output_1_loss: 1.3490 - val_output_2_loss: 33.3917 - val_output_1_mae: 0.5209 - val_output_2_mae: 0.7007\n",
            "Epoch 8/30\n",
            "363/363 [==============================] - 1s 3ms/step - loss: 2.3631 - output_1_loss: 2.2155 - output_2_loss: 2.9534 - output_1_mae: 0.6853 - output_2_mae: 0.7952 - val_loss: 88.0721 - val_output_1_loss: 109.2154 - val_output_2_loss: 3.4989 - val_output_1_mae: 0.9377 - val_output_2_mae: 0.9788\n",
            "Epoch 9/30\n",
            "363/363 [==============================] - 1s 3ms/step - loss: 1.6747 - output_1_loss: 1.6736 - output_2_loss: 1.6788 - output_1_mae: 0.6648 - output_2_mae: 0.8847 - val_loss: 319.0979 - val_output_1_loss: 398.3554 - val_output_2_loss: 2.0678 - val_output_1_mae: 1.2528 - val_output_2_mae: 0.9063\n",
            "Epoch 10/30\n",
            "363/363 [==============================] - 1s 3ms/step - loss: 1.0636 - output_1_loss: 1.0270 - output_2_loss: 1.2102 - output_1_mae: 0.6225 - output_2_mae: 0.8457 - val_loss: 7.4243 - val_output_1_loss: 8.8274 - val_output_2_loss: 1.8120 - val_output_1_mae: 0.6250 - val_output_2_mae: 0.7994\n",
            "Epoch 11/30\n",
            "363/363 [==============================] - 1s 4ms/step - loss: 1.2629 - output_1_loss: 1.3066 - output_2_loss: 1.0881 - output_1_mae: 0.6472 - output_2_mae: 0.7935 - val_loss: 10.6277 - val_output_1_loss: 12.6438 - val_output_2_loss: 2.5630 - val_output_1_mae: 0.6296 - val_output_2_mae: 0.7884\n",
            "Epoch 12/30\n",
            "363/363 [==============================] - 2s 4ms/step - loss: 0.6439 - output_1_loss: 0.5564 - output_2_loss: 0.9936 - output_1_mae: 0.5233 - output_2_mae: 0.7118 - val_loss: 227.5804 - val_output_1_loss: 283.7186 - val_output_2_loss: 3.0277 - val_output_1_mae: 1.6238 - val_output_2_mae: 0.8485\n",
            "Epoch 13/30\n",
            "363/363 [==============================] - 1s 4ms/step - loss: 2.1145 - output_1_loss: 2.3840 - output_2_loss: 1.0365 - output_1_mae: 0.7760 - output_2_mae: 0.8241 - val_loss: 49.0481 - val_output_1_loss: 61.0934 - val_output_2_loss: 0.8669 - val_output_1_mae: 0.8672 - val_output_2_mae: 0.7610\n",
            "Epoch 14/30\n",
            "363/363 [==============================] - 1s 3ms/step - loss: 0.7519 - output_1_loss: 0.7341 - output_2_loss: 0.8228 - output_1_mae: 0.5750 - output_2_mae: 0.7068 - val_loss: 463.0487 - val_output_1_loss: 578.6279 - val_output_2_loss: 0.7324 - val_output_1_mae: 1.4050 - val_output_2_mae: 0.6743\n",
            "Epoch 15/30\n",
            "363/363 [==============================] - 1s 3ms/step - loss: 58.3262 - output_1_loss: 72.6037 - output_2_loss: 1.2165 - output_1_mae: 1.6246 - output_2_mae: 0.8108 - val_loss: 958.2411 - val_output_1_loss: 1197.4541 - val_output_2_loss: 1.3901 - val_output_1_mae: 2.3536 - val_output_2_mae: 0.8873\n",
            "Epoch 16/30\n",
            "363/363 [==============================] - 1s 3ms/step - loss: 25.2920 - output_1_loss: 31.2795 - output_2_loss: 1.3417 - output_1_mae: 2.5139 - output_2_mae: 0.8921 - val_loss: 1359.7806 - val_output_1_loss: 1699.3892 - val_output_2_loss: 1.3497 - val_output_1_mae: 3.1497 - val_output_2_mae: 0.9110\n",
            "Epoch 17/30\n",
            "363/363 [==============================] - 1s 3ms/step - loss: 38.3832 - output_1_loss: 46.8177 - output_2_loss: 4.6453 - output_1_mae: 3.0756 - output_2_mae: 0.9628 - val_loss: 3264.9495 - val_output_1_loss: 4080.8491 - val_output_2_loss: 1.3487 - val_output_1_mae: 4.3260 - val_output_2_mae: 0.9163\n",
            "Epoch 18/30\n",
            "363/363 [==============================] - 1s 3ms/step - loss: 203.7811 - output_1_loss: 254.3952 - output_2_loss: 1.3255 - output_1_mae: 6.6675 - output_2_mae: 0.9073 - val_loss: 4501.4219 - val_output_1_loss: 5626.4385 - val_output_2_loss: 1.3490 - val_output_1_mae: 5.4510 - val_output_2_mae: 0.9205\n",
            "Epoch 19/30\n",
            "363/363 [==============================] - 1s 3ms/step - loss: 181.3037 - output_1_loss: 226.2984 - output_2_loss: 1.3253 - output_1_mae: 6.4872 - output_2_mae: 0.9094 - val_loss: 6494.4326 - val_output_1_loss: 8117.7002 - val_output_2_loss: 1.3490 - val_output_1_mae: 6.1585 - val_output_2_mae: 0.9210\n",
            "Epoch 20/30\n",
            "363/363 [==============================] - 1s 3ms/step - loss: 208.4423 - output_1_loss: 260.2216 - output_2_loss: 1.3253 - output_1_mae: 5.4026 - output_2_mae: 0.9098 - val_loss: 9331.9658 - val_output_1_loss: 11664.6201 - val_output_2_loss: 1.3490 - val_output_1_mae: 7.7455 - val_output_2_mae: 0.9209\n",
            "Epoch 21/30\n",
            "363/363 [==============================] - 1s 2ms/step - loss: 386.9559 - output_1_loss: 483.3634 - output_2_loss: 1.3253 - output_1_mae: 9.1100 - output_2_mae: 0.9098 - val_loss: 13370.5195 - val_output_1_loss: 16712.8145 - val_output_2_loss: 1.3490 - val_output_1_mae: 8.9238 - val_output_2_mae: 0.9206\n",
            "Epoch 22/30\n",
            "363/363 [==============================] - 1s 3ms/step - loss: 597.7872 - output_1_loss: 746.9030 - output_2_loss: 1.3253 - output_1_mae: 10.4065 - output_2_mae: 0.9093 - val_loss: 18855.7969 - val_output_1_loss: 23569.4121 - val_output_2_loss: 1.3491 - val_output_1_mae: 10.9061 - val_output_2_mae: 0.9213\n",
            "Epoch 23/30\n",
            "363/363 [==============================] - 1s 3ms/step - loss: 419.9441 - output_1_loss: 524.5984 - output_2_loss: 1.3253 - output_1_mae: 9.7146 - output_2_mae: 0.9093 - val_loss: 26904.6230 - val_output_1_loss: 33630.4531 - val_output_2_loss: 1.3492 - val_output_1_mae: 12.6123 - val_output_2_mae: 0.9220\n",
            "Epoch 24/30\n",
            "363/363 [==============================] - 2s 4ms/step - loss: 196.8340 - output_1_loss: 245.7111 - output_2_loss: 1.3253 - output_1_mae: 5.2962 - output_2_mae: 0.9103 - val_loss: 40943.2188 - val_output_1_loss: 51178.6953 - val_output_2_loss: 1.3491 - val_output_1_mae: 16.2314 - val_output_2_mae: 0.9211\n",
            "Epoch 25/30\n",
            "363/363 [==============================] - 1s 4ms/step - loss: 785.9377 - output_1_loss: 982.0912 - output_2_loss: 1.3253 - output_1_mae: 11.5557 - output_2_mae: 0.9099 - val_loss: 56970.8438 - val_output_1_loss: 71213.2578 - val_output_2_loss: 1.3490 - val_output_1_mae: 18.5601 - val_output_2_mae: 0.9207\n",
            "Epoch 26/30\n",
            "363/363 [==============================] - 1s 3ms/step - loss: 1544.5674 - output_1_loss: 1930.3776 - output_2_loss: 1.3253 - output_1_mae: 18.9496 - output_2_mae: 0.9095 - val_loss: 80584.1484 - val_output_1_loss: 100729.8594 - val_output_2_loss: 1.3490 - val_output_1_mae: 22.3107 - val_output_2_mae: 0.9210\n",
            "Epoch 27/30\n",
            "363/363 [==============================] - 1s 3ms/step - loss: 634.5541 - output_1_loss: 792.8614 - output_2_loss: 1.3253 - output_1_mae: 10.9527 - output_2_mae: 0.9102 - val_loss: 114942.8281 - val_output_1_loss: 143678.2031 - val_output_2_loss: 1.3489 - val_output_1_mae: 26.5261 - val_output_2_mae: 0.9201\n",
            "Epoch 28/30\n",
            "363/363 [==============================] - 1s 3ms/step - loss: 1359.0929 - output_1_loss: 1698.5342 - output_2_loss: 1.3253 - output_1_mae: 13.6689 - output_2_mae: 0.9093 - val_loss: 166358.0469 - val_output_1_loss: 207947.2344 - val_output_2_loss: 1.3490 - val_output_1_mae: 33.0867 - val_output_2_mae: 0.9208\n",
            "Epoch 29/30\n",
            "363/363 [==============================] - 1s 2ms/step - loss: 1112.2426 - output_1_loss: 1389.9724 - output_2_loss: 1.3253 - output_1_mae: 14.2882 - output_2_mae: 0.9098 - val_loss: 230096.8281 - val_output_1_loss: 287620.7812 - val_output_2_loss: 1.3490 - val_output_1_mae: 38.1868 - val_output_2_mae: 0.9207\n",
            "Epoch 30/30\n",
            "363/363 [==============================] - 1s 3ms/step - loss: 11176.9248 - output_1_loss: 13970.8262 - output_2_loss: 1.3253 - output_1_mae: 45.4722 - output_2_mae: 0.9095 - val_loss: 328706.5938 - val_output_1_loss: 410883.0312 - val_output_2_loss: 1.3491 - val_output_1_mae: 45.1128 - val_output_2_mae: 0.9210\n"
          ]
        },
        {
          "output_type": "execute_result",
          "data": {
            "text/plain": [
              "<keras.src.callbacks.History at 0x7bdf4a4bcd00>"
            ]
          },
          "metadata": {},
          "execution_count": 35
        }
      ]
    }
  ],
  "metadata": {
    "colab": {
      "provenance": [],
      "authorship_tag": "ABX9TyPpTlzNYo5kOW1g/BlA58s2",
      "include_colab_link": true
    },
    "kernelspec": {
      "display_name": "Python 3",
      "name": "python3"
    },
    "language_info": {
      "name": "python"
    }
  },
  "nbformat": 4,
  "nbformat_minor": 0
}