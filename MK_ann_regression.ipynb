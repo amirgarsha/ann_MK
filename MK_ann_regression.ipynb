{
  "cells": [
    {
      "cell_type": "markdown",
      "metadata": {
        "id": "view-in-github",
        "colab_type": "text"
      },
      "source": [
        "<a href=\"https://colab.research.google.com/github/amirgarsha/ann_MK/blob/main/MK_ann_regression.ipynb\" target=\"_parent\"><img src=\"https://colab.research.google.com/assets/colab-badge.svg\" alt=\"Open In Colab\"/></a>"
      ]
    },
    {
      "cell_type": "code",
      "execution_count": 36,
      "metadata": {
        "id": "7w7-F8QU9Cm9"
      },
      "outputs": [],
      "source": [
        "import tensorflow as tf\n",
        "from tensorflow import keras\n",
        "from sklearn.datasets import fetch_california_housing\n",
        "from sklearn.model_selection import train_test_split\n",
        "from sklearn.preprocessing import StandardScaler"
      ]
    },
    {
      "cell_type": "code",
      "execution_count": 37,
      "metadata": {
        "id": "MCae5-ij-KRu"
      },
      "outputs": [],
      "source": [
        "import matplotlib.pyplot as plt\n",
        "import numpy as np\n"
      ]
    },
    {
      "cell_type": "markdown",
      "metadata": {
        "id": "HoS4AUFn_hG7"
      },
      "source": [
        "##Regression"
      ]
    },
    {
      "cell_type": "code",
      "execution_count": 38,
      "metadata": {
        "id": "p6xspfO-_k21"
      },
      "outputs": [],
      "source": [
        "## check dataset\n",
        "california_housing = fetch_california_housing()"
      ]
    },
    {
      "cell_type": "code",
      "execution_count": 39,
      "metadata": {
        "id": "v4vwfjqY_rS-"
      },
      "outputs": [],
      "source": [
        "## split data\n",
        "X_train0, X_test, y_train0,  y_test = train_test_split(california_housing[\"data\"],\n",
        "                                                    california_housing[\"target\"])"
      ]
    },
    {
      "cell_type": "code",
      "execution_count": 40,
      "metadata": {
        "id": "va0TVguWA0N_"
      },
      "outputs": [],
      "source": [
        "## split train to train and validation\n",
        "X_train1, X_validation, y_train1, y_validation = train_test_split(X_train0,\n",
        "                                                                  y_train0)"
      ]
    },
    {
      "cell_type": "code",
      "execution_count": 41,
      "metadata": {
        "colab": {
          "base_uri": "https://localhost:8080/"
        },
        "id": "1f7ZeEyhCYZZ",
        "outputId": "92c57048-599f-44e9-df4e-6b7228cdfef0"
      },
      "outputs": [
        {
          "output_type": "stream",
          "name": "stdout",
          "text": [
            "(11610, 8)\n",
            "(5160, 8)\n",
            "(3870, 8)\n"
          ]
        }
      ],
      "source": [
        "## check shape of train and test\n",
        "print(X_train1.shape)\n",
        "print(X_test.shape)\n",
        "print(X_validation.shape)"
      ]
    },
    {
      "cell_type": "code",
      "execution_count": 42,
      "metadata": {
        "id": "b3Bu65SrETeN"
      },
      "outputs": [],
      "source": [
        "## Standardization\n",
        "sc = StandardScaler()\n",
        "X_train_s = sc.fit_transform(X_train1)\n",
        "X_validation_s = sc.transform(X_validation)\n",
        "X_test_s = sc.transform(X_test)"
      ]
    },
    {
      "cell_type": "markdown",
      "metadata": {
        "id": "12lIYxUnPNoX"
      },
      "source": [
        "Create Model"
      ]
    },
    {
      "cell_type": "code",
      "execution_count": 43,
      "metadata": {
        "id": "gCJ_W-HCPP5p"
      },
      "outputs": [],
      "source": [
        "## create Model\n",
        "model = keras.models.Sequential([\n",
        "    keras.layers.Dense(50, activation=\"relu\"),\n",
        "    keras.layers.Dense(10, activation=\"relu\"),\n",
        "    keras.layers.Dense(1)]\n",
        ")"
      ]
    },
    {
      "cell_type": "code",
      "execution_count": 44,
      "metadata": {
        "id": "5DxCzmoNRoJb"
      },
      "outputs": [],
      "source": [
        "model.compile(loss=\"mean_squared_error\",\n",
        "              optimizer=\"sgd\",\n",
        "              metrics=[\"mean_absolute_error\"])"
      ]
    },
    {
      "cell_type": "code",
      "execution_count": 45,
      "metadata": {
        "colab": {
          "base_uri": "https://localhost:8080/"
        },
        "id": "b68M7gfUsPNe",
        "outputId": "9a546438-cab0-44a8-ff07-d164f9dfd5b3"
      },
      "outputs": [
        {
          "output_type": "stream",
          "name": "stdout",
          "text": [
            "Epoch 1/30\n",
            "363/363 [==============================] - 2s 3ms/step - loss: 0.8858 - mean_absolute_error: 0.6117 - val_loss: 0.5478 - val_mean_absolute_error: 0.5204\n",
            "Epoch 2/30\n",
            "363/363 [==============================] - 1s 3ms/step - loss: 0.4642 - mean_absolute_error: 0.4931 - val_loss: 0.4720 - val_mean_absolute_error: 0.4787\n",
            "Epoch 3/30\n",
            "363/363 [==============================] - 1s 4ms/step - loss: 0.4231 - mean_absolute_error: 0.4664 - val_loss: 0.4498 - val_mean_absolute_error: 0.4620\n",
            "Epoch 4/30\n",
            "363/363 [==============================] - 1s 4ms/step - loss: 0.4029 - mean_absolute_error: 0.4536 - val_loss: 0.4317 - val_mean_absolute_error: 0.4574\n",
            "Epoch 5/30\n",
            "363/363 [==============================] - 1s 4ms/step - loss: 0.3879 - mean_absolute_error: 0.4444 - val_loss: 0.4243 - val_mean_absolute_error: 0.4554\n",
            "Epoch 6/30\n",
            "363/363 [==============================] - 1s 3ms/step - loss: 0.3790 - mean_absolute_error: 0.4390 - val_loss: 0.4197 - val_mean_absolute_error: 0.4474\n",
            "Epoch 7/30\n",
            "363/363 [==============================] - 1s 3ms/step - loss: 0.3708 - mean_absolute_error: 0.4344 - val_loss: 0.4056 - val_mean_absolute_error: 0.4423\n",
            "Epoch 8/30\n",
            "363/363 [==============================] - 1s 3ms/step - loss: 0.3642 - mean_absolute_error: 0.4303 - val_loss: 0.4131 - val_mean_absolute_error: 0.4380\n",
            "Epoch 9/30\n",
            "363/363 [==============================] - 1s 3ms/step - loss: 0.3595 - mean_absolute_error: 0.4265 - val_loss: 0.3985 - val_mean_absolute_error: 0.4441\n",
            "Epoch 10/30\n",
            "363/363 [==============================] - 1s 3ms/step - loss: 0.3519 - mean_absolute_error: 0.4226 - val_loss: 0.3957 - val_mean_absolute_error: 0.4381\n",
            "Epoch 11/30\n",
            "363/363 [==============================] - 1s 3ms/step - loss: 0.3480 - mean_absolute_error: 0.4190 - val_loss: 0.4084 - val_mean_absolute_error: 0.4359\n",
            "Epoch 12/30\n",
            "363/363 [==============================] - 1s 3ms/step - loss: 0.3458 - mean_absolute_error: 0.4181 - val_loss: 0.4098 - val_mean_absolute_error: 0.4706\n",
            "Epoch 13/30\n",
            "363/363 [==============================] - 1s 3ms/step - loss: 0.3409 - mean_absolute_error: 0.4144 - val_loss: 0.3824 - val_mean_absolute_error: 0.4246\n",
            "Epoch 14/30\n",
            "363/363 [==============================] - 1s 3ms/step - loss: 0.3363 - mean_absolute_error: 0.4126 - val_loss: 0.3877 - val_mean_absolute_error: 0.4191\n",
            "Epoch 15/30\n",
            "363/363 [==============================] - 1s 4ms/step - loss: 0.3324 - mean_absolute_error: 0.4088 - val_loss: 0.3706 - val_mean_absolute_error: 0.4162\n",
            "Epoch 16/30\n",
            "363/363 [==============================] - 1s 4ms/step - loss: 0.3289 - mean_absolute_error: 0.4080 - val_loss: 0.3668 - val_mean_absolute_error: 0.4242\n",
            "Epoch 17/30\n",
            "363/363 [==============================] - 2s 4ms/step - loss: 0.3255 - mean_absolute_error: 0.4051 - val_loss: 0.3699 - val_mean_absolute_error: 0.4128\n",
            "Epoch 18/30\n",
            "363/363 [==============================] - 1s 3ms/step - loss: 0.3222 - mean_absolute_error: 0.4037 - val_loss: 0.4130 - val_mean_absolute_error: 0.4722\n",
            "Epoch 19/30\n",
            "363/363 [==============================] - 1s 3ms/step - loss: 0.3193 - mean_absolute_error: 0.4015 - val_loss: 0.3547 - val_mean_absolute_error: 0.4133\n",
            "Epoch 20/30\n",
            "363/363 [==============================] - 1s 3ms/step - loss: 0.3163 - mean_absolute_error: 0.3996 - val_loss: 0.3643 - val_mean_absolute_error: 0.4130\n",
            "Epoch 21/30\n",
            "363/363 [==============================] - 1s 3ms/step - loss: 0.3150 - mean_absolute_error: 0.3992 - val_loss: 0.3614 - val_mean_absolute_error: 0.4239\n",
            "Epoch 22/30\n",
            "363/363 [==============================] - 1s 3ms/step - loss: 0.3128 - mean_absolute_error: 0.3983 - val_loss: 0.3734 - val_mean_absolute_error: 0.4393\n",
            "Epoch 23/30\n",
            "363/363 [==============================] - 1s 3ms/step - loss: 0.3114 - mean_absolute_error: 0.3952 - val_loss: 0.3542 - val_mean_absolute_error: 0.4130\n",
            "Epoch 24/30\n",
            "363/363 [==============================] - 1s 3ms/step - loss: 0.3088 - mean_absolute_error: 0.3935 - val_loss: 0.3560 - val_mean_absolute_error: 0.4275\n",
            "Epoch 25/30\n",
            "363/363 [==============================] - 1s 3ms/step - loss: 0.3075 - mean_absolute_error: 0.3929 - val_loss: 0.3435 - val_mean_absolute_error: 0.4014\n",
            "Epoch 26/30\n",
            "363/363 [==============================] - 1s 3ms/step - loss: 0.3036 - mean_absolute_error: 0.3902 - val_loss: 0.3462 - val_mean_absolute_error: 0.3993\n",
            "Epoch 27/30\n",
            "363/363 [==============================] - 1s 4ms/step - loss: 0.3036 - mean_absolute_error: 0.3901 - val_loss: 0.3527 - val_mean_absolute_error: 0.4080\n",
            "Epoch 28/30\n",
            "363/363 [==============================] - 2s 4ms/step - loss: 0.3013 - mean_absolute_error: 0.3884 - val_loss: 0.3815 - val_mean_absolute_error: 0.4533\n",
            "Epoch 29/30\n",
            "363/363 [==============================] - 1s 4ms/step - loss: 0.3005 - mean_absolute_error: 0.3880 - val_loss: 0.3521 - val_mean_absolute_error: 0.4092\n",
            "Epoch 30/30\n",
            "363/363 [==============================] - 1s 3ms/step - loss: 0.2972 - mean_absolute_error: 0.3854 - val_loss: 0.3467 - val_mean_absolute_error: 0.3962\n"
          ]
        }
      ],
      "source": [
        "history = model.fit(X_train_s, y_train1, epochs=30, validation_data=(X_validation_s, y_validation))"
      ]
    },
    {
      "cell_type": "markdown",
      "source": [
        "## Functional API"
      ],
      "metadata": {
        "id": "0-EnpQFFvgCs"
      }
    },
    {
      "cell_type": "code",
      "source": [
        "X_train0.shape[1:]"
      ],
      "metadata": {
        "colab": {
          "base_uri": "https://localhost:8080/"
        },
        "id": "PFAmuv7TugG5",
        "outputId": "9323ce78-72dd-440d-ab68-d4f723d3b9d5"
      },
      "execution_count": 46,
      "outputs": [
        {
          "output_type": "execute_result",
          "data": {
            "text/plain": [
              "(8,)"
            ]
          },
          "metadata": {},
          "execution_count": 46
        }
      ]
    },
    {
      "cell_type": "code",
      "source": [
        "input_layer = keras.layers.Input(shape=X_train1.shape[1:])\n",
        "hidden_layer_1 = keras.layers.Dense(50, activation=\"relu\")(input_layer)\n",
        "hidden_layer_2 = keras.layers.Dense(10, activation=\"relu\")(hidden_layer_1)\n",
        "cancatenate_layer = keras.layers.Concatenate()([input_layer, hidden_layer_2])\n",
        "output_layer = keras.layers.Dense(1)(cancatenate_layer)\n",
        "model_conc = keras.Model(inputs=[input_layer], outputs=[output_layer])\n"
      ],
      "metadata": {
        "id": "Z7cGqNYyx_qF"
      },
      "execution_count": 47,
      "outputs": []
    },
    {
      "cell_type": "code",
      "source": [
        "model_conc.summary()"
      ],
      "metadata": {
        "colab": {
          "base_uri": "https://localhost:8080/"
        },
        "id": "jUpqaDMV0bqa",
        "outputId": "7cce7b49-5be9-47e5-9810-88d209175432"
      },
      "execution_count": 48,
      "outputs": [
        {
          "output_type": "stream",
          "name": "stdout",
          "text": [
            "Model: \"model_3\"\n",
            "__________________________________________________________________________________________________\n",
            " Layer (type)                Output Shape                 Param #   Connected to                  \n",
            "==================================================================================================\n",
            " input_6 (InputLayer)        [(None, 8)]                  0         []                            \n",
            "                                                                                                  \n",
            " dense_18 (Dense)            (None, 50)                   450       ['input_6[0][0]']             \n",
            "                                                                                                  \n",
            " dense_19 (Dense)            (None, 10)                   510       ['dense_18[0][0]']            \n",
            "                                                                                                  \n",
            " concatenate_3 (Concatenate  (None, 18)                   0         ['input_6[0][0]',             \n",
            " )                                                                   'dense_19[0][0]']            \n",
            "                                                                                                  \n",
            " dense_20 (Dense)            (None, 1)                    19        ['concatenate_3[0][0]']       \n",
            "                                                                                                  \n",
            "==================================================================================================\n",
            "Total params: 979 (3.82 KB)\n",
            "Trainable params: 979 (3.82 KB)\n",
            "Non-trainable params: 0 (0.00 Byte)\n",
            "__________________________________________________________________________________________________\n"
          ]
        }
      ]
    },
    {
      "cell_type": "code",
      "source": [
        "keras.utils.plot_model(model_conc, \"model_pic.png\")"
      ],
      "metadata": {
        "colab": {
          "base_uri": "https://localhost:8080/",
          "height": 0
        },
        "id": "_rZLnKgE0fya",
        "outputId": "68775f7c-1ad8-4504-b4d8-9b13973f8dc1"
      },
      "execution_count": 49,
      "outputs": [
        {
          "output_type": "execute_result",
          "data": {
            "image/png": "[encoded data removed]",
            "text/plain": [
              "<IPython.core.display.Image object>"
            ]
          },
          "metadata": {},
          "execution_count": 49
        }
      ]
    },
    {
      "cell_type": "code",
      "source": [
        "model_conc.compile(loss=\"mean_squared_error\",\n",
        "                   optimizer=\"sgd\",\n",
        "                   metrics=\"mean_absolute_error\")"
      ],
      "metadata": {
        "id": "nFDAQdAX0vcO"
      },
      "execution_count": 50,
      "outputs": []
    },
    {
      "cell_type": "code",
      "source": [
        "model_conc.fit(X_train_s, y_train1, epochs = 30,\n",
        "               validation_data = (X_validation_s, y_validation) )"
      ],
      "metadata": {
        "colab": {
          "base_uri": "https://localhost:8080/"
        },
        "id": "qmC-iawD1H29",
        "outputId": "e1ee769f-0d3a-401b-c954-47cdbe7b5a23"
      },
      "execution_count": 51,
      "outputs": [
        {
          "output_type": "stream",
          "name": "stdout",
          "text": [
            "Epoch 1/30\n",
            "363/363 [==============================] - 2s 3ms/step - loss: 0.8828 - mean_absolute_error: 0.6369 - val_loss: 2.9192 - val_mean_absolute_error: 0.6090\n",
            "Epoch 2/30\n",
            "363/363 [==============================] - 1s 3ms/step - loss: 4.0574 - mean_absolute_error: 0.6604 - val_loss: 25.9277 - val_mean_absolute_error: 0.9228\n",
            "Epoch 3/30\n",
            "363/363 [==============================] - 1s 3ms/step - loss: 21.8466 - mean_absolute_error: 0.8108 - val_loss: 31.5654 - val_mean_absolute_error: 0.6698\n",
            "Epoch 4/30\n",
            "363/363 [==============================] - 1s 3ms/step - loss: 38210.6797 - mean_absolute_error: 8.6225 - val_loss: 1246.2633 - val_mean_absolute_error: 5.3392\n",
            "Epoch 5/30\n",
            "363/363 [==============================] - 1s 3ms/step - loss: 598.8445 - mean_absolute_error: 2.7404 - val_loss: 1696.8026 - val_mean_absolute_error: 5.0931\n",
            "Epoch 6/30\n",
            "363/363 [==============================] - 1s 3ms/step - loss: 1296.3651 - mean_absolute_error: 2.7590 - val_loss: 2174.6895 - val_mean_absolute_error: 4.2099\n",
            "Epoch 7/30\n",
            "363/363 [==============================] - 1s 3ms/step - loss: 16580.0371 - mean_absolute_error: 10.8664 - val_loss: 3029.1077 - val_mean_absolute_error: 8.2266\n",
            "Epoch 8/30\n",
            "363/363 [==============================] - 1s 3ms/step - loss: 15441.6094 - mean_absolute_error: 19.3564 - val_loss: 60987.4492 - val_mean_absolute_error: 21.7200\n",
            "Epoch 9/30\n",
            "363/363 [==============================] - 2s 4ms/step - loss: 713746.1250 - mean_absolute_error: 62.5844 - val_loss: 79787.5938 - val_mean_absolute_error: 32.3937\n",
            "Epoch 10/30\n",
            "363/363 [==============================] - 2s 4ms/step - loss: 610202.6875 - mean_absolute_error: 36.9770 - val_loss: 110873.1484 - val_mean_absolute_error: 34.1475\n",
            "Epoch 11/30\n",
            "363/363 [==============================] - 1s 4ms/step - loss: 1298254.5000 - mean_absolute_error: 114.4706 - val_loss: 141885.5156 - val_mean_absolute_error: 49.4427\n",
            "Epoch 12/30\n",
            "363/363 [==============================] - 1s 3ms/step - loss: 66432.0000 - mean_absolute_error: 35.4532 - val_loss: 194553.2812 - val_mean_absolute_error: 50.1397\n",
            "Epoch 13/30\n",
            "363/363 [==============================] - 1s 3ms/step - loss: 1405177.3750 - mean_absolute_error: 71.6391 - val_loss: 256698.0000 - val_mean_absolute_error: 52.7213\n",
            "Epoch 14/30\n",
            "363/363 [==============================] - 1s 3ms/step - loss: 200156.0312 - mean_absolute_error: 51.9857 - val_loss: 350024.5000 - val_mean_absolute_error: 58.4389\n",
            "Epoch 15/30\n",
            "363/363 [==============================] - 1s 3ms/step - loss: 211084.7188 - mean_absolute_error: 50.5696 - val_loss: 458824.3750 - val_mean_absolute_error: 59.0760\n",
            "Epoch 16/30\n",
            "363/363 [==============================] - 1s 3ms/step - loss: 363149.3125 - mean_absolute_error: 54.4100 - val_loss: 596270.1250 - val_mean_absolute_error: 71.7313\n",
            "Epoch 17/30\n",
            "363/363 [==============================] - 1s 3ms/step - loss: 472796.6250 - mean_absolute_error: 75.8951 - val_loss: 778061.3125 - val_mean_absolute_error: 92.5564\n",
            "Epoch 18/30\n",
            "363/363 [==============================] - 1s 3ms/step - loss: 9339196.0000 - mean_absolute_error: 163.3867 - val_loss: 1052051.0000 - val_mean_absolute_error: 110.7667\n",
            "Epoch 19/30\n",
            "363/363 [==============================] - 1s 3ms/step - loss: 511322.1875 - mean_absolute_error: 89.1567 - val_loss: 1424220.2500 - val_mean_absolute_error: 112.1730\n",
            "Epoch 20/30\n",
            "363/363 [==============================] - 2s 5ms/step - loss: 1191754.7500 - mean_absolute_error: 136.8307 - val_loss: 1912576.0000 - val_mean_absolute_error: 124.3716\n",
            "Epoch 21/30\n",
            "363/363 [==============================] - 2s 4ms/step - loss: 1118958.8750 - mean_absolute_error: 108.3797 - val_loss: 2495092.5000 - val_mean_absolute_error: 157.0290\n",
            "Epoch 22/30\n",
            "363/363 [==============================] - 1s 4ms/step - loss: 23874350.0000 - mean_absolute_error: 451.0744 - val_loss: 3221955.0000 - val_mean_absolute_error: 180.0502\n",
            "Epoch 23/30\n",
            "363/363 [==============================] - 1s 3ms/step - loss: 1949041.3750 - mean_absolute_error: 122.0048 - val_loss: 4334297.5000 - val_mean_absolute_error: 209.1124\n",
            "Epoch 24/30\n",
            "363/363 [==============================] - 1s 3ms/step - loss: 3412042.0000 - mean_absolute_error: 196.9222 - val_loss: 5780396.5000 - val_mean_absolute_error: 211.9280\n",
            "Epoch 25/30\n",
            "363/363 [==============================] - 1s 3ms/step - loss: 4622829.0000 - mean_absolute_error: 261.0509 - val_loss: 7851862.5000 - val_mean_absolute_error: 262.5443\n",
            "Epoch 26/30\n",
            "363/363 [==============================] - 1s 3ms/step - loss: 6498271.0000 - mean_absolute_error: 275.1407 - val_loss: 10278496.0000 - val_mean_absolute_error: 286.5591\n",
            "Epoch 27/30\n",
            "363/363 [==============================] - 2s 6ms/step - loss: 7919583.0000 - mean_absolute_error: 267.2328 - val_loss: 13183153.0000 - val_mean_absolute_error: 359.5380\n",
            "Epoch 28/30\n",
            "363/363 [==============================] - 1s 4ms/step - loss: 155532672.0000 - mean_absolute_error: 890.8666 - val_loss: 17441522.0000 - val_mean_absolute_error: 401.4494\n",
            "Epoch 29/30\n",
            "363/363 [==============================] - 1s 3ms/step - loss: 14134742.0000 - mean_absolute_error: 407.2238 - val_loss: 23295720.0000 - val_mean_absolute_error: 428.3699\n",
            "Epoch 30/30\n",
            "363/363 [==============================] - 1s 3ms/step - loss: 177027072.0000 - mean_absolute_error: 997.2292 - val_loss: 31047378.0000 - val_mean_absolute_error: 523.2048\n"
          ]
        },
        {
          "output_type": "execute_result",
          "data": {
            "text/plain": [
              "<keras.src.callbacks.History at 0x7e2f6af910f0>"
            ]
          },
          "metadata": {},
          "execution_count": 51
        }
      ]
    },
    {
      "cell_type": "markdown",
      "source": [
        "## funcitonal API with multiple input"
      ],
      "metadata": {
        "id": "UWvJ0gv-5EYg"
      }
    },
    {
      "cell_type": "code",
      "source": [
        "X_train_s_1, X_train_s_2 = X_train_s[: , :6], X_train_s[: , -4:]\n",
        "X_validation_s_1, X_validation_s_2 = X_validation_s[: , :6], X_validation_s[: , -4:]\n",
        "X_test_s_1, X_test_s_2 = X_test_s[: , :6], X_test_s[: , -4:]"
      ],
      "metadata": {
        "id": "YnI7lgIT5I_L"
      },
      "execution_count": 52,
      "outputs": []
    },
    {
      "cell_type": "code",
      "source": [
        "input_layer_1 = keras.layers.Input(shape=[6])\n",
        "input_layer_2 = keras.layers.Input(shape=[4])\n",
        "hidden_layer_1 = keras.layers.Dense(50, activation=\"relu\")(input_layer_1)\n",
        "hidden_layer_2 = keras.layers.Dense(10, activation=\"relu\")(hidden_layer_1)\n",
        "concatenation_layer = keras.layers.Concatenate()([input_layer_2, hidden_layer_2])\n",
        "output_layer = keras.layers.Dense(1)(concatenation_layer)\n",
        "model_multiple = keras.Model(inputs=[input_layer_1, input_layer_2], outputs=[output_layer])"
      ],
      "metadata": {
        "id": "eZ1N70rN72bv"
      },
      "execution_count": 53,
      "outputs": []
    },
    {
      "cell_type": "code",
      "source": [
        "model_multiple.summary()"
      ],
      "metadata": {
        "colab": {
          "base_uri": "https://localhost:8080/"
        },
        "id": "QyhROS6W9kpf",
        "outputId": "7b95d19e-fc6e-407d-bc01-173c5d6f232d"
      },
      "execution_count": 54,
      "outputs": [
        {
          "output_type": "stream",
          "name": "stdout",
          "text": [
            "Model: \"model_4\"\n",
            "__________________________________________________________________________________________________\n",
            " Layer (type)                Output Shape                 Param #   Connected to                  \n",
            "==================================================================================================\n",
            " input_7 (InputLayer)        [(None, 6)]                  0         []                            \n",
            "                                                                                                  \n",
            " dense_21 (Dense)            (None, 50)                   350       ['input_7[0][0]']             \n",
            "                                                                                                  \n",
            " input_8 (InputLayer)        [(None, 4)]                  0         []                            \n",
            "                                                                                                  \n",
            " dense_22 (Dense)            (None, 10)                   510       ['dense_21[0][0]']            \n",
            "                                                                                                  \n",
            " concatenate_4 (Concatenate  (None, 14)                   0         ['input_8[0][0]',             \n",
            " )                                                                   'dense_22[0][0]']            \n",
            "                                                                                                  \n",
            " dense_23 (Dense)            (None, 1)                    15        ['concatenate_4[0][0]']       \n",
            "                                                                                                  \n",
            "==================================================================================================\n",
            "Total params: 875 (3.42 KB)\n",
            "Trainable params: 875 (3.42 KB)\n",
            "Non-trainable params: 0 (0.00 Byte)\n",
            "__________________________________________________________________________________________________\n"
          ]
        }
      ]
    },
    {
      "cell_type": "code",
      "source": [
        "keras.utils.plot_model(model_multiple, \"multiple_model.png\")"
      ],
      "metadata": {
        "colab": {
          "base_uri": "https://localhost:8080/",
          "height": 0
        },
        "id": "DtyMqFws9uan",
        "outputId": "e1247000-494b-4b72-b6a0-f583454f6815"
      },
      "execution_count": 55,
      "outputs": [
        {
          "output_type": "execute_result",
          "data": {
            "image/png": "[encoded data removed]",
            "text/plain": [
              "<IPython.core.display.Image object>"
            ]
          },
          "metadata": {},
          "execution_count": 55
        }
      ]
    },
    {
      "cell_type": "code",
      "source": [
        "model_multiple.compile(loss=\"mean_squared_error\",\n",
        "                       optimizer=\"sgd\",\n",
        "                       metrics=\"mean_absolute_error\")"
      ],
      "metadata": {
        "id": "9O69dGjk9-jz"
      },
      "execution_count": 56,
      "outputs": []
    },
    {
      "cell_type": "code",
      "source": [
        "model_multiple.fit((X_train_s_1, X_train_s_2), y_train1, epochs = 30,\n",
        "                   validation_data=((X_validation_s_1,X_validation_s_2), y_validation))"
      ],
      "metadata": {
        "colab": {
          "base_uri": "https://localhost:8080/"
        },
        "id": "A_7nR31g-OSb",
        "outputId": "a7ca9891-e532-4402-d6cb-0682848c45f6"
      },
      "execution_count": 57,
      "outputs": [
        {
          "output_type": "stream",
          "name": "stdout",
          "text": [
            "Epoch 1/30\n",
            "363/363 [==============================] - 2s 3ms/step - loss: 4.2955 - mean_absolute_error: 0.6815 - val_loss: 3.0237 - val_mean_absolute_error: 0.5385\n",
            "Epoch 2/30\n",
            "363/363 [==============================] - 1s 3ms/step - loss: 15.4096 - mean_absolute_error: 0.5776 - val_loss: 3.0392 - val_mean_absolute_error: 0.5470\n",
            "Epoch 3/30\n",
            "363/363 [==============================] - 1s 3ms/step - loss: 1.9370 - mean_absolute_error: 0.4937 - val_loss: 3.7205 - val_mean_absolute_error: 0.5196\n",
            "Epoch 4/30\n",
            "363/363 [==============================] - 1s 3ms/step - loss: 32.9929 - mean_absolute_error: 0.7123 - val_loss: 5.1891 - val_mean_absolute_error: 0.6811\n",
            "Epoch 5/30\n",
            "363/363 [==============================] - 1s 3ms/step - loss: 3.9692 - mean_absolute_error: 0.5333 - val_loss: 6.5031 - val_mean_absolute_error: 0.5267\n",
            "Epoch 6/30\n",
            "363/363 [==============================] - 1s 3ms/step - loss: 75.0603 - mean_absolute_error: 0.8313 - val_loss: 8.5787 - val_mean_absolute_error: 0.5872\n",
            "Epoch 7/30\n",
            "363/363 [==============================] - 1s 3ms/step - loss: 7.0564 - mean_absolute_error: 0.5268 - val_loss: 11.7025 - val_mean_absolute_error: 0.5616\n",
            "Epoch 8/30\n",
            "363/363 [==============================] - 2s 4ms/step - loss: 6.0884 - mean_absolute_error: 0.5165 - val_loss: 16.0086 - val_mean_absolute_error: 0.5518\n",
            "Epoch 9/30\n",
            "363/363 [==============================] - 2s 4ms/step - loss: 9.6573 - mean_absolute_error: 0.5250 - val_loss: 19.9156 - val_mean_absolute_error: 0.6822\n",
            "Epoch 10/30\n",
            "363/363 [==============================] - 2s 4ms/step - loss: 233.8024 - mean_absolute_error: 0.8086 - val_loss: 2.7670 - val_mean_absolute_error: 0.5412\n",
            "Epoch 11/30\n",
            "363/363 [==============================] - 1s 3ms/step - loss: nan - mean_absolute_error: nan - val_loss: nan - val_mean_absolute_error: nan\n",
            "Epoch 12/30\n",
            "363/363 [==============================] - 2s 6ms/step - loss: nan - mean_absolute_error: nan - val_loss: nan - val_mean_absolute_error: nan\n",
            "Epoch 13/30\n",
            "363/363 [==============================] - 1s 3ms/step - loss: nan - mean_absolute_error: nan - val_loss: nan - val_mean_absolute_error: nan\n",
            "Epoch 14/30\n",
            "363/363 [==============================] - 1s 3ms/step - loss: nan - mean_absolute_error: nan - val_loss: nan - val_mean_absolute_error: nan\n",
            "Epoch 15/30\n",
            "363/363 [==============================] - 1s 3ms/step - loss: nan - mean_absolute_error: nan - val_loss: nan - val_mean_absolute_error: nan\n",
            "Epoch 16/30\n",
            "363/363 [==============================] - 1s 3ms/step - loss: nan - mean_absolute_error: nan - val_loss: nan - val_mean_absolute_error: nan\n",
            "Epoch 17/30\n",
            "363/363 [==============================] - 1s 3ms/step - loss: nan - mean_absolute_error: nan - val_loss: nan - val_mean_absolute_error: nan\n",
            "Epoch 18/30\n",
            "363/363 [==============================] - 1s 3ms/step - loss: nan - mean_absolute_error: nan - val_loss: nan - val_mean_absolute_error: nan\n",
            "Epoch 19/30\n",
            "363/363 [==============================] - 1s 4ms/step - loss: nan - mean_absolute_error: nan - val_loss: nan - val_mean_absolute_error: nan\n",
            "Epoch 20/30\n",
            "363/363 [==============================] - 2s 4ms/step - loss: nan - mean_absolute_error: nan - val_loss: nan - val_mean_absolute_error: nan\n",
            "Epoch 21/30\n",
            "363/363 [==============================] - 1s 4ms/step - loss: nan - mean_absolute_error: nan - val_loss: nan - val_mean_absolute_error: nan\n",
            "Epoch 22/30\n",
            "363/363 [==============================] - 1s 3ms/step - loss: nan - mean_absolute_error: nan - val_loss: nan - val_mean_absolute_error: nan\n",
            "Epoch 23/30\n",
            "363/363 [==============================] - 1s 3ms/step - loss: nan - mean_absolute_error: nan - val_loss: nan - val_mean_absolute_error: nan\n",
            "Epoch 24/30\n",
            "363/363 [==============================] - 1s 3ms/step - loss: nan - mean_absolute_error: nan - val_loss: nan - val_mean_absolute_error: nan\n",
            "Epoch 25/30\n",
            "363/363 [==============================] - 1s 3ms/step - loss: nan - mean_absolute_error: nan - val_loss: nan - val_mean_absolute_error: nan\n",
            "Epoch 26/30\n",
            "363/363 [==============================] - 1s 3ms/step - loss: nan - mean_absolute_error: nan - val_loss: nan - val_mean_absolute_error: nan\n",
            "Epoch 27/30\n",
            "363/363 [==============================] - 1s 3ms/step - loss: nan - mean_absolute_error: nan - val_loss: nan - val_mean_absolute_error: nan\n",
            "Epoch 28/30\n",
            "363/363 [==============================] - 1s 3ms/step - loss: nan - mean_absolute_error: nan - val_loss: nan - val_mean_absolute_error: nan\n",
            "Epoch 29/30\n",
            "363/363 [==============================] - 1s 3ms/step - loss: nan - mean_absolute_error: nan - val_loss: nan - val_mean_absolute_error: nan\n",
            "Epoch 30/30\n",
            "363/363 [==============================] - 1s 4ms/step - loss: nan - mean_absolute_error: nan - val_loss: nan - val_mean_absolute_error: nan\n"
          ]
        },
        {
          "output_type": "execute_result",
          "data": {
            "text/plain": [
              "<keras.src.callbacks.History at 0x7e2f6adfb6d0>"
            ]
          },
          "metadata": {},
          "execution_count": 57
        }
      ]
    },
    {
      "cell_type": "markdown",
      "source": [
        "## with multiple output"
      ],
      "metadata": {
        "id": "7Nr8pYWDTupJ"
      }
    },
    {
      "cell_type": "code",
      "source": [
        "input_layer_1 = keras.layers.Input(shape=[6])\n",
        "input_layer_2 = keras.layers.Input(shape=[4])\n",
        "hidden_layer_1 = keras.layers.Dense(50, activation=\"relu\")(input_layer_1)\n",
        "hidden_layer_2 = keras.layers.Dense(10, activation=\"relu\")(hidden_layer_1)\n",
        "concatenation_layer = keras.layers.Concatenate()([input_layer_2, hidden_layer_2])\n",
        "output_layer = keras.layers.Dense(1, name=\"output_layer\")(concatenation_layer)\n",
        "helper_output = keras.layers.Dense(1,name = \"helper_output\")(hidden_layer_2)\n",
        "model_multiple_output = keras.Model(inputs=[input_layer_1, input_layer_2], outputs=[output_layer, helper_output])"
      ],
      "metadata": {
        "id": "lMhr5YlITuAq"
      },
      "execution_count": 58,
      "outputs": []
    },
    {
      "cell_type": "code",
      "source": [
        "model_multiple_output.summary()"
      ],
      "metadata": {
        "colab": {
          "base_uri": "https://localhost:8080/"
        },
        "id": "sE121oNKWkDT",
        "outputId": "c92c07d4-da21-40b4-d80d-78e22d8b074e"
      },
      "execution_count": 59,
      "outputs": [
        {
          "output_type": "stream",
          "name": "stdout",
          "text": [
            "Model: \"model_5\"\n",
            "__________________________________________________________________________________________________\n",
            " Layer (type)                Output Shape                 Param #   Connected to                  \n",
            "==================================================================================================\n",
            " input_9 (InputLayer)        [(None, 6)]                  0         []                            \n",
            "                                                                                                  \n",
            " dense_24 (Dense)            (None, 50)                   350       ['input_9[0][0]']             \n",
            "                                                                                                  \n",
            " input_10 (InputLayer)       [(None, 4)]                  0         []                            \n",
            "                                                                                                  \n",
            " dense_25 (Dense)            (None, 10)                   510       ['dense_24[0][0]']            \n",
            "                                                                                                  \n",
            " concatenate_5 (Concatenate  (None, 14)                   0         ['input_10[0][0]',            \n",
            " )                                                                   'dense_25[0][0]']            \n",
            "                                                                                                  \n",
            " output_layer (Dense)        (None, 1)                    15        ['concatenate_5[0][0]']       \n",
            "                                                                                                  \n",
            " helper_output (Dense)       (None, 1)                    11        ['dense_25[0][0]']            \n",
            "                                                                                                  \n",
            "==================================================================================================\n",
            "Total params: 886 (3.46 KB)\n",
            "Trainable params: 886 (3.46 KB)\n",
            "Non-trainable params: 0 (0.00 Byte)\n",
            "__________________________________________________________________________________________________\n"
          ]
        }
      ]
    },
    {
      "cell_type": "code",
      "source": [
        "keras.utils.plot_model(model_multiple_output, \"multiple_model.png\")"
      ],
      "metadata": {
        "colab": {
          "base_uri": "https://localhost:8080/",
          "height": 0
        },
        "id": "aN9wnckrWnGS",
        "outputId": "22801ca7-515b-40a4-a085-e32e9d21821b"
      },
      "execution_count": 60,
      "outputs": [
        {
          "output_type": "execute_result",
          "data": {
            "image/png": "[encoded data removed]",
            "text/plain": [
              "<IPython.core.display.Image object>"
            ]
          },
          "metadata": {},
          "execution_count": 60
        }
      ]
    },
    {
      "cell_type": "code",
      "source": [
        "model_multiple_output.compile(loss=[\"mse\", \"mse\"],\n",
        "                              loss_weights = [0.8, 0.2],\n",
        "                              optimizer=\"sgd\",\n",
        "                              metrics=[\"mae\"])"
      ],
      "metadata": {
        "id": "3zh8-F0mW_Ui"
      },
      "execution_count": 61,
      "outputs": []
    },
    {
      "cell_type": "code",
      "source": [
        "model_multiple_output.fit((X_train_s_1, X_train_s_2), (y_train1, y_train1), epochs = 30,\n",
        "                   validation_data=((X_validation_s_1,X_validation_s_2), (y_validation,y_validation)))"
      ],
      "metadata": {
        "colab": {
          "base_uri": "https://localhost:8080/"
        },
        "id": "CD0h2KMuXuNr",
        "outputId": "224353c3-8552-4cc4-b79f-4b4d48ffd169"
      },
      "execution_count": 62,
      "outputs": [
        {
          "output_type": "stream",
          "name": "stdout",
          "text": [
            "Epoch 1/30\n",
            "363/363 [==============================] - 3s 6ms/step - loss: 2.6059 - output_layer_loss: 2.7571 - helper_output_loss: 2.0013 - output_layer_mae: 0.7492 - helper_output_mae: 0.9824 - val_loss: 1.3564 - val_output_layer_loss: 1.5030 - val_helper_output_loss: 0.7704 - val_output_layer_mae: 0.5622 - val_helper_output_mae: 0.6331\n",
            "Epoch 2/30\n",
            "363/363 [==============================] - 1s 3ms/step - loss: 3.4529 - output_layer_loss: 4.1192 - helper_output_loss: 0.7875 - output_layer_mae: 0.6099 - helper_output_mae: 0.6246 - val_loss: 2.9687 - val_output_layer_loss: 3.5637 - val_helper_output_loss: 0.5887 - val_output_layer_mae: 0.5915 - val_helper_output_mae: 0.5648\n",
            "Epoch 3/30\n",
            "363/363 [==============================] - 1s 3ms/step - loss: 14.7406 - output_layer_loss: 18.2820 - helper_output_loss: 0.5748 - output_layer_mae: 0.6208 - helper_output_mae: 0.5690 - val_loss: 0.6074 - val_output_layer_loss: 0.6169 - val_helper_output_loss: 0.5697 - val_output_layer_mae: 0.5422 - val_helper_output_mae: 0.5484\n",
            "Epoch 4/30\n",
            "363/363 [==============================] - 1s 3ms/step - loss: 0.8707 - output_layer_loss: 0.9585 - helper_output_loss: 0.5192 - output_layer_mae: 0.5058 - helper_output_mae: 0.5341 - val_loss: 0.5130 - val_output_layer_loss: 0.5058 - val_helper_output_loss: 0.5420 - val_output_layer_mae: 0.5108 - val_helper_output_mae: 0.5356\n",
            "Epoch 5/30\n",
            "363/363 [==============================] - 1s 3ms/step - loss: 0.4475 - output_layer_loss: 0.4373 - helper_output_loss: 0.4884 - output_layer_mae: 0.4834 - helper_output_mae: 0.5207 - val_loss: 0.4745 - val_output_layer_loss: 0.4622 - val_helper_output_loss: 0.5237 - val_output_layer_mae: 0.4802 - val_helper_output_mae: 0.5238\n",
            "Epoch 6/30\n",
            "363/363 [==============================] - 1s 3ms/step - loss: 0.4237 - output_layer_loss: 0.4115 - helper_output_loss: 0.4729 - output_layer_mae: 0.4669 - helper_output_mae: 0.5113 - val_loss: 0.4544 - val_output_layer_loss: 0.4415 - val_helper_output_loss: 0.5059 - val_output_layer_mae: 0.4764 - val_helper_output_mae: 0.5229\n",
            "Epoch 7/30\n",
            "363/363 [==============================] - 1s 3ms/step - loss: 0.4107 - output_layer_loss: 0.3979 - helper_output_loss: 0.4618 - output_layer_mae: 0.4601 - helper_output_mae: 0.5065 - val_loss: 0.4477 - val_output_layer_loss: 0.4351 - val_helper_output_loss: 0.4978 - val_output_layer_mae: 0.4676 - val_helper_output_mae: 0.5139\n",
            "Epoch 8/30\n",
            "363/363 [==============================] - 1s 3ms/step - loss: 0.4006 - output_layer_loss: 0.3878 - helper_output_loss: 0.4519 - output_layer_mae: 0.4528 - helper_output_mae: 0.4999 - val_loss: 0.4511 - val_output_layer_loss: 0.4375 - val_helper_output_loss: 0.5054 - val_output_layer_mae: 0.4717 - val_helper_output_mae: 0.5188\n",
            "Epoch 9/30\n",
            "363/363 [==============================] - 1s 3ms/step - loss: 0.3922 - output_layer_loss: 0.3788 - helper_output_loss: 0.4457 - output_layer_mae: 0.4476 - helper_output_mae: 0.4963 - val_loss: 0.4370 - val_output_layer_loss: 0.4243 - val_helper_output_loss: 0.4881 - val_output_layer_mae: 0.4605 - val_helper_output_mae: 0.5079\n",
            "Epoch 10/30\n",
            "363/363 [==============================] - 2s 5ms/step - loss: 0.3888 - output_layer_loss: 0.3761 - helper_output_loss: 0.4395 - output_layer_mae: 0.4440 - helper_output_mae: 0.4920 - val_loss: 0.4255 - val_output_layer_loss: 0.4122 - val_helper_output_loss: 0.4789 - val_output_layer_mae: 0.4550 - val_helper_output_mae: 0.5033\n",
            "Epoch 11/30\n",
            "363/363 [==============================] - 2s 5ms/step - loss: 0.3820 - output_layer_loss: 0.3686 - helper_output_loss: 0.4354 - output_layer_mae: 0.4404 - helper_output_mae: 0.4889 - val_loss: 0.4275 - val_output_layer_loss: 0.4153 - val_helper_output_loss: 0.4767 - val_output_layer_mae: 0.4605 - val_helper_output_mae: 0.5070\n",
            "Epoch 12/30\n",
            "363/363 [==============================] - 1s 4ms/step - loss: 0.3785 - output_layer_loss: 0.3652 - helper_output_loss: 0.4314 - output_layer_mae: 0.4375 - helper_output_mae: 0.4858 - val_loss: 0.4256 - val_output_layer_loss: 0.4127 - val_helper_output_loss: 0.4771 - val_output_layer_mae: 0.4616 - val_helper_output_mae: 0.5065\n",
            "Epoch 13/30\n",
            "363/363 [==============================] - 1s 4ms/step - loss: 0.3760 - output_layer_loss: 0.3623 - helper_output_loss: 0.4305 - output_layer_mae: 0.4358 - helper_output_mae: 0.4857 - val_loss: 0.4117 - val_output_layer_loss: 0.3985 - val_helper_output_loss: 0.4646 - val_output_layer_mae: 0.4535 - val_helper_output_mae: 0.5021\n",
            "Epoch 14/30\n",
            "363/363 [==============================] - 1s 3ms/step - loss: 0.3734 - output_layer_loss: 0.3596 - helper_output_loss: 0.4283 - output_layer_mae: 0.4339 - helper_output_mae: 0.4844 - val_loss: 0.4143 - val_output_layer_loss: 0.4014 - val_helper_output_loss: 0.4660 - val_output_layer_mae: 0.4513 - val_helper_output_mae: 0.5018\n",
            "Epoch 15/30\n",
            "363/363 [==============================] - 1s 3ms/step - loss: 0.3732 - output_layer_loss: 0.3593 - helper_output_loss: 0.4290 - output_layer_mae: 0.4327 - helper_output_mae: 0.4841 - val_loss: 0.4116 - val_output_layer_loss: 0.4000 - val_helper_output_loss: 0.4582 - val_output_layer_mae: 0.4522 - val_helper_output_mae: 0.4941\n",
            "Epoch 16/30\n",
            "363/363 [==============================] - 1s 3ms/step - loss: 0.3730 - output_layer_loss: 0.3601 - helper_output_loss: 0.4248 - output_layer_mae: 0.4325 - helper_output_mae: 0.4816 - val_loss: 0.4096 - val_output_layer_loss: 0.3968 - val_helper_output_loss: 0.4610 - val_output_layer_mae: 0.4478 - val_helper_output_mae: 0.4924\n",
            "Epoch 17/30\n",
            "363/363 [==============================] - 1s 3ms/step - loss: 0.3693 - output_layer_loss: 0.3550 - helper_output_loss: 0.4263 - output_layer_mae: 0.4312 - helper_output_mae: 0.4818 - val_loss: 0.4099 - val_output_layer_loss: 0.3970 - val_helper_output_loss: 0.4613 - val_output_layer_mae: 0.4542 - val_helper_output_mae: 0.4995\n",
            "Epoch 18/30\n",
            "363/363 [==============================] - 1s 3ms/step - loss: 0.3681 - output_layer_loss: 0.3542 - helper_output_loss: 0.4237 - output_layer_mae: 0.4296 - helper_output_mae: 0.4795 - val_loss: 0.4093 - val_output_layer_loss: 0.3956 - val_helper_output_loss: 0.4641 - val_output_layer_mae: 0.4556 - val_helper_output_mae: 0.5045\n",
            "Epoch 19/30\n",
            "363/363 [==============================] - 1s 3ms/step - loss: 0.3656 - output_layer_loss: 0.3517 - helper_output_loss: 0.4210 - output_layer_mae: 0.4289 - helper_output_mae: 0.4788 - val_loss: 0.4195 - val_output_layer_loss: 0.4075 - val_helper_output_loss: 0.4677 - val_output_layer_mae: 0.4506 - val_helper_output_mae: 0.4991\n",
            "Epoch 20/30\n",
            "363/363 [==============================] - 1s 3ms/step - loss: 0.3850 - output_layer_loss: 0.3757 - helper_output_loss: 0.4223 - output_layer_mae: 0.4312 - helper_output_mae: 0.4788 - val_loss: 0.4035 - val_output_layer_loss: 0.3898 - val_helper_output_loss: 0.4583 - val_output_layer_mae: 0.4439 - val_helper_output_mae: 0.4902\n",
            "Epoch 21/30\n",
            "363/363 [==============================] - 2s 5ms/step - loss: 0.3663 - output_layer_loss: 0.3524 - helper_output_loss: 0.4219 - output_layer_mae: 0.4280 - helper_output_mae: 0.4781 - val_loss: 0.4085 - val_output_layer_loss: 0.3955 - val_helper_output_loss: 0.4602 - val_output_layer_mae: 0.4553 - val_helper_output_mae: 0.4994\n",
            "Epoch 22/30\n",
            "363/363 [==============================] - 2s 5ms/step - loss: 0.3645 - output_layer_loss: 0.3507 - helper_output_loss: 0.4195 - output_layer_mae: 0.4276 - helper_output_mae: 0.4771 - val_loss: 0.4083 - val_output_layer_loss: 0.3930 - val_helper_output_loss: 0.4698 - val_output_layer_mae: 0.4431 - val_helper_output_mae: 0.4953\n",
            "Epoch 23/30\n",
            "363/363 [==============================] - 2s 4ms/step - loss: 0.3652 - output_layer_loss: 0.3506 - helper_output_loss: 0.4234 - output_layer_mae: 0.4284 - helper_output_mae: 0.4796 - val_loss: 0.4120 - val_output_layer_loss: 0.3984 - val_helper_output_loss: 0.4666 - val_output_layer_mae: 0.4522 - val_helper_output_mae: 0.5003\n",
            "Epoch 24/30\n",
            "363/363 [==============================] - 1s 3ms/step - loss: 0.3642 - output_layer_loss: 0.3503 - helper_output_loss: 0.4199 - output_layer_mae: 0.4276 - helper_output_mae: 0.4772 - val_loss: 0.4048 - val_output_layer_loss: 0.3913 - val_helper_output_loss: 0.4591 - val_output_layer_mae: 0.4432 - val_helper_output_mae: 0.4914\n",
            "Epoch 25/30\n",
            "363/363 [==============================] - 1s 3ms/step - loss: 0.3633 - output_layer_loss: 0.3495 - helper_output_loss: 0.4186 - output_layer_mae: 0.4271 - helper_output_mae: 0.4767 - val_loss: 0.4105 - val_output_layer_loss: 0.3965 - val_helper_output_loss: 0.4667 - val_output_layer_mae: 0.4393 - val_helper_output_mae: 0.4893\n",
            "Epoch 26/30\n",
            "363/363 [==============================] - 1s 3ms/step - loss: 0.3635 - output_layer_loss: 0.3496 - helper_output_loss: 0.4189 - output_layer_mae: 0.4272 - helper_output_mae: 0.4767 - val_loss: 0.4069 - val_output_layer_loss: 0.3932 - val_helper_output_loss: 0.4614 - val_output_layer_mae: 0.4443 - val_helper_output_mae: 0.4910\n",
            "Epoch 27/30\n",
            "363/363 [==============================] - 1s 3ms/step - loss: 0.3615 - output_layer_loss: 0.3476 - helper_output_loss: 0.4171 - output_layer_mae: 0.4264 - helper_output_mae: 0.4760 - val_loss: 0.4110 - val_output_layer_loss: 0.3973 - val_helper_output_loss: 0.4657 - val_output_layer_mae: 0.4407 - val_helper_output_mae: 0.4900\n",
            "Epoch 28/30\n",
            "363/363 [==============================] - 1s 3ms/step - loss: 0.3618 - output_layer_loss: 0.3477 - helper_output_loss: 0.4180 - output_layer_mae: 0.4257 - helper_output_mae: 0.4757 - val_loss: 0.4135 - val_output_layer_loss: 0.3998 - val_helper_output_loss: 0.4683 - val_output_layer_mae: 0.4465 - val_helper_output_mae: 0.4972\n",
            "Epoch 29/30\n",
            "363/363 [==============================] - 1s 3ms/step - loss: 0.3631 - output_layer_loss: 0.3491 - helper_output_loss: 0.4191 - output_layer_mae: 0.4263 - helper_output_mae: 0.4770 - val_loss: 0.4108 - val_output_layer_loss: 0.3986 - val_helper_output_loss: 0.4596 - val_output_layer_mae: 0.4499 - val_helper_output_mae: 0.4940\n",
            "Epoch 30/30\n",
            "363/363 [==============================] - 1s 3ms/step - loss: 0.3623 - output_layer_loss: 0.3489 - helper_output_loss: 0.4160 - output_layer_mae: 0.4262 - helper_output_mae: 0.4742 - val_loss: 0.4145 - val_output_layer_loss: 0.4024 - val_helper_output_loss: 0.4628 - val_output_layer_mae: 0.4562 - val_helper_output_mae: 0.5026\n"
          ]
        },
        {
          "output_type": "execute_result",
          "data": {
            "text/plain": [
              "<keras.src.callbacks.History at 0x7e2f6ab827a0>"
            ]
          },
          "metadata": {},
          "execution_count": 62
        }
      ]
    },
    {
      "cell_type": "markdown",
      "source": [
        "## Subclass Model"
      ],
      "metadata": {
        "id": "BpVMeAlpLewd"
      }
    },
    {
      "cell_type": "code",
      "source": [
        "class WideAndDeepAnn(keras.Model):\n",
        "  def __init__(self, activation=\"relu\", **kwargs):\n",
        "    super().__init__(**kwargs)\n",
        "    self.hidden_layer1 = keras.layers.Dense(50, activation = activation)\n",
        "    self.hidden_layer2 = keras.layers.Dense(10, activation = activation)\n",
        "    self.final_output = keras.layers.Dense(1)\n",
        "    self.helper_output = keras.layers.Dense(1)\n",
        "\n",
        "  def call(self, inputs):\n",
        "    input_1, input_2 = inputs\n",
        "    h1_out = self.hidden_layer1(input_1)\n",
        "    h2_out = self.hidden_layer2(h1_out)\n",
        "    concat_out = keras.layers.concatenate([input_1, h2_out])\n",
        "    final_output = self.final_output(concat_out)\n",
        "    helper_output = self.helper_output(h2_out)\n",
        "    return final_output, helper_output\n",
        "\n"
      ],
      "metadata": {
        "id": "Pbx-wjedLkQR"
      },
      "execution_count": 63,
      "outputs": []
    },
    {
      "cell_type": "code",
      "source": [
        "subclass_model = WideAndDeepAnn()"
      ],
      "metadata": {
        "id": "ubxseZ_dVthZ"
      },
      "execution_count": 64,
      "outputs": []
    },
    {
      "cell_type": "code",
      "source": [
        "subclass_model.compile(loss=[\"mse\", \"mse\"],\n",
        "                              loss_weights = [0.8, 0.2],\n",
        "                              optimizer=\"sgd\",\n",
        "                              metrics=[\"mae\"])"
      ],
      "metadata": {
        "id": "3yiFVkSZV2lP"
      },
      "execution_count": 65,
      "outputs": []
    },
    {
      "cell_type": "code",
      "source": [
        "subclass_model.fit((X_train_s_1, X_train_s_2), (y_train1, y_train1), epochs = 30,\n",
        "                   validation_data=((X_validation_s_1,X_validation_s_2), (y_validation,y_validation)))"
      ],
      "metadata": {
        "id": "SaNnAGOvWAip",
        "outputId": "0c732d23-b625-449c-9ab4-cc4c3fb9e4c8",
        "colab": {
          "base_uri": "https://localhost:8080/"
        }
      },
      "execution_count": 66,
      "outputs": [
        {
          "output_type": "stream",
          "name": "stdout",
          "text": [
            "Epoch 1/30\n",
            "363/363 [==============================] - 3s 6ms/step - loss: 3.8006 - output_1_loss: 4.2199 - output_2_loss: 2.1234 - output_1_mae: 0.7765 - output_2_mae: 1.0085 - val_loss: 3.2712 - val_output_1_loss: 3.9074 - val_output_2_loss: 0.7262 - val_output_1_mae: 0.6133 - val_output_2_mae: 0.6370\n",
            "Epoch 2/30\n",
            "363/363 [==============================] - 1s 4ms/step - loss: 18.1401 - output_1_loss: 22.5185 - output_2_loss: 0.6261 - output_1_mae: 0.7315 - output_2_mae: 0.5970 - val_loss: 0.7136 - val_output_1_loss: 0.7329 - val_output_2_loss: 0.6366 - val_output_1_mae: 0.5697 - val_output_2_mae: 0.5805\n",
            "Epoch 3/30\n",
            "363/363 [==============================] - 1s 3ms/step - loss: 0.5807 - output_1_loss: 0.5833 - output_2_loss: 0.5702 - output_1_mae: 0.5401 - output_2_mae: 0.5597 - val_loss: 0.5787 - val_output_1_loss: 0.5746 - val_output_2_loss: 0.5950 - val_output_1_mae: 0.5432 - val_output_2_mae: 0.5619\n",
            "Epoch 4/30\n",
            "363/363 [==============================] - 1s 3ms/step - loss: 0.5181 - output_1_loss: 0.5127 - output_2_loss: 0.5395 - output_1_mae: 0.5237 - output_2_mae: 0.5426 - val_loss: 0.5654 - val_output_1_loss: 0.5647 - val_output_2_loss: 0.5679 - val_output_1_mae: 0.5371 - val_output_2_mae: 0.5483\n",
            "Epoch 5/30\n",
            "363/363 [==============================] - 1s 3ms/step - loss: 0.4998 - output_1_loss: 0.4954 - output_2_loss: 0.5175 - output_1_mae: 0.5140 - output_2_mae: 0.5300 - val_loss: 0.5328 - val_output_1_loss: 0.5292 - val_output_2_loss: 0.5476 - val_output_1_mae: 0.5221 - val_output_2_mae: 0.5349\n",
            "Epoch 6/30\n",
            "363/363 [==============================] - 1s 3ms/step - loss: 0.4817 - output_1_loss: 0.4774 - output_2_loss: 0.4988 - output_1_mae: 0.5060 - output_2_mae: 0.5191 - val_loss: 0.5154 - val_output_1_loss: 0.5109 - val_output_2_loss: 0.5332 - val_output_1_mae: 0.5080 - val_output_2_mae: 0.5253\n",
            "Epoch 7/30\n",
            "363/363 [==============================] - 1s 3ms/step - loss: 0.4704 - output_1_loss: 0.4665 - output_2_loss: 0.4860 - output_1_mae: 0.5001 - output_2_mae: 0.5120 - val_loss: 0.5095 - val_output_1_loss: 0.5064 - val_output_2_loss: 0.5218 - val_output_1_mae: 0.5077 - val_output_2_mae: 0.5204\n",
            "Epoch 8/30\n",
            "363/363 [==============================] - 1s 4ms/step - loss: 0.4572 - output_1_loss: 0.4527 - output_2_loss: 0.4755 - output_1_mae: 0.4943 - output_2_mae: 0.5063 - val_loss: 0.5053 - val_output_1_loss: 0.5028 - val_output_2_loss: 0.5153 - val_output_1_mae: 0.5034 - val_output_2_mae: 0.5181\n",
            "Epoch 9/30\n",
            "363/363 [==============================] - 1s 3ms/step - loss: 0.4509 - output_1_loss: 0.4470 - output_2_loss: 0.4666 - output_1_mae: 0.4901 - output_2_mae: 0.5020 - val_loss: 0.4903 - val_output_1_loss: 0.4869 - val_output_2_loss: 0.5040 - val_output_1_mae: 0.4968 - val_output_2_mae: 0.5103\n",
            "Epoch 10/30\n",
            "363/363 [==============================] - 1s 4ms/step - loss: 0.4422 - output_1_loss: 0.4379 - output_2_loss: 0.4597 - output_1_mae: 0.4862 - output_2_mae: 0.4980 - val_loss: 0.4918 - val_output_1_loss: 0.4909 - val_output_2_loss: 0.4956 - val_output_1_mae: 0.5010 - val_output_2_mae: 0.5092\n",
            "Epoch 11/30\n",
            "363/363 [==============================] - 2s 5ms/step - loss: 0.4359 - output_1_loss: 0.4313 - output_2_loss: 0.4540 - output_1_mae: 0.4828 - output_2_mae: 0.4956 - val_loss: 0.4762 - val_output_1_loss: 0.4723 - val_output_2_loss: 0.4921 - val_output_1_mae: 0.4880 - val_output_2_mae: 0.5033\n",
            "Epoch 12/30\n",
            "363/363 [==============================] - 2s 5ms/step - loss: 0.4331 - output_1_loss: 0.4288 - output_2_loss: 0.4502 - output_1_mae: 0.4807 - output_2_mae: 0.4934 - val_loss: 0.4760 - val_output_1_loss: 0.4732 - val_output_2_loss: 0.4873 - val_output_1_mae: 0.4919 - val_output_2_mae: 0.5073\n",
            "Epoch 13/30\n",
            "363/363 [==============================] - 1s 3ms/step - loss: 0.4294 - output_1_loss: 0.4253 - output_2_loss: 0.4458 - output_1_mae: 0.4781 - output_2_mae: 0.4915 - val_loss: 0.4780 - val_output_1_loss: 0.4762 - val_output_2_loss: 0.4853 - val_output_1_mae: 0.5005 - val_output_2_mae: 0.5107\n",
            "Epoch 14/30\n",
            "363/363 [==============================] - 1s 3ms/step - loss: 0.4261 - output_1_loss: 0.4222 - output_2_loss: 0.4418 - output_1_mae: 0.4764 - output_2_mae: 0.4897 - val_loss: 0.4687 - val_output_1_loss: 0.4661 - val_output_2_loss: 0.4789 - val_output_1_mae: 0.4868 - val_output_2_mae: 0.5007\n",
            "Epoch 15/30\n",
            "363/363 [==============================] - 1s 3ms/step - loss: 0.4234 - output_1_loss: 0.4195 - output_2_loss: 0.4389 - output_1_mae: 0.4744 - output_2_mae: 0.4878 - val_loss: 0.4664 - val_output_1_loss: 0.4642 - val_output_2_loss: 0.4754 - val_output_1_mae: 0.4920 - val_output_2_mae: 0.5035\n",
            "Epoch 16/30\n",
            "363/363 [==============================] - 1s 3ms/step - loss: 0.4209 - output_1_loss: 0.4172 - output_2_loss: 0.4357 - output_1_mae: 0.4735 - output_2_mae: 0.4863 - val_loss: 0.4645 - val_output_1_loss: 0.4623 - val_output_2_loss: 0.4731 - val_output_1_mae: 0.4879 - val_output_2_mae: 0.4990\n",
            "Epoch 17/30\n",
            "363/363 [==============================] - 1s 3ms/step - loss: 0.4184 - output_1_loss: 0.4146 - output_2_loss: 0.4333 - output_1_mae: 0.4714 - output_2_mae: 0.4842 - val_loss: 0.4678 - val_output_1_loss: 0.4658 - val_output_2_loss: 0.4757 - val_output_1_mae: 0.4912 - val_output_2_mae: 0.5013\n",
            "Epoch 18/30\n",
            "363/363 [==============================] - 1s 3ms/step - loss: 0.4169 - output_1_loss: 0.4134 - output_2_loss: 0.4311 - output_1_mae: 0.4708 - output_2_mae: 0.4831 - val_loss: 0.4648 - val_output_1_loss: 0.4632 - val_output_2_loss: 0.4712 - val_output_1_mae: 0.4904 - val_output_2_mae: 0.5013\n",
            "Epoch 19/30\n",
            "363/363 [==============================] - 1s 3ms/step - loss: 0.4149 - output_1_loss: 0.4115 - output_2_loss: 0.4286 - output_1_mae: 0.4685 - output_2_mae: 0.4807 - val_loss: 0.4604 - val_output_1_loss: 0.4584 - val_output_2_loss: 0.4682 - val_output_1_mae: 0.4859 - val_output_2_mae: 0.4980\n",
            "Epoch 20/30\n",
            "363/363 [==============================] - 1s 3ms/step - loss: 0.4130 - output_1_loss: 0.4097 - output_2_loss: 0.4262 - output_1_mae: 0.4672 - output_2_mae: 0.4795 - val_loss: 0.4694 - val_output_1_loss: 0.4679 - val_output_2_loss: 0.4755 - val_output_1_mae: 0.4930 - val_output_2_mae: 0.5017\n",
            "Epoch 21/30\n",
            "363/363 [==============================] - 2s 5ms/step - loss: 0.4169 - output_1_loss: 0.4149 - output_2_loss: 0.4251 - output_1_mae: 0.4686 - output_2_mae: 0.4791 - val_loss: 0.4592 - val_output_1_loss: 0.4574 - val_output_2_loss: 0.4668 - val_output_1_mae: 0.4840 - val_output_2_mae: 0.4939\n",
            "Epoch 22/30\n",
            "363/363 [==============================] - 2s 6ms/step - loss: 0.4117 - output_1_loss: 0.4087 - output_2_loss: 0.4237 - output_1_mae: 0.4666 - output_2_mae: 0.4774 - val_loss: 0.4566 - val_output_1_loss: 0.4544 - val_output_2_loss: 0.4654 - val_output_1_mae: 0.4826 - val_output_2_mae: 0.4916\n",
            "Epoch 23/30\n",
            "363/363 [==============================] - 1s 4ms/step - loss: 0.4095 - output_1_loss: 0.4066 - output_2_loss: 0.4211 - output_1_mae: 0.4654 - output_2_mae: 0.4758 - val_loss: 0.4554 - val_output_1_loss: 0.4532 - val_output_2_loss: 0.4645 - val_output_1_mae: 0.4839 - val_output_2_mae: 0.4931\n",
            "Epoch 24/30\n",
            "363/363 [==============================] - 1s 3ms/step - loss: 0.4116 - output_1_loss: 0.4095 - output_2_loss: 0.4199 - output_1_mae: 0.4653 - output_2_mae: 0.4747 - val_loss: 0.4551 - val_output_1_loss: 0.4537 - val_output_2_loss: 0.4606 - val_output_1_mae: 0.4770 - val_output_2_mae: 0.4861\n",
            "Epoch 25/30\n",
            "363/363 [==============================] - 1s 3ms/step - loss: 0.4078 - output_1_loss: 0.4052 - output_2_loss: 0.4180 - output_1_mae: 0.4637 - output_2_mae: 0.4729 - val_loss: 0.4513 - val_output_1_loss: 0.4497 - val_output_2_loss: 0.4578 - val_output_1_mae: 0.4789 - val_output_2_mae: 0.4882\n",
            "Epoch 26/30\n",
            "363/363 [==============================] - 1s 3ms/step - loss: 0.4070 - output_1_loss: 0.4044 - output_2_loss: 0.4171 - output_1_mae: 0.4634 - output_2_mae: 0.4721 - val_loss: 0.4661 - val_output_1_loss: 0.4655 - val_output_2_loss: 0.4684 - val_output_1_mae: 0.4933 - val_output_2_mae: 0.4986\n",
            "Epoch 27/30\n",
            "363/363 [==============================] - 1s 3ms/step - loss: 0.4111 - output_1_loss: 0.4097 - output_2_loss: 0.4168 - output_1_mae: 0.4647 - output_2_mae: 0.4722 - val_loss: 0.4526 - val_output_1_loss: 0.4514 - val_output_2_loss: 0.4573 - val_output_1_mae: 0.4799 - val_output_2_mae: 0.4888\n",
            "Epoch 28/30\n",
            "363/363 [==============================] - 1s 3ms/step - loss: 0.4064 - output_1_loss: 0.4041 - output_2_loss: 0.4154 - output_1_mae: 0.4624 - output_2_mae: 0.4709 - val_loss: 0.4536 - val_output_1_loss: 0.4527 - val_output_2_loss: 0.4568 - val_output_1_mae: 0.4790 - val_output_2_mae: 0.4852\n",
            "Epoch 29/30\n",
            "363/363 [==============================] - 1s 3ms/step - loss: 0.4059 - output_1_loss: 0.4035 - output_2_loss: 0.4154 - output_1_mae: 0.4614 - output_2_mae: 0.4698 - val_loss: 0.4814 - val_output_1_loss: 0.4833 - val_output_2_loss: 0.4740 - val_output_1_mae: 0.5165 - val_output_2_mae: 0.5097\n",
            "Epoch 30/30\n",
            "363/363 [==============================] - 1s 3ms/step - loss: 0.4094 - output_1_loss: 0.4081 - output_2_loss: 0.4144 - output_1_mae: 0.4634 - output_2_mae: 0.4697 - val_loss: 0.4507 - val_output_1_loss: 0.4493 - val_output_2_loss: 0.4564 - val_output_1_mae: 0.4813 - val_output_2_mae: 0.4887\n"
          ]
        },
        {
          "output_type": "execute_result",
          "data": {
            "text/plain": [
              "<keras.src.callbacks.History at 0x7e2f6a1eb4f0>"
            ]
          },
          "metadata": {},
          "execution_count": 66
        }
      ]
    },
    {
      "cell_type": "markdown",
      "source": [
        "## saving Models"
      ],
      "metadata": {
        "id": "n9KseDN-Ud27"
      }
    },
    {
      "cell_type": "code",
      "source": [
        "model.save(\"model_regression.h5\")\n",
        "model_conc.save(\"model_conc_regression.h5\")\n",
        "model_multiple.save(\"model_multiple_regressin.h5\")\n",
        "model_multiple_output.save(\"model_multiple_output_regression.h5\")\n",
        "subclass_model.save_weights(\"model_subclass_regression.h5\")"
      ],
      "metadata": {
        "colab": {
          "base_uri": "https://localhost:8080/"
        },
        "id": "5YVBhLYKUgkF",
        "outputId": "d4bc982d-d627-43da-a1b7-eabab04aba7a"
      },
      "execution_count": 67,
      "outputs": [
        {
          "output_type": "stream",
          "name": "stderr",
          "text": [
            "/usr/local/lib/python3.10/dist-packages/keras/src/engine/training.py:3079: UserWarning: You are saving your model as an HDF5 file via `model.save()`. This file format is considered legacy. We recommend using instead the native Keras format, e.g. `model.save('my_model.keras')`.\n",
            "  saving_api.save_model(\n"
          ]
        }
      ]
    },
    {
      "cell_type": "code",
      "source": [
        "model_from = keras.models.load_model(\"model_regression.h5\")"
      ],
      "metadata": {
        "id": "pazOB6TRVx99"
      },
      "execution_count": 68,
      "outputs": []
    },
    {
      "cell_type": "code",
      "source": [
        "model_from.summary()"
      ],
      "metadata": {
        "colab": {
          "base_uri": "https://localhost:8080/"
        },
        "id": "31Lv_Bv5WEWQ",
        "outputId": "b1ac39b9-a62f-43c3-d3a0-5eedc2ba5da3"
      },
      "execution_count": 69,
      "outputs": [
        {
          "output_type": "stream",
          "name": "stdout",
          "text": [
            "Model: \"sequential_1\"\n",
            "_________________________________________________________________\n",
            " Layer (type)                Output Shape              Param #   \n",
            "=================================================================\n",
            " dense_15 (Dense)            (None, 50)                450       \n",
            "                                                                 \n",
            " dense_16 (Dense)            (None, 10)                510       \n",
            "                                                                 \n",
            " dense_17 (Dense)            (None, 1)                 11        \n",
            "                                                                 \n",
            "=================================================================\n",
            "Total params: 971 (3.79 KB)\n",
            "Trainable params: 971 (3.79 KB)\n",
            "Non-trainable params: 0 (0.00 Byte)\n",
            "_________________________________________________________________\n"
          ]
        }
      ]
    },
    {
      "cell_type": "markdown",
      "source": [
        "## CALLBACK"
      ],
      "metadata": {
        "id": "gn8OE06-hvbO"
      }
    },
    {
      "cell_type": "code",
      "source": [
        "model_checkpoint_callback = keras.callbacks.ModelCheckpoint(\"model_cb_reg_housing\",\n",
        "                                                            save_best_only = True,)\n",
        "early_stopping_callback = keras.callbacks.EarlyStopping(patience=10, restore_best_weights=True)"
      ],
      "metadata": {
        "id": "UIH9Ie7Jhy-q"
      },
      "execution_count": 70,
      "outputs": []
    },
    {
      "cell_type": "code",
      "source": [
        "model.fit(X_train_s, y_train1, epochs=50, validation_data=(X_validation_s, y_validation),\n",
        "          callbacks=[model_checkpoint_callback, early_stopping_callback])"
      ],
      "metadata": {
        "id": "JVE6XsSmjori",
        "outputId": "85c0da12-7180-4a70-a775-1ac399c15808",
        "colab": {
          "base_uri": "https://localhost:8080/"
        }
      },
      "execution_count": 71,
      "outputs": [
        {
          "output_type": "stream",
          "name": "stdout",
          "text": [
            "Epoch 1/50\n",
            "363/363 [==============================] - 3s 8ms/step - loss: 0.2965 - mean_absolute_error: 0.3845 - val_loss: 0.3380 - val_mean_absolute_error: 0.4051\n",
            "Epoch 2/50\n",
            "363/363 [==============================] - 2s 4ms/step - loss: 0.2955 - mean_absolute_error: 0.3840 - val_loss: 0.3433 - val_mean_absolute_error: 0.4121\n",
            "Epoch 3/50\n",
            "363/363 [==============================] - 2s 4ms/step - loss: 0.2944 - mean_absolute_error: 0.3819 - val_loss: 0.3351 - val_mean_absolute_error: 0.3900\n",
            "Epoch 4/50\n",
            "363/363 [==============================] - 1s 3ms/step - loss: 0.2920 - mean_absolute_error: 0.3826 - val_loss: 0.3415 - val_mean_absolute_error: 0.3913\n",
            "Epoch 5/50\n",
            "363/363 [==============================] - 1s 3ms/step - loss: 0.2904 - mean_absolute_error: 0.3794 - val_loss: 0.3353 - val_mean_absolute_error: 0.3950\n",
            "Epoch 6/50\n",
            "363/363 [==============================] - 2s 4ms/step - loss: 0.2907 - mean_absolute_error: 0.3791 - val_loss: 0.3254 - val_mean_absolute_error: 0.3902\n",
            "Epoch 7/50\n",
            "363/363 [==============================] - 1s 3ms/step - loss: 0.2895 - mean_absolute_error: 0.3781 - val_loss: 0.3287 - val_mean_absolute_error: 0.3996\n",
            "Epoch 8/50\n",
            "363/363 [==============================] - 1s 3ms/step - loss: 0.2857 - mean_absolute_error: 0.3767 - val_loss: 0.3277 - val_mean_absolute_error: 0.3880\n",
            "Epoch 9/50\n",
            "363/363 [==============================] - 1s 3ms/step - loss: 0.2867 - mean_absolute_error: 0.3763 - val_loss: 0.3314 - val_mean_absolute_error: 0.3902\n",
            "Epoch 10/50\n",
            "363/363 [==============================] - 2s 5ms/step - loss: 0.2852 - mean_absolute_error: 0.3758 - val_loss: 0.3237 - val_mean_absolute_error: 0.3888\n",
            "Epoch 11/50\n",
            "363/363 [==============================] - 1s 4ms/step - loss: 0.2825 - mean_absolute_error: 0.3724 - val_loss: 0.3265 - val_mean_absolute_error: 0.3974\n",
            "Epoch 12/50\n",
            "363/363 [==============================] - 2s 7ms/step - loss: 0.2812 - mean_absolute_error: 0.3721 - val_loss: 0.3224 - val_mean_absolute_error: 0.3910\n",
            "Epoch 13/50\n",
            "363/363 [==============================] - 2s 5ms/step - loss: 0.2794 - mean_absolute_error: 0.3712 - val_loss: 0.3219 - val_mean_absolute_error: 0.3851\n",
            "Epoch 14/50\n",
            "363/363 [==============================] - 1s 3ms/step - loss: 0.2805 - mean_absolute_error: 0.3699 - val_loss: 0.3302 - val_mean_absolute_error: 0.4036\n",
            "Epoch 15/50\n",
            "363/363 [==============================] - 1s 3ms/step - loss: 0.2793 - mean_absolute_error: 0.3703 - val_loss: 0.3303 - val_mean_absolute_error: 0.3960\n",
            "Epoch 16/50\n",
            "363/363 [==============================] - 1s 3ms/step - loss: 0.2790 - mean_absolute_error: 0.3699 - val_loss: 0.3248 - val_mean_absolute_error: 0.3784\n",
            "Epoch 17/50\n",
            "363/363 [==============================] - 1s 4ms/step - loss: 0.2774 - mean_absolute_error: 0.3677 - val_loss: 0.3167 - val_mean_absolute_error: 0.3917\n",
            "Epoch 18/50\n",
            "363/363 [==============================] - 1s 3ms/step - loss: 0.2758 - mean_absolute_error: 0.3663 - val_loss: 0.3215 - val_mean_absolute_error: 0.3834\n",
            "Epoch 19/50\n",
            "363/363 [==============================] - 1s 3ms/step - loss: 0.2742 - mean_absolute_error: 0.3673 - val_loss: 0.3203 - val_mean_absolute_error: 0.3905\n",
            "Epoch 20/50\n",
            "363/363 [==============================] - 1s 3ms/step - loss: 0.2734 - mean_absolute_error: 0.3662 - val_loss: 0.3176 - val_mean_absolute_error: 0.3930\n",
            "Epoch 21/50\n",
            "363/363 [==============================] - 2s 6ms/step - loss: 0.2730 - mean_absolute_error: 0.3663 - val_loss: 0.3161 - val_mean_absolute_error: 0.3858\n",
            "Epoch 22/50\n",
            "363/363 [==============================] - 2s 4ms/step - loss: 0.2717 - mean_absolute_error: 0.3639 - val_loss: 0.3497 - val_mean_absolute_error: 0.4170\n",
            "Epoch 23/50\n",
            "363/363 [==============================] - 1s 4ms/step - loss: 0.2730 - mean_absolute_error: 0.3637 - val_loss: 0.3339 - val_mean_absolute_error: 0.3807\n",
            "Epoch 24/50\n",
            "363/363 [==============================] - 1s 3ms/step - loss: 0.2700 - mean_absolute_error: 0.3624 - val_loss: 0.3420 - val_mean_absolute_error: 0.4185\n",
            "Epoch 25/50\n",
            "363/363 [==============================] - 1s 3ms/step - loss: 0.2716 - mean_absolute_error: 0.3638 - val_loss: 0.3207 - val_mean_absolute_error: 0.3880\n",
            "Epoch 26/50\n",
            "363/363 [==============================] - 2s 4ms/step - loss: 0.2692 - mean_absolute_error: 0.3617 - val_loss: 0.3107 - val_mean_absolute_error: 0.3768\n",
            "Epoch 27/50\n",
            "363/363 [==============================] - 1s 3ms/step - loss: 0.2677 - mean_absolute_error: 0.3602 - val_loss: 0.3121 - val_mean_absolute_error: 0.3854\n",
            "Epoch 28/50\n",
            "363/363 [==============================] - 1s 3ms/step - loss: 0.2685 - mean_absolute_error: 0.3611 - val_loss: 0.3123 - val_mean_absolute_error: 0.3793\n",
            "Epoch 29/50\n",
            "363/363 [==============================] - 1s 3ms/step - loss: 0.2692 - mean_absolute_error: 0.3609 - val_loss: 0.3117 - val_mean_absolute_error: 0.3767\n",
            "Epoch 30/50\n",
            "363/363 [==============================] - 1s 3ms/step - loss: 0.2671 - mean_absolute_error: 0.3603 - val_loss: 0.3132 - val_mean_absolute_error: 0.3772\n",
            "Epoch 31/50\n",
            "363/363 [==============================] - 1s 3ms/step - loss: 0.2654 - mean_absolute_error: 0.3581 - val_loss: 0.3182 - val_mean_absolute_error: 0.3814\n",
            "Epoch 32/50\n",
            "363/363 [==============================] - 2s 5ms/step - loss: 0.2664 - mean_absolute_error: 0.3595 - val_loss: 0.3102 - val_mean_absolute_error: 0.3794\n",
            "Epoch 33/50\n",
            "363/363 [==============================] - 1s 4ms/step - loss: 0.2650 - mean_absolute_error: 0.3584 - val_loss: 0.3156 - val_mean_absolute_error: 0.3836\n",
            "Epoch 34/50\n",
            "363/363 [==============================] - 2s 4ms/step - loss: 0.2658 - mean_absolute_error: 0.3589 - val_loss: 0.3388 - val_mean_absolute_error: 0.4031\n",
            "Epoch 35/50\n",
            "363/363 [==============================] - 2s 4ms/step - loss: 0.2653 - mean_absolute_error: 0.3581 - val_loss: 0.3094 - val_mean_absolute_error: 0.3760\n",
            "Epoch 36/50\n",
            "363/363 [==============================] - 1s 3ms/step - loss: 0.2646 - mean_absolute_error: 0.3581 - val_loss: 0.3113 - val_mean_absolute_error: 0.3713\n",
            "Epoch 37/50\n",
            "363/363 [==============================] - 1s 3ms/step - loss: 0.2631 - mean_absolute_error: 0.3565 - val_loss: 0.3165 - val_mean_absolute_error: 0.3849\n",
            "Epoch 38/50\n",
            "363/363 [==============================] - 1s 3ms/step - loss: 0.2638 - mean_absolute_error: 0.3573 - val_loss: 0.3108 - val_mean_absolute_error: 0.3744\n",
            "Epoch 39/50\n",
            "363/363 [==============================] - 1s 3ms/step - loss: 0.2631 - mean_absolute_error: 0.3559 - val_loss: 0.3116 - val_mean_absolute_error: 0.3797\n",
            "Epoch 40/50\n",
            "363/363 [==============================] - 1s 3ms/step - loss: 0.2628 - mean_absolute_error: 0.3562 - val_loss: 0.3305 - val_mean_absolute_error: 0.3754\n",
            "Epoch 41/50\n",
            "363/363 [==============================] - 1s 3ms/step - loss: 0.2636 - mean_absolute_error: 0.3569 - val_loss: 0.3147 - val_mean_absolute_error: 0.3801\n",
            "Epoch 42/50\n",
            "363/363 [==============================] - 1s 3ms/step - loss: 0.2626 - mean_absolute_error: 0.3561 - val_loss: 0.3310 - val_mean_absolute_error: 0.3793\n",
            "Epoch 43/50\n",
            "363/363 [==============================] - 1s 3ms/step - loss: 0.2622 - mean_absolute_error: 0.3552 - val_loss: 0.3143 - val_mean_absolute_error: 0.3740\n",
            "Epoch 44/50\n",
            "363/363 [==============================] - 2s 5ms/step - loss: 0.2613 - mean_absolute_error: 0.3559 - val_loss: 0.3348 - val_mean_absolute_error: 0.3937\n",
            "Epoch 45/50\n",
            "363/363 [==============================] - 2s 4ms/step - loss: 0.2617 - mean_absolute_error: 0.3548 - val_loss: 0.3198 - val_mean_absolute_error: 0.3840\n"
          ]
        },
        {
          "output_type": "execute_result",
          "data": {
            "text/plain": [
              "<keras.src.callbacks.History at 0x7e2f69faabc0>"
            ]
          },
          "metadata": {},
          "execution_count": 71
        }
      ]
    }
  ],
  "metadata": {
    "colab": {
      "provenance": [],
      "authorship_tag": "ABX9TyN6a4LFvSxJ6D3xAPDDCYgA",
      "include_colab_link": true
    },
    "kernelspec": {
      "display_name": "Python 3",
      "name": "python3"
    },
    "language_info": {
      "name": "python"
    }
  },
  "nbformat": 4,
  "nbformat_minor": 0
}